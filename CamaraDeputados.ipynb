{
 "cells": [
  {
   "cell_type": "code",
   "execution_count": 44,
   "metadata": {
    "dotnet_interactive": {
     "language": "fsharp"
    },
    "vscode": {
     "languageId": "dotnet-interactive.fsharp"
    }
   },
   "outputs": [
    {
     "data": {
      "text/html": [
       "<div><div></div><div></div><div><strong>Installed Packages</strong><ul><li><span>GraphQL.Client, 5.1.0</span></li><li><span>GraphQL.Client.Serializer.Newtonsoft, 5.1.0</span></li><li><span>Plotly.NET.ImageExport, 3.0.1</span></li><li><span>Plotly.NET.Interactive, 2.0.0</span></li></ul></div></div>"
      ]
     },
     "metadata": {},
     "output_type": "display_data"
    }
   ],
   "source": [
    "#r \"nuget: GraphQL.Client\"\n",
    "#r \"nuget: GraphQL.Client.Serializer.Newtonsoft\"\n",
    "#r \"nuget: Plotly.NET.Interactive\"\n",
    "#r \"nuget: Plotly.NET.ImageExport\"\n",
    "\n",
    "open GraphQL\n",
    "open GraphQL.Client.Http\n",
    "open GraphQL.Client.Serializer.Newtonsoft\n",
    "open System\n",
    "open Plotly.NET\n",
    "open Plotly.NET.ImageExport\n",
    "\n",
    "//let baseUrl = \"https://camaradosdeputadosgql-qboe6n5gda-uc.a.run.app/graphql\"\n",
    "let baseUrl = \"http://localhost:5078/graphql\"\n",
    "let graphQLClient = new GraphQLHttpClient(baseUrl, new NewtonsoftJsonSerializer());\n",
    "\n",
    "let deputyRequest party state year month = new GraphQLRequest (\n",
    "    $\"\"\"\n",
    "    query {{\n",
    "        deputies (party: \"{party}\" state: \"{state}\") {{\n",
    "            name\n",
    "            party\n",
    "            picture\n",
    "            expenses (year: \"{year}\" month: \"{month}\") {{\n",
    "                netValue\n",
    "                documentDate\n",
    "            }}\n",
    "        }}\n",
    "    }}\n",
    "    \"\"\"\n",
    ")\n",
    "\n",
    "let expenseRequest name year = new GraphQLRequest (\n",
    "    $\"\"\"\n",
    "    query {{\n",
    "        deputies (name: \"{name}\") {{\n",
    "            name\n",
    "            party\n",
    "            state\n",
    "            picture\n",
    "            expenses (year: \"{year}\") {{\n",
    "                netValue\n",
    "                documentDate\n",
    "                supplierCnpjOrCpf\n",
    "                supplierName\n",
    "            }}\n",
    "        }}\n",
    "    }}\n",
    "    \"\"\"\n",
    ")\n",
    "\n",
    "type DeputyResponse = {\n",
    "    deputies: Deputy list\n",
    "} \n",
    "and Deputy = {\n",
    "    name: string\n",
    "    party: string\n",
    "    picture: string\n",
    "    expenses: Expense[]\n",
    "}\n",
    "and Expense = {\n",
    "    netValue: decimal\n",
    "    supplierName: string\n",
    "    documentDate: Nullable<DateTime>\n",
    "}\n",
    "\n",
    "let GetDeputies party state year month =\n",
    "    let response =\n",
    "        graphQLClient.SendQueryAsync<DeputyResponse>(deputyRequest party state year month)\n",
    "        |> Async.AwaitTask\n",
    "        |> Async.RunSynchronously\n",
    "    response.Data.deputies\n",
    "\n",
    "let GetExpenses deputy year = \n",
    "    let response = \n",
    "        graphQLClient.SendQueryAsync<DeputyResponse>(expenseRequest deputy year)\n",
    "        |> Async.AwaitTask\n",
    "        |> Async.RunSynchronously\n",
    "    response.Data.deputies |> Seq.head\n",
    "\n",
    "let stackedArea(deputy:Deputy) =\n",
    "    deputy.expenses\n",
    "    |> Seq.groupBy(fun it -> it.supplierName)\n",
    "    |> Seq.map( fun (supplier, expenses) ->\n",
    "        let dates, values =\n",
    "            expenses\n",
    "            |> Seq.filter(fun it -> it.documentDate.HasValue)\n",
    "            |> Seq.sortBy(fun it -> it.documentDate.Value)\n",
    "            |> Seq.map(fun it -> it.documentDate.Value, it.netValue)\n",
    "            |> Seq.toArray\n",
    "            |> Array.unzip\n",
    "        Chart.Point(dates, values, Name = supplier)\n",
    "        \n",
    "    )\n",
    "    |> Chart.combine\n",
    "\n",
    "let scatter (deputy:Deputy) =\n",
    "    let dates, values =\n",
    "        if deputy.expenses <> null then\n",
    "            deputy.expenses\n",
    "            |> Array.filter(fun expense -> expense.documentDate.HasValue)\n",
    "            |> Array.sortBy(fun expense -> expense.documentDate.Value)\n",
    "            |> Array.map (fun expense -> expense.documentDate.Value, expense.netValue)\n",
    "            |> Array.unzip\n",
    "        else\n",
    "            [||],[||]\n",
    "    Chart.Line(dates, values)\n",
    "    |> Chart.withLegendStyle(Orientation = StyleParam.Orientation.Horizontal)\n",
    "    |> Chart.withTraceInfo deputy.name\n",
    "\n",
    "let expenseChart (deputy:Deputy) =\n",
    "    let labels, values =\n",
    "        deputy.expenses\n",
    "        |> Seq.groupBy(fun expense -> expense.supplierName)\n",
    "        |> Seq.map (fun (name, expenses) ->\n",
    "            let total =\n",
    "                expenses\n",
    "                |> Seq.sumBy ( fun expense -> expense.netValue )\n",
    "            name, total\n",
    "        )\n",
    "        |> Seq.toList\n",
    "        |> List.unzip\n",
    "    Chart.Pie(Labels=labels, values=values)\n",
    "    |> Chart.withLegendStyle(Orientation = StyleParam.Orientation.Horizontal)\n",
    "    "
   ]
  },
  {
   "cell_type": "code",
   "execution_count": 46,
   "metadata": {
    "dotnet_interactive": {
     "language": "fsharp"
    },
    "vscode": {
     "languageId": "dotnet-interactive.fsharp"
    }
   },
   "outputs": [
    {
     "data": {
      "text/html": [
       "\r\n",
       "<div>\r\n",
       "    <div id=\"d33138ac-db96-42e8-b119-fe38a06c72bc\"><!-- Plotly chart will be drawn inside this DIV --></div>\r\n",
       "<script type=\"text/javascript\">\r\n",
       "\r\n",
       "            var renderPlotly_d33138acdb9642e8b119fe38a06c72bc = function() {\r\n",
       "            var fsharpPlotlyRequire = requirejs.config({context:'fsharp-plotly',paths:{plotly:'https://cdn.plot.ly/plotly-2.6.3.min'}}) || require;\r\n",
       "            fsharpPlotlyRequire(['plotly'], function(Plotly) {\r\n",
       "\r\n",
       "            var data = [{\"type\":\"scatter\",\"name\":\"'P & L PATRIMONIO LTDA.\",\"mode\":\"markers\",\"x\":[\"2022-01-24T00:00:00Z\",\"2022-02-22T00:00:00Z\",\"2022-03-23T00:00:00Z\",\"2022-04-22T00:00:00+01:00\",\"2022-05-23T00:00:00+01:00\",\"2022-06-21T00:00:00+01:00\",\"2022-07-28T00:00:00+01:00\",\"2022-08-22T00:00:00+01:00\",\"2022-09-21T00:00:00+01:00\"],\"y\":[6755.03,6755.03,6755.03,6755.03,6755.03,6755.03,6755.03,6755.03,7160.33],\"marker\":{},\"line\":{}},{\"type\":\"scatter\",\"name\":\"ENEL - Eletropaulo\",\"mode\":\"markers\",\"x\":[\"2022-01-11T00:00:00Z\",\"2022-01-11T00:00:00Z\",\"2022-02-24T00:00:00Z\",\"2022-02-24T00:00:00Z\",\"2022-03-11T00:00:00Z\",\"2022-03-28T00:00:00+01:00\",\"2022-04-09T00:00:00+01:00\",\"2022-04-09T00:00:00+01:00\",\"2022-05-10T00:00:00+01:00\",\"2022-05-10T00:00:00+01:00\",\"2022-06-13T00:00:00+01:00\",\"2022-06-13T00:00:00+01:00\",\"2022-07-12T00:00:00+01:00\",\"2022-07-12T00:00:00+01:00\",\"2022-08-12T00:00:00+01:00\",\"2022-08-12T00:00:00+01:00\",\"2022-10-11T00:00:00+01:00\",\"2022-10-11T00:00:00+01:00\"],\"y\":[51.12,51.12,51.37,51.37,39.98,122.38,63.08,40.01,33.56,42.61,32.09,48.39,33.07,46.0,45.55,35.31,35.68,35.68],\"marker\":{},\"line\":{}},{\"type\":\"scatter\",\"name\":\"KALUNGA COMERCIO E INDUSTRIA GRAFICA LTDA\",\"mode\":\"markers\",\"x\":[\"2022-05-09T00:00:00+01:00\"],\"y\":[573.8],\"marker\":{},\"line\":{}},{\"type\":\"scatter\",\"name\":\"SACOBRAS COMERCIO EMBALAGENS EIRELI EPP\",\"mode\":\"markers\",\"x\":[\"2022-02-23T00:00:00Z\",\"2022-04-27T00:00:00+01:00\",\"2022-08-04T00:00:00+01:00\"],\"y\":[145.0,266.0,312.0],\"marker\":{},\"line\":{}},{\"type\":\"scatter\",\"name\":\"Telefonica Brasil S.A.\",\"mode\":\"markers\",\"x\":[\"2022-04-01T00:00:00+01:00\"],\"y\":[487.96],\"marker\":{},\"line\":{}},{\"type\":\"scatter\",\"name\":\"Telefônica Brasil S.A. VIVO\",\"mode\":\"markers\",\"x\":[\"2022-01-01T00:00:00Z\",\"2022-01-11T00:00:00Z\",\"2022-02-01T00:00:00Z\",\"2022-02-14T00:00:00Z\",\"2022-03-01T00:00:00Z\"],\"y\":[428.74,791.71,428.74,1084.2,474.26],\"marker\":{},\"line\":{}},{\"type\":\"scatter\",\"name\":\"Telefônica do Brasil S/A - VIVO\",\"mode\":\"markers\",\"x\":[\"2022-05-01T00:00:00+01:00\",\"2022-06-01T00:00:00+01:00\",\"2022-06-15T00:00:00+01:00\",\"2022-07-01T00:00:00+01:00\",\"2022-08-01T00:00:00+01:00\"],\"y\":[434.0,487.96,960.71,472.96,487.96],\"marker\":{},\"line\":{}},{\"type\":\"scatter\",\"name\":\"007 - 115 NORTE - CASCOL COMBUSTIVEIS PARA VEICULOS LTDA\",\"mode\":\"markers\",\"x\":[\"2022-05-18T00:00:00+01:00\"],\"y\":[319.57],\"marker\":{},\"line\":{}},{\"type\":\"scatter\",\"name\":\"021 - 204 SUL CASCOL COMBUSTIVEIS PARA VEICULOS LTDA\",\"mode\":\"markers\",\"x\":[\"2022-03-27T00:00:00Z\"],\"y\":[250.0],\"marker\":{},\"line\":{}},{\"type\":\"scatter\",\"name\":\"045 - QL 02 - CASCOL COMBUSTIVEIS PARA VEICULOS LTDA\",\"mode\":\"markers\",\"x\":[\"2022-04-03T00:00:00+01:00\"],\"y\":[208.96],\"marker\":{},\"line\":{}},{\"type\":\"scatter\",\"name\":\"076 - MELHOR 10 - CASCOL COMBUSTIVEIS PARA VEICULOS LTDA\",\"mode\":\"markers\",\"x\":[\"2022-07-05T00:00:00+01:00\",\"2022-10-05T00:00:00+01:00\",\"2022-10-09T00:00:00+01:00\"],\"y\":[360.15,181.2,206.35],\"marker\":{},\"line\":{}},{\"type\":\"scatter\",\"name\":\"096 - MANGUEIRAL - CASCOL COMBUSTIVEIS PARA VEICULOS LTDA\",\"mode\":\"markers\",\"x\":[\"2022-02-15T00:00:00Z\",\"2022-10-13T00:00:00+01:00\"],\"y\":[377.02,163.4],\"marker\":{},\"line\":{}},{\"type\":\"scatter\",\"name\":\"14 - QL 14 - CASCOL COMBUSTIVEIS PARA VEICULOS LTDA\",\"mode\":\"markers\",\"x\":[\"2022-04-14T00:00:00+01:00\"],\"y\":[408.57],\"marker\":{},\"line\":{}},{\"type\":\"scatter\",\"name\":\"AUTO POSTO 303 NORTE LTDA\",\"mode\":\"markers\",\"x\":[\"2022-01-27T00:00:00Z\"],\"y\":[332.53],\"marker\":{},\"line\":{}},{\"type\":\"scatter\",\"name\":\"AUTO POSTO ALVORADA PAULISTA LTDA\",\"mode\":\"markers\",\"x\":[\"2022-04-01T00:00:00+01:00\",\"2022-05-05T00:00:00+01:00\",\"2022-05-09T00:00:00+01:00\",\"2022-08-09T00:00:00+01:00\"],\"y\":[300.0,334.0,308.49,225.09],\"marker\":{},\"line\":{}},{\"type\":\"scatter\",\"name\":\"AUTO POSTO CARAVELE LTDA\",\"mode\":\"markers\",\"x\":[\"2022-07-28T00:00:00+01:00\"],\"y\":[284.07],\"marker\":{},\"line\":{}},{\"type\":\"scatter\",\"name\":\"AUTO POSTO ESQUINA LIMITADA\",\"mode\":\"markers\",\"x\":[\"2022-04-27T00:00:00+01:00\"],\"y\":[444.12],\"marker\":{},\"line\":{}},{\"type\":\"scatter\",\"name\":\"AUTO POSTO PALERMO LTDA\",\"mode\":\"markers\",\"x\":[\"2022-03-30T00:00:00+01:00\"],\"y\":[124.86],\"marker\":{},\"line\":{}},{\"type\":\"scatter\",\"name\":\"AUTO POSTO PETER PAN 01 LTDA\",\"mode\":\"markers\",\"x\":[\"2022-07-11T00:00:00+01:00\"],\"y\":[323.27],\"marker\":{},\"line\":{}},{\"type\":\"scatter\",\"name\":\"AUTO POSTO PLANALTO DE JAGUARIUNA LTDA\",\"mode\":\"markers\",\"x\":[\"2022-07-20T00:00:00+01:00\"],\"y\":[169.94],\"marker\":{},\"line\":{}},{\"type\":\"scatter\",\"name\":\"AUTO POSTO REINA SOFHIA LTDA\",\"mode\":\"markers\",\"x\":[\"2022-02-12T00:00:00Z\",\"2022-02-13T00:00:00Z\",\"2022-04-04T00:00:00+01:00\",\"2022-04-04T00:00:00+01:00\"],\"y\":[307.14,37.8,114.29,250.88],\"marker\":{},\"line\":{}},{\"type\":\"scatter\",\"name\":\"Auto posto social ltda\",\"mode\":\"markers\",\"x\":[\"2022-02-11T00:00:00Z\"],\"y\":[167.19],\"marker\":{},\"line\":{}},{\"type\":\"scatter\",\"name\":\"AUTO SHOPPING DERIVADO DE PETROLEO LTDA\",\"mode\":\"markers\",\"x\":[\"2022-02-04T00:00:00Z\",\"2022-02-28T00:00:00Z\",\"2022-05-13T00:00:00+01:00\",\"2022-06-20T00:00:00+01:00\"],\"y\":[384.37,380.77,454.55,459.04],\"marker\":{},\"line\":{}},{\"type\":\"scatter\",\"name\":\"AUTO SHOPPING DERIVADOS DE PETROLEO LTDA - ASA NORTE 111\",\"mode\":\"markers\",\"x\":[\"2022-06-09T00:00:00+01:00\"],\"y\":[414.27],\"marker\":{},\"line\":{}},{\"type\":\"scatter\",\"name\":\"AUTO SHOPPING DERIVADOS DE PETROLEO LTDA.\",\"mode\":\"markers\",\"x\":[\"2022-03-10T00:00:00Z\",\"2022-09-06T00:00:00+01:00\"],\"y\":[402.44,206.47],\"marker\":{},\"line\":{}},{\"type\":\"scatter\",\"name\":\"BELIZE COMPANY AUTO POSTO LTDA\",\"mode\":\"markers\",\"x\":[\"2022-04-07T00:00:00+01:00\"],\"y\":[357.3],\"marker\":{},\"line\":{}},{\"type\":\"scatter\",\"name\":\"CENTRO AUTOMOTIVO BRIGADEIRO F LIMA LT\",\"mode\":\"markers\",\"x\":[\"2022-03-04T00:00:00Z\"],\"y\":[342.05],\"marker\":{},\"line\":{}},{\"type\":\"scatter\",\"name\":\"DRA4 DERIVADOS DE PETROLEO LTDA\",\"mode\":\"markers\",\"x\":[\"2022-08-10T00:00:00+01:00\"],\"y\":[59.24],\"marker\":{},\"line\":{}},{\"type\":\"scatter\",\"name\":\"ORGANIZACAO COMERCIAL LAGO AZUL LTDA\",\"mode\":\"markers\",\"x\":[\"2022-02-12T00:00:00Z\",\"2022-03-06T00:00:00Z\"],\"y\":[228.32,250.47],\"marker\":{},\"line\":{}},{\"type\":\"scatter\",\"name\":\"POSTO BOLA PESADA LT\",\"mode\":\"markers\",\"x\":[\"2022-07-21T00:00:00+01:00\"],\"y\":[119.62],\"marker\":{},\"line\":{}},{\"type\":\"scatter\",\"name\":\"POSTO DA TORRE EIRELI EPP\",\"mode\":\"markers\",\"x\":[\"2022-03-19T00:00:00Z\"],\"y\":[398.26],\"marker\":{},\"line\":{}},{\"type\":\"scatter\",\"name\":\"POSTO DE COMBUSTIVEL QI 09 LAGO SUL LTDA\",\"mode\":\"markers\",\"x\":[\"2022-05-04T00:00:00+01:00\"],\"y\":[415.87],\"marker\":{},\"line\":{}},{\"type\":\"scatter\",\"name\":\"POSTO PATÃO LTDA.\",\"mode\":\"markers\",\"x\":[\"2022-06-30T00:00:00+01:00\"],\"y\":[283.88],\"marker\":{},\"line\":{}},{\"type\":\"scatter\",\"name\":\"R. C. P. OPERADORA DE COMBUSTIVEIS LTDA\",\"mode\":\"markers\",\"x\":[\"2022-04-04T00:00:00+01:00\"],\"y\":[291.67],\"marker\":{},\"line\":{}},{\"type\":\"scatter\",\"name\":\"RODOPOSTO BANDEIRANTES SUL LTDA\",\"mode\":\"markers\",\"x\":[\"2022-02-12T00:00:00Z\"],\"y\":[204.21],\"marker\":{},\"line\":{}},{\"type\":\"scatter\",\"name\":\"RODOVIA COMERCIO DE COMBUSTIVEIS E DERIVADOS LTDA\",\"mode\":\"markers\",\"x\":[\"2022-07-02T00:00:00+01:00\"],\"y\":[262.47],\"marker\":{},\"line\":{}},{\"type\":\"scatter\",\"name\":\"TEBERGA & FERNANDES LTDA.\",\"mode\":\"markers\",\"x\":[\"2022-07-17T00:00:00+01:00\"],\"y\":[180.0],\"marker\":{},\"line\":{}},{\"type\":\"scatter\",\"name\":\"VALUB COMBUSTIVEIS E LUBRIFICANTES LTDA\",\"mode\":\"markers\",\"x\":[\"2022-06-30T00:00:00+01:00\"],\"y\":[264.85],\"marker\":{},\"line\":{}},{\"type\":\"scatter\",\"name\":\"WE AUTO POSTO LTDA\",\"mode\":\"markers\",\"x\":[\"2022-03-08T00:00:00Z\"],\"y\":[271.21],\"marker\":{},\"line\":{}},{\"type\":\"scatter\",\"name\":\"TAM LINHAS AEREAS S/A.\",\"mode\":\"markers\",\"x\":[\"2022-04-23T00:00:00+01:00\"],\"y\":[1430.37],\"marker\":{},\"line\":{}},{\"type\":\"scatter\",\"name\":\"TELEFONIA BRASIL S.A - VIVO\",\"mode\":\"markers\",\"x\":[\"2022-08-11T00:00:00+01:00\"],\"y\":[960.71],\"marker\":{},\"line\":{}},{\"type\":\"scatter\",\"name\":\"Telefonica Brasil S.A\",\"mode\":\"markers\",\"x\":[\"2022-05-11T00:00:00+01:00\"],\"y\":[960.71],\"marker\":{},\"line\":{}},{\"type\":\"scatter\",\"name\":\"TELEFONICA BRASIL S.A.\",\"mode\":\"markers\",\"x\":[\"2022-07-15T00:00:00+01:00\"],\"y\":[960.71],\"marker\":{},\"line\":{}},{\"type\":\"scatter\",\"name\":\"TELEFONICA BRASIL S/A\",\"mode\":\"markers\",\"x\":[\"2022-03-14T00:00:00Z\"],\"y\":[966.24],\"marker\":{},\"line\":{}},{\"type\":\"scatter\",\"name\":\"vivo telefonica do brasil s/a\",\"mode\":\"markers\",\"x\":[\"2022-04-11T00:00:00+01:00\"],\"y\":[791.71],\"marker\":{},\"line\":{}},{\"type\":\"scatter\",\"name\":\"CORREIOS - CARTA COMERCIAL\",\"mode\":\"markers\",\"x\":[\"2022-06-28T00:00:00+01:00\"],\"y\":[6.5],\"marker\":{},\"line\":{}},{\"type\":\"scatter\",\"name\":\"CORREIOS - ENCOMENDA PAC\",\"mode\":\"markers\",\"x\":[\"2022-04-13T00:00:00+01:00\"],\"y\":[21.02],\"marker\":{},\"line\":{}},{\"type\":\"scatter\",\"name\":\"CORREIOS - ENCOMENDA PAC COM AR\",\"mode\":\"markers\",\"x\":[\"2022-03-21T00:00:00Z\"],\"y\":[26.62],\"marker\":{},\"line\":{}},{\"type\":\"scatter\",\"name\":\"CORREIOS - SEDEX CONVENCIONAL\",\"mode\":\"markers\",\"x\":[\"2022-05-25T00:00:00+01:00\",\"2022-08-09T00:00:00+01:00\",\"2022-08-11T00:00:00+01:00\"],\"y\":[10.66,34.61,51.47],\"marker\":{},\"line\":{}},{\"type\":\"scatter\",\"name\":\"ECT\",\"mode\":\"markers\",\"x\":[\"2022-08-24T00:00:00+01:00\"],\"y\":[35.1],\"marker\":{},\"line\":{}},{\"type\":\"scatter\",\"name\":\"ECT EMP BRAS DE CORREIOS E TELEGRAFOS\",\"mode\":\"markers\",\"x\":[\"2022-01-11T00:00:00Z\",\"2022-01-26T00:00:00Z\",\"2022-02-15T00:00:00Z\",\"2022-03-28T00:00:00+01:00\",\"2022-04-05T00:00:00+01:00\",\"2022-04-20T00:00:00+01:00\",\"2022-04-29T00:00:00+01:00\",\"2022-05-11T00:00:00+01:00\",\"2022-05-25T00:00:00+01:00\",\"2022-09-22T00:00:00+01:00\",\"2022-10-13T00:00:00+01:00\"],\"y\":[35.1,35.1,35.1,35.1,35.1,35.1,35.1,35.1,35.1,35.1,35.1],\"marker\":{},\"line\":{}},{\"type\":\"scatter\",\"name\":\"BRASEIRO RESTAURANTE LTDA-ME\",\"mode\":\"markers\",\"x\":[\"2022-02-02T00:00:00Z\"],\"y\":[40.0],\"marker\":{},\"line\":{}},{\"type\":\"scatter\",\"name\":\"Esther de O Barbosa\",\"mode\":\"markers\",\"x\":[\"2022-02-12T00:00:00Z\"],\"y\":[25.9],\"marker\":{},\"line\":{}},{\"type\":\"scatter\",\"name\":\"M. F ZENNI DE LIMA RESTAURANTE EIRELI\",\"mode\":\"markers\",\"x\":[\"2022-02-07T00:00:00Z\",\"2022-02-09T00:00:00Z\",\"2022-04-20T00:00:00+01:00\"],\"y\":[53.68,63.14,40.43],\"marker\":{},\"line\":{}},{\"type\":\"scatter\",\"name\":\"PBJM COMERCIO DE GENEROS ALIMENTICIOS LTDA\",\"mode\":\"markers\",\"x\":[\"2022-02-03T00:00:00Z\"],\"y\":[90.8],\"marker\":{},\"line\":{}},{\"type\":\"scatter\",\"name\":\"PIMENTA VERDE ALIMENTOS LTDA\",\"mode\":\"markers\",\"x\":[\"2022-02-10T00:00:00Z\"],\"y\":[94.97],\"marker\":{},\"line\":{}},{\"type\":\"scatter\",\"name\":\"REDE PICA PAU DE ALIMENTOS LTDA\",\"mode\":\"markers\",\"x\":[\"2022-07-08T00:00:00+01:00\"],\"y\":[88.0],\"marker\":{},\"line\":{}},{\"type\":\"scatter\",\"name\":\"Restaurante Alentejano Olaria\",\"mode\":\"markers\",\"x\":[\"2022-07-19T00:00:00+01:00\"],\"y\":[38.86],\"marker\":{},\"line\":{}},{\"type\":\"scatter\",\"name\":\"RESTAURANTE E LANCHONETE SÃO CRISTOVÃO LTDA\",\"mode\":\"markers\",\"x\":[\"2022-07-18T00:00:00+01:00\"],\"y\":[42.9],\"marker\":{},\"line\":{}},{\"type\":\"scatter\",\"name\":\"APART HOTEL OLAVO BILAC\",\"mode\":\"markers\",\"x\":[\"2022-08-01T00:00:00+01:00\",\"2022-08-01T00:00:00+01:00\"],\"y\":[96.0,199.0],\"marker\":{},\"line\":{}},{\"type\":\"scatter\",\"name\":\"APART-HOTEL OLAVO BILAC LTDA\",\"mode\":\"markers\",\"x\":[\"2022-07-19T00:00:00+01:00\",\"2022-07-19T00:00:00+01:00\"],\"y\":[229.0,229.0],\"marker\":{},\"line\":{}},{\"type\":\"scatter\",\"name\":\"ATRIO HOTEIS S.A.\",\"mode\":\"markers\",\"x\":[\"2022-07-18T00:00:00+01:00\",\"2022-07-18T00:00:00+01:00\"],\"y\":[270.89,224.54],\"marker\":{},\"line\":{}},{\"type\":\"scatter\",\"name\":\"ATRIO HOTEIS S/A\",\"mode\":\"markers\",\"x\":[\"2022-08-06T00:00:00+01:00\",\"2022-08-06T00:00:00+01:00\"],\"y\":[579.0,579.0],\"marker\":{},\"line\":{}},{\"type\":\"scatter\",\"name\":\"ATRIO HOTEL S/A\",\"mode\":\"markers\",\"x\":[\"2022-07-22T00:00:00+01:00\"],\"y\":[224.54],\"marker\":{},\"line\":{}},{\"type\":\"scatter\",\"name\":\"BRASTURINVEST INVESTIMENTO\",\"mode\":\"markers\",\"x\":[\"2022-02-11T00:00:00Z\",\"2022-06-24T00:00:00+01:00\",\"2022-07-11T00:00:00+01:00\",\"2022-07-18T00:00:00+01:00\",\"2022-07-22T00:00:00+01:00\",\"2022-08-10T00:00:00+01:00\"],\"y\":[340.2,560.7,209.99,630.0,454.65,1007.49],\"marker\":{},\"line\":{}},{\"type\":\"scatter\",\"name\":\"IRMÃOS DALLIGNA PAMPAS PALACE HOTEL LTDA\",\"mode\":\"markers\",\"x\":[\"2022-02-11T00:00:00Z\"],\"y\":[730.0],\"marker\":{},\"line\":{}},{\"type\":\"scatter\",\"name\":\"Marcio Calvo de Godoy\",\"mode\":\"markers\",\"x\":[\"2022-07-21T00:00:00+01:00\"],\"y\":[280.0],\"marker\":{},\"line\":{}},{\"type\":\"scatter\",\"name\":\"N&N Hotelaria LTDA ME\",\"mode\":\"markers\",\"x\":[\"2022-02-15T00:00:00Z\"],\"y\":[638.0],\"marker\":{},\"line\":{}},{\"type\":\"scatter\",\"name\":\"13048599MOVIDA LOCAÇÃO DE VEÍCULOS S.A.\",\"mode\":\"markers\",\"x\":[\"2022-07-28T00:00:00+01:00\"],\"y\":[1153.92],\"marker\":{},\"line\":{}},{\"type\":\"scatter\",\"name\":\"LOCALIZA Hertz\",\"mode\":\"markers\",\"x\":[\"2022-03-30T00:00:00+01:00\"],\"y\":[278.38],\"marker\":{},\"line\":{}},{\"type\":\"scatter\",\"name\":\"LOCALIZA RENT A CAR SA\",\"mode\":\"markers\",\"x\":[\"2022-02-13T00:00:00Z\"],\"y\":[665.31],\"marker\":{},\"line\":{}},{\"type\":\"scatter\",\"name\":\"QUASAR LOCADORA DE VEICULOS EIRELI\",\"mode\":\"markers\",\"x\":[\"2022-02-10T00:00:00Z\",\"2022-03-11T00:00:00Z\",\"2022-04-11T00:00:00+01:00\",\"2022-05-10T00:00:00+01:00\",\"2022-06-13T00:00:00+01:00\",\"2022-07-11T00:00:00+01:00\",\"2022-08-22T00:00:00+01:00\",\"2022-09-12T00:00:00+01:00\",\"2022-10-11T00:00:00+01:00\"],\"y\":[9150.0,9150.0,9150.0,9150.0,9150.0,9150.0,9150.0,6000.0,6000.0],\"marker\":{},\"line\":{}},{\"type\":\"scatter\",\"name\":\"AUTOPEL\",\"mode\":\"markers\",\"x\":[\"2022-07-02T00:00:00+01:00\"],\"y\":[8.3],\"marker\":{},\"line\":{}},{\"type\":\"scatter\",\"name\":\"CONC. DE RODOVIAS MINAS GERAIS GOIAS S/A\",\"mode\":\"markers\",\"x\":[\"2022-07-02T00:00:00+01:00\",\"2022-07-02T00:00:00+01:00\",\"2022-07-02T00:00:00+01:00\"],\"y\":[6.8,5.3,8.9],\"marker\":{},\"line\":{}},{\"type\":\"scatter\",\"name\":\"CONC. RODOVIAS DO INTERIOR PAULISTA S/A\",\"mode\":\"markers\",\"x\":[\"2022-02-11T00:00:00Z\",\"2022-02-11T00:00:00Z\",\"2022-02-12T00:00:00Z\",\"2022-02-12T00:00:00Z\",\"2022-04-04T00:00:00+01:00\",\"2022-04-04T00:00:00+01:00\",\"2022-04-04T00:00:00+01:00\",\"2022-04-04T00:00:00+01:00\"],\"y\":[8.7,8.7,8.7,8.7,8.7,8.7,8.7,8.7],\"marker\":{},\"line\":{}},{\"type\":\"scatter\",\"name\":\"CONC. SISTEMA ANHANGUERA-BANDEIRANTES S/A\",\"mode\":\"markers\",\"x\":[\"2022-02-11T00:00:00Z\",\"2022-02-11T00:00:00Z\",\"2022-02-11T00:00:00Z\",\"2022-02-12T00:00:00Z\",\"2022-02-12T00:00:00Z\",\"2022-02-12T00:00:00Z\",\"2022-02-12T00:00:00Z\",\"2022-02-12T00:00:00Z\",\"2022-02-12T00:00:00Z\",\"2022-04-04T00:00:00+01:00\",\"2022-04-04T00:00:00+01:00\",\"2022-04-04T00:00:00+01:00\",\"2022-04-04T00:00:00+01:00\",\"2022-04-04T00:00:00+01:00\",\"2022-04-04T00:00:00+01:00\",\"2022-04-04T00:00:00+01:00\",\"2022-04-04T00:00:00+01:00\"],\"y\":[10.6,9.3,7.0,10.6,10.5,9.3,9.3,9.3,7.0,10.6,10.6,10.5,10.5,9.3,9.3,7.0,7.0],\"marker\":{},\"line\":{}},{\"type\":\"scatter\",\"name\":\"CONCESSIONARIA BR-040 S.A.\",\"mode\":\"markers\",\"x\":[\"2022-06-30T00:00:00+01:00\",\"2022-06-30T00:00:00+01:00\",\"2022-06-30T00:00:00+01:00\",\"2022-07-02T00:00:00+01:00\"],\"y\":[5.8,5.8,5.8,5.8],\"marker\":{},\"line\":{}},{\"type\":\"scatter\",\"name\":\"CONCESSIONARIA DO RODOANEL OESTE S.A.\",\"mode\":\"markers\",\"x\":[\"2022-02-11T00:00:00Z\"],\"y\":[2.5],\"marker\":{},\"line\":{}},{\"type\":\"scatter\",\"name\":\"CONCESSIONARIA ECOVIAS DOS IMIGRANTES S.A.\",\"mode\":\"markers\",\"x\":[\"2022-02-10T00:00:00Z\"],\"y\":[30.2],\"marker\":{},\"line\":{}},{\"type\":\"scatter\",\"name\":\"VIAPAULISTA S/A\",\"mode\":\"markers\",\"x\":[\"2022-02-11T00:00:00Z\",\"2022-02-11T00:00:00Z\",\"2022-02-11T00:00:00Z\",\"2022-02-12T00:00:00Z\",\"2022-02-12T00:00:00Z\",\"2022-02-12T00:00:00Z\",\"2022-02-12T00:00:00Z\",\"2022-02-12T00:00:00Z\",\"2022-04-04T00:00:00+01:00\",\"2022-04-04T00:00:00+01:00\",\"2022-04-04T00:00:00+01:00\",\"2022-04-04T00:00:00+01:00\",\"2022-04-04T00:00:00+01:00\",\"2022-04-04T00:00:00+01:00\",\"2022-04-04T00:00:00+01:00\",\"2022-04-04T00:00:00+01:00\"],\"y\":[8.3,9.2,8.3,8.3,9.2,8.3,9.2,9.2,9.2,8.3,9.2,8.3,8.3,9.2,9.2,8.3],\"marker\":{},\"line\":{}},{\"type\":\"scatter\",\"name\":\"GOL\",\"mode\":\"markers\",\"x\":[\"2022-04-13T00:00:00+01:00\"],\"y\":[2275.29],\"marker\":{},\"line\":{}},{\"type\":\"scatter\",\"name\":\"Cia Aérea - AZUL\",\"mode\":\"markers\",\"x\":[\"2022-02-03T00:00:00Z\",\"2022-02-03T00:00:00Z\",\"2022-02-09T00:00:00Z\",\"2022-02-24T00:00:00Z\",\"2022-02-24T00:00:00Z\",\"2022-02-24T00:00:00Z\",\"2022-04-26T00:00:00+01:00\",\"2022-04-26T00:00:00+01:00\",\"2022-04-26T00:00:00+01:00\",\"2022-06-28T00:00:00+01:00\",\"2022-06-28T00:00:00+01:00\",\"2022-06-28T00:00:00+01:00\",\"2022-07-05T00:00:00+01:00\",\"2022-07-05T00:00:00+01:00\",\"2022-07-05T00:00:00+01:00\",\"2022-08-03T00:00:00+01:00\"],\"y\":[904.55,910.55,1538.55,2690.78,2564.78,2679.78,594.23,679.23,684.23,2151.23,2195.23,2195.23,2434.05,2434.05,2373.55,1610.65],\"marker\":{},\"line\":{}},{\"type\":\"scatter\",\"name\":\"Cia Aérea - GOL\",\"mode\":\"markers\",\"x\":[\"2022-01-28T00:00:00Z\",\"2022-02-03T00:00:00Z\",\"2022-02-03T00:00:00Z\",\"2022-02-03T00:00:00Z\",\"2022-02-03T00:00:00Z\",\"2022-02-14T00:00:00Z\",\"2022-02-14T00:00:00Z\",\"2022-02-23T00:00:00Z\",\"2022-02-23T00:00:00Z\",\"2022-04-26T00:00:00+01:00\",\"2022-04-26T00:00:00+01:00\",\"2022-05-02T00:00:00+01:00\",\"2022-06-14T00:00:00+01:00\",\"2022-06-14T00:00:00+01:00\",\"2022-06-20T00:00:00+01:00\",\"2022-06-20T00:00:00+01:00\",\"2022-06-28T00:00:00+01:00\",\"2022-07-05T00:00:00+01:00\",\"2022-07-05T00:00:00+01:00\",\"2022-07-05T00:00:00+01:00\",\"2022-07-12T00:00:00+01:00\",\"2022-07-12T00:00:00+01:00\",\"2022-07-12T00:00:00+01:00\",\"2022-07-12T00:00:00+01:00\",\"2022-07-29T00:00:00+01:00\",\"2022-08-03T00:00:00+01:00\",\"2022-08-03T00:00:00+01:00\",\"2022-08-03T00:00:00+01:00\",\"2022-09-05T00:00:00+01:00\",\"2022-09-12T00:00:00+01:00\",\"2022-09-16T00:00:00+01:00\",\"2022-09-19T00:00:00+01:00\"],\"y\":[1497.42,1707.23,1527.23,287.23,287.23,1931.23,-1619.86,-34.33,-34.33,810.27,810.27,517.94,588.23,666.83,2073.0,2000.0,106.27,2605.23,2605.23,2605.23,2168.23,2168.23,1632.83,1632.83,2005.23,1481.23,1383.12,859.12,2622.46,2183.83,183.63,484.0],\"marker\":{},\"line\":{}},{\"type\":\"scatter\",\"name\":\"Cia Aérea - TAM\",\"mode\":\"markers\",\"x\":[\"2022-02-03T00:00:00Z\",\"2022-02-03T00:00:00Z\",\"2022-02-03T00:00:00Z\",\"2022-02-03T00:00:00Z\",\"2022-02-03T00:00:00Z\",\"2022-02-03T00:00:00Z\",\"2022-02-03T00:00:00Z\",\"2022-02-03T00:00:00Z\",\"2022-02-03T00:00:00Z\",\"2022-02-04T00:00:00Z\",\"2022-02-04T00:00:00Z\",\"2022-02-04T00:00:00Z\",\"2022-02-04T00:00:00Z\",\"2022-02-09T00:00:00Z\",\"2022-02-14T00:00:00Z\",\"2022-03-24T00:00:00Z\",\"2022-03-25T00:00:00Z\",\"2022-04-06T00:00:00+01:00\",\"2022-04-06T00:00:00+01:00\",\"2022-04-12T00:00:00+01:00\",\"2022-05-09T00:00:00+01:00\",\"2022-06-28T00:00:00+01:00\",\"2022-06-28T00:00:00+01:00\",\"2022-06-28T00:00:00+01:00\",\"2022-06-28T00:00:00+01:00\",\"2022-07-25T00:00:00+01:00\",\"2022-07-26T00:00:00+01:00\",\"2022-07-29T00:00:00+01:00\",\"2022-08-02T00:00:00+01:00\",\"2022-08-02T00:00:00+01:00\",\"2022-08-04T00:00:00+01:00\",\"2022-08-18T00:00:00+01:00\",\"2022-08-18T00:00:00+01:00\",\"2022-09-29T00:00:00+01:00\"],\"y\":[1365.83,292.83,287.23,287.23,292.83,287.23,288.96,288.96,288.96,55.0,55.0,69.0,65.0,1944.23,1834.96,466.77,501.1,1620.22,1620.22,3225.06,421.1,69.0,1176.46,1799.9,1684.73,2751.23,2346.83,1386.23,621.46,1156.16,2552.23,1141.83,1140.46,1573.0],\"marker\":{},\"line\":{}}];\r\n",
       "            var layout = {\"width\":1000,\"height\":600,\"template\":{\"layout\":{\"title\":{\"x\":0.05},\"font\":{\"color\":\"rgba(42, 63, 95, 1.0)\"},\"paper_bgcolor\":\"rgba(255, 255, 255, 1.0)\",\"plot_bgcolor\":\"rgba(229, 236, 246, 1.0)\",\"autotypenumbers\":\"strict\",\"colorscale\":{\"diverging\":[[0.0,\"#8e0152\"],[0.1,\"#c51b7d\"],[0.2,\"#de77ae\"],[0.3,\"#f1b6da\"],[0.4,\"#fde0ef\"],[0.5,\"#f7f7f7\"],[0.6,\"#e6f5d0\"],[0.7,\"#b8e186\"],[0.8,\"#7fbc41\"],[0.9,\"#4d9221\"],[1.0,\"#276419\"]],\"sequential\":[[0.0,\"#0d0887\"],[0.1111111111111111,\"#46039f\"],[0.2222222222222222,\"#7201a8\"],[0.3333333333333333,\"#9c179e\"],[0.4444444444444444,\"#bd3786\"],[0.5555555555555556,\"#d8576b\"],[0.6666666666666666,\"#ed7953\"],[0.7777777777777778,\"#fb9f3a\"],[0.8888888888888888,\"#fdca26\"],[1.0,\"#f0f921\"]],\"sequentialminus\":[[0.0,\"#0d0887\"],[0.1111111111111111,\"#46039f\"],[0.2222222222222222,\"#7201a8\"],[0.3333333333333333,\"#9c179e\"],[0.4444444444444444,\"#bd3786\"],[0.5555555555555556,\"#d8576b\"],[0.6666666666666666,\"#ed7953\"],[0.7777777777777778,\"#fb9f3a\"],[0.8888888888888888,\"#fdca26\"],[1.0,\"#f0f921\"]]},\"hovermode\":\"closest\",\"hoverlabel\":{\"align\":\"left\"},\"coloraxis\":{\"colorbar\":{\"outlinewidth\":0.0,\"ticks\":\"\"}},\"geo\":{\"showland\":true,\"landcolor\":\"rgba(229, 236, 246, 1.0)\",\"showlakes\":true,\"lakecolor\":\"rgba(255, 255, 255, 1.0)\",\"subunitcolor\":\"rgba(255, 255, 255, 1.0)\",\"bgcolor\":\"rgba(255, 255, 255, 1.0)\"},\"mapbox\":{\"style\":\"light\"},\"polar\":{\"bgcolor\":\"rgba(229, 236, 246, 1.0)\",\"radialaxis\":{\"linecolor\":\"rgba(255, 255, 255, 1.0)\",\"gridcolor\":\"rgba(255, 255, 255, 1.0)\",\"ticks\":\"\"},\"angularaxis\":{\"linecolor\":\"rgba(255, 255, 255, 1.0)\",\"gridcolor\":\"rgba(255, 255, 255, 1.0)\",\"ticks\":\"\"}},\"scene\":{\"xaxis\":{\"ticks\":\"\",\"linecolor\":\"rgba(255, 255, 255, 1.0)\",\"gridcolor\":\"rgba(255, 255, 255, 1.0)\",\"gridwidth\":2.0,\"zerolinecolor\":\"rgba(255, 255, 255, 1.0)\",\"backgroundcolor\":\"rgba(229, 236, 246, 1.0)\",\"showbackground\":true},\"yaxis\":{\"ticks\":\"\",\"linecolor\":\"rgba(255, 255, 255, 1.0)\",\"gridcolor\":\"rgba(255, 255, 255, 1.0)\",\"gridwidth\":2.0,\"zerolinecolor\":\"rgba(255, 255, 255, 1.0)\",\"backgroundcolor\":\"rgba(229, 236, 246, 1.0)\",\"showbackground\":true},\"zaxis\":{\"ticks\":\"\",\"linecolor\":\"rgba(255, 255, 255, 1.0)\",\"gridcolor\":\"rgba(255, 255, 255, 1.0)\",\"gridwidth\":2.0,\"zerolinecolor\":\"rgba(255, 255, 255, 1.0)\",\"backgroundcolor\":\"rgba(229, 236, 246, 1.0)\",\"showbackground\":true}},\"ternary\":{\"aaxis\":{\"ticks\":\"\",\"linecolor\":\"rgba(255, 255, 255, 1.0)\",\"gridcolor\":\"rgba(255, 255, 255, 1.0)\"},\"baxis\":{\"ticks\":\"\",\"linecolor\":\"rgba(255, 255, 255, 1.0)\",\"gridcolor\":\"rgba(255, 255, 255, 1.0)\"},\"caxis\":{\"ticks\":\"\",\"linecolor\":\"rgba(255, 255, 255, 1.0)\",\"gridcolor\":\"rgba(255, 255, 255, 1.0)\"},\"bgcolor\":\"rgba(229, 236, 246, 1.0)\"},\"xaxis\":{\"title\":{\"standoff\":15},\"ticks\":\"\",\"automargin\":true,\"linecolor\":\"rgba(255, 255, 255, 1.0)\",\"gridcolor\":\"rgba(255, 255, 255, 1.0)\",\"zerolinecolor\":\"rgba(255, 255, 255, 1.0)\",\"zerolinewidth\":2.0},\"yaxis\":{\"title\":{\"standoff\":15},\"ticks\":\"\",\"automargin\":true,\"linecolor\":\"rgba(255, 255, 255, 1.0)\",\"gridcolor\":\"rgba(255, 255, 255, 1.0)\",\"zerolinecolor\":\"rgba(255, 255, 255, 1.0)\",\"zerolinewidth\":2.0},\"annotationdefaults\":{\"arrowcolor\":\"#2a3f5f\",\"arrowhead\":0,\"arrowwidth\":1},\"shapedefaults\":{\"line\":{\"color\":\"rgba(42, 63, 95, 1.0)\"}},\"colorway\":[\"rgba(99, 110, 250, 1.0)\",\"rgba(239, 85, 59, 1.0)\",\"rgba(0, 204, 150, 1.0)\",\"rgba(171, 99, 250, 1.0)\",\"rgba(255, 161, 90, 1.0)\",\"rgba(25, 211, 243, 1.0)\",\"rgba(255, 102, 146, 1.0)\",\"rgba(182, 232, 128, 1.0)\",\"rgba(255, 151, 255, 1.0)\",\"rgba(254, 203, 82, 1.0)\"]},\"data\":{\"bar\":[{\"marker\":{\"line\":{\"color\":\"rgba(229, 236, 246, 1.0)\",\"width\":0.5},\"pattern\":{\"fillmode\":\"overlay\",\"size\":10,\"solidity\":0.2}},\"error_x\":{\"color\":\"rgba(42, 63, 95, 1.0)\"},\"error_y\":{\"color\":\"rgba(42, 63, 95, 1.0)\"}}],\"barpolar\":[{\"marker\":{\"line\":{\"color\":\"rgba(229, 236, 246, 1.0)\",\"width\":0.5},\"pattern\":{\"fillmode\":\"overlay\",\"size\":10,\"solidity\":0.2}}}],\"carpet\":[{\"aaxis\":{\"linecolor\":\"rgba(255, 255, 255, 1.0)\",\"gridcolor\":\"rgba(255, 255, 255, 1.0)\",\"endlinecolor\":\"rgba(42, 63, 95, 1.0)\",\"minorgridcolor\":\"rgba(255, 255, 255, 1.0)\",\"startlinecolor\":\"rgba(42, 63, 95, 1.0)\"},\"baxis\":{\"linecolor\":\"rgba(255, 255, 255, 1.0)\",\"gridcolor\":\"rgba(255, 255, 255, 1.0)\",\"endlinecolor\":\"rgba(42, 63, 95, 1.0)\",\"minorgridcolor\":\"rgba(255, 255, 255, 1.0)\",\"startlinecolor\":\"rgba(42, 63, 95, 1.0)\"}}],\"choropleth\":[{\"colorbar\":{\"outlinewidth\":0.0,\"ticks\":\"\"},\"colorscale\":[[0.0,\"#0d0887\"],[0.1111111111111111,\"#46039f\"],[0.2222222222222222,\"#7201a8\"],[0.3333333333333333,\"#9c179e\"],[0.4444444444444444,\"#bd3786\"],[0.5555555555555556,\"#d8576b\"],[0.6666666666666666,\"#ed7953\"],[0.7777777777777778,\"#fb9f3a\"],[0.8888888888888888,\"#fdca26\"],[1.0,\"#f0f921\"]]}],\"contour\":[{\"colorbar\":{\"outlinewidth\":0.0,\"ticks\":\"\"},\"colorscale\":[[0.0,\"#0d0887\"],[0.1111111111111111,\"#46039f\"],[0.2222222222222222,\"#7201a8\"],[0.3333333333333333,\"#9c179e\"],[0.4444444444444444,\"#bd3786\"],[0.5555555555555556,\"#d8576b\"],[0.6666666666666666,\"#ed7953\"],[0.7777777777777778,\"#fb9f3a\"],[0.8888888888888888,\"#fdca26\"],[1.0,\"#f0f921\"]]}],\"contourcarpet\":[{\"colorbar\":{\"outlinewidth\":0.0,\"ticks\":\"\"}}],\"heatmap\":[{\"colorbar\":{\"outlinewidth\":0.0,\"ticks\":\"\"},\"colorscale\":[[0.0,\"#0d0887\"],[0.1111111111111111,\"#46039f\"],[0.2222222222222222,\"#7201a8\"],[0.3333333333333333,\"#9c179e\"],[0.4444444444444444,\"#bd3786\"],[0.5555555555555556,\"#d8576b\"],[0.6666666666666666,\"#ed7953\"],[0.7777777777777778,\"#fb9f3a\"],[0.8888888888888888,\"#fdca26\"],[1.0,\"#f0f921\"]]}],\"heatmapgl\":[{\"colorbar\":{\"outlinewidth\":0.0,\"ticks\":\"\"},\"colorscale\":[[0.0,\"#0d0887\"],[0.1111111111111111,\"#46039f\"],[0.2222222222222222,\"#7201a8\"],[0.3333333333333333,\"#9c179e\"],[0.4444444444444444,\"#bd3786\"],[0.5555555555555556,\"#d8576b\"],[0.6666666666666666,\"#ed7953\"],[0.7777777777777778,\"#fb9f3a\"],[0.8888888888888888,\"#fdca26\"],[1.0,\"#f0f921\"]]}],\"histogram\":[{\"marker\":{\"pattern\":{\"fillmode\":\"overlay\",\"size\":10,\"solidity\":0.2}}}],\"histogram2d\":[{\"colorbar\":{\"outlinewidth\":0.0,\"ticks\":\"\"},\"colorscale\":[[0.0,\"#0d0887\"],[0.1111111111111111,\"#46039f\"],[0.2222222222222222,\"#7201a8\"],[0.3333333333333333,\"#9c179e\"],[0.4444444444444444,\"#bd3786\"],[0.5555555555555556,\"#d8576b\"],[0.6666666666666666,\"#ed7953\"],[0.7777777777777778,\"#fb9f3a\"],[0.8888888888888888,\"#fdca26\"],[1.0,\"#f0f921\"]]}],\"histogram2dcontour\":[{\"colorbar\":{\"outlinewidth\":0.0,\"ticks\":\"\"},\"colorscale\":[[0.0,\"#0d0887\"],[0.1111111111111111,\"#46039f\"],[0.2222222222222222,\"#7201a8\"],[0.3333333333333333,\"#9c179e\"],[0.4444444444444444,\"#bd3786\"],[0.5555555555555556,\"#d8576b\"],[0.6666666666666666,\"#ed7953\"],[0.7777777777777778,\"#fb9f3a\"],[0.8888888888888888,\"#fdca26\"],[1.0,\"#f0f921\"]]}],\"mesh3d\":[{\"colorbar\":{\"outlinewidth\":0.0,\"ticks\":\"\"}}],\"parcoords\":[{\"line\":{\"colorbar\":{\"outlinewidth\":0.0,\"ticks\":\"\"}}}],\"pie\":[{\"automargin\":true}],\"scatter\":[{\"marker\":{\"colorbar\":{\"outlinewidth\":0.0,\"ticks\":\"\"}}}],\"scatter3d\":[{\"marker\":{\"colorbar\":{\"outlinewidth\":0.0,\"ticks\":\"\"}},\"line\":{\"colorbar\":{\"outlinewidth\":0.0,\"ticks\":\"\"}}}],\"scattercarpet\":[{\"marker\":{\"colorbar\":{\"outlinewidth\":0.0,\"ticks\":\"\"}}}],\"scattergeo\":[{\"marker\":{\"colorbar\":{\"outlinewidth\":0.0,\"ticks\":\"\"}}}],\"scattergl\":[{\"marker\":{\"colorbar\":{\"outlinewidth\":0.0,\"ticks\":\"\"}}}],\"scattermapbox\":[{\"marker\":{\"colorbar\":{\"outlinewidth\":0.0,\"ticks\":\"\"}}}],\"scatterpolar\":[{\"marker\":{\"colorbar\":{\"outlinewidth\":0.0,\"ticks\":\"\"}}}],\"scatterpolargl\":[{\"marker\":{\"colorbar\":{\"outlinewidth\":0.0,\"ticks\":\"\"}}}],\"scatterternary\":[{\"marker\":{\"colorbar\":{\"outlinewidth\":0.0,\"ticks\":\"\"}}}],\"surface\":[{\"colorbar\":{\"outlinewidth\":0.0,\"ticks\":\"\"},\"colorscale\":[[0.0,\"#0d0887\"],[0.1111111111111111,\"#46039f\"],[0.2222222222222222,\"#7201a8\"],[0.3333333333333333,\"#9c179e\"],[0.4444444444444444,\"#bd3786\"],[0.5555555555555556,\"#d8576b\"],[0.6666666666666666,\"#ed7953\"],[0.7777777777777778,\"#fb9f3a\"],[0.8888888888888888,\"#fdca26\"],[1.0,\"#f0f921\"]]}],\"table\":[{\"cells\":{\"fill\":{\"color\":\"rgba(235, 240, 248, 1.0)\"},\"line\":{\"color\":\"rgba(255, 255, 255, 1.0)\"}},\"header\":{\"fill\":{\"color\":\"rgba(200, 212, 227, 1.0)\"},\"line\":{\"color\":\"rgba(255, 255, 255, 1.0)\"}}}]}},\"legend\":{\"orientation\":\"h\"},\"yaxis\":{\"type\":\"log\"}};\r\n",
       "            var config = {\"responsive\":true};\r\n",
       "            Plotly.newPlot('d33138ac-db96-42e8-b119-fe38a06c72bc', data, layout, config);\r\n",
       "});\r\n",
       "            };\r\n",
       "            if ((typeof(requirejs) !==  typeof(Function)) || (typeof(requirejs.config) !== typeof(Function))) {\r\n",
       "                var script = document.createElement(\"script\");\r\n",
       "                script.setAttribute(\"src\", \"https://cdnjs.cloudflare.com/ajax/libs/require.js/2.3.6/require.min.js\");\r\n",
       "                script.onload = function(){\r\n",
       "                    renderPlotly_d33138acdb9642e8b119fe38a06c72bc();\r\n",
       "                };\r\n",
       "                document.getElementsByTagName(\"head\")[0].appendChild(script);\r\n",
       "            }\r\n",
       "            else {\r\n",
       "                renderPlotly_d33138acdb9642e8b119fe38a06c72bc();\r\n",
       "            }\r\n",
       "</script>\r\n",
       "\r\n",
       "    \r\n",
       "</div    \r\n"
      ]
     },
     "metadata": {},
     "output_type": "display_data"
    }
   ],
   "source": [
    "open Plotly.NET.LayoutObjects\n",
    "\n",
    "let valueAxis =\n",
    "    LinearAxis.init(\n",
    "        AxisType = StyleParam.AxisType.Log\n",
    "    )\n",
    "\n",
    "let search = \"Eduardo Bolsonaro\"\n",
    "let deputado = GetExpenses search 2022 \n",
    "deputado\n",
    "|> stackedArea\n",
    "//|> Chart.withLegendStyle(Orientation = StyleParam.Orientation.Horizontal)\n",
    "|> Chart.withSize(1000, 600)\n",
    "|> Chart.withYAxis valueAxis"
   ]
  },
  {
   "cell_type": "code",
   "execution_count": 41,
   "metadata": {
    "dotnet_interactive": {
     "language": "fsharp"
    },
    "vscode": {
     "languageId": "dotnet-interactive.fsharp"
    }
   },
   "outputs": [
    {
     "data": {
      "image/svg+xml": "<svg class=\"main-svg\" xmlns=\"http://www.w3.org/2000/svg\" xmlns:xlink=\"http://www.w3.org/1999/xlink\" width=\"800\" height=\"400\" style=\"\" viewBox=\"0 0 800 400\"><rect x=\"0\" y=\"0\" width=\"800\" height=\"400\" style=\"fill: rgb(255, 255, 255); fill-opacity: 1;\"/><defs id=\"defs-4e1c0b\"><g class=\"clips\"><clipPath id=\"clip4e1c0bxyplot\" class=\"plotclip\"><rect width=\"640\" height=\"220\"/></clipPath><clipPath class=\"axesclip\" id=\"clip4e1c0bx\"><rect x=\"80\" y=\"0\" width=\"640\" height=\"400\"/></clipPath><clipPath class=\"axesclip\" id=\"clip4e1c0by\"><rect x=\"0\" y=\"100\" width=\"800\" height=\"220\"/></clipPath><clipPath class=\"axesclip\" id=\"clip4e1c0bxy\"><rect x=\"80\" y=\"100\" width=\"640\" height=\"220\"/></clipPath></g><g class=\"gradients\"/><g class=\"patterns\"/></defs><g class=\"bglayer\"><rect class=\"bg\" x=\"80\" y=\"100\" width=\"640\" height=\"220\" style=\"fill: rgb(229, 236, 246); fill-opacity: 1; stroke-width: 0;\"/></g><g class=\"layer-below\"><g class=\"imagelayer\"/><g class=\"shapelayer\"/></g><g class=\"cartesianlayer\"><g class=\"subplot xy\"><g class=\"layer-subplot\"><g class=\"shapelayer\"/><g class=\"imagelayer\"/></g><g class=\"gridlayer\"><g class=\"x\"><path class=\"xgrid crisp\" transform=\"translate(212.49,0)\" d=\"M0,100v220\" style=\"stroke: rgb(255, 255, 255); stroke-opacity: 1; stroke-width: 1px;\"/><path class=\"xgrid crisp\" transform=\"translate(349.47,0)\" d=\"M0,100v220\" style=\"stroke: rgb(255, 255, 255); stroke-opacity: 1; stroke-width: 1px;\"/><path class=\"xgrid crisp\" transform=\"translate(486.46,0)\" d=\"M0,100v220\" style=\"stroke: rgb(255, 255, 255); stroke-opacity: 1; stroke-width: 1px;\"/><path class=\"xgrid crisp\" transform=\"translate(625.68,0)\" d=\"M0,100v220\" style=\"stroke: rgb(255, 255, 255); stroke-opacity: 1; stroke-width: 1px;\"/></g><g class=\"y\"><path class=\"ygrid crisp\" transform=\"translate(0,315.99)\" d=\"M80,0h640\" style=\"stroke: rgb(255, 255, 255); stroke-opacity: 1; stroke-width: 1px;\"/><path class=\"ygrid crisp\" transform=\"translate(0,242.45)\" d=\"M80,0h640\" style=\"stroke: rgb(255, 255, 255); stroke-opacity: 1; stroke-width: 1px;\"/><path class=\"ygrid crisp\" transform=\"translate(0,205.68)\" d=\"M80,0h640\" style=\"stroke: rgb(255, 255, 255); stroke-opacity: 1; stroke-width: 1px;\"/><path class=\"ygrid crisp\" transform=\"translate(0,168.91)\" d=\"M80,0h640\" style=\"stroke: rgb(255, 255, 255); stroke-opacity: 1; stroke-width: 1px;\"/><path class=\"ygrid crisp\" transform=\"translate(0,132.14)\" d=\"M80,0h640\" style=\"stroke: rgb(255, 255, 255); stroke-opacity: 1; stroke-width: 1px;\"/></g></g><g class=\"zerolinelayer\"><path class=\"yzl zl crisp\" transform=\"translate(0,279.22)\" d=\"M80,0h640\" style=\"stroke: rgb(255, 255, 255); stroke-opacity: 1; stroke-width: 2px;\"/></g><path class=\"xlines-below\"/><path class=\"ylines-below\"/><g class=\"overlines-below\"/><g class=\"xaxislayer-below\"/><g class=\"yaxislayer-below\"/><g class=\"overaxes-below\"/><g class=\"plot\" transform=\"translate(80,100)\" clip-path=\"url(#clip4e1c0bxyplot)\"><g class=\"scatterlayer mlayer\"><g class=\"trace scatter trace30db58\" style=\"stroke-miterlimit: 2; opacity: 1;\"><g class=\"fills\"/><g class=\"errorbars\"/><g class=\"lines\"><path class=\"js-line\" d=\"M0,171.34L22.46,164.66L22.46,178.57L22.46,178.28L22.46,178.28L51.65,55.03L56.14,178.57L58.39,173.11L60.63,151.69L69.61,171.34L71.86,178.48L74.11,173.94L74.11,147.83L74.11,177.55L74.11,162.48L76.35,172.15L76.35,178.21L76.35,178.02L83.09,178.23L87.58,178.06L87.58,143.48L87.58,150.93L89.82,178.66L89.82,11L92.07,176.15L92.07,165.8L92.07,179.17L92.07,179.06L94.32,178.74L94.32,173.57L94.32,179.09L94.32,179.05L96.56,178.52L96.56,166.99L98.81,143.71L98.81,209L98.81,145.48L101.05,172.29L101.05,167.49L101.05,178.57L116.77,55.03L119.02,179.85L119.02,176.55L121.26,132.07L121.26,178.28L121.26,129.75L130.25,172.22L132.49,170.5L139.23,172.93L143.72,174.61L148.21,174.23L152.7,171.82L154.95,178.48L154.95,11L161.68,161.46L172.91,171.9L177.4,178.73L181.89,55.03L184.14,170.64L186.39,170.01L190.88,174.62L193.12,176.97L193.12,178.57L197.61,174.1L197.61,176.92L202.11,170.25L202.11,173.7L206.6,175.38L208.84,179.02L208.84,179.09L208.84,173.86L211.09,178.57L213.33,149.43L215.58,172.65L220.07,178.48L220.07,178.06L224.56,164.66L224.56,11L226.81,119.93L229.05,178.83L229.05,137.39L231.3,171.71L244.77,178.48L249.26,55.03L251.51,152.92L258.25,164.32L258.25,166.73L258.25,168.29L258.25,164.32L258.25,166.64L260.49,174.33L260.49,171.05L264.98,178.57L269.47,171.24L271.72,169.7L278.46,173.08L287.44,168.67L287.44,173.55L289.68,178.6L289.68,11L289.68,178.44L291.93,178.57L291.93,161.56L296.42,170.86L307.65,173.34L318.88,55.03L323.37,179.02L339.09,170.25L357.05,171.6L366.04,178.63L366.04,11L368.28,168.41L368.28,166.96L370.53,161.56L381.75,141.11L381.75,170.78L384,55.03L390.74,168.91L399.72,138.86L399.72,139.67L399.72,157.59L399.72,146.13L399.72,179.1L399.72,177.95L404.21,174L404.21,179.11L404.21,174.35L406.46,170.52L408.7,179.12L408.7,179.11L408.7,174.39L415.44,131.32L415.44,134.47L415.44,172.6L415.44,131.32L415.44,131.32L422.18,177.6L428.91,11L428.91,173.28L428.91,175.36L431.16,149.2L431.16,139.36L431.16,178.61L431.16,149.2L437.89,161.56L442.39,175.91L444.63,178.43L444.63,167.64L446.88,175.01L446.88,178.51L446.88,175.01L449.12,176.1L451.37,174.07L451.37,177.02L453.61,170.86L453.61,175.09L460.35,128.64L462.6,136.07L467.09,55.03L467.09,174L467.09,158.01L469.33,142.35L469.33,153.73L476.07,177.45L476.07,170.25L478.32,157.96L478.32,167.79L480.56,151.99L480.56,163.42L480.56,149.61L482.81,132.3L482.81,173.48L487.3,168.57L494.04,175.08L494.04,178.58L496.28,160.7L496.28,178.13L498.53,161.56L498.53,178.27L500.77,178.57L500.77,178.38L514.25,158.23L523.23,11L523.23,55.03L527.72,178.57L554.67,131.01L556.91,175.42L570.39,139.07L570.39,68.91L579.37,175.84L586.11,170.32L590.6,47.58L592.84,178.57L608.56,150.3L622.04,175.89L631.02,175.43L635.51,178.56L635.51,178.56L635.51,68.91L640,178.57\" style=\"vector-effect: non-scaling-stroke; fill: none; stroke: rgb(99, 110, 250); stroke-opacity: 1; stroke-width: 2px; opacity: 1;\"/></g><g class=\"points\"/><g class=\"text\"/></g></g></g><g class=\"overplot\"/><path class=\"xlines-above crisp\" d=\"M0,0\" style=\"fill: none;\"/><path class=\"ylines-above crisp\" d=\"M0,0\" style=\"fill: none;\"/><g class=\"overlines-above\"/><g class=\"xaxislayer-above\"><g class=\"xtick\"><text text-anchor=\"middle\" x=\"0\" y=\"333\" transform=\"translate(80,0)\" style=\"font-family: 'Open Sans', verdana, arial, sans-serif; font-size: 12px; fill: rgb(42, 63, 95); fill-opacity: 1; white-space: pre; opacity: 1;\">Jan 2022</text></g><g class=\"xtick\"><text text-anchor=\"middle\" x=\"0\" y=\"333\" style=\"font-family: 'Open Sans', verdana, arial, sans-serif; font-size: 12px; fill: rgb(42, 63, 95); fill-opacity: 1; white-space: pre; opacity: 1;\" transform=\"translate(212.49,0)\">Mar 2022</text></g><g class=\"xtick\"><text text-anchor=\"middle\" x=\"0\" y=\"333\" style=\"font-family: 'Open Sans', verdana, arial, sans-serif; font-size: 12px; fill: rgb(42, 63, 95); fill-opacity: 1; white-space: pre; opacity: 1;\" transform=\"translate(349.47,0)\">May 2022</text></g><g class=\"xtick\"><text text-anchor=\"middle\" x=\"0\" y=\"333\" style=\"font-family: 'Open Sans', verdana, arial, sans-serif; font-size: 12px; fill: rgb(42, 63, 95); fill-opacity: 1; white-space: pre; opacity: 1;\" transform=\"translate(486.46,0)\">Jul 2022</text></g><g class=\"xtick\"><text text-anchor=\"middle\" x=\"0\" y=\"333\" style=\"font-family: 'Open Sans', verdana, arial, sans-serif; font-size: 12px; fill: rgb(42, 63, 95); fill-opacity: 1; white-space: pre; opacity: 1;\" transform=\"translate(625.68,0)\">Sep 2022</text></g></g><g class=\"yaxislayer-above\"><g class=\"ytick\"><text text-anchor=\"end\" x=\"79\" y=\"4.199999999999999\" transform=\"translate(0,315.99)\" style=\"font-family: 'Open Sans', verdana, arial, sans-serif; font-size: 12px; fill: rgb(42, 63, 95); fill-opacity: 1; white-space: pre; opacity: 1;\">−2000</text></g><g class=\"ytick\"><text text-anchor=\"end\" x=\"79\" y=\"4.199999999999999\" style=\"font-family: 'Open Sans', verdana, arial, sans-serif; font-size: 12px; fill: rgb(42, 63, 95); fill-opacity: 1; white-space: pre; opacity: 1;\" transform=\"translate(0,279.22)\">0</text></g><g class=\"ytick\"><text text-anchor=\"end\" x=\"79\" y=\"4.199999999999999\" style=\"font-family: 'Open Sans', verdana, arial, sans-serif; font-size: 12px; fill: rgb(42, 63, 95); fill-opacity: 1; white-space: pre; opacity: 1;\" transform=\"translate(0,242.45)\">2000</text></g><g class=\"ytick\"><text text-anchor=\"end\" x=\"79\" y=\"4.199999999999999\" style=\"font-family: 'Open Sans', verdana, arial, sans-serif; font-size: 12px; fill: rgb(42, 63, 95); fill-opacity: 1; white-space: pre; opacity: 1;\" transform=\"translate(0,205.68)\">4000</text></g><g class=\"ytick\"><text text-anchor=\"end\" x=\"79\" y=\"4.199999999999999\" style=\"font-family: 'Open Sans', verdana, arial, sans-serif; font-size: 12px; fill: rgb(42, 63, 95); fill-opacity: 1; white-space: pre; opacity: 1;\" transform=\"translate(0,168.91)\">6000</text></g><g class=\"ytick\"><text text-anchor=\"end\" x=\"79\" y=\"4.199999999999999\" style=\"font-family: 'Open Sans', verdana, arial, sans-serif; font-size: 12px; fill: rgb(42, 63, 95); fill-opacity: 1; white-space: pre; opacity: 1;\" transform=\"translate(0,132.14)\">8000</text></g></g><g class=\"overaxes-above\"/></g></g><g class=\"polarlayer\"/><g class=\"smithlayer\"/><g class=\"ternarylayer\"/><g class=\"geolayer\"/><g class=\"funnelarealayer\"/><g class=\"pielayer\"/><g class=\"iciclelayer\"/><g class=\"treemaplayer\"/><g class=\"sunburstlayer\"/><g class=\"glimages\"/><defs id=\"topdefs-4e1c0b\"><g class=\"clips\"/></defs><g class=\"layer-above\"><g class=\"imagelayer\"/><g class=\"shapelayer\"/></g><g class=\"infolayer\"><g class=\"g-gtitle\"/><g class=\"g-xtitle\"/><g class=\"g-ytitle\"/></g></svg>"
     },
     "metadata": {},
     "output_type": "display_data"
    }
   ],
   "source": [
    "let graph =\n",
    "    seq { yield deputado }\n",
    "    |> Seq.map scatter\n",
    "    |> Chart.combine\n",
    "    |> Chart.toSVGString( Width = 800, Height = 400)\n",
    "\n",
    "DisplayExtensions.DisplayAs(graph,\"image/svg+xml\")"
   ]
  },
  {
   "cell_type": "code",
   "execution_count": 11,
   "metadata": {
    "dotnet_interactive": {
     "language": "fsharp"
    },
    "vscode": {
     "languageId": "dotnet-interactive.fsharp"
    }
   },
   "outputs": [
    {
     "data": {
      "text/html": [
       "<img src=\"https://www.camara.leg.br/internet/deputado/bandep/92346.jpg\"></img>"
      ]
     },
     "metadata": {},
     "output_type": "display_data"
    }
   ],
   "source": [
    "HTML($\"<img src=\\\"{deputado.picture}\\\"></img>\")"
   ]
  }
 ],
 "metadata": {
  "kernelspec": {
   "display_name": ".NET (C#)",
   "language": "C#",
   "name": ".net-csharp"
  },
  "language_info": {
   "file_extension": ".cs",
   "mimetype": "text/x-csharp",
   "name": "C#",
   "pygments_lexer": "csharp",
   "version": "9.0"
  },
  "orig_nbformat": 4
 },
 "nbformat": 4,
 "nbformat_minor": 2
}
