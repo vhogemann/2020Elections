{
 "cells": [
  {
   "cell_type": "code",
   "execution_count": 44,
   "metadata": {
    "dotnet_interactive": {
     "language": "fsharp"
    },
    "vscode": {
     "languageId": "dotnet-interactive.fsharp"
    }
   },
   "outputs": [
    {
     "data": {
      "text/html": [
       "<div><div></div><div></div><div><strong>Installed Packages</strong><ul><li><span>GraphQL.Client, 5.1.0</span></li><li><span>GraphQL.Client.Serializer.Newtonsoft, 5.1.0</span></li><li><span>Plotly.NET.Interactive, 2.0.0</span></li></ul></div></div>"
      ]
     },
     "metadata": {},
     "output_type": "display_data"
    }
   ],
   "source": [
    "#r \"nuget: GraphQL.Client\"\n",
    "#r \"nuget: GraphQL.Client.Serializer.Newtonsoft\"\n",
    "#r \"nuget: Plotly.NET.Interactive,  2.0.0\"\n",
    "\n",
    "open GraphQL\n",
    "open GraphQL.Client.Http\n",
    "open GraphQL.Client.Serializer.Newtonsoft\n",
    "open System\n",
    "open Plotly.NET\n",
    "\n",
    "//let baseUrl = \"https://camaradosdeputadosgql-qboe6n5gda-uc.a.run.app/graphql\"\n",
    "let baseUrl = \"http://localhost:5078/graphql\"\n",
    "let graphQLClient = new GraphQLHttpClient(baseUrl, new NewtonsoftJsonSerializer());\n",
    "\n",
    "let deputyRequest party state year month = new GraphQLRequest (\n",
    "    $\"\"\"\n",
    "    query {{\n",
    "        deputies (party: \"{party}\" state: \"{state}\") {{\n",
    "            name\n",
    "            party\n",
    "            picture\n",
    "            expenses (year: \"{year}\" month: \"{month}\") {{\n",
    "                netValue\n",
    "                documentDate\n",
    "            }}\n",
    "        }}\n",
    "    }}\n",
    "    \"\"\"\n",
    ")\n",
    "\n",
    "let expenseRequest name year = new GraphQLRequest (\n",
    "    $\"\"\"\n",
    "    query {{\n",
    "        deputies (name: \"{name}\") {{\n",
    "            name\n",
    "            party\n",
    "            state\n",
    "            picture\n",
    "            expenses (year: \"{year}\") {{\n",
    "                netValue\n",
    "                documentDate\n",
    "                supplierCnpjOrCpf\n",
    "                supplierName\n",
    "            }}\n",
    "        }}\n",
    "    }}\n",
    "    \"\"\"\n",
    ")\n",
    "\n",
    "type DeputyResponse = {\n",
    "    deputies: Deputy list\n",
    "} \n",
    "and Deputy = {\n",
    "    name: string\n",
    "    party: string\n",
    "    picture: string\n",
    "    expenses: Expense[]\n",
    "}\n",
    "and Expense = {\n",
    "    netValue: decimal\n",
    "    supplierName: string\n",
    "    documentDate: Nullable<DateTime>\n",
    "}\n",
    "\n",
    "let GetDeputies party state year month =\n",
    "    let response =\n",
    "        graphQLClient.SendQueryAsync<DeputyResponse>(deputyRequest party state year month)\n",
    "        |> Async.AwaitTask\n",
    "        |> Async.RunSynchronously\n",
    "    response.Data.deputies\n",
    "\n",
    "let GetExpenses deputy year = \n",
    "    let response = \n",
    "        graphQLClient.SendQueryAsync<DeputyResponse>(expenseRequest deputy year)\n",
    "        |> Async.AwaitTask\n",
    "        |> Async.RunSynchronously\n",
    "    response.Data.deputies |> Seq.head\n",
    "\n",
    "let scatter (deputy:Deputy) =\n",
    "    let dates, values =\n",
    "        if deputy.expenses <> null then\n",
    "            deputy.expenses\n",
    "            |> Array.filter(fun expense -> expense.documentDate.HasValue)\n",
    "            |> Array.sortBy(fun expense -> expense.documentDate.Value)\n",
    "            |> Array.map (fun expense -> expense.documentDate.Value, expense.netValue)\n",
    "            |> Array.unzip\n",
    "        else\n",
    "            [||],[||]\n",
    "    Chart.Line(dates, values)\n",
    "    |> Chart.withLegendStyle(Orientation = StyleParam.Orientation.Horizontal)\n",
    "    |> Chart.withTraceInfo deputy.name\n",
    "\n",
    "let expenseChart (deputy:Deputy) =\n",
    "    let labels, values =\n",
    "        deputy.expenses\n",
    "        |> Seq.groupBy(fun expense -> expense.supplierName)\n",
    "        |> Seq.map (fun (name, expenses) ->\n",
    "            let total =\n",
    "                expenses\n",
    "                |> Seq.sumBy ( fun expense -> expense.netValue )\n",
    "            name, total\n",
    "        )\n",
    "        |> Seq.toList\n",
    "        |> List.unzip\n",
    "    Chart.Pie(Labels=labels, values=values)\n",
    "    |> Chart.withLegendStyle(Orientation = StyleParam.Orientation.Horizontal)\n",
    "    "
   ]
  },
  {
   "cell_type": "code",
   "execution_count": 45,
   "metadata": {
    "dotnet_interactive": {
     "language": "fsharp"
    },
    "vscode": {
     "languageId": "dotnet-interactive.fsharp"
    }
   },
   "outputs": [
    {
     "data": {
      "text/html": [
       "\r\n",
       "<div>\r\n",
       "    <div id=\"630aaa4a-1cd0-46e3-939b-12cd12a1fb57\"><!-- Plotly chart will be drawn inside this DIV --></div>\r\n",
       "<script type=\"text/javascript\">\r\n",
       "\r\n",
       "            var renderPlotly_630aaa4a1cd046e3939b12cd12a1fb57 = function() {\r\n",
       "            var fsharpPlotlyRequire = requirejs.config({context:'fsharp-plotly',paths:{plotly:'https://cdn.plot.ly/plotly-2.6.3.min'}}) || require;\r\n",
       "            fsharpPlotlyRequire(['plotly'], function(Plotly) {\r\n",
       "\r\n",
       "            var data = [{\"type\":\"pie\",\"values\":[61200.57,858.37,573.8,723.0,487.96,3207.65,2843.59,319.57,250.0,208.96,747.70,540.42,408.57,332.53,1167.58,284.07,444.12,124.86,323.27,169.94,710.11,167.19,1678.73,414.27,608.91,357.3,342.05,59.24,478.79,119.62,398.26,415.87,283.88,291.67,204.21,262.47,180.0,264.85,271.21,1430.37,960.71,960.71,960.71,966.24,791.71,6.5,21.02,26.62,96.74,35.1,386.1,40.0,25.9,157.25,90.8,94.97,88.0,38.86,42.9,295.0,458.0,495.43,1158.0,224.54,3203.03,730.0,280.0,638.0,1153.92,278.38,665.31,76050.0,8.3,21.0,69.6,157.7,23.2,2.5,30.2,140.0,2275.29,28640.67,39742.29,34957.24],\"labels\":[\"'P & L PATRIMONIO LTDA.\",\"ENEL - Eletropaulo\",\"KALUNGA COMERCIO E INDUSTRIA GRAFICA LTDA\",\"SACOBRAS COMERCIO EMBALAGENS EIRELI EPP\",\"Telefonica Brasil S.A.\",\"Telefônica Brasil S.A. VIVO\",\"Telefônica do Brasil S/A - VIVO\",\"007 - 115 NORTE - CASCOL COMBUSTIVEIS PARA VEICULOS LTDA\",\"021 - 204 SUL CASCOL COMBUSTIVEIS PARA VEICULOS LTDA\",\"045 - QL 02 - CASCOL COMBUSTIVEIS PARA VEICULOS LTDA\",\"076 - MELHOR 10 - CASCOL COMBUSTIVEIS PARA VEICULOS LTDA\",\"096 - MANGUEIRAL - CASCOL COMBUSTIVEIS PARA VEICULOS LTDA\",\"14 - QL 14 - CASCOL COMBUSTIVEIS PARA VEICULOS LTDA\",\"AUTO POSTO 303 NORTE LTDA\",\"AUTO POSTO ALVORADA PAULISTA LTDA\",\"AUTO POSTO CARAVELE LTDA\",\"AUTO POSTO ESQUINA LIMITADA\",\"AUTO POSTO PALERMO LTDA\",\"AUTO POSTO PETER PAN 01 LTDA\",\"AUTO POSTO PLANALTO DE JAGUARIUNA LTDA\",\"AUTO POSTO REINA SOFHIA LTDA\",\"Auto posto social ltda\",\"AUTO SHOPPING DERIVADO DE PETROLEO LTDA\",\"AUTO SHOPPING DERIVADOS DE PETROLEO LTDA - ASA NORTE 111\",\"AUTO SHOPPING DERIVADOS DE PETROLEO LTDA.\",\"BELIZE COMPANY AUTO POSTO LTDA\",\"CENTRO AUTOMOTIVO BRIGADEIRO F LIMA LT\",\"DRA4 DERIVADOS DE PETROLEO LTDA\",\"ORGANIZACAO COMERCIAL LAGO AZUL LTDA\",\"POSTO BOLA PESADA LT\",\"POSTO DA TORRE EIRELI EPP\",\"POSTO DE COMBUSTIVEL QI 09 LAGO SUL LTDA\",\"POSTO PATÃO LTDA.\",\"R. C. P. OPERADORA DE COMBUSTIVEIS LTDA\",\"RODOPOSTO BANDEIRANTES SUL LTDA\",\"RODOVIA COMERCIO DE COMBUSTIVEIS E DERIVADOS LTDA\",\"TEBERGA & FERNANDES LTDA.\",\"VALUB COMBUSTIVEIS E LUBRIFICANTES LTDA\",\"WE AUTO POSTO LTDA\",\"TAM LINHAS AEREAS S/A.\",\"TELEFONIA BRASIL S.A - VIVO\",\"Telefonica Brasil S.A\",\"TELEFONICA BRASIL S.A.\",\"TELEFONICA BRASIL S/A\",\"vivo telefonica do brasil s/a\",\"CORREIOS - CARTA COMERCIAL\",\"CORREIOS - ENCOMENDA PAC\",\"CORREIOS - ENCOMENDA PAC COM AR\",\"CORREIOS - SEDEX CONVENCIONAL\",\"ECT\",\"ECT EMP BRAS DE CORREIOS E TELEGRAFOS\",\"BRASEIRO RESTAURANTE LTDA-ME\",\"Esther de O Barbosa\",\"M. F ZENNI DE LIMA RESTAURANTE EIRELI\",\"PBJM COMERCIO DE GENEROS ALIMENTICIOS LTDA\",\"PIMENTA VERDE ALIMENTOS LTDA\",\"REDE PICA PAU DE ALIMENTOS LTDA\",\"Restaurante Alentejano Olaria\",\"RESTAURANTE E LANCHONETE SÃO CRISTOVÃO LTDA\",\"APART HOTEL OLAVO BILAC\",\"APART-HOTEL OLAVO BILAC LTDA\",\"ATRIO HOTEIS S.A.\",\"ATRIO HOTEIS S/A\",\"ATRIO HOTEL S/A\",\"BRASTURINVEST INVESTIMENTO\",\"IRMÃOS DALLIGNA PAMPAS PALACE HOTEL LTDA\",\"Marcio Calvo de Godoy\",\"N&N Hotelaria LTDA ME\",\"13048599MOVIDA LOCAÇÃO DE VEÍCULOS S.A.\",\"LOCALIZA Hertz\",\"LOCALIZA RENT A CAR SA\",\"QUASAR LOCADORA DE VEICULOS EIRELI\",\"AUTOPEL\",\"CONC. DE RODOVIAS MINAS GERAIS GOIAS S/A\",\"CONC. RODOVIAS DO INTERIOR PAULISTA S/A\",\"CONC. SISTEMA ANHANGUERA-BANDEIRANTES S/A\",\"CONCESSIONARIA BR-040 S.A.\",\"CONCESSIONARIA DO RODOANEL OESTE S.A.\",\"CONCESSIONARIA ECOVIAS DOS IMIGRANTES S.A.\",\"VIAPAULISTA S/A\",\"GOL\",\"Cia Aérea - AZUL\",\"Cia Aérea - GOL\",\"Cia Aérea - TAM\"],\"marker\":{\"line\":{}}}];\r\n",
       "            var layout = {\"width\":600,\"height\":600,\"template\":{\"layout\":{\"title\":{\"x\":0.05},\"font\":{\"color\":\"rgba(42, 63, 95, 1.0)\"},\"paper_bgcolor\":\"rgba(255, 255, 255, 1.0)\",\"plot_bgcolor\":\"rgba(229, 236, 246, 1.0)\",\"autotypenumbers\":\"strict\",\"colorscale\":{\"diverging\":[[0.0,\"#8e0152\"],[0.1,\"#c51b7d\"],[0.2,\"#de77ae\"],[0.3,\"#f1b6da\"],[0.4,\"#fde0ef\"],[0.5,\"#f7f7f7\"],[0.6,\"#e6f5d0\"],[0.7,\"#b8e186\"],[0.8,\"#7fbc41\"],[0.9,\"#4d9221\"],[1.0,\"#276419\"]],\"sequential\":[[0.0,\"#0d0887\"],[0.1111111111111111,\"#46039f\"],[0.2222222222222222,\"#7201a8\"],[0.3333333333333333,\"#9c179e\"],[0.4444444444444444,\"#bd3786\"],[0.5555555555555556,\"#d8576b\"],[0.6666666666666666,\"#ed7953\"],[0.7777777777777778,\"#fb9f3a\"],[0.8888888888888888,\"#fdca26\"],[1.0,\"#f0f921\"]],\"sequentialminus\":[[0.0,\"#0d0887\"],[0.1111111111111111,\"#46039f\"],[0.2222222222222222,\"#7201a8\"],[0.3333333333333333,\"#9c179e\"],[0.4444444444444444,\"#bd3786\"],[0.5555555555555556,\"#d8576b\"],[0.6666666666666666,\"#ed7953\"],[0.7777777777777778,\"#fb9f3a\"],[0.8888888888888888,\"#fdca26\"],[1.0,\"#f0f921\"]]},\"hovermode\":\"closest\",\"hoverlabel\":{\"align\":\"left\"},\"coloraxis\":{\"colorbar\":{\"outlinewidth\":0.0,\"ticks\":\"\"}},\"geo\":{\"showland\":true,\"landcolor\":\"rgba(229, 236, 246, 1.0)\",\"showlakes\":true,\"lakecolor\":\"rgba(255, 255, 255, 1.0)\",\"subunitcolor\":\"rgba(255, 255, 255, 1.0)\",\"bgcolor\":\"rgba(255, 255, 255, 1.0)\"},\"mapbox\":{\"style\":\"light\"},\"polar\":{\"bgcolor\":\"rgba(229, 236, 246, 1.0)\",\"radialaxis\":{\"linecolor\":\"rgba(255, 255, 255, 1.0)\",\"gridcolor\":\"rgba(255, 255, 255, 1.0)\",\"ticks\":\"\"},\"angularaxis\":{\"linecolor\":\"rgba(255, 255, 255, 1.0)\",\"gridcolor\":\"rgba(255, 255, 255, 1.0)\",\"ticks\":\"\"}},\"scene\":{\"xaxis\":{\"ticks\":\"\",\"linecolor\":\"rgba(255, 255, 255, 1.0)\",\"gridcolor\":\"rgba(255, 255, 255, 1.0)\",\"gridwidth\":2.0,\"zerolinecolor\":\"rgba(255, 255, 255, 1.0)\",\"backgroundcolor\":\"rgba(229, 236, 246, 1.0)\",\"showbackground\":true},\"yaxis\":{\"ticks\":\"\",\"linecolor\":\"rgba(255, 255, 255, 1.0)\",\"gridcolor\":\"rgba(255, 255, 255, 1.0)\",\"gridwidth\":2.0,\"zerolinecolor\":\"rgba(255, 255, 255, 1.0)\",\"backgroundcolor\":\"rgba(229, 236, 246, 1.0)\",\"showbackground\":true},\"zaxis\":{\"ticks\":\"\",\"linecolor\":\"rgba(255, 255, 255, 1.0)\",\"gridcolor\":\"rgba(255, 255, 255, 1.0)\",\"gridwidth\":2.0,\"zerolinecolor\":\"rgba(255, 255, 255, 1.0)\",\"backgroundcolor\":\"rgba(229, 236, 246, 1.0)\",\"showbackground\":true}},\"ternary\":{\"aaxis\":{\"ticks\":\"\",\"linecolor\":\"rgba(255, 255, 255, 1.0)\",\"gridcolor\":\"rgba(255, 255, 255, 1.0)\"},\"baxis\":{\"ticks\":\"\",\"linecolor\":\"rgba(255, 255, 255, 1.0)\",\"gridcolor\":\"rgba(255, 255, 255, 1.0)\"},\"caxis\":{\"ticks\":\"\",\"linecolor\":\"rgba(255, 255, 255, 1.0)\",\"gridcolor\":\"rgba(255, 255, 255, 1.0)\"},\"bgcolor\":\"rgba(229, 236, 246, 1.0)\"},\"xaxis\":{\"title\":{\"standoff\":15},\"ticks\":\"\",\"automargin\":true,\"linecolor\":\"rgba(255, 255, 255, 1.0)\",\"gridcolor\":\"rgba(255, 255, 255, 1.0)\",\"zerolinecolor\":\"rgba(255, 255, 255, 1.0)\",\"zerolinewidth\":2.0},\"yaxis\":{\"title\":{\"standoff\":15},\"ticks\":\"\",\"automargin\":true,\"linecolor\":\"rgba(255, 255, 255, 1.0)\",\"gridcolor\":\"rgba(255, 255, 255, 1.0)\",\"zerolinecolor\":\"rgba(255, 255, 255, 1.0)\",\"zerolinewidth\":2.0},\"annotationdefaults\":{\"arrowcolor\":\"#2a3f5f\",\"arrowhead\":0,\"arrowwidth\":1},\"shapedefaults\":{\"line\":{\"color\":\"rgba(42, 63, 95, 1.0)\"}},\"colorway\":[\"rgba(99, 110, 250, 1.0)\",\"rgba(239, 85, 59, 1.0)\",\"rgba(0, 204, 150, 1.0)\",\"rgba(171, 99, 250, 1.0)\",\"rgba(255, 161, 90, 1.0)\",\"rgba(25, 211, 243, 1.0)\",\"rgba(255, 102, 146, 1.0)\",\"rgba(182, 232, 128, 1.0)\",\"rgba(255, 151, 255, 1.0)\",\"rgba(254, 203, 82, 1.0)\"]},\"data\":{\"bar\":[{\"marker\":{\"line\":{\"color\":\"rgba(229, 236, 246, 1.0)\",\"width\":0.5},\"pattern\":{\"fillmode\":\"overlay\",\"size\":10,\"solidity\":0.2}},\"error_x\":{\"color\":\"rgba(42, 63, 95, 1.0)\"},\"error_y\":{\"color\":\"rgba(42, 63, 95, 1.0)\"}}],\"barpolar\":[{\"marker\":{\"line\":{\"color\":\"rgba(229, 236, 246, 1.0)\",\"width\":0.5},\"pattern\":{\"fillmode\":\"overlay\",\"size\":10,\"solidity\":0.2}}}],\"carpet\":[{\"aaxis\":{\"linecolor\":\"rgba(255, 255, 255, 1.0)\",\"gridcolor\":\"rgba(255, 255, 255, 1.0)\",\"endlinecolor\":\"rgba(42, 63, 95, 1.0)\",\"minorgridcolor\":\"rgba(255, 255, 255, 1.0)\",\"startlinecolor\":\"rgba(42, 63, 95, 1.0)\"},\"baxis\":{\"linecolor\":\"rgba(255, 255, 255, 1.0)\",\"gridcolor\":\"rgba(255, 255, 255, 1.0)\",\"endlinecolor\":\"rgba(42, 63, 95, 1.0)\",\"minorgridcolor\":\"rgba(255, 255, 255, 1.0)\",\"startlinecolor\":\"rgba(42, 63, 95, 1.0)\"}}],\"choropleth\":[{\"colorbar\":{\"outlinewidth\":0.0,\"ticks\":\"\"},\"colorscale\":[[0.0,\"#0d0887\"],[0.1111111111111111,\"#46039f\"],[0.2222222222222222,\"#7201a8\"],[0.3333333333333333,\"#9c179e\"],[0.4444444444444444,\"#bd3786\"],[0.5555555555555556,\"#d8576b\"],[0.6666666666666666,\"#ed7953\"],[0.7777777777777778,\"#fb9f3a\"],[0.8888888888888888,\"#fdca26\"],[1.0,\"#f0f921\"]]}],\"contour\":[{\"colorbar\":{\"outlinewidth\":0.0,\"ticks\":\"\"},\"colorscale\":[[0.0,\"#0d0887\"],[0.1111111111111111,\"#46039f\"],[0.2222222222222222,\"#7201a8\"],[0.3333333333333333,\"#9c179e\"],[0.4444444444444444,\"#bd3786\"],[0.5555555555555556,\"#d8576b\"],[0.6666666666666666,\"#ed7953\"],[0.7777777777777778,\"#fb9f3a\"],[0.8888888888888888,\"#fdca26\"],[1.0,\"#f0f921\"]]}],\"contourcarpet\":[{\"colorbar\":{\"outlinewidth\":0.0,\"ticks\":\"\"}}],\"heatmap\":[{\"colorbar\":{\"outlinewidth\":0.0,\"ticks\":\"\"},\"colorscale\":[[0.0,\"#0d0887\"],[0.1111111111111111,\"#46039f\"],[0.2222222222222222,\"#7201a8\"],[0.3333333333333333,\"#9c179e\"],[0.4444444444444444,\"#bd3786\"],[0.5555555555555556,\"#d8576b\"],[0.6666666666666666,\"#ed7953\"],[0.7777777777777778,\"#fb9f3a\"],[0.8888888888888888,\"#fdca26\"],[1.0,\"#f0f921\"]]}],\"heatmapgl\":[{\"colorbar\":{\"outlinewidth\":0.0,\"ticks\":\"\"},\"colorscale\":[[0.0,\"#0d0887\"],[0.1111111111111111,\"#46039f\"],[0.2222222222222222,\"#7201a8\"],[0.3333333333333333,\"#9c179e\"],[0.4444444444444444,\"#bd3786\"],[0.5555555555555556,\"#d8576b\"],[0.6666666666666666,\"#ed7953\"],[0.7777777777777778,\"#fb9f3a\"],[0.8888888888888888,\"#fdca26\"],[1.0,\"#f0f921\"]]}],\"histogram\":[{\"marker\":{\"pattern\":{\"fillmode\":\"overlay\",\"size\":10,\"solidity\":0.2}}}],\"histogram2d\":[{\"colorbar\":{\"outlinewidth\":0.0,\"ticks\":\"\"},\"colorscale\":[[0.0,\"#0d0887\"],[0.1111111111111111,\"#46039f\"],[0.2222222222222222,\"#7201a8\"],[0.3333333333333333,\"#9c179e\"],[0.4444444444444444,\"#bd3786\"],[0.5555555555555556,\"#d8576b\"],[0.6666666666666666,\"#ed7953\"],[0.7777777777777778,\"#fb9f3a\"],[0.8888888888888888,\"#fdca26\"],[1.0,\"#f0f921\"]]}],\"histogram2dcontour\":[{\"colorbar\":{\"outlinewidth\":0.0,\"ticks\":\"\"},\"colorscale\":[[0.0,\"#0d0887\"],[0.1111111111111111,\"#46039f\"],[0.2222222222222222,\"#7201a8\"],[0.3333333333333333,\"#9c179e\"],[0.4444444444444444,\"#bd3786\"],[0.5555555555555556,\"#d8576b\"],[0.6666666666666666,\"#ed7953\"],[0.7777777777777778,\"#fb9f3a\"],[0.8888888888888888,\"#fdca26\"],[1.0,\"#f0f921\"]]}],\"mesh3d\":[{\"colorbar\":{\"outlinewidth\":0.0,\"ticks\":\"\"}}],\"parcoords\":[{\"line\":{\"colorbar\":{\"outlinewidth\":0.0,\"ticks\":\"\"}}}],\"pie\":[{\"automargin\":true}],\"scatter\":[{\"marker\":{\"colorbar\":{\"outlinewidth\":0.0,\"ticks\":\"\"}}}],\"scatter3d\":[{\"marker\":{\"colorbar\":{\"outlinewidth\":0.0,\"ticks\":\"\"}},\"line\":{\"colorbar\":{\"outlinewidth\":0.0,\"ticks\":\"\"}}}],\"scattercarpet\":[{\"marker\":{\"colorbar\":{\"outlinewidth\":0.0,\"ticks\":\"\"}}}],\"scattergeo\":[{\"marker\":{\"colorbar\":{\"outlinewidth\":0.0,\"ticks\":\"\"}}}],\"scattergl\":[{\"marker\":{\"colorbar\":{\"outlinewidth\":0.0,\"ticks\":\"\"}}}],\"scattermapbox\":[{\"marker\":{\"colorbar\":{\"outlinewidth\":0.0,\"ticks\":\"\"}}}],\"scatterpolar\":[{\"marker\":{\"colorbar\":{\"outlinewidth\":0.0,\"ticks\":\"\"}}}],\"scatterpolargl\":[{\"marker\":{\"colorbar\":{\"outlinewidth\":0.0,\"ticks\":\"\"}}}],\"scatterternary\":[{\"marker\":{\"colorbar\":{\"outlinewidth\":0.0,\"ticks\":\"\"}}}],\"surface\":[{\"colorbar\":{\"outlinewidth\":0.0,\"ticks\":\"\"},\"colorscale\":[[0.0,\"#0d0887\"],[0.1111111111111111,\"#46039f\"],[0.2222222222222222,\"#7201a8\"],[0.3333333333333333,\"#9c179e\"],[0.4444444444444444,\"#bd3786\"],[0.5555555555555556,\"#d8576b\"],[0.6666666666666666,\"#ed7953\"],[0.7777777777777778,\"#fb9f3a\"],[0.8888888888888888,\"#fdca26\"],[1.0,\"#f0f921\"]]}],\"table\":[{\"cells\":{\"fill\":{\"color\":\"rgba(235, 240, 248, 1.0)\"},\"line\":{\"color\":\"rgba(255, 255, 255, 1.0)\"}},\"header\":{\"fill\":{\"color\":\"rgba(200, 212, 227, 1.0)\"},\"line\":{\"color\":\"rgba(255, 255, 255, 1.0)\"}}}]}},\"legend\":{\"orientation\":\"h\"},\"title\":{\"text\":\"Despesas por fornecedor - Eduardo Bolsonaro - 2022\"}};\r\n",
       "            var config = {\"responsive\":true};\r\n",
       "            Plotly.newPlot('630aaa4a-1cd0-46e3-939b-12cd12a1fb57', data, layout, config);\r\n",
       "});\r\n",
       "            };\r\n",
       "            if ((typeof(requirejs) !==  typeof(Function)) || (typeof(requirejs.config) !== typeof(Function))) {\r\n",
       "                var script = document.createElement(\"script\");\r\n",
       "                script.setAttribute(\"src\", \"https://cdnjs.cloudflare.com/ajax/libs/require.js/2.3.6/require.min.js\");\r\n",
       "                script.onload = function(){\r\n",
       "                    renderPlotly_630aaa4a1cd046e3939b12cd12a1fb57();\r\n",
       "                };\r\n",
       "                document.getElementsByTagName(\"head\")[0].appendChild(script);\r\n",
       "            }\r\n",
       "            else {\r\n",
       "                renderPlotly_630aaa4a1cd046e3939b12cd12a1fb57();\r\n",
       "            }\r\n",
       "</script>\r\n",
       "\r\n",
       "    \r\n",
       "</div    \r\n"
      ]
     },
     "metadata": {},
     "output_type": "display_data"
    }
   ],
   "source": [
    "let search = \"Eduardo Bolsonaro\"\n",
    "let deputado = GetExpenses search 2022 \n",
    "deputado\n",
    "|> expenseChart\n",
    "|> Chart.withTitle $\"Despesas por fornecedor - {search} - 2022\""
   ]
  },
  {
   "cell_type": "code",
   "execution_count": 42,
   "metadata": {
    "dotnet_interactive": {
     "language": "fsharp"
    },
    "vscode": {
     "languageId": "dotnet-interactive.fsharp"
    }
   },
   "outputs": [
    {
     "ename": "Error",
     "evalue": "input.fsx (2,12)-(2,19) typecheck error Type mismatch. Expecting a\n    'FSI_0043.Deputy -> Plotly.NET.GenericChart.GenericChart'    \nbut given a\n    'FSI_0063.Deputy -> Plotly.NET.GenericChart.GenericChart'    \nThe type 'FSI_0043.Deputy' does not match the type 'FSI_0063.Deputy'",
     "output_type": "error",
     "traceback": [
      "input.fsx (2,12)-(2,19) typecheck error Type mismatch. Expecting a\n",
      "    'FSI_0043.Deputy -> Plotly.NET.GenericChart.GenericChart'    \n",
      "but given a\n",
      "    'FSI_0063.Deputy -> Plotly.NET.GenericChart.GenericChart'    \n",
      "The type 'FSI_0043.Deputy' does not match the type 'FSI_0063.Deputy'"
     ]
    }
   ],
   "source": [
    "seq { yield deputado }\n",
    "|> Seq.map scatter\n",
    "|> Chart.combine"
   ]
  },
  {
   "cell_type": "code",
   "execution_count": 43,
   "metadata": {
    "dotnet_interactive": {
     "language": "fsharp"
    },
    "vscode": {
     "languageId": "dotnet-interactive.fsharp"
    }
   },
   "outputs": [
    {
     "data": {
      "text/html": [
       "<img src=\"https://www.camara.leg.br/internet/deputado/bandep/92346.jpg\"></img>"
      ]
     },
     "metadata": {},
     "output_type": "display_data"
    }
   ],
   "source": [
    "HTML($\"<img src=\\\"{deputado.picture}\\\"></img>\")"
   ]
  }
 ],
 "metadata": {
  "kernelspec": {
   "display_name": ".NET (C#)",
   "language": "C#",
   "name": ".net-csharp"
  },
  "language_info": {
   "file_extension": ".cs",
   "mimetype": "text/x-csharp",
   "name": "C#",
   "pygments_lexer": "csharp",
   "version": "9.0"
  },
  "orig_nbformat": 4
 },
 "nbformat": 4,
 "nbformat_minor": 2
}
