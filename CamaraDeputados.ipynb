{
 "cells": [
  {
   "cell_type": "code",
   "execution_count": 23,
   "metadata": {
    "dotnet_interactive": {
     "language": "fsharp"
    },
    "vscode": {
     "languageId": "dotnet-interactive.fsharp"
    }
   },
   "outputs": [
    {
     "data": {
      "text/html": [
       "<div><div></div><div></div><div><strong>Installed Packages</strong><ul><li><span>GraphQL.Client, 5.1.0</span></li><li><span>GraphQL.Client.Serializer.Newtonsoft, 5.1.0</span></li><li><span>Plotly.NET.ImageExport, 3.0.1</span></li><li><span>Plotly.NET.Interactive, 3.0.2</span></li></ul></div></div>"
      ]
     },
     "metadata": {},
     "output_type": "display_data"
    }
   ],
   "source": [
    "#r \"nuget: GraphQL.Client\"\n",
    "#r \"nuget: GraphQL.Client.Serializer.Newtonsoft\"\n",
    "#r \"nuget: Plotly.NET.Interactive\"\n",
    "#r \"nuget: Plotly.NET.ImageExport\"\n",
    "\n",
    "open GraphQL\n",
    "open GraphQL.Client.Http\n",
    "open GraphQL.Client.Serializer.Newtonsoft\n",
    "open System\n",
    "open Plotly.NET\n",
    "open Plotly.NET.ImageExport\n",
    "\n",
    "let baseUrl = \"https://camaradosdeputadosgql-qboe6n5gda-uc.a.run.app/graphql\"\n",
    "//let baseUrl = \"http://localhost:5078/graphql\"\n",
    "let graphQLClient = new GraphQLHttpClient(baseUrl, new NewtonsoftJsonSerializer());\n",
    "\n",
    "let deputyRequest party state year month = new GraphQLRequest (\n",
    "    $\"\"\"\n",
    "    query {{\n",
    "        deputies (party: \"{party}\" state: \"{state}\") {{\n",
    "            name\n",
    "            party\n",
    "            picture\n",
    "            expenses (year: \"{year}\" month: \"{month}\") {{\n",
    "                netValue\n",
    "                documentDate\n",
    "            }}\n",
    "        }}\n",
    "    }}\n",
    "    \"\"\"\n",
    ")\n",
    "\n",
    "let expenseRequest name year = new GraphQLRequest (\n",
    "    $\"\"\"\n",
    "    query {{\n",
    "        deputies (name: \"{name}\") {{\n",
    "            name\n",
    "            party\n",
    "            state\n",
    "            picture\n",
    "            expenses (year: \"{year}\") {{\n",
    "                netValue\n",
    "                documentDate\n",
    "                supplierCnpjOrCpf\n",
    "                expenseType\n",
    "                supplierName\n",
    "            }}\n",
    "        }}\n",
    "    }}\n",
    "    \"\"\"\n",
    ")\n",
    "\n",
    "type DeputyResponse = {\n",
    "    deputies: Deputy list\n",
    "} \n",
    "and Deputy = {\n",
    "    name: string\n",
    "    party: string\n",
    "    picture: string\n",
    "    expenses: Expense[]\n",
    "}\n",
    "and Expense = {\n",
    "    netValue: decimal\n",
    "    expenseType: string\n",
    "    supplierName: string\n",
    "    documentDate: Nullable<DateTime>\n",
    "}\n",
    "\n",
    "let GetDeputies party state year month =\n",
    "    let response =\n",
    "        graphQLClient.SendQueryAsync<DeputyResponse>(deputyRequest party state year month)\n",
    "        |> Async.AwaitTask\n",
    "        |> Async.RunSynchronously\n",
    "    response.Data.deputies\n",
    "\n",
    "let GetExpenses deputy year = \n",
    "    let response = \n",
    "        graphQLClient.SendQueryAsync<DeputyResponse>(expenseRequest deputy year)\n",
    "        |> Async.AwaitTask\n",
    "        |> Async.RunSynchronously\n",
    "    response.Data.deputies |> Seq.head\n",
    "\n",
    "let stackedArea(deputy:Deputy) =\n",
    "    deputy.expenses\n",
    "    |> Seq.groupBy(fun it -> it.expenseType)\n",
    "    |> Seq.map( fun (supplier, expenses) ->\n",
    "        let dates, values =\n",
    "            expenses\n",
    "            |> Seq.filter(fun it -> it.documentDate.HasValue)\n",
    "            |> Seq.sortBy(fun it -> it.documentDate.Value)\n",
    "            |> Seq.map(fun it -> it.documentDate.Value, it.netValue)\n",
    "            |> Seq.toArray\n",
    "            |> Array.unzip\n",
    "        Chart.Point(dates, values, Name = supplier)\n",
    "        \n",
    "    )\n",
    "    |> Chart.combine\n",
    "\n",
    "let scatter (deputy:Deputy) =\n",
    "    let dates, values =\n",
    "        if deputy.expenses <> null then\n",
    "            deputy.expenses\n",
    "            |> Array.filter(fun expense -> expense.documentDate.HasValue)\n",
    "            |> Array.sortBy(fun expense -> expense.documentDate.Value)\n",
    "            |> Array.map (fun expense -> expense.documentDate.Value, expense.netValue)\n",
    "            |> Array.unzip\n",
    "        else\n",
    "            [||],[||]\n",
    "    Chart.Line(dates, values)\n",
    "    |> Chart.withLegendStyle(Orientation = StyleParam.Orientation.Horizontal)\n",
    "    |> Chart.withTraceInfo deputy.name\n",
    "\n",
    "let expenseChart (deputy:Deputy) =\n",
    "    let labels, values =\n",
    "        deputy.expenses\n",
    "        |> Seq.groupBy(fun expense -> expense.expenseType)\n",
    "        |> Seq.map (fun (name, expenses) ->\n",
    "            let total =\n",
    "                expenses\n",
    "                |> Seq.sumBy ( fun expense -> expense.netValue )\n",
    "            name, total\n",
    "        )\n",
    "        |> Seq.toList\n",
    "        |> List.unzip\n",
    "    Chart.Pie(Labels=labels, values=values)\n",
    "    "
   ]
  },
  {
   "cell_type": "code",
   "execution_count": 89,
   "metadata": {
    "dotnet_interactive": {
     "language": "fsharp"
    },
    "vscode": {
     "languageId": "dotnet-interactive.fsharp"
    }
   },
   "outputs": [],
   "source": [
    "let deputado:Deputy = GetExpenses \"Luiza Erundina\" 2021"
   ]
  },
  {
   "cell_type": "code",
   "execution_count": 90,
   "metadata": {
    "dotnet_interactive": {
     "language": "fsharp"
    },
    "vscode": {
     "languageId": "dotnet-interactive.fsharp"
    }
   },
   "outputs": [
    {
     "data": {
      "text/html": [
       "\n",
       "<div>\n",
       "    <div id=\"152436af-90bd-4a4f-9320-66506a2145ed\"><!-- Plotly chart will be drawn inside this DIV --></div>\r\n",
       "<script type=\"text/javascript\">\r\n",
       "\r\n",
       "            var renderPlotly_152436af90bd4a4f932066506a2145ed = function() {\r\n",
       "            var fsharpPlotlyRequire = requirejs.config({context:'fsharp-plotly',paths:{plotly:'https://cdn.plot.ly/plotly-2.6.3.min'}}) || require;\r\n",
       "            fsharpPlotlyRequire(['plotly'], function(Plotly) {\r\n",
       "\r\n",
       "            var data = [{\"type\":\"scatter\",\"name\":\"MANUTENÇÃO DE ESCRITÓRIO DE APOIO À ATIVIDADE PARLAMENTAR\",\"mode\":\"markers\",\"x\":[\"2021-01-01T00:00:00Z\",\"2021-01-21T00:00:00Z\",\"2021-01-26T00:00:00Z\",\"2021-02-01T00:00:00Z\",\"2021-02-08T00:00:00Z\",\"2021-02-09T00:00:00Z\",\"2021-02-16T00:00:00Z\",\"2021-02-20T00:00:00Z\",\"2021-02-23T00:00:00Z\",\"2021-02-24T00:00:00Z\",\"2021-02-25T00:00:00Z\",\"2021-03-01T00:00:00Z\",\"2021-03-10T00:00:00Z\",\"2021-03-11T00:00:00Z\",\"2021-03-17T00:00:00Z\",\"2021-03-25T00:00:00Z\",\"2021-03-25T00:00:00Z\",\"2021-04-01T00:00:00Z\",\"2021-04-10T00:00:00Z\",\"2021-04-16T00:00:00Z\",\"2021-04-23T00:00:00Z\",\"2021-04-26T00:00:00Z\",\"2021-05-01T00:00:00Z\",\"2021-05-11T00:00:00Z\",\"2021-05-11T00:00:00Z\",\"2021-05-21T00:00:00Z\",\"2021-05-26T00:00:00Z\",\"2021-06-01T00:00:00Z\",\"2021-06-10T00:00:00Z\",\"2021-06-14T00:00:00Z\",\"2021-06-26T00:00:00Z\",\"2021-07-01T00:00:00Z\",\"2021-07-02T00:00:00Z\",\"2021-07-05T00:00:00Z\",\"2021-07-10T00:00:00Z\",\"2021-07-15T00:00:00Z\",\"2021-07-21T00:00:00Z\",\"2021-07-27T00:00:00Z\",\"2021-07-30T00:00:00Z\",\"2021-07-30T00:00:00Z\",\"2021-08-01T00:00:00Z\",\"2021-08-03T00:00:00Z\",\"2021-08-10T00:00:00Z\",\"2021-08-10T00:00:00Z\",\"2021-08-19T00:00:00Z\",\"2021-09-01T00:00:00Z\",\"2021-09-02T00:00:00Z\",\"2021-09-10T00:00:00Z\",\"2021-09-15T00:00:00Z\",\"2021-09-16T00:00:00Z\",\"2021-09-29T00:00:00Z\",\"2021-09-30T00:00:00Z\",\"2021-10-01T00:00:00Z\",\"2021-10-01T00:00:00Z\",\"2021-10-22T00:00:00Z\",\"2021-10-22T00:00:00Z\",\"2021-11-01T00:00:00Z\",\"2021-11-01T00:00:00Z\",\"2021-11-10T00:00:00Z\",\"2021-11-18T00:00:00Z\",\"2021-11-18T00:00:00Z\",\"2021-11-19T00:00:00Z\",\"2021-11-22T00:00:00Z\",\"2021-12-01T00:00:00Z\",\"2021-12-02T00:00:00Z\",\"2021-12-03T00:00:00Z\",\"2021-12-10T00:00:00Z\",\"2021-12-10T00:00:00Z\",\"2021-12-18T00:00:00Z\",\"2022-01-03T00:00:00Z\",\"2022-01-10T00:00:00Z\"],\"y\":[490.0,3845.0,55.3,490.0,229.0,109.27,1137.72,183.96,299.45,72.84,4136.54,490.0,303.9,109.27,183.96,57.37,5285.96,490.0,109.27,183.96,5285.96,49.98,490.0,31.0,109.77,183.96,51.73,490.0,117.06,5307.16,50.7,500.0,5307.12,178.96,117.06,160.73,178.96,99.51,715.6,279.6,500.0,5307.12,74.37,117.06,178.96,500.0,5307.12,117.06,195.73,178.96,617.0,117.06,500.0,5307.12,178.96,55.57,500.0,5307.12,121.11,37.8,61.9,183.81,108.34,500.0,5307.12,339.8,29.45,117.06,183.81,5015.58,31.08],\"marker\":{},\"line\":{}},{\"type\":\"scatter\",\"name\":\"COMBUSTÍVEIS E LUBRIFICANTES.\",\"mode\":\"markers\",\"x\":[\"2021-01-06T00:00:00Z\",\"2021-01-20T00:00:00Z\",\"2021-01-20T00:00:00Z\",\"2021-01-20T00:00:00Z\",\"2021-01-22T00:00:00Z\",\"2021-01-29T00:00:00Z\",\"2021-01-30T00:00:00Z\",\"2021-02-01T00:00:00Z\",\"2021-02-03T00:00:00Z\",\"2021-02-04T00:00:00Z\",\"2021-02-04T00:00:00Z\",\"2021-02-09T00:00:00Z\",\"2021-02-10T00:00:00Z\",\"2021-02-26T00:00:00Z\",\"2021-03-08T00:00:00Z\",\"2021-03-08T00:00:00Z\",\"2021-04-06T00:00:00Z\",\"2021-04-10T00:00:00Z\",\"2021-05-01T00:00:00Z\",\"2021-05-07T00:00:00Z\",\"2021-05-21T00:00:00Z\",\"2021-06-09T00:00:00Z\",\"2021-06-09T00:00:00Z\",\"2021-06-23T00:00:00Z\",\"2021-07-11T00:00:00Z\",\"2021-07-19T00:00:00Z\",\"2021-07-28T00:00:00Z\",\"2021-08-11T00:00:00Z\",\"2021-08-13T00:00:00Z\",\"2021-08-27T00:00:00Z\",\"2021-09-10T00:00:00Z\",\"2021-09-10T00:00:00Z\",\"2021-10-08T00:00:00Z\",\"2021-10-14T00:00:00Z\",\"2021-10-28T00:00:00Z\",\"2021-11-04T00:00:00Z\",\"2021-11-15T00:00:00Z\",\"2021-11-29T00:00:00Z\",\"2021-12-02T00:00:00Z\",\"2021-12-13T00:00:00Z\"],\"y\":[198.16,207.24,92.02,128.06,143.83,215.23,121.04,401.01,80.01,140.03,125.89,145.0,218.9,214.06,346.89,303.67,629.13,193.0,246.69,223.03,251.37,241.58,807.57,245.09,248.65,913.41,244.13,924.13,258.54,283.23,272.76,1045.01,1280.38,288.0,291.02,1501.41,293.03,312.22,1239.19,289.32],\"marker\":{},\"line\":{}},{\"type\":\"scatter\",\"name\":\"DIVULGAÇÃO DA ATIVIDADE PARLAMENTAR.\",\"mode\":\"markers\",\"x\":[\"2020-12-18T00:00:00Z\",\"2021-01-18T00:00:00Z\",\"2021-02-14T00:00:00Z\",\"2021-03-12T00:00:00Z\",\"2021-03-12T00:00:00Z\",\"2021-03-17T00:00:00Z\",\"2021-04-01T00:00:00Z\",\"2021-04-17T00:00:00Z\",\"2021-05-03T00:00:00Z\",\"2021-05-18T00:00:00Z\",\"2021-06-01T00:00:00Z\",\"2021-06-17T00:00:00Z\",\"2021-06-22T00:00:00Z\",\"2021-07-01T00:00:00Z\",\"2021-08-02T00:00:00Z\",\"2021-08-02T00:00:00Z\",\"2021-08-02T00:00:00Z\",\"2021-09-01T00:00:00Z\",\"2021-10-01T00:00:00Z\",\"2021-10-04T00:00:00Z\",\"2021-10-04T00:00:00Z\",\"2021-11-01T00:00:00Z\",\"2021-11-01T00:00:00Z\",\"2021-11-05T00:00:00Z\",\"2021-12-01T00:00:00Z\",\"2021-12-03T00:00:00Z\",\"2021-12-03T00:00:00Z\",\"2022-01-03T00:00:00Z\"],\"y\":[215.59,215.59,215.59,1270.0,3280.0,175.0,3280.0,175.0,3280.0,227.84,3280.0,233.53,3800.0,3280.0,46.28,187.25,3280.0,3280.0,3280.0,46.28,187.25,46.28,187.25,4920.0,4920.0,187.25,46.28,3280.0],\"marker\":{},\"line\":{}},{\"type\":\"scatter\",\"name\":\"TELEFONIA\",\"mode\":\"markers\",\"x\":[\"2021-01-03T00:00:00Z\",\"2021-01-04T00:00:00Z\",\"2021-01-04T00:00:00Z\",\"2021-01-13T00:00:00Z\",\"2021-01-13T00:00:00Z\",\"2021-01-13T00:00:00Z\",\"2021-02-03T00:00:00Z\",\"2021-02-04T00:00:00Z\",\"2021-02-04T00:00:00Z\",\"2021-02-10T00:00:00Z\",\"2021-02-10T00:00:00Z\",\"2021-02-10T00:00:00Z\",\"2021-03-03T00:00:00Z\",\"2021-03-03T00:00:00Z\",\"2021-03-03T00:00:00Z\",\"2021-03-12T00:00:00Z\",\"2021-03-12T00:00:00Z\",\"2021-03-12T00:00:00Z\",\"2021-03-24T00:00:00Z\",\"2021-04-03T00:00:00Z\",\"2021-04-03T00:00:00Z\",\"2021-04-13T00:00:00Z\",\"2021-04-13T00:00:00Z\",\"2021-04-13T00:00:00Z\",\"2021-04-23T00:00:00Z\",\"2021-04-24T00:00:00Z\",\"2021-05-06T00:00:00Z\",\"2021-05-06T00:00:00Z\",\"2021-05-12T00:00:00Z\",\"2021-05-12T00:00:00Z\",\"2021-05-12T00:00:00Z\",\"2021-05-23T00:00:00Z\",\"2021-05-24T00:00:00Z\",\"2021-06-03T00:00:00Z\",\"2021-06-03T00:00:00Z\",\"2021-06-13T00:00:00Z\",\"2021-06-15T00:00:00Z\",\"2021-06-15T00:00:00Z\",\"2021-06-23T00:00:00Z\",\"2021-06-24T00:00:00Z\",\"2021-07-06T00:00:00Z\",\"2021-07-06T00:00:00Z\",\"2021-07-13T00:00:00Z\",\"2021-07-13T00:00:00Z\",\"2021-07-13T00:00:00Z\",\"2021-07-23T00:00:00Z\",\"2021-07-24T00:00:00Z\",\"2021-08-05T00:00:00Z\",\"2021-08-05T00:00:00Z\",\"2021-08-12T00:00:00Z\",\"2021-08-12T00:00:00Z\",\"2021-08-12T00:00:00Z\",\"2021-08-23T00:00:00Z\",\"2021-08-24T00:00:00Z\",\"2021-09-06T00:00:00Z\",\"2021-09-06T00:00:00Z\",\"2021-09-13T00:00:00Z\",\"2021-09-13T00:00:00Z\",\"2021-09-13T00:00:00Z\",\"2021-09-23T00:00:00Z\",\"2021-09-24T00:00:00Z\",\"2021-10-05T00:00:00Z\",\"2021-10-05T00:00:00Z\",\"2021-10-13T00:00:00Z\",\"2021-10-13T00:00:00Z\",\"2021-10-13T00:00:00Z\",\"2021-10-23T00:00:00Z\",\"2021-10-24T00:00:00Z\",\"2021-11-06T00:00:00Z\",\"2021-11-06T00:00:00Z\",\"2021-11-11T00:00:00Z\",\"2021-11-11T00:00:00Z\",\"2021-11-11T00:00:00Z\",\"2021-11-23T00:00:00Z\",\"2021-11-24T00:00:00Z\",\"2021-12-06T00:00:00Z\",\"2021-12-06T00:00:00Z\",\"2021-12-13T00:00:00Z\",\"2021-12-13T00:00:00Z\",\"2021-12-13T00:00:00Z\",\"2021-12-23T00:00:00Z\",\"2021-12-24T00:00:00Z\"],\"y\":[256.48,529.99,555.65,79.44,51.35,348.11,273.7,628.19,550.75,52.57,21.58,1196.59,529.99,278.15,551.49,98.41,47.8,1210.14,20.93,529.99,555.94,19.67,21.9,1139.4,541.11,20.93,529.99,545.56,23.73,1133.67,18.33,472.39,20.93,529.99,529.99,1133.67,31.22,23.73,492.47,20.93,529.99,529.99,23.73,18.33,1139.67,293.87,20.93,529.99,538.7,66.59,98.9,1157.24,374.56,20.93,529.99,541.71,1283.15,86.58,115.92,366.21,20.93,550.17,543.97,125.01,30.47,1195.64,389.48,20.93,549.98,549.98,70.14,45.15,1264.38,411.99,20.93,549.98,552.79,50.1,31.68,1246.86,409.88,20.93],\"marker\":{},\"line\":{}},{\"type\":\"scatter\",\"name\":\"SERVIÇOS POSTAIS\",\"mode\":\"markers\",\"x\":[\"2021-01-29T00:00:00Z\",\"2021-01-29T00:00:00Z\",\"2021-01-29T00:00:00Z\",\"2021-01-29T00:00:00Z\",\"2021-01-29T00:00:00Z\",\"2021-02-09T00:00:00Z\",\"2021-03-09T00:00:00Z\",\"2021-03-09T00:00:00Z\",\"2021-04-13T00:00:00Z\",\"2021-05-04T00:00:00Z\",\"2021-05-04T00:00:00Z\",\"2021-05-04T00:00:00Z\",\"2021-05-04T00:00:00Z\",\"2021-05-04T00:00:00Z\",\"2021-05-04T00:00:00Z\",\"2021-05-04T00:00:00Z\",\"2021-05-04T00:00:00Z\",\"2021-05-04T00:00:00Z\",\"2021-05-04T00:00:00Z\",\"2021-05-04T00:00:00Z\",\"2021-05-13T00:00:00Z\",\"2021-06-23T00:00:00Z\",\"2021-07-22T00:00:00Z\",\"2021-08-03T00:00:00Z\",\"2021-09-09T00:00:00Z\",\"2021-09-09T00:00:00Z\",\"2021-10-13T00:00:00Z\",\"2021-10-13T00:00:00Z\",\"2021-10-19T00:00:00Z\",\"2021-10-25T00:00:00Z\",\"2021-10-28T00:00:00Z\",\"2021-11-17T00:00:00Z\",\"2021-11-17T00:00:00Z\",\"2021-11-17T00:00:00Z\",\"2021-12-16T00:00:00Z\",\"2021-12-16T00:00:00Z\",\"2021-12-17T00:00:00Z\",\"2021-12-28T00:00:00Z\"],\"y\":[40.79,49.8,24.73,24.73,49.8,40.96,199.2,49.44,99.6,49.8,56.5,99.6,149.8,49.8,49.8,33.24,59.33,73.78,34.61,49.8,40.96,45.24,396.68,42.4,149.4,33.24,190.14,90.01,37.51,42.4,21.36,90.54,45.24,127.23,33.24,99.6,49.8,24.72],\"marker\":{},\"line\":{}},{\"type\":\"scatter\",\"name\":\"ASSINATURA DE PUBLICAÇÕES\",\"mode\":\"markers\",\"x\":[\"2021-06-22T00:00:00Z\",\"2021-07-12T00:00:00Z\"],\"y\":[1147.53,358.8],\"marker\":{},\"line\":{}},{\"type\":\"scatter\",\"name\":\"HOSPEDAGEM ,EXCETO DO PARLAMENTAR NO DISTRITO FEDERAL.\",\"mode\":\"markers\",\"x\":[\"2021-02-04T00:00:00Z\",\"2021-11-08T00:00:00Z\"],\"y\":[2970.0,278.31],\"marker\":{},\"line\":{}},{\"type\":\"scatter\",\"name\":\"LOCAÇÃO OU FRETAMENTO DE VEÍCULOS AUTOMOTORES\",\"mode\":\"markers\",\"x\":[\"2021-03-31T00:00:00Z\",\"2021-04-30T00:00:00Z\",\"2021-05-30T00:00:00Z\",\"2021-06-29T00:00:00Z\",\"2021-07-29T00:00:00Z\",\"2021-08-30T00:00:00Z\",\"2021-09-27T00:00:00Z\",\"2021-10-27T00:00:00Z\",\"2021-11-26T00:00:00Z\",\"2021-12-26T00:00:00Z\"],\"y\":[2199.79,2199.79,2199.79,2199.79,2199.79,2199.79,2199.79,2199.79,2199.79,2199.79],\"marker\":{},\"line\":{}},{\"type\":\"scatter\",\"name\":\"SERVIÇO DE TÁXI, PEDÁGIO E ESTACIONAMENTO\",\"mode\":\"markers\",\"x\":[\"2021-01-22T00:00:00Z\",\"2021-02-02T00:00:00Z\",\"2021-02-21T00:00:00Z\",\"2021-03-04T00:00:00Z\",\"2021-03-22T00:00:00Z\",\"2021-04-23T00:00:00Z\",\"2021-05-23T00:00:00Z\",\"2021-06-09T00:00:00Z\",\"2021-06-23T00:00:00Z\",\"2021-07-23T00:00:00Z\",\"2021-08-23T00:00:00Z\",\"2021-09-23T00:00:00Z\",\"2021-10-05T00:00:00Z\",\"2021-10-23T00:00:00Z\",\"2021-11-08T00:00:00Z\",\"2021-11-23T00:00:00Z\",\"2021-12-23T00:00:00Z\"],\"y\":[48.59,231.7,65.67,135.1,65.67,65.67,58.16,70.0,65.07,65.07,57.26,73.08,133.0,65.27,478.1,184.05,33.91],\"marker\":{},\"line\":{}},{\"type\":\"scatter\",\"name\":\"PASSAGEM AÉREA - SIGEPA\",\"mode\":\"markers\",\"x\":[\"2021-11-03T00:00:00Z\",\"2021-11-03T00:00:00Z\",\"2021-12-10T00:00:00Z\",\"2021-12-10T00:00:00Z\"],\"y\":[1521.03,1807.39,1172.96,1370.89],\"marker\":{},\"line\":{}}];\r\n",
       "            var layout = {\"width\":1200,\"height\":800,\"template\":{\"layout\":{\"title\":{\"x\":0.05},\"font\":{\"color\":\"rgba(42, 63, 95, 1.0)\"},\"paper_bgcolor\":\"rgba(255, 255, 255, 1.0)\",\"plot_bgcolor\":\"rgba(229, 236, 246, 1.0)\",\"autotypenumbers\":\"strict\",\"colorscale\":{\"diverging\":[[0.0,\"#8e0152\"],[0.1,\"#c51b7d\"],[0.2,\"#de77ae\"],[0.3,\"#f1b6da\"],[0.4,\"#fde0ef\"],[0.5,\"#f7f7f7\"],[0.6,\"#e6f5d0\"],[0.7,\"#b8e186\"],[0.8,\"#7fbc41\"],[0.9,\"#4d9221\"],[1.0,\"#276419\"]],\"sequential\":[[0.0,\"#0d0887\"],[0.1111111111111111,\"#46039f\"],[0.2222222222222222,\"#7201a8\"],[0.3333333333333333,\"#9c179e\"],[0.4444444444444444,\"#bd3786\"],[0.5555555555555556,\"#d8576b\"],[0.6666666666666666,\"#ed7953\"],[0.7777777777777778,\"#fb9f3a\"],[0.8888888888888888,\"#fdca26\"],[1.0,\"#f0f921\"]],\"sequentialminus\":[[0.0,\"#0d0887\"],[0.1111111111111111,\"#46039f\"],[0.2222222222222222,\"#7201a8\"],[0.3333333333333333,\"#9c179e\"],[0.4444444444444444,\"#bd3786\"],[0.5555555555555556,\"#d8576b\"],[0.6666666666666666,\"#ed7953\"],[0.7777777777777778,\"#fb9f3a\"],[0.8888888888888888,\"#fdca26\"],[1.0,\"#f0f921\"]]},\"hovermode\":\"closest\",\"hoverlabel\":{\"align\":\"left\"},\"coloraxis\":{\"colorbar\":{\"outlinewidth\":0.0,\"ticks\":\"\"}},\"geo\":{\"showland\":true,\"landcolor\":\"rgba(229, 236, 246, 1.0)\",\"showlakes\":true,\"lakecolor\":\"rgba(255, 255, 255, 1.0)\",\"subunitcolor\":\"rgba(255, 255, 255, 1.0)\",\"bgcolor\":\"rgba(255, 255, 255, 1.0)\"},\"mapbox\":{\"style\":\"light\"},\"polar\":{\"bgcolor\":\"rgba(229, 236, 246, 1.0)\",\"radialaxis\":{\"linecolor\":\"rgba(255, 255, 255, 1.0)\",\"gridcolor\":\"rgba(255, 255, 255, 1.0)\",\"ticks\":\"\"},\"angularaxis\":{\"linecolor\":\"rgba(255, 255, 255, 1.0)\",\"gridcolor\":\"rgba(255, 255, 255, 1.0)\",\"ticks\":\"\"}},\"scene\":{\"xaxis\":{\"ticks\":\"\",\"linecolor\":\"rgba(255, 255, 255, 1.0)\",\"gridcolor\":\"rgba(255, 255, 255, 1.0)\",\"gridwidth\":2.0,\"zerolinecolor\":\"rgba(255, 255, 255, 1.0)\",\"backgroundcolor\":\"rgba(229, 236, 246, 1.0)\",\"showbackground\":true},\"yaxis\":{\"ticks\":\"\",\"linecolor\":\"rgba(255, 255, 255, 1.0)\",\"gridcolor\":\"rgba(255, 255, 255, 1.0)\",\"gridwidth\":2.0,\"zerolinecolor\":\"rgba(255, 255, 255, 1.0)\",\"backgroundcolor\":\"rgba(229, 236, 246, 1.0)\",\"showbackground\":true},\"zaxis\":{\"ticks\":\"\",\"linecolor\":\"rgba(255, 255, 255, 1.0)\",\"gridcolor\":\"rgba(255, 255, 255, 1.0)\",\"gridwidth\":2.0,\"zerolinecolor\":\"rgba(255, 255, 255, 1.0)\",\"backgroundcolor\":\"rgba(229, 236, 246, 1.0)\",\"showbackground\":true}},\"ternary\":{\"aaxis\":{\"ticks\":\"\",\"linecolor\":\"rgba(255, 255, 255, 1.0)\",\"gridcolor\":\"rgba(255, 255, 255, 1.0)\"},\"baxis\":{\"ticks\":\"\",\"linecolor\":\"rgba(255, 255, 255, 1.0)\",\"gridcolor\":\"rgba(255, 255, 255, 1.0)\"},\"caxis\":{\"ticks\":\"\",\"linecolor\":\"rgba(255, 255, 255, 1.0)\",\"gridcolor\":\"rgba(255, 255, 255, 1.0)\"},\"bgcolor\":\"rgba(229, 236, 246, 1.0)\"},\"xaxis\":{\"title\":{\"standoff\":15},\"ticks\":\"\",\"automargin\":true,\"linecolor\":\"rgba(255, 255, 255, 1.0)\",\"gridcolor\":\"rgba(255, 255, 255, 1.0)\",\"zerolinecolor\":\"rgba(255, 255, 255, 1.0)\",\"zerolinewidth\":2.0},\"yaxis\":{\"title\":{\"standoff\":15},\"ticks\":\"\",\"automargin\":true,\"linecolor\":\"rgba(255, 255, 255, 1.0)\",\"gridcolor\":\"rgba(255, 255, 255, 1.0)\",\"zerolinecolor\":\"rgba(255, 255, 255, 1.0)\",\"zerolinewidth\":2.0},\"annotationdefaults\":{\"arrowcolor\":\"#2a3f5f\",\"arrowhead\":0,\"arrowwidth\":1},\"shapedefaults\":{\"line\":{\"color\":\"rgba(42, 63, 95, 1.0)\"}},\"colorway\":[\"rgba(99, 110, 250, 1.0)\",\"rgba(239, 85, 59, 1.0)\",\"rgba(0, 204, 150, 1.0)\",\"rgba(171, 99, 250, 1.0)\",\"rgba(255, 161, 90, 1.0)\",\"rgba(25, 211, 243, 1.0)\",\"rgba(255, 102, 146, 1.0)\",\"rgba(182, 232, 128, 1.0)\",\"rgba(255, 151, 255, 1.0)\",\"rgba(254, 203, 82, 1.0)\"]},\"data\":{\"bar\":[{\"marker\":{\"line\":{\"color\":\"rgba(229, 236, 246, 1.0)\",\"width\":0.5},\"pattern\":{\"fillmode\":\"overlay\",\"size\":10,\"solidity\":0.2}},\"error_x\":{\"color\":\"rgba(42, 63, 95, 1.0)\"},\"error_y\":{\"color\":\"rgba(42, 63, 95, 1.0)\"}}],\"barpolar\":[{\"marker\":{\"line\":{\"color\":\"rgba(229, 236, 246, 1.0)\",\"width\":0.5},\"pattern\":{\"fillmode\":\"overlay\",\"size\":10,\"solidity\":0.2}}}],\"carpet\":[{\"aaxis\":{\"linecolor\":\"rgba(255, 255, 255, 1.0)\",\"gridcolor\":\"rgba(255, 255, 255, 1.0)\",\"endlinecolor\":\"rgba(42, 63, 95, 1.0)\",\"minorgridcolor\":\"rgba(255, 255, 255, 1.0)\",\"startlinecolor\":\"rgba(42, 63, 95, 1.0)\"},\"baxis\":{\"linecolor\":\"rgba(255, 255, 255, 1.0)\",\"gridcolor\":\"rgba(255, 255, 255, 1.0)\",\"endlinecolor\":\"rgba(42, 63, 95, 1.0)\",\"minorgridcolor\":\"rgba(255, 255, 255, 1.0)\",\"startlinecolor\":\"rgba(42, 63, 95, 1.0)\"}}],\"choropleth\":[{\"colorbar\":{\"outlinewidth\":0.0,\"ticks\":\"\"},\"colorscale\":[[0.0,\"#0d0887\"],[0.1111111111111111,\"#46039f\"],[0.2222222222222222,\"#7201a8\"],[0.3333333333333333,\"#9c179e\"],[0.4444444444444444,\"#bd3786\"],[0.5555555555555556,\"#d8576b\"],[0.6666666666666666,\"#ed7953\"],[0.7777777777777778,\"#fb9f3a\"],[0.8888888888888888,\"#fdca26\"],[1.0,\"#f0f921\"]]}],\"contour\":[{\"colorbar\":{\"outlinewidth\":0.0,\"ticks\":\"\"},\"colorscale\":[[0.0,\"#0d0887\"],[0.1111111111111111,\"#46039f\"],[0.2222222222222222,\"#7201a8\"],[0.3333333333333333,\"#9c179e\"],[0.4444444444444444,\"#bd3786\"],[0.5555555555555556,\"#d8576b\"],[0.6666666666666666,\"#ed7953\"],[0.7777777777777778,\"#fb9f3a\"],[0.8888888888888888,\"#fdca26\"],[1.0,\"#f0f921\"]]}],\"contourcarpet\":[{\"colorbar\":{\"outlinewidth\":0.0,\"ticks\":\"\"}}],\"heatmap\":[{\"colorbar\":{\"outlinewidth\":0.0,\"ticks\":\"\"},\"colorscale\":[[0.0,\"#0d0887\"],[0.1111111111111111,\"#46039f\"],[0.2222222222222222,\"#7201a8\"],[0.3333333333333333,\"#9c179e\"],[0.4444444444444444,\"#bd3786\"],[0.5555555555555556,\"#d8576b\"],[0.6666666666666666,\"#ed7953\"],[0.7777777777777778,\"#fb9f3a\"],[0.8888888888888888,\"#fdca26\"],[1.0,\"#f0f921\"]]}],\"heatmapgl\":[{\"colorbar\":{\"outlinewidth\":0.0,\"ticks\":\"\"},\"colorscale\":[[0.0,\"#0d0887\"],[0.1111111111111111,\"#46039f\"],[0.2222222222222222,\"#7201a8\"],[0.3333333333333333,\"#9c179e\"],[0.4444444444444444,\"#bd3786\"],[0.5555555555555556,\"#d8576b\"],[0.6666666666666666,\"#ed7953\"],[0.7777777777777778,\"#fb9f3a\"],[0.8888888888888888,\"#fdca26\"],[1.0,\"#f0f921\"]]}],\"histogram\":[{\"marker\":{\"pattern\":{\"fillmode\":\"overlay\",\"size\":10,\"solidity\":0.2}}}],\"histogram2d\":[{\"colorbar\":{\"outlinewidth\":0.0,\"ticks\":\"\"},\"colorscale\":[[0.0,\"#0d0887\"],[0.1111111111111111,\"#46039f\"],[0.2222222222222222,\"#7201a8\"],[0.3333333333333333,\"#9c179e\"],[0.4444444444444444,\"#bd3786\"],[0.5555555555555556,\"#d8576b\"],[0.6666666666666666,\"#ed7953\"],[0.7777777777777778,\"#fb9f3a\"],[0.8888888888888888,\"#fdca26\"],[1.0,\"#f0f921\"]]}],\"histogram2dcontour\":[{\"colorbar\":{\"outlinewidth\":0.0,\"ticks\":\"\"},\"colorscale\":[[0.0,\"#0d0887\"],[0.1111111111111111,\"#46039f\"],[0.2222222222222222,\"#7201a8\"],[0.3333333333333333,\"#9c179e\"],[0.4444444444444444,\"#bd3786\"],[0.5555555555555556,\"#d8576b\"],[0.6666666666666666,\"#ed7953\"],[0.7777777777777778,\"#fb9f3a\"],[0.8888888888888888,\"#fdca26\"],[1.0,\"#f0f921\"]]}],\"mesh3d\":[{\"colorbar\":{\"outlinewidth\":0.0,\"ticks\":\"\"}}],\"parcoords\":[{\"line\":{\"colorbar\":{\"outlinewidth\":0.0,\"ticks\":\"\"}}}],\"pie\":[{\"automargin\":true}],\"scatter\":[{\"marker\":{\"colorbar\":{\"outlinewidth\":0.0,\"ticks\":\"\"}}}],\"scatter3d\":[{\"marker\":{\"colorbar\":{\"outlinewidth\":0.0,\"ticks\":\"\"}},\"line\":{\"colorbar\":{\"outlinewidth\":0.0,\"ticks\":\"\"}}}],\"scattercarpet\":[{\"marker\":{\"colorbar\":{\"outlinewidth\":0.0,\"ticks\":\"\"}}}],\"scattergeo\":[{\"marker\":{\"colorbar\":{\"outlinewidth\":0.0,\"ticks\":\"\"}}}],\"scattergl\":[{\"marker\":{\"colorbar\":{\"outlinewidth\":0.0,\"ticks\":\"\"}}}],\"scattermapbox\":[{\"marker\":{\"colorbar\":{\"outlinewidth\":0.0,\"ticks\":\"\"}}}],\"scatterpolar\":[{\"marker\":{\"colorbar\":{\"outlinewidth\":0.0,\"ticks\":\"\"}}}],\"scatterpolargl\":[{\"marker\":{\"colorbar\":{\"outlinewidth\":0.0,\"ticks\":\"\"}}}],\"scatterternary\":[{\"marker\":{\"colorbar\":{\"outlinewidth\":0.0,\"ticks\":\"\"}}}],\"surface\":[{\"colorbar\":{\"outlinewidth\":0.0,\"ticks\":\"\"},\"colorscale\":[[0.0,\"#0d0887\"],[0.1111111111111111,\"#46039f\"],[0.2222222222222222,\"#7201a8\"],[0.3333333333333333,\"#9c179e\"],[0.4444444444444444,\"#bd3786\"],[0.5555555555555556,\"#d8576b\"],[0.6666666666666666,\"#ed7953\"],[0.7777777777777778,\"#fb9f3a\"],[0.8888888888888888,\"#fdca26\"],[1.0,\"#f0f921\"]]}],\"table\":[{\"cells\":{\"fill\":{\"color\":\"rgba(235, 240, 248, 1.0)\"},\"line\":{\"color\":\"rgba(255, 255, 255, 1.0)\"}},\"header\":{\"fill\":{\"color\":\"rgba(200, 212, 227, 1.0)\"},\"line\":{\"color\":\"rgba(255, 255, 255, 1.0)\"}}}]}},\"legend\":{\"orientation\":\"h\"}};\r\n",
       "            var config = {\"responsive\":true};\r\n",
       "            Plotly.newPlot('152436af-90bd-4a4f-9320-66506a2145ed', data, layout, config);\r\n",
       "});\r\n",
       "            };\r\n",
       "            if ((typeof(requirejs) !==  typeof(Function)) || (typeof(requirejs.config) !== typeof(Function))) {\r\n",
       "                var script = document.createElement(\"script\");\r\n",
       "                script.setAttribute(\"src\", \"https://cdnjs.cloudflare.com/ajax/libs/require.js/2.3.6/require.min.js\");\r\n",
       "                script.onload = function(){\r\n",
       "                    renderPlotly_152436af90bd4a4f932066506a2145ed();\r\n",
       "                };\r\n",
       "                document.getElementsByTagName(\"head\")[0].appendChild(script);\r\n",
       "            }\r\n",
       "            else {\r\n",
       "                renderPlotly_152436af90bd4a4f932066506a2145ed();\r\n",
       "            }\r\n",
       "</script>\r\n",
       "\n",
       "    \n",
       "</div>    \n"
      ]
     },
     "metadata": {},
     "output_type": "display_data"
    }
   ],
   "source": [
    "deputado\n",
    "|> stackedArea\n",
    "|> Chart.withLegendStyle(Orientation = StyleParam.Orientation.Horizontal)\n",
    "|>Chart.withLayoutStyle(Width = 1200, Height = 800)"
   ]
  },
  {
   "cell_type": "code",
   "execution_count": 91,
   "metadata": {
    "dotnet_interactive": {
     "language": "fsharp"
    },
    "vscode": {
     "languageId": "dotnet-interactive.fsharp"
    }
   },
   "outputs": [
    {
     "data": {
      "text/html": [
       "\n",
       "<div>\n",
       "    <div id=\"c5f73724-8363-43c0-be41-5ecda2e5e149\"><!-- Plotly chart will be drawn inside this DIV --></div>\r\n",
       "<script type=\"text/javascript\">\r\n",
       "\r\n",
       "            var renderPlotly_c5f73724836343c0be415ecda2e5e149 = function() {\r\n",
       "            var fsharpPlotlyRequire = requirejs.config({context:'fsharp-plotly',paths:{plotly:'https://cdn.plot.ly/plotly-2.6.3.min'}}) || require;\r\n",
       "            fsharpPlotlyRequire(['plotly'], function(Plotly) {\r\n",
       "\r\n",
       "            var data = [{\"type\":\"bar\",\"x\":[21.36,37.8,41.86,92.02,109.27,109.77,125.58,140.03,145.0,218.54,253.95,260.0,278.31,344.88,358.8,437.43,461.37,500.12,536.88,546.58,563.40,655.27,823.47,847.47,886.89,956.66,992.84,1047.9,1057.1,1112.91,1147.53,1172.96,1181.73,1267.22,1514.76,1587.32,1738.52,1930.89,2121.14,2199.79,2697.87,2970.0,2993.77,3800.0,3973.36,4699.31,5307.12,5368.82,5940.0,6560.0,6978.68,6988.94,10005.99,18553.46,19798.11,34070.0,36858.34],\"y\":[\"CORREIOS - TELEGRAMA COM CONFIRMAÇÃO\",\"CASA DO COLEGIAL LIVRARIA E PAPELARIA LTDA\",\"Claro S.A\",\"POSTO DO TREVO LTDA\",\"SABESP\",\"SABESP-COMPANHIA DE SANEAMENTO BÁSICO DO ESTADO DE SAO PAULO\",\"Claro S.A - Embratel\",\"CENTRO DE SERVS FRANGO ASSADO NORTE LT\",\"AUTO POSTO MARIA ESTELA LTDA\",\"SABESP-COMPANHIA DE SANEAMENTO BASICO DO ESTADO DE SAO PAULO\",\"RODOVIA COMERCIO DE COMBUSTÍVEIS E DERIVADOS LTDA\",\"LEMA LIVRARIA E PAPELARIA LTDA\",\"HOTELARIA ACCOR BRASIL S/A\",\"DISTRIBUIDORA BRASILIA DE VEICULOS S A\",\"EDITORA GLOBO S/A\",\"ENEL - Eletropaulo\",\"LOCAWEB SERVICOS DE INTERNET S/A\",\"AUTO POSTO CINCO ESTRELAS LTDA\",\"CLARO NXT TELECOMUNICAÇÕES S.A.\",\"CLARO NXT TELECOMUNICAÇÕES S.A. - NET\",\"CORREIOS - SEDEX CONVENCIONAL COM AR\",\"MICROSENS S/A\",\"SABESP-COMPANHIA DE SANEAMENTO BÁSICO DO ESTADO DE SÃO PAULO\",\"CENTRO DE GESTÃO DE MEIOS DE PGTO. LTDA. - SEM PARAR\",\"CASCOL COMBUSTIVEIS PARA VEICULOS LTDA\",\"Claro S.A - NET\",\"CORREIOS - SEDEX CONVENCIONAL\",\"COOPERATIVA DOS TAXISTAS AUT. DO DIST. FEDERAL\",\"Kalunga SA\",\"083 - MELHOR 04 - CASCOL COMBUSTIVEIS PARA VEICULOS LTDA\",\"Empresa Folha da Manhã S.A.\",\"GOL\",\"TELEFÔÑICA BRASIL S. A. VIVO\",\"CORREIOS - SEDEX 12\",\"Telefônica Brasil S.A. Vivo\",\"TELEFONICA BRASIL S.A. - VIVO\",\"Telefônica Brasil S.A. VIVO\",\"LOCAWEB SERVICOS DE INTERNET S.A.\",\"AUTO POSTO CASTANHEIRAS DERIVADOS DE PETROLEO LTDA\",\"LOCALIZA RENT A CAR SA\",\"LEPOK INFORMATICA E PAPELARIA LTDA\",\"H PLUS ADMINISTRAÇÃO E HOTELARIA LTDA - SCP VISION\",\"Telefônica Brasil S. A. VIVO/GVT\",\"DIEGO RIBEIRO JUSTINO 03644639108\",\"Telefônica Brasil S/A - VIVO\",\"TAM\",\"MIDIA IMOVEIS LTDA\",\"TELEFÔNICA BRASIL S. A. - VIVO\",\"ERÁQUITO TAVARES DA SILVA 12879604800\",\"REPIQUE PUBLICIDADE E MARKETING LTDA\",\"Telefônica Brasil S. A. VIVO\",\"TELEFÔNICA BRASIL S. A. VIVO\",\"AUTO POSTO MARINHEIRO LTDA\",\"Robotton & Associados Consultores Imobiliários Ltda.\",\"LOCALIZA RENT A CAR S/A\",\"REPIQUE PUBLICIDADE E MARKETING LTDA.\",\"Mídia Imóveis Ltda.\"],\"orientation\":\"h\",\"marker\":{\"pattern\":{}}}];\r\n",
       "            var layout = {\"width\":1200,\"height\":2000,\"template\":{\"layout\":{\"title\":{\"x\":0.05},\"font\":{\"color\":\"rgba(42, 63, 95, 1.0)\"},\"paper_bgcolor\":\"rgba(255, 255, 255, 1.0)\",\"plot_bgcolor\":\"rgba(229, 236, 246, 1.0)\",\"autotypenumbers\":\"strict\",\"colorscale\":{\"diverging\":[[0.0,\"#8e0152\"],[0.1,\"#c51b7d\"],[0.2,\"#de77ae\"],[0.3,\"#f1b6da\"],[0.4,\"#fde0ef\"],[0.5,\"#f7f7f7\"],[0.6,\"#e6f5d0\"],[0.7,\"#b8e186\"],[0.8,\"#7fbc41\"],[0.9,\"#4d9221\"],[1.0,\"#276419\"]],\"sequential\":[[0.0,\"#0d0887\"],[0.1111111111111111,\"#46039f\"],[0.2222222222222222,\"#7201a8\"],[0.3333333333333333,\"#9c179e\"],[0.4444444444444444,\"#bd3786\"],[0.5555555555555556,\"#d8576b\"],[0.6666666666666666,\"#ed7953\"],[0.7777777777777778,\"#fb9f3a\"],[0.8888888888888888,\"#fdca26\"],[1.0,\"#f0f921\"]],\"sequentialminus\":[[0.0,\"#0d0887\"],[0.1111111111111111,\"#46039f\"],[0.2222222222222222,\"#7201a8\"],[0.3333333333333333,\"#9c179e\"],[0.4444444444444444,\"#bd3786\"],[0.5555555555555556,\"#d8576b\"],[0.6666666666666666,\"#ed7953\"],[0.7777777777777778,\"#fb9f3a\"],[0.8888888888888888,\"#fdca26\"],[1.0,\"#f0f921\"]]},\"hovermode\":\"closest\",\"hoverlabel\":{\"align\":\"left\"},\"coloraxis\":{\"colorbar\":{\"outlinewidth\":0.0,\"ticks\":\"\"}},\"geo\":{\"showland\":true,\"landcolor\":\"rgba(229, 236, 246, 1.0)\",\"showlakes\":true,\"lakecolor\":\"rgba(255, 255, 255, 1.0)\",\"subunitcolor\":\"rgba(255, 255, 255, 1.0)\",\"bgcolor\":\"rgba(255, 255, 255, 1.0)\"},\"mapbox\":{\"style\":\"light\"},\"polar\":{\"bgcolor\":\"rgba(229, 236, 246, 1.0)\",\"radialaxis\":{\"linecolor\":\"rgba(255, 255, 255, 1.0)\",\"gridcolor\":\"rgba(255, 255, 255, 1.0)\",\"ticks\":\"\"},\"angularaxis\":{\"linecolor\":\"rgba(255, 255, 255, 1.0)\",\"gridcolor\":\"rgba(255, 255, 255, 1.0)\",\"ticks\":\"\"}},\"scene\":{\"xaxis\":{\"ticks\":\"\",\"linecolor\":\"rgba(255, 255, 255, 1.0)\",\"gridcolor\":\"rgba(255, 255, 255, 1.0)\",\"gridwidth\":2.0,\"zerolinecolor\":\"rgba(255, 255, 255, 1.0)\",\"backgroundcolor\":\"rgba(229, 236, 246, 1.0)\",\"showbackground\":true},\"yaxis\":{\"ticks\":\"\",\"linecolor\":\"rgba(255, 255, 255, 1.0)\",\"gridcolor\":\"rgba(255, 255, 255, 1.0)\",\"gridwidth\":2.0,\"zerolinecolor\":\"rgba(255, 255, 255, 1.0)\",\"backgroundcolor\":\"rgba(229, 236, 246, 1.0)\",\"showbackground\":true},\"zaxis\":{\"ticks\":\"\",\"linecolor\":\"rgba(255, 255, 255, 1.0)\",\"gridcolor\":\"rgba(255, 255, 255, 1.0)\",\"gridwidth\":2.0,\"zerolinecolor\":\"rgba(255, 255, 255, 1.0)\",\"backgroundcolor\":\"rgba(229, 236, 246, 1.0)\",\"showbackground\":true}},\"ternary\":{\"aaxis\":{\"ticks\":\"\",\"linecolor\":\"rgba(255, 255, 255, 1.0)\",\"gridcolor\":\"rgba(255, 255, 255, 1.0)\"},\"baxis\":{\"ticks\":\"\",\"linecolor\":\"rgba(255, 255, 255, 1.0)\",\"gridcolor\":\"rgba(255, 255, 255, 1.0)\"},\"caxis\":{\"ticks\":\"\",\"linecolor\":\"rgba(255, 255, 255, 1.0)\",\"gridcolor\":\"rgba(255, 255, 255, 1.0)\"},\"bgcolor\":\"rgba(229, 236, 246, 1.0)\"},\"xaxis\":{\"title\":{\"standoff\":15},\"ticks\":\"\",\"automargin\":true,\"linecolor\":\"rgba(255, 255, 255, 1.0)\",\"gridcolor\":\"rgba(255, 255, 255, 1.0)\",\"zerolinecolor\":\"rgba(255, 255, 255, 1.0)\",\"zerolinewidth\":2.0},\"yaxis\":{\"title\":{\"standoff\":15},\"ticks\":\"\",\"automargin\":true,\"linecolor\":\"rgba(255, 255, 255, 1.0)\",\"gridcolor\":\"rgba(255, 255, 255, 1.0)\",\"zerolinecolor\":\"rgba(255, 255, 255, 1.0)\",\"zerolinewidth\":2.0},\"annotationdefaults\":{\"arrowcolor\":\"#2a3f5f\",\"arrowhead\":0,\"arrowwidth\":1},\"shapedefaults\":{\"line\":{\"color\":\"rgba(42, 63, 95, 1.0)\"}},\"colorway\":[\"rgba(99, 110, 250, 1.0)\",\"rgba(239, 85, 59, 1.0)\",\"rgba(0, 204, 150, 1.0)\",\"rgba(171, 99, 250, 1.0)\",\"rgba(255, 161, 90, 1.0)\",\"rgba(25, 211, 243, 1.0)\",\"rgba(255, 102, 146, 1.0)\",\"rgba(182, 232, 128, 1.0)\",\"rgba(255, 151, 255, 1.0)\",\"rgba(254, 203, 82, 1.0)\"]},\"data\":{\"bar\":[{\"marker\":{\"line\":{\"color\":\"rgba(229, 236, 246, 1.0)\",\"width\":0.5},\"pattern\":{\"fillmode\":\"overlay\",\"size\":10,\"solidity\":0.2}},\"error_x\":{\"color\":\"rgba(42, 63, 95, 1.0)\"},\"error_y\":{\"color\":\"rgba(42, 63, 95, 1.0)\"}}],\"barpolar\":[{\"marker\":{\"line\":{\"color\":\"rgba(229, 236, 246, 1.0)\",\"width\":0.5},\"pattern\":{\"fillmode\":\"overlay\",\"size\":10,\"solidity\":0.2}}}],\"carpet\":[{\"aaxis\":{\"linecolor\":\"rgba(255, 255, 255, 1.0)\",\"gridcolor\":\"rgba(255, 255, 255, 1.0)\",\"endlinecolor\":\"rgba(42, 63, 95, 1.0)\",\"minorgridcolor\":\"rgba(255, 255, 255, 1.0)\",\"startlinecolor\":\"rgba(42, 63, 95, 1.0)\"},\"baxis\":{\"linecolor\":\"rgba(255, 255, 255, 1.0)\",\"gridcolor\":\"rgba(255, 255, 255, 1.0)\",\"endlinecolor\":\"rgba(42, 63, 95, 1.0)\",\"minorgridcolor\":\"rgba(255, 255, 255, 1.0)\",\"startlinecolor\":\"rgba(42, 63, 95, 1.0)\"}}],\"choropleth\":[{\"colorbar\":{\"outlinewidth\":0.0,\"ticks\":\"\"},\"colorscale\":[[0.0,\"#0d0887\"],[0.1111111111111111,\"#46039f\"],[0.2222222222222222,\"#7201a8\"],[0.3333333333333333,\"#9c179e\"],[0.4444444444444444,\"#bd3786\"],[0.5555555555555556,\"#d8576b\"],[0.6666666666666666,\"#ed7953\"],[0.7777777777777778,\"#fb9f3a\"],[0.8888888888888888,\"#fdca26\"],[1.0,\"#f0f921\"]]}],\"contour\":[{\"colorbar\":{\"outlinewidth\":0.0,\"ticks\":\"\"},\"colorscale\":[[0.0,\"#0d0887\"],[0.1111111111111111,\"#46039f\"],[0.2222222222222222,\"#7201a8\"],[0.3333333333333333,\"#9c179e\"],[0.4444444444444444,\"#bd3786\"],[0.5555555555555556,\"#d8576b\"],[0.6666666666666666,\"#ed7953\"],[0.7777777777777778,\"#fb9f3a\"],[0.8888888888888888,\"#fdca26\"],[1.0,\"#f0f921\"]]}],\"contourcarpet\":[{\"colorbar\":{\"outlinewidth\":0.0,\"ticks\":\"\"}}],\"heatmap\":[{\"colorbar\":{\"outlinewidth\":0.0,\"ticks\":\"\"},\"colorscale\":[[0.0,\"#0d0887\"],[0.1111111111111111,\"#46039f\"],[0.2222222222222222,\"#7201a8\"],[0.3333333333333333,\"#9c179e\"],[0.4444444444444444,\"#bd3786\"],[0.5555555555555556,\"#d8576b\"],[0.6666666666666666,\"#ed7953\"],[0.7777777777777778,\"#fb9f3a\"],[0.8888888888888888,\"#fdca26\"],[1.0,\"#f0f921\"]]}],\"heatmapgl\":[{\"colorbar\":{\"outlinewidth\":0.0,\"ticks\":\"\"},\"colorscale\":[[0.0,\"#0d0887\"],[0.1111111111111111,\"#46039f\"],[0.2222222222222222,\"#7201a8\"],[0.3333333333333333,\"#9c179e\"],[0.4444444444444444,\"#bd3786\"],[0.5555555555555556,\"#d8576b\"],[0.6666666666666666,\"#ed7953\"],[0.7777777777777778,\"#fb9f3a\"],[0.8888888888888888,\"#fdca26\"],[1.0,\"#f0f921\"]]}],\"histogram\":[{\"marker\":{\"pattern\":{\"fillmode\":\"overlay\",\"size\":10,\"solidity\":0.2}}}],\"histogram2d\":[{\"colorbar\":{\"outlinewidth\":0.0,\"ticks\":\"\"},\"colorscale\":[[0.0,\"#0d0887\"],[0.1111111111111111,\"#46039f\"],[0.2222222222222222,\"#7201a8\"],[0.3333333333333333,\"#9c179e\"],[0.4444444444444444,\"#bd3786\"],[0.5555555555555556,\"#d8576b\"],[0.6666666666666666,\"#ed7953\"],[0.7777777777777778,\"#fb9f3a\"],[0.8888888888888888,\"#fdca26\"],[1.0,\"#f0f921\"]]}],\"histogram2dcontour\":[{\"colorbar\":{\"outlinewidth\":0.0,\"ticks\":\"\"},\"colorscale\":[[0.0,\"#0d0887\"],[0.1111111111111111,\"#46039f\"],[0.2222222222222222,\"#7201a8\"],[0.3333333333333333,\"#9c179e\"],[0.4444444444444444,\"#bd3786\"],[0.5555555555555556,\"#d8576b\"],[0.6666666666666666,\"#ed7953\"],[0.7777777777777778,\"#fb9f3a\"],[0.8888888888888888,\"#fdca26\"],[1.0,\"#f0f921\"]]}],\"mesh3d\":[{\"colorbar\":{\"outlinewidth\":0.0,\"ticks\":\"\"}}],\"parcoords\":[{\"line\":{\"colorbar\":{\"outlinewidth\":0.0,\"ticks\":\"\"}}}],\"pie\":[{\"automargin\":true}],\"scatter\":[{\"marker\":{\"colorbar\":{\"outlinewidth\":0.0,\"ticks\":\"\"}}}],\"scatter3d\":[{\"marker\":{\"colorbar\":{\"outlinewidth\":0.0,\"ticks\":\"\"}},\"line\":{\"colorbar\":{\"outlinewidth\":0.0,\"ticks\":\"\"}}}],\"scattercarpet\":[{\"marker\":{\"colorbar\":{\"outlinewidth\":0.0,\"ticks\":\"\"}}}],\"scattergeo\":[{\"marker\":{\"colorbar\":{\"outlinewidth\":0.0,\"ticks\":\"\"}}}],\"scattergl\":[{\"marker\":{\"colorbar\":{\"outlinewidth\":0.0,\"ticks\":\"\"}}}],\"scattermapbox\":[{\"marker\":{\"colorbar\":{\"outlinewidth\":0.0,\"ticks\":\"\"}}}],\"scatterpolar\":[{\"marker\":{\"colorbar\":{\"outlinewidth\":0.0,\"ticks\":\"\"}}}],\"scatterpolargl\":[{\"marker\":{\"colorbar\":{\"outlinewidth\":0.0,\"ticks\":\"\"}}}],\"scatterternary\":[{\"marker\":{\"colorbar\":{\"outlinewidth\":0.0,\"ticks\":\"\"}}}],\"surface\":[{\"colorbar\":{\"outlinewidth\":0.0,\"ticks\":\"\"},\"colorscale\":[[0.0,\"#0d0887\"],[0.1111111111111111,\"#46039f\"],[0.2222222222222222,\"#7201a8\"],[0.3333333333333333,\"#9c179e\"],[0.4444444444444444,\"#bd3786\"],[0.5555555555555556,\"#d8576b\"],[0.6666666666666666,\"#ed7953\"],[0.7777777777777778,\"#fb9f3a\"],[0.8888888888888888,\"#fdca26\"],[1.0,\"#f0f921\"]]}],\"table\":[{\"cells\":{\"fill\":{\"color\":\"rgba(235, 240, 248, 1.0)\"},\"line\":{\"color\":\"rgba(255, 255, 255, 1.0)\"}},\"header\":{\"fill\":{\"color\":\"rgba(200, 212, 227, 1.0)\"},\"line\":{\"color\":\"rgba(255, 255, 255, 1.0)\"}}}]}},\"xaxis\":{\"title\":{\"text\":\"Valor em R$\"},\"type\":\"log\"}};\r\n",
       "            var config = {\"responsive\":true};\r\n",
       "            Plotly.newPlot('c5f73724-8363-43c0-be41-5ecda2e5e149', data, layout, config);\r\n",
       "});\r\n",
       "            };\r\n",
       "            if ((typeof(requirejs) !==  typeof(Function)) || (typeof(requirejs.config) !== typeof(Function))) {\r\n",
       "                var script = document.createElement(\"script\");\r\n",
       "                script.setAttribute(\"src\", \"https://cdnjs.cloudflare.com/ajax/libs/require.js/2.3.6/require.min.js\");\r\n",
       "                script.onload = function(){\r\n",
       "                    renderPlotly_c5f73724836343c0be415ecda2e5e149();\r\n",
       "                };\r\n",
       "                document.getElementsByTagName(\"head\")[0].appendChild(script);\r\n",
       "            }\r\n",
       "            else {\r\n",
       "                renderPlotly_c5f73724836343c0be415ecda2e5e149();\r\n",
       "            }\r\n",
       "</script>\r\n",
       "\n",
       "    \n",
       "</div>    \n"
      ]
     },
     "metadata": {},
     "output_type": "display_data"
    }
   ],
   "source": [
    "let logYaxis =\n",
    "    LinearAxis.init(\n",
    "        Title = Title.init(Text = \"Valor em R$\"),\n",
    "        AxisType = StyleParam.AxisType.Log\n",
    "    )\n",
    "let suppliers, values =    \n",
    "    deputado.expenses\n",
    "    |> Seq.groupBy(fun it -> it.supplierName)\n",
    "    |> Seq.map(fun (supplier, expenses) -> supplier, (expenses |> Seq.sumBy( fun it -> it.netValue)))\n",
    "    |> Seq.sortBy snd\n",
    "    |> Seq.toArray |> Array.unzip\n",
    "Chart.Bar(values, suppliers)\n",
    "|>Chart.withLayoutStyle(Width = 1200, Height = 2000)\n",
    "|>Chart.withXAxis logYaxis"
   ]
  },
  {
   "cell_type": "code",
   "execution_count": 92,
   "metadata": {
    "dotnet_interactive": {
     "language": "fsharp"
    },
    "vscode": {
     "languageId": "dotnet-interactive.fsharp"
    }
   },
   "outputs": [
    {
     "data": {
      "image/svg+xml": "<svg class=\"main-svg\" xmlns=\"http://www.w3.org/2000/svg\" xmlns:xlink=\"http://www.w3.org/1999/xlink\" width=\"800\" height=\"400\" style=\"\" viewBox=\"0 0 800 400\"><rect x=\"0\" y=\"0\" width=\"800\" height=\"400\" style=\"fill: rgb(255, 255, 255); fill-opacity: 1;\"/><defs id=\"defs-db0384\"><g class=\"clips\"><clipPath id=\"clipdb0384xyplot\" class=\"plotclip\"><rect width=\"640\" height=\"220\"/></clipPath><clipPath class=\"axesclip\" id=\"clipdb0384x\"><rect x=\"80\" y=\"0\" width=\"640\" height=\"400\"/></clipPath><clipPath class=\"axesclip\" id=\"clipdb0384y\"><rect x=\"0\" y=\"100\" width=\"800\" height=\"220\"/></clipPath><clipPath class=\"axesclip\" id=\"clipdb0384xy\"><rect x=\"80\" y=\"100\" width=\"640\" height=\"220\"/></clipPath></g><g class=\"gradients\"/><g class=\"patterns\"/></defs><g class=\"bglayer\"><rect class=\"bg\" x=\"80\" y=\"100\" width=\"640\" height=\"220\" style=\"fill: rgb(229, 236, 246); fill-opacity: 1; stroke-width: 0;\"/></g><g class=\"layer-below\"><g class=\"imagelayer\"/><g class=\"shapelayer\"/></g><g class=\"cartesianlayer\"><g class=\"subplot xy\"><g class=\"layer-subplot\"><g class=\"shapelayer\"/><g class=\"imagelayer\"/></g><g class=\"gridlayer\"><g class=\"x\"><path class=\"xgrid crisp\" transform=\"translate(103.09,0)\" d=\"M0,100v220\" style=\"stroke: rgb(255, 255, 255); stroke-opacity: 1; stroke-width: 1px;\"/><path class=\"xgrid crisp\" transform=\"translate(200.41,0)\" d=\"M0,100v220\" style=\"stroke: rgb(255, 255, 255); stroke-opacity: 1; stroke-width: 1px;\"/><path class=\"xgrid crisp\" transform=\"translate(301.03,0)\" d=\"M0,100v220\" style=\"stroke: rgb(255, 255, 255); stroke-opacity: 1; stroke-width: 1px;\"/><path class=\"xgrid crisp\" transform=\"translate(401.65,0)\" d=\"M0,100v220\" style=\"stroke: rgb(255, 255, 255); stroke-opacity: 1; stroke-width: 1px;\"/><path class=\"xgrid crisp\" transform=\"translate(503.92,0)\" d=\"M0,100v220\" style=\"stroke: rgb(255, 255, 255); stroke-opacity: 1; stroke-width: 1px;\"/><path class=\"xgrid crisp\" transform=\"translate(604.54,0)\" d=\"M0,100v220\" style=\"stroke: rgb(255, 255, 255); stroke-opacity: 1; stroke-width: 1px;\"/><path class=\"xgrid crisp\" transform=\"translate(705.15,0)\" d=\"M0,100v220\" style=\"stroke: rgb(255, 255, 255); stroke-opacity: 1; stroke-width: 1px;\"/></g><g class=\"y\"><path class=\"ygrid crisp\" transform=\"translate(0,272.25)\" d=\"M80,0h640\" style=\"stroke: rgb(255, 255, 255); stroke-opacity: 1; stroke-width: 1px;\"/><path class=\"ygrid crisp\" transform=\"translate(0,234.81)\" d=\"M80,0h640\" style=\"stroke: rgb(255, 255, 255); stroke-opacity: 1; stroke-width: 1px;\"/><path class=\"ygrid crisp\" transform=\"translate(0,197.37)\" d=\"M80,0h640\" style=\"stroke: rgb(255, 255, 255); stroke-opacity: 1; stroke-width: 1px;\"/><path class=\"ygrid crisp\" transform=\"translate(0,159.94)\" d=\"M80,0h640\" style=\"stroke: rgb(255, 255, 255); stroke-opacity: 1; stroke-width: 1px;\"/><path class=\"ygrid crisp\" transform=\"translate(0,122.5)\" d=\"M80,0h640\" style=\"stroke: rgb(255, 255, 255); stroke-opacity: 1; stroke-width: 1px;\"/></g></g><g class=\"zerolinelayer\"><path class=\"yzl zl crisp\" transform=\"translate(0,309.69)\" d=\"M80,0h640\" style=\"stroke: rgb(255, 255, 255); stroke-opacity: 1; stroke-width: 2px;\"/></g><path class=\"xlines-below\"/><path class=\"ylines-below\"/><g class=\"overlines-below\"/><g class=\"xaxislayer-below\"/><g class=\"yaxislayer-below\"/><g class=\"overaxes-below\"/><g class=\"plot\" transform=\"translate(80,100)\" clip-path=\"url(#clipdb0384xyplot)\"><g class=\"scatterlayer mlayer\"><g class=\"trace scatter trace9aede0\" style=\"stroke-miterlimit: 2; opacity: 1;\"><g class=\"fills\"/><g class=\"errorbars\"/><g class=\"lines\"><path class=\"js-line\" d=\"M0,201.62L23.09,191.34L26.39,200.08L28.04,188.88L28.04,189.84L31.34,202.27L42.89,206.71L42.89,207.76L42.89,196.65L51.13,201.62L54.43,201.93L54.43,206.24L54.43,204.89L56.08,65.74L57.73,207.87L57.73,204.3L64.33,207.62L69.28,207.82L69.28,207.82L69.28,201.63L69.28,208.76L69.28,208.76L70.93,205.15L74.23,194.67L74.23,191.34L75.88,201.01L77.53,199.44L77.53,206.69L79.18,204.97L79.18,98.5L79.18,186.17L85.77,201.11L87.42,208.15L87.42,204.26L87.42,205.6L89.07,201.49L89.07,164.89L89.07,208.88L95.67,201.62L98.97,167.09L105.57,202.8L107.22,207.23L110.52,198.48L112.16,206.96L113.81,54.82L115.46,201.67L120.41,191.34L123.71,189.84L123.71,199.27L123.71,189.04L125.36,204.63L131.96,196.7L131.96,198.32L133.61,207.84L133.61,202.23L135.26,198.31L136.91,205.6L138.56,164.38L138.56,206L138.56,207.9L138.56,86.89L146.8,202.8L146.8,203.13L155.05,207.23L158.35,208.9L160,207.54L160,11.79L169.9,127.33L171.55,86.89L171.55,191.34L174.85,189.84L174.85,188.87L179.79,186.13L186.39,202.46L186.39,205.6L191.34,167.03L191.34,208.95L191.34,208.87L196.29,202.8L197.94,203.13L207.84,207.23L207.84,11.79L209.48,208.9L212.78,207.82L219.38,127.33L221.03,200.45L224.33,86.89L225.98,208.44L225.98,207.82L229.28,189.84L229.28,189.26L230.93,201.34L237.53,205.58L237.53,208.53L239.18,208.8L239.18,167.24L239.18,209L240.82,208.15L249.07,201.16L254.02,200.28L254.02,202.8L257.32,207.51L257.32,192L258.97,208.9L262.27,207.75L268.87,127.33L272.16,86.89L272.16,191.34L275.46,189.84L275.46,189.84L285.36,207.07L285.36,179.45L287.01,205.3L291.96,167.24L293.61,11L295.26,208.8L298.56,200.94L306.8,166.73L306.8,67.42L308.45,207.99L310.1,208.9L313.4,207.79L318.35,127.33L321.65,190.97L321.65,86.89L323.3,11L328.25,202.99L329.9,189.84L329.9,189.84L336.49,205.3L339.79,196.25L341.44,208.8L341.44,167.02L341.44,209L344.74,203.67L351.34,175.49L354.64,202.99L356.29,194.84L357.94,198.68L357.94,207.25L359.59,208.9L364.54,205.96L366.19,200.55L367.84,127.33L369.48,199.22L369.48,182.9L372.78,190.97L374.43,86.89L374.43,207.95L374.43,202.68L376.08,208.1L376.08,11L379.38,189.52L379.38,189.84L387.63,205.3L387.63,206.9L389.28,175.09L390.93,166.36L390.93,207.19L390.93,205.98L392.58,200.01L402.47,202.99L409.07,207.54L409.07,195.66L410.72,208.9L415.67,199.08L420.62,127.33L423.92,86.89L423.92,190.97L425.57,11L432.16,189.41L432.16,189.84L437.11,208.44L437.11,204.09L438.76,205.3L438.76,170.56L443.71,161.65L443.71,206.44L443.71,205.35L447.01,202.36L448.66,202.99L460.21,195.98L460.21,206.95L461.86,208.9L466.8,127.33L470.1,186.59L471.75,205.3L473.4,11L473.4,190.97L473.4,86.89L478.35,202.68L478.35,207.95L480,204.71L480,189.09L484.95,161.75L493.2,206.32L493.2,205.01L493.2,164.92L493.2,208.55L494.85,198.9L503.09,208.28L508.04,207.61L508.04,202.99L509.69,207.24L509.69,195.11L511.34,208.9L512.99,208.1L516.29,127.33L517.94,208.89L524.54,190.97L524.54,207.95L524.54,11L527.84,142.02L527.84,152.74L529.48,153.48L531.13,25.49L532.78,189.1L536.08,191.79L536.08,199.27L541.03,208L541.03,162.35L547.63,198.72L550.93,206.3L550.93,207.99L550.93,204.92L552.58,208.27L552.58,207.37L554.23,202.8L559.18,205.63L560.82,202.8L560.82,194.26L562.47,208.9L565.77,127.33L570.72,198L574.02,190.97L574.02,25.49L575.67,11L575.67,163.29L577.32,207.95L577.32,202.68L582.27,188.99L588.87,205.3L588.87,208.58L588.87,158.36L593.81,207.81L593.81,208.5L593.81,163.01L593.81,198.85L598.76,208.44L598.76,205.96L600.41,207.82L602.06,202.8L610.31,208.42L610.31,194.34L611.96,208.9L615.26,127.33L618.56,208.76L628.45,21.92L628.45,86.89L640,208.52\" style=\"vector-effect: non-scaling-stroke; fill: none; stroke: rgb(99, 110, 250); stroke-opacity: 1; stroke-width: 2px; opacity: 1;\"/></g><g class=\"points\"/><g class=\"text\"/></g></g></g><g class=\"overplot\"/><path class=\"xlines-above crisp\" d=\"M0,0\" style=\"fill: none;\"/><path class=\"ylines-above crisp\" d=\"M0,0\" style=\"fill: none;\"/><g class=\"overlines-above\"/><g class=\"xaxislayer-above\"><g class=\"xtick\"><text text-anchor=\"middle\" x=\"0\" y=\"333\" transform=\"translate(103.09,0)\" style=\"font-family: 'Open Sans', verdana, arial, sans-serif; font-size: 12px; fill: rgb(42, 63, 95); fill-opacity: 1; white-space: pre; opacity: 1;\">Jan 2021</text></g><g class=\"xtick\"><text text-anchor=\"middle\" x=\"0\" y=\"333\" style=\"font-family: 'Open Sans', verdana, arial, sans-serif; font-size: 12px; fill: rgb(42, 63, 95); fill-opacity: 1; white-space: pre; opacity: 1;\" transform=\"translate(200.41,0)\">Mar 2021</text></g><g class=\"xtick\"><text text-anchor=\"middle\" x=\"0\" y=\"333\" style=\"font-family: 'Open Sans', verdana, arial, sans-serif; font-size: 12px; fill: rgb(42, 63, 95); fill-opacity: 1; white-space: pre; opacity: 1;\" transform=\"translate(301.03,0)\">May 2021</text></g><g class=\"xtick\"><text text-anchor=\"middle\" x=\"0\" y=\"333\" style=\"font-family: 'Open Sans', verdana, arial, sans-serif; font-size: 12px; fill: rgb(42, 63, 95); fill-opacity: 1; white-space: pre; opacity: 1;\" transform=\"translate(401.65,0)\">Jul 2021</text></g><g class=\"xtick\"><text text-anchor=\"middle\" x=\"0\" y=\"333\" style=\"font-family: 'Open Sans', verdana, arial, sans-serif; font-size: 12px; fill: rgb(42, 63, 95); fill-opacity: 1; white-space: pre; opacity: 1;\" transform=\"translate(503.92,0)\">Sep 2021</text></g><g class=\"xtick\"><text text-anchor=\"middle\" x=\"0\" y=\"333\" style=\"font-family: 'Open Sans', verdana, arial, sans-serif; font-size: 12px; fill: rgb(42, 63, 95); fill-opacity: 1; white-space: pre; opacity: 1;\" transform=\"translate(604.54,0)\">Nov 2021</text></g><g class=\"xtick\"><text text-anchor=\"middle\" x=\"0\" y=\"333\" style=\"font-family: 'Open Sans', verdana, arial, sans-serif; font-size: 12px; fill: rgb(42, 63, 95); fill-opacity: 1; white-space: pre; opacity: 1;\" transform=\"translate(705.15,0)\">Jan 2022</text></g></g><g class=\"yaxislayer-above\"><g class=\"ytick\"><text text-anchor=\"end\" x=\"79\" y=\"4.199999999999999\" transform=\"translate(0,309.69)\" style=\"font-family: 'Open Sans', verdana, arial, sans-serif; font-size: 12px; fill: rgb(42, 63, 95); fill-opacity: 1; white-space: pre; opacity: 1;\">0</text></g><g class=\"ytick\"><text text-anchor=\"end\" x=\"79\" y=\"4.199999999999999\" style=\"font-family: 'Open Sans', verdana, arial, sans-serif; font-size: 12px; fill: rgb(42, 63, 95); fill-opacity: 1; white-space: pre; opacity: 1;\" transform=\"translate(0,272.25)\">1000</text></g><g class=\"ytick\"><text text-anchor=\"end\" x=\"79\" y=\"4.199999999999999\" style=\"font-family: 'Open Sans', verdana, arial, sans-serif; font-size: 12px; fill: rgb(42, 63, 95); fill-opacity: 1; white-space: pre; opacity: 1;\" transform=\"translate(0,234.81)\">2000</text></g><g class=\"ytick\"><text text-anchor=\"end\" x=\"79\" y=\"4.199999999999999\" style=\"font-family: 'Open Sans', verdana, arial, sans-serif; font-size: 12px; fill: rgb(42, 63, 95); fill-opacity: 1; white-space: pre; opacity: 1;\" transform=\"translate(0,197.37)\">3000</text></g><g class=\"ytick\"><text text-anchor=\"end\" x=\"79\" y=\"4.199999999999999\" style=\"font-family: 'Open Sans', verdana, arial, sans-serif; font-size: 12px; fill: rgb(42, 63, 95); fill-opacity: 1; white-space: pre; opacity: 1;\" transform=\"translate(0,159.94)\">4000</text></g><g class=\"ytick\"><text text-anchor=\"end\" x=\"79\" y=\"4.199999999999999\" style=\"font-family: 'Open Sans', verdana, arial, sans-serif; font-size: 12px; fill: rgb(42, 63, 95); fill-opacity: 1; white-space: pre; opacity: 1;\" transform=\"translate(0,122.5)\">5000</text></g></g><g class=\"overaxes-above\"/></g></g><g class=\"polarlayer\"/><g class=\"smithlayer\"/><g class=\"ternarylayer\"/><g class=\"geolayer\"/><g class=\"funnelarealayer\"/><g class=\"pielayer\"/><g class=\"iciclelayer\"/><g class=\"treemaplayer\"/><g class=\"sunburstlayer\"/><g class=\"glimages\"/><defs id=\"topdefs-db0384\"><g class=\"clips\"/></defs><g class=\"layer-above\"><g class=\"imagelayer\"/><g class=\"shapelayer\"/></g><g class=\"infolayer\"><g class=\"g-gtitle\"/><g class=\"g-xtitle\"/><g class=\"g-ytitle\"/></g></svg>"
     },
     "metadata": {},
     "output_type": "display_data"
    }
   ],
   "source": [
    "let graph =\n",
    "    seq { yield deputado }\n",
    "    |> Seq.map scatter\n",
    "    |> Chart.combine\n",
    "    |> Chart.toSVGString( Width = 800, Height = 400)\n",
    "\n",
    "DisplayExtensions.DisplayAs(graph,\"image/svg+xml\")"
   ]
  },
  {
   "cell_type": "code",
   "execution_count": 93,
   "metadata": {
    "dotnet_interactive": {
     "language": "fsharp"
    },
    "vscode": {
     "languageId": "dotnet-interactive.fsharp"
    }
   },
   "outputs": [
    {
     "data": {
      "text/html": [
       "<img src=\"https://www.camara.leg.br/internet/deputado/bandep/74784.jpg\"></img>"
      ]
     },
     "metadata": {},
     "output_type": "display_data"
    }
   ],
   "source": [
    "HTML($\"<img src=\\\"{deputado.picture}\\\"></img>\")"
   ]
  }
 ],
 "metadata": {
  "kernelspec": {
   "display_name": ".NET (C#)",
   "language": "C#",
   "name": ".net-csharp"
  },
  "language_info": {
   "file_extension": ".cs",
   "mimetype": "text/x-csharp",
   "name": "C#",
   "pygments_lexer": "csharp",
   "version": "9.0"
  },
  "orig_nbformat": 4
 },
 "nbformat": 4,
 "nbformat_minor": 2
}
