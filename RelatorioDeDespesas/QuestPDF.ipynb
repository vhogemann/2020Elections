{
 "cells": [
  {
   "cell_type": "code",
   "execution_count": null,
   "metadata": {
    "dotnet_interactive": {
     "language": "csharp"
    },
    "vscode": {
     "languageId": "dotnet-interactive.csharp"
    }
   },
   "outputs": [
    {
     "data": {
      "text/html": [
       "<div><div></div><div></div><div><strong>Installed Packages</strong><ul><li><span>QuestPDF, 2202.8.2</span></li></ul></div></div>"
      ]
     },
     "metadata": {},
     "output_type": "display_data"
    },
    {
     "data": {
      "text/markdown": [
       "Loading extensions from `SkiaSharp.DotNet.Interactive.dll`"
      ]
     },
     "metadata": {},
     "output_type": "display_data"
    }
   ],
   "source": [
    "#r \"nuget: QuestPDF\"\n",
    "\n",
    "using QuestPDF.Fluent;\n",
    "using QuestPDF.Helpers;\n",
    "using QuestPDF.Infrastructure;\n",
    "\n",
    "// code in your main method\n",
    "Document.Create(container =>\n",
    "{\n",
    "    container.Page(page =>\n",
    "    {\n",
    "        page.Size(PageSizes.A4);\n",
    "        page.Margin(2, Unit.Centimetre);\n",
    "        page.PageColor(Colors.White);\n",
    "        page.DefaultTextStyle(x => x.FontSize(20));\n",
    "        \n",
    "        page.Header()\n",
    "            .AlignCenter()\n",
    "            .Text(\"Agosto de 2022 - Relatório de Despesas Parlamentares\")\n",
    "            .SemiBold().FontSize(12).FontColor(Colors.Blue.Medium);\n",
    "        \n",
    "        page.Content()\n",
    "            .PaddingVertical(1, Unit.Centimetre)\n",
    "            .Column(x =>\n",
    "            {\n",
    "                x.Spacing(20);\n",
    "                \n",
    "                x.Item().Grid(grid => {\n",
    "                    grid.Columns(3);\n",
    "                    grid.Spacing(10);\n",
    "                    grid.Item(1).Image(Placeholders.Image(50,50));\n",
    "                    grid.Item(2).Row(row => {\n",
    "                        row.RelativeItem().Text(\"Fulano de tal\");\n",
    "                        row.RelativeItem().Text(\"Partido\");\n",
    "                        row.RelativeItem().Text(\"UF\");\n",
    "                    });\n",
    "                });\n",
    "\n",
    "                x.Item().Text(Placeholders.LoremIpsum());\n",
    "                x.Item().Image(Placeholders.Image(200, 100));\n",
    "            });\n",
    "        \n",
    "        page.Footer()\n",
    "            .AlignCenter()\n",
    "            .Text(x =>\n",
    "            {\n",
    "                x.Span(\"Page \");\n",
    "                x.CurrentPageNumber();\n",
    "            });\n",
    "    });\n",
    "})\n",
    ".GenerateImages(i => $\"img/image-{i}.png\")"
   ]
  },
  {
   "cell_type": "markdown",
   "metadata": {},
   "source": [
    "![Image](\"image-0.png\")"
   ]
  }
 ],
 "metadata": {
  "kernelspec": {
   "display_name": ".NET (C#)",
   "language": "C#",
   "name": ".net-csharp"
  },
  "language_info": {
   "file_extension": ".cs",
   "mimetype": "text/x-csharp",
   "name": "C#",
   "pygments_lexer": "csharp",
   "version": "9.0"
  },
  "orig_nbformat": 4
 },
 "nbformat": 4,
 "nbformat_minor": 2
}
