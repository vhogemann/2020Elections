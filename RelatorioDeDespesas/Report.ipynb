{
 "cells": [
  {
   "cell_type": "code",
   "execution_count": null,
   "metadata": {
    "dotnet_interactive": {
     "language": "fsharp"
    },
    "vscode": {
     "languageId": "dotnet-interactive.fsharp"
    }
   },
   "outputs": [
    {
     "ename": "Error",
     "evalue": "k:\\Projects\\Notebooks\\RelatorioDeDespesas\\Report.fsx (14,17)-(14,24) typecheck error The value, namespace, type or module 'SKColor' is not defined. Maybe you want one of the following:\r\n   color",
     "output_type": "error",
     "traceback": [
      "k:\\Projects\\Notebooks\\RelatorioDeDespesas\\Report.fsx (14,17)-(14,24) typecheck error The value, namespace, type or module 'SKColor' is not defined. Maybe you want one of the following:\r\n",
      "   color"
     ]
    }
   ],
   "source": [
    "#load \"CamaraDeputados.fsx\"\n",
    "#load \"Report.fsx\""
   ]
  },
  {
   "cell_type": "code",
   "execution_count": null,
   "metadata": {
    "dotnet_interactive": {
     "language": "fsharp"
    },
    "vscode": {
     "languageId": "dotnet-interactive.fsharp"
    }
   },
   "outputs": [
    {
     "data": {
      "text/html": [
       "<table><thead><tr><th>legislatures</th></tr></thead><tbody><tr><td><div class=\"dni-plaintext\">[ { { deputies =\n",
       "   [{ name = &quot;Ab&#237;lio Santana&quot;\n",
       "      party = &quot;PSC&quot;\n",
       "      expenses =\n",
       "       [|{ netValue = 0M\n",
       "           supplierName = &quot;AUTO VOLUME COMERCIO DE DERIVADOS DE PETROLEO LTDA&quot;\n",
       "           documentDate = 7/11/2022 12:00:00 AM };\n",
       "         { netValue = 0M\n",
       "           supplierName = &quot;CURRAL NOVO COMERCIO DE DERIVADOS DE PETROLEO LTDA&quot;\n",
       "           documentDate = 7/10/2022 12:00:00 AM };\n",
       "         { netValue = 0M\n",
       "           supplierName = &quot;HP COMERCIO E DERIVADOS DE PETROLEO LTDA&quot;\n",
       "           documentDate = 7/2/2022 12:00:00 AM };\n",
       "         { netValue = 0M\n",
       "           supplierName = &quot;ITAPAGIPE COMERCIO DE COMBUSTIVEIS LTDA&quot;\n",
       "           documentDate = 7/1/2022 12:00:00 AM };\n",
       "         { netValue = 0M\n",
       "           supplierName = &quot;ITAPAGIPE COMERCIO DE COMBUSTIVEIS LTDA&quot;\n",
       "           documentDate = 7/2/2022 12:00:00 AM };\n",
       "         { netValue = 0M\n",
       "           supplierName = &quot;JARJOUR REVENDA&quot;\n",
       "           documentDate = 7/5/2022 12:00:00 AM };\n",
       "         { netValue = 0M\n",
       "           supplierName = &quot;POLO COMERCIO DE COMBUSTIVEIS LTDA&quot;\n",
       "           documentDate = 7/1/2022 12:00:00 AM };\n",
       "         { netValue = 0M\n",
       "           supplierName = &quot;POSTO MEIRA II&quot;\n",
       "           documentDate = 7/9/2022 12:00:00 AM };\n",
       "         { netValue = 0M\n",
       "           supplierName = &quot;REDE HG COMBUSTIVEIS LTDA.&quot;\n",
       "           documentDate = 7/11/2022 12:00:00 AM };\n",
       "         { netValue = 0M\n",
       "           supplierName = &quot;SERVICO NACIONAL DE APRENDIZAGEM COMERCIAL SENAC&quot;\n",
       "           documentDate = 7/6/2022 12:00:00 AM };\n",
       "         { netValue = 0M\n",
       "           supplierName = &quot;PANTANAL-VEICULOS LTDA&quot;\n",
       "           documentDate = 7/30/2022 12:00:00 AM };\n",
       "         { netValue = 0M\n",
       "           supplierName = &quot;TAM&quot;\n",
       "           documentDate = 7/6/2022 12:00:00 AM }|] }] }: deputies: [ { { name = &quot;Ab&#237;lio Santana&quot;\n",
       "  party = &quot;PSC&quot;\n",
       "  expenses =\n",
       "   [|{ netValue = 0M\n",
       "       supplierName = &quot;AUTO VOLUME COMERCIO DE DERIVADOS DE PETROLEO LTDA&quot;\n",
       "       documentDate = 7/11/2022 12:00:00 AM };\n",
       "     { netValue = 0M\n",
       "       supplierName = &quot;CURRAL NOVO COMERCIO DE DERIVADOS DE PETROLEO LTDA&quot;\n",
       "       documentDate = 7/10/2022 12:00:00 AM };\n",
       "     { netValue = 0M\n",
       "       supplierName = &quot;HP COMERCIO E DERIVADOS DE PETROLEO LTDA&quot;\n",
       "       documentDate = 7/2/2022 12:00:00 AM };\n",
       "     { netValue = 0M\n",
       "       supplierName = &quot;ITAPAGIPE COMERCIO DE COMBUSTIVEIS LTDA&quot;\n",
       "       documentDate = 7/1/2022 12:00:00 AM };\n",
       "     { netValue = 0M\n",
       "       supplierName = &quot;ITAPAGIPE COMERCIO DE COMBUSTIVEIS LTDA&quot;\n",
       "       documentDate = 7/2/2022 12:00:00 AM };\n",
       "     { netValue = 0M\n",
       "       supplierName = &quot;JARJOUR REVENDA&quot;\n",
       "       documentDate = 7/5/2022 12:00:00 AM };\n",
       "     { netValue = 0M\n",
       "       supplierName = &quot;POLO COMERCIO DE COMBUSTIVEIS LTDA&quot;\n",
       "       documentDate = 7/1/2022 12:00:00 AM };\n",
       "     { netValue = 0M\n",
       "       supplierName = &quot;POSTO MEIRA II&quot;\n",
       "       documentDate = 7/9/2022 12:00:00 AM };\n",
       "     { netValue = 0M\n",
       "       supplierName = &quot;REDE HG COMBUSTIVEIS LTDA.&quot;\n",
       "       documentDate = 7/11/2022 12:00:00 AM };\n",
       "     { netValue = 0M\n",
       "       supplierName = &quot;SERVICO NACIONAL DE APRENDIZAGEM COMERCIAL SENAC&quot;\n",
       "       documentDate = 7/6/2022 12:00:00 AM };\n",
       "     { netValue = 0M\n",
       "       supplierName = &quot;PANTANAL-VEICULOS LTDA&quot;\n",
       "       documentDate = 7/30/2022 12:00:00 AM };\n",
       "     { netValue = 0M\n",
       "       supplierName = &quot;TAM&quot;\n",
       "       documentDate = 7/6/2022 12:00:00 AM }|] }: name: Ab&#237;lio Santana, party: PSC, expenses: [ { { netValue = 0M\n",
       "  supplierName = &quot;AUTO VOLUME COMERCIO DE DERIVADOS DE PETROLEO LTDA&quot;\n",
       "  documentDate = 7/11/2022 12:00:00 AM }: netValue: 0, supplierName: AUTO VOLUME COMERCIO DE DERIVADOS DE PETROLEO LTDA, documentDate: 7/11/2022 12:00:00 AM }, { { netValue = 0M\n",
       "  supplierName = &quot;CURRAL NOVO COMERCIO DE DERIVADOS DE PETROLEO LTDA&quot;\n",
       "  documentDate = 7/10/2022 12:00:00 AM }: netValue: 0, supplierName: CURRAL NOVO COMERCIO DE DERIVADOS DE PETROLEO LTDA, documentDate: 7/10/2022 12:00:00 AM }, { { netValue = 0M\n",
       "  supplierName = &quot;HP COMERCIO E DERIVADOS DE PETROLEO LTDA&quot;\n",
       "  documentDate = 7/2/2022 12:00:00 AM }: netValue: 0, supplierName: HP COMERCIO E DERIVADOS DE PETROLEO LTDA, documentDate: 7/2/2022 12:00:00 AM }, { { netValue = 0M\n",
       "  supplierName = &quot;ITAPAGIPE COMERCIO DE COMBUSTIVEIS LTDA&quot;\n",
       "  documentDate = 7/1/2022 12:00:00 AM }: netValue: 0, supplierName: ITAPAGIPE COMERCIO DE COMBUSTIVEIS LTDA, documentDate: 7/1/2022 12:00:00 AM }, { { netValue = 0M\n",
       "  supplierName = &quot;ITAPAGIPE COMERCIO DE COMBUSTIVEIS LTDA&quot;\n",
       "  documentDate = 7/2/2022 12:00:00 AM }: netValue: 0, supplierName: ITAPAGIPE COMERCIO DE COMBUSTIVEIS LTDA, documentDate: 7/2/2022 12:00:00 AM }, { { netValue = 0M\n",
       "  supplierName = &quot;JARJOUR REVENDA&quot;\n",
       "  documentDate = 7/5/2022 12:00:00 AM }: netValue: 0, supplierName: JARJOUR REVENDA, documentDate: 7/5/2022 12:00:00 AM }, { { netValue = 0M\n",
       "  supplierName = &quot;POLO COMERCIO DE COMBUSTIVEIS LTDA&quot;\n",
       "  documentDate = 7/1/2022 12:00:00 AM }: netValue: 0, supplierName: POLO COMERCIO DE COMBUSTIVEIS LTDA, documentDate: 7/1/2022 12:00:00 AM }, { { netValue = 0M\n",
       "  supplierName = &quot;POSTO MEIRA II&quot;\n",
       "  documentDate = 7/9/2022 12:00:00 AM }: netValue: 0, supplierName: POSTO MEIRA II, documentDate: 7/9/2022 12:00:00 AM }, { { netValue = 0M\n",
       "  supplierName = &quot;REDE HG COMBUSTIVEIS LTDA.&quot;\n",
       "  documentDate = 7/11/2022 12:00:00 AM }: netValue: 0, supplierName: REDE HG COMBUSTIVEIS LTDA., documentDate: 7/11/2022 12:00:00 AM }, { { netValue = 0M\n",
       "  supplierName = &quot;SERVICO NACIONAL DE APRENDIZAGEM COMERCIAL SENAC&quot;\n",
       "  documentDate = 7/6/2022 12:00:00 AM }: netValue: 0, supplierName: SERVICO NACIONAL DE APRENDIZAGEM COMERCIAL SENAC, documentDate: 7/6/2022 12:00:00 AM }, { { netValue = 0M\n",
       "  supplierName = &quot;PANTANAL-VEICULOS LTDA&quot;\n",
       "  documentDate = 7/30/2022 12:00:00 AM }: netValue: 0, supplierName: PANTANAL-VEICULOS LTDA, documentDate: 7/30/2022 12:00:00 AM }, { { netValue = 0M\n",
       "  supplierName = &quot;TAM&quot;\n",
       "  documentDate = 7/6/2022 12:00:00 AM }: netValue: 0, supplierName: TAM, documentDate: 7/6/2022 12:00:00 AM } ] } ] } ]</div></td></tr></tbody></table>"
      ]
     },
     "metadata": {},
     "output_type": "display_data"
    }
   ],
   "source": [
    "let getExpenses = CamaraDeputados.getExpenses \"https://camaradosdeputadosgql-qboe6n5gda-uc.a.run.app/graphql\"\n",
    "let response = getExpenses (DateTime.Parse(\"2022-07-01\")) 1 1\n",
    "\n",
    "match response with\n",
    "| Ok data ->\n",
    "    data.Display()\n",
    "| Error error ->\n",
    "    error.Display()"
   ]
  }
 ],
 "metadata": {
  "kernelspec": {
   "display_name": ".NET (C#)",
   "language": "C#",
   "name": ".net-csharp"
  },
  "language_info": {
   "file_extension": ".cs",
   "mimetype": "text/x-csharp",
   "name": "C#",
   "pygments_lexer": "csharp",
   "version": "9.0"
  },
  "orig_nbformat": 4
 },
 "nbformat": 4,
 "nbformat_minor": 2
}
