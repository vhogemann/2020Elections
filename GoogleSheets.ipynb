{
 "cells": [
  {
   "cell_type": "code",
   "execution_count": 4,
   "metadata": {
    "dotnet_interactive": {
     "language": "fsharp"
    },
    "polyglot_notebook": {
     "kernelName": "fsharp"
    },
    "vscode": {
     "languageId": "polyglot-notebook"
    }
   },
   "outputs": [
    {
     "data": {
      "text/html": [
       "<div><div></div><div></div><div><strong>Installed Packages</strong><ul><li><span>Google.Apis.Sheets.v4, 1.60.0.2979</span></li></ul></div></div>"
      ]
     },
     "metadata": {},
     "output_type": "display_data"
    }
   ],
   "source": [
    "#r \"nuget: Google.Apis.Sheets.v4, 1.60.0.2979\"\n",
    "\n",
    "module Spreadsheet =\n",
    "    open Google.Apis.Sheets.v4\n",
    "\n",
    "    let getSheetsService (credential: Google.Apis.Auth.OAuth2.UserCredential) =\n",
    "        let initializer = SheetsService.Initializer(\n",
    "            HttpClientInitializer = credential,\n",
    "            ApplicationName = \"FSharp Sheets API Sample\"\n",
    "        )\n",
    "        new SheetsService(initializer)\n",
    "\n",
    "    let getSpreadsheet (service: SheetsService) (spreadsheetId: string) =\n",
    "        service.Spreadsheets.Get(spreadsheetId).Execute()\n",
    "\n",
    "    let createSpreadsheet (service: SheetsService) (title: string) =\n",
    "        let spreadsheet = Data.Spreadsheet(Properties = Data.SpreadsheetProperties(Title = title))\n",
    "        service.Spreadsheets.Create(spreadsheet).Execute()\n",
    "\n",
    "    let addSheet (service: SheetsService) (spreadsheetId: string) (title: string) =\n",
    "        let addSheetRequest = Data.AddSheetRequest( Properties = Data.SheetProperties(Title = title) )\n",
    "        let request = Data.BatchUpdateSpreadsheetRequest( Requests = [| Data.Request(AddSheet = addSheetRequest) |] )\n",
    "        service.Spreadsheets.BatchUpdate(request, spreadsheetId).Execute()\n",
    "\n",
    "    let listSheets (service: SheetsService) (spreadsheetId: string) =\n",
    "        let spreadsheet = getSpreadsheet service spreadsheetId\n",
    "        spreadsheet.Sheets\n"
   ]
  }
 ],
 "metadata": {
  "language_info": {
   "name": "csharp"
  },
  "orig_nbformat": 4
 },
 "nbformat": 4,
 "nbformat_minor": 2
}
