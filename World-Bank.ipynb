{
 "cells": [
  {
   "cell_type": "code",
   "execution_count": null,
   "metadata": {
    "dotnet_interactive": {
     "language": "fsharp"
    },
    "vscode": {
     "languageId": "dotnet-interactive.fsharp"
    }
   },
   "outputs": [
    {
     "data": {
      "text/html": [
       "<div><div></div><div></div><div><strong>Installed Packages</strong><ul><li><span>FSharp.Data, 4.2.8</span></li><li><span>XPlot.Plotly.Interactive, 4.0.6</span></li></ul></div></div>"
      ]
     },
     "metadata": {},
     "output_type": "display_data"
    }
   ],
   "source": [
    "#r \"nuget: XPlot.Plotly.Interactive, 4.0.6\"\n",
    "#r \"nuget: FSharp.Data\"\n",
    "\n",
    "open FSharp.Data\n",
    "open XPlot.Plotly\n",
    "\n",
    "type Mandate = {\n",
    "    name: string\n",
    "    starting: int\n",
    "    ending: int\n",
    "}\n",
    "\n",
    "let fhc1 = { name = \"FHC\"; starting = 1995; ending = 1999 }\n",
    "let fhc2 = { name = \"FHC\"; starting = 1999; ending = 2003}\n",
    "let lula1 = { name = \"Lula\"; starting = 2003; ending = 2007 }\n",
    "let lula2 = { name = \"Lula\"; starting = 2007; ending = 2011 }\n",
    "let dilma1 = { name = \"Dilma\"; starting = 2011; ending = 2015 }\n",
    "let dilma2 = { name = \"Dilma\"; starting = 2015; ending = 2017 }\n",
    "let temer = { name = \"Temer\"; starting = 2017; ending = 2018 }\n",
    "let bolsonaro = { name = \"Bolsonaro\"; starting = 2018; ending = 2022 }\n",
    "\n",
    "let mandates = [| fhc1; fhc2; lula1; lula2; dilma1; dilma2; temer; bolsonaro |]\n",
    "\n",
    "let wb = WorldBankData.GetDataContext()\n",
    "\n",
    "let br = wb.Countries.``Brazil``\n",
    "\n",
    "let filter indicator starting ending  =\n",
    "    seq {\n",
    "            for year, value in indicator do\n",
    "                yield year, value\n",
    "        }\n",
    "        |> Seq.filter(fun (year,_) -> year >= starting && year <= ending)\n",
    "        |> Seq.toList\n",
    "        |> List.unzip\n",
    "\n",
    "let scatter indicator mandate =\n",
    "    let years, values = filter indicator mandate.starting mandate.ending\n",
    "    Scatter (name = mandate.name, x = years, y = values)\n",
    "\n",
    "let chart title indicator =\n",
    "    let plotter = scatter indicator\n",
    "    mandates\n",
    "    |> Seq.map plotter\n",
    "    |> Chart.Plot\n",
    "    |> Chart.WithTitle title\n",
    "\n",
    "let candle indicator =\n",
    "    let convert (_, values) =\n",
    "        let opening = values |> Seq.head\n",
    "        let closing = values |> Seq.last\n",
    "        let high = values |> Seq.max\n",
    "        let low = values |> Seq.min\n",
    "        opening, high, low, closing\n",
    "    \n",
    "    mandates\n",
    "    |> Seq.map ( fun mandate ->\n",
    "        let opening, high, low, closing =\n",
    "            filter indicator mandate.starting mandate.ending\n",
    "            |> convert\n",
    "        mandate.name, opening, high, low, closing\n",
    "    )\n",
    "    |> Chart.Candlestick\n"
   ]
  },
  {
   "cell_type": "code",
   "execution_count": null,
   "metadata": {
    "dotnet_interactive": {
     "language": "fsharp"
    },
    "vscode": {
     "languageId": "dotnet-interactive.fsharp"
    }
   },
   "outputs": [
    {
     "data": {
      "text/html": [
       "<!DOCTYPE html>\r\n",
       "<div style=\"width: 900px; height: 500px;\" id=\"c238c240-0ab7-4066-9146-57cdc677803e\"></div><script type=\"text/javascript\">\r\n",
       "\n",
       "var renderPlotly = function() {\n",
       "    var xplotRequire = require.config({context:'xplot-3.0.1',paths:{plotly:'https://cdn.plot.ly/plotly-1.49.2.min'}}) || require;\n",
       "    xplotRequire(['plotly'], function(Plotly) { \r\n",
       "\n",
       "            var data = [{\"type\":\"scatter\",\"x\":[1995,1996,1997,1998,1999],\"y\":[4.2237936336472,2.20886405051482,3.39484598531597,0.338097901952338,0.467937566679467],\"name\":\"FHC\"},{\"type\":\"scatter\",\"x\":[1999,2000,2001,2002,2003],\"y\":[0.467937566679467,4.38794944364869,1.3898964044581,3.05346185683619,1.14082899877101],\"name\":\"FHC\"},{\"type\":\"scatter\",\"x\":[2003,2004,2005,2006,2007],\"y\":[1.14082899877101,5.75996463685998,3.20213206216255,3.96198870899485,6.06987060733128],\"name\":\"Lula\"},{\"type\":\"scatter\",\"x\":[2007,2008,2009,2010,2011],\"y\":[6.06987060733128,5.09419544811998,-0.12581200299141,7.52822581812151,3.97442307944702],\"name\":\"Lula\"},{\"type\":\"scatter\",\"x\":[2011,2012,2013,2014,2015],\"y\":[3.97442307944702,1.92117598509462,3.0048226702888,0.503955740273241,-3.54576339347278],\"name\":\"Dilma\"},{\"type\":\"scatter\",\"x\":[2015,2016,2017],\"y\":[-3.54576339347278,-3.2759169063211,1.32286905390815],\"name\":\"Dilma\"},{\"type\":\"scatter\",\"x\":[2017,2018],\"y\":[1.32286905390815,1.78366676137003],\"name\":\"Temer\"},{\"type\":\"scatter\",\"x\":[2018,2019,2020],\"y\":[1.78366676137003,1.41115298506995,-4.05904827267271],\"name\":\"Bolsonaro\"}];\n",
       "           var layout = {\"title\":\"Crescimento do PIB (% anual)\"};\n",
       "           Plotly.newPlot('c238c240-0ab7-4066-9146-57cdc677803e', data, layout);\n",
       "        \r\n",
       "});\n",
       "};\r\n",
       "// ensure `require` is available globally\r\n",
       "if ((typeof(require) !==  typeof(Function)) || (typeof(require.config) !== typeof(Function))) {\r\n",
       "    let require_script = document.createElement('script');\r\n",
       "    require_script.setAttribute('src', 'https://cdnjs.cloudflare.com/ajax/libs/require.js/2.3.6/require.min.js');\r\n",
       "    require_script.setAttribute('type', 'text/javascript');\r\n",
       "    \r\n",
       "    \r\n",
       "    require_script.onload = function() {\r\n",
       "        renderPlotly();\r\n",
       "    };\r\n",
       "\r\n",
       "    document.getElementsByTagName('head')[0].appendChild(require_script);\r\n",
       "}\r\n",
       "else {\r\n",
       "    renderPlotly();\r\n",
       "}\r\n",
       "\r\n",
       "</script>\r\n"
      ]
     },
     "metadata": {},
     "output_type": "display_data"
    }
   ],
   "source": [
    "br.Indicators.``GDP growth (annual %)``\n",
    "|> chart \"Crescimento do PIB (% anual)\" "
   ]
  },
  {
   "cell_type": "code",
   "execution_count": null,
   "metadata": {
    "dotnet_interactive": {
     "language": "fsharp"
    },
    "vscode": {
     "languageId": "dotnet-interactive.fsharp"
    }
   },
   "outputs": [
    {
     "data": {
      "text/html": [
       "<!DOCTYPE html>\r\n",
       "<div style=\"width: 900px; height: 500px;\" id=\"656af659-27b2-4b24-95df-f28fa73f85d8\"></div><script type=\"text/javascript\">\r\n",
       "\n",
       "var renderPlotly = function() {\n",
       "    var xplotRequire = require.config({context:'xplot-3.0.1',paths:{plotly:'https://cdn.plot.ly/plotly-1.49.2.min'}}) || require;\n",
       "    xplotRequire(['plotly'], function(Plotly) { \r\n",
       "\n",
       "            var data = [{\"type\":\"candlestick\",\"showlegend\":false,\"x\":[\"FHC\",\"FHC\",\"Lula\",\"Lula\",\"Dilma\",\"Dilma\",\"Temer\",\"Bolsonaro\"],\"open\":[15023.5085177985,15048.3248196881,15733.9831400524,18108.3783887396,20455.6433138763,20109.6879460734,19389.4073268986,19581.1608159243],\"high\":[15383.9330428646,15753.3493190004,18108.3783887396,20455.6433138763,21098.9369212718,20109.6879460734,19581.1608159243,19708.8012874342],\"low\":[15023.5085177985,15048.3248196881,15733.9831400524,18108.3783887396,20109.6879460734,19291.342108051,19389.4073268986,18774.4950782295],\"close\":[15048.3248196881,15733.9831400524,18108.3783887396,20455.6433138763,20109.6879460734,19389.4073268986,19581.1608159243,18774.4950782295]}];\n",
       "           var layout = {\"title\":\"Variação do PIB per Capita\"};\n",
       "           Plotly.newPlot('656af659-27b2-4b24-95df-f28fa73f85d8', data, layout);\n",
       "        \r\n",
       "});\n",
       "};\r\n",
       "// ensure `require` is available globally\r\n",
       "if ((typeof(require) !==  typeof(Function)) || (typeof(require.config) !== typeof(Function))) {\r\n",
       "    let require_script = document.createElement('script');\r\n",
       "    require_script.setAttribute('src', 'https://cdnjs.cloudflare.com/ajax/libs/require.js/2.3.6/require.min.js');\r\n",
       "    require_script.setAttribute('type', 'text/javascript');\r\n",
       "    \r\n",
       "    \r\n",
       "    require_script.onload = function() {\r\n",
       "        renderPlotly();\r\n",
       "    };\r\n",
       "\r\n",
       "    document.getElementsByTagName('head')[0].appendChild(require_script);\r\n",
       "}\r\n",
       "else {\r\n",
       "    renderPlotly();\r\n",
       "}\r\n",
       "\r\n",
       "</script>\r\n"
      ]
     },
     "metadata": {},
     "output_type": "display_data"
    }
   ],
   "source": [
    "br.Indicators.``GDP per capita (constant LCU)`` |> candle |> Chart.WithTitle \"Variação do PIB per Capita\""
   ]
  },
  {
   "cell_type": "code",
   "execution_count": null,
   "metadata": {
    "dotnet_interactive": {
     "language": "fsharp"
    },
    "vscode": {
     "languageId": "dotnet-interactive.fsharp"
    }
   },
   "outputs": [
    {
     "data": {
      "text/html": [
       "<!DOCTYPE html>\r\n",
       "<div style=\"width: 900px; height: 500px;\" id=\"4eabe821-76ba-4335-b448-2bf9743840a6\"></div><script type=\"text/javascript\">\r\n",
       "\n",
       "var renderPlotly = function() {\n",
       "    var xplotRequire = require.config({context:'xplot-3.0.1',paths:{plotly:'https://cdn.plot.ly/plotly-1.49.2.min'}}) || require;\n",
       "    xplotRequire(['plotly'], function(Plotly) { \r\n",
       "\n",
       "            var data = [{\"type\":\"scatter\",\"x\":[1995,1996,1997,1998,1999],\"y\":[66.0070335542481,15.7576656002606,6.92671251629151,3.19507629280056,4.85844749902668],\"name\":\"FHC\"},{\"type\":\"scatter\",\"x\":[1999,2000,2001,2002,2003],\"y\":[4.85844749902668,7.04414105947266,6.84035902487525,8.4501643770833,14.7149197228147],\"name\":\"FHC\"},{\"type\":\"scatter\",\"x\":[2003,2004,2005,2006,2007],\"y\":[14.7149197228147,6.59718509985962,6.86953720898965,4.18356812896902,3.64127299102654],\"name\":\"Lula\"},{\"type\":\"scatter\",\"x\":[2007,2008,2009,2010,2011],\"y\":[3.64127299102654,5.67859390284171,4.88803479876804,5.03872690108066,6.63644962213085],\"name\":\"Lula\"},{\"type\":\"scatter\",\"x\":[2011,2012,2013,2014,2015],\"y\":[6.63644962213085,5.40349914037009,6.204310666401,6.32904015516142,9.02990102416129],\"name\":\"Dilma\"},{\"type\":\"scatter\",\"x\":[2015,2016,2017],\"y\":[9.02990102416129,8.73914352329393,3.44637335032672],\"name\":\"Dilma\"},{\"type\":\"scatter\",\"x\":[2017,2018],\"y\":[3.44637335032672,3.66485028376724],\"name\":\"Temer\"},{\"type\":\"scatter\",\"x\":[2018,2019,2020,2021],\"y\":[3.66485028376724,3.73297621216894,3.21176803803379,8.30165975585676],\"name\":\"Bolsonaro\"}];\n",
       "           var layout = {\"title\":\"Inflação, preços ao consumidor (% anual)\"};\n",
       "           Plotly.newPlot('4eabe821-76ba-4335-b448-2bf9743840a6', data, layout);\n",
       "        \r\n",
       "});\n",
       "};\r\n",
       "// ensure `require` is available globally\r\n",
       "if ((typeof(require) !==  typeof(Function)) || (typeof(require.config) !== typeof(Function))) {\r\n",
       "    let require_script = document.createElement('script');\r\n",
       "    require_script.setAttribute('src', 'https://cdnjs.cloudflare.com/ajax/libs/require.js/2.3.6/require.min.js');\r\n",
       "    require_script.setAttribute('type', 'text/javascript');\r\n",
       "    \r\n",
       "    \r\n",
       "    require_script.onload = function() {\r\n",
       "        renderPlotly();\r\n",
       "    };\r\n",
       "\r\n",
       "    document.getElementsByTagName('head')[0].appendChild(require_script);\r\n",
       "}\r\n",
       "else {\r\n",
       "    renderPlotly();\r\n",
       "}\r\n",
       "\r\n",
       "</script>\r\n"
      ]
     },
     "metadata": {},
     "output_type": "display_data"
    }
   ],
   "source": [
    "br.Indicators.``Inflation, consumer prices (annual %)``\n",
    "|> chart \"Inflação, preços ao consumidor (% anual)\""
   ]
  },
  {
   "cell_type": "code",
   "execution_count": null,
   "metadata": {
    "dotnet_interactive": {
     "language": "fsharp"
    },
    "vscode": {
     "languageId": "dotnet-interactive.fsharp"
    }
   },
   "outputs": [
    {
     "data": {
      "text/html": [
       "<!DOCTYPE html>\r\n",
       "<div style=\"width: 900px; height: 500px;\" id=\"b01f483d-c168-45e4-85c4-577f554574a9\"></div><script type=\"text/javascript\">\r\n",
       "\n",
       "var renderPlotly = function() {\n",
       "    var xplotRequire = require.config({context:'xplot-3.0.1',paths:{plotly:'https://cdn.plot.ly/plotly-1.49.2.min'}}) || require;\n",
       "    xplotRequire(['plotly'], function(Plotly) { \r\n",
       "\n",
       "            var data = [{\"type\":\"scatter\",\"x\":[1995,1996,1997,1998,1999],\"y\":[6.42000007629395,7.25,8.15999984741211,9.42000007629395,10.210000038147],\"name\":\"FHC\"},{\"type\":\"scatter\",\"x\":[1999,2000,2001,2002,2003],\"y\":[10.210000038147,9.56099987030029,9.60999965667725,9.36999988555908,9.98999977111816],\"name\":\"FHC\"},{\"type\":\"scatter\",\"x\":[2003,2004,2005,2006,2007],\"y\":[9.98999977111816,9.10999965667725,9.56999969482422,8.64000034332275,8.32999992370605],\"name\":\"Lula\"},{\"type\":\"scatter\",\"x\":[2007,2008,2009,2010,2011],\"y\":[8.32999992370605,7.34000015258789,8.52000045776367,7.27400016784668,6.92000007629395],\"name\":\"Lula\"},{\"type\":\"scatter\",\"x\":[2011,2012,2013,2014,2015],\"y\":[6.92000007629395,7.19000005722046,6.98000001907349,6.65999984741211,8.43000030517578],\"name\":\"Dilma\"},{\"type\":\"scatter\",\"x\":[2015,2016,2017],\"y\":[8.43000030517578,11.6000003814697,12.8199996948242],\"name\":\"Dilma\"},{\"type\":\"scatter\",\"x\":[2017,2018],\"y\":[12.8199996948242,12.3299999237061],\"name\":\"Temer\"},{\"type\":\"scatter\",\"x\":[2018,2019,2020,2021],\"y\":[12.3299999237061,11.9300003051758,13.6899995803833,14.4029998779297],\"name\":\"Bolsonaro\"}];\n",
       "           var layout = {\"title\":\"Desemprego\"};\n",
       "           Plotly.newPlot('b01f483d-c168-45e4-85c4-577f554574a9', data, layout);\n",
       "        \r\n",
       "});\n",
       "};\r\n",
       "// ensure `require` is available globally\r\n",
       "if ((typeof(require) !==  typeof(Function)) || (typeof(require.config) !== typeof(Function))) {\r\n",
       "    let require_script = document.createElement('script');\r\n",
       "    require_script.setAttribute('src', 'https://cdnjs.cloudflare.com/ajax/libs/require.js/2.3.6/require.min.js');\r\n",
       "    require_script.setAttribute('type', 'text/javascript');\r\n",
       "    \r\n",
       "    \r\n",
       "    require_script.onload = function() {\r\n",
       "        renderPlotly();\r\n",
       "    };\r\n",
       "\r\n",
       "    document.getElementsByTagName('head')[0].appendChild(require_script);\r\n",
       "}\r\n",
       "else {\r\n",
       "    renderPlotly();\r\n",
       "}\r\n",
       "\r\n",
       "</script>\r\n"
      ]
     },
     "metadata": {},
     "output_type": "display_data"
    }
   ],
   "source": [
    "br.Indicators.``Unemployment, total (% of total labor force) (modeled ILO estimate)``\n",
    "|> chart \"Desemprego\""
   ]
  },
  {
   "cell_type": "code",
   "execution_count": null,
   "metadata": {
    "dotnet_interactive": {
     "language": "fsharp"
    },
    "vscode": {
     "languageId": "dotnet-interactive.fsharp"
    }
   },
   "outputs": [
    {
     "data": {
      "text/html": [
       "<!DOCTYPE html>\r\n",
       "<div style=\"width: 900px; height: 500px;\" id=\"6f870a4f-616a-4c59-bde4-05d7610ef037\"></div><script type=\"text/javascript\">\r\n",
       "\n",
       "var renderPlotly = function() {\n",
       "    var xplotRequire = require.config({context:'xplot-3.0.1',paths:{plotly:'https://cdn.plot.ly/plotly-1.49.2.min'}}) || require;\n",
       "    xplotRequire(['plotly'], function(Plotly) { \r\n",
       "\n",
       "            var data = [{\"type\":\"scatter\",\"x\":[1995,1996,1997,1998,1999],\"y\":[91.728598,92.867095,93.354139,94.193812,94.76296],\"name\":\"FHC\"},{\"type\":\"scatter\",\"x\":[1999,2000,2001,2002,2003],\"y\":[94.76296,94.391716003418,96.0165252685547,96.6529922485352,96.980094909668],\"name\":\"FHC\"},{\"type\":\"scatter\",\"x\":[2003,2004,2005,2006,2007],\"y\":[96.980094909668,96.7651062011719,97.0935134887695,97.5943145751953,98.1253814697266],\"name\":\"Lula\"},{\"type\":\"scatter\",\"x\":[2007,2008,2009,2010,2011],\"y\":[98.1253814697266,98.5266265869141,98.8569412231445,98.5999984741211,99.3286895751953],\"name\":\"Lula\"},{\"type\":\"scatter\",\"x\":[2011,2012,2013,2014,2015],\"y\":[99.3286895751953,99.5194931030273,99.5751495361328,99.6502456665039,99.7108993530273],\"name\":\"Dilma\"},{\"type\":\"scatter\",\"x\":[2015,2016,2017],\"y\":[99.7108993530273,99.6999969482422,99.8000030517578],\"name\":\"Dilma\"},{\"type\":\"scatter\",\"x\":[2017,2018],\"y\":[99.8000030517578,99.6999969482422],\"name\":\"Temer\"},{\"type\":\"scatter\",\"x\":[2018,2019,2020],\"y\":[99.6999969482422,99.8000030517578,100.0],\"name\":\"Bolsonaro\"}];\n",
       "           var layout = {\"title\":\"Acesso a Eletricidade\"};\n",
       "           Plotly.newPlot('6f870a4f-616a-4c59-bde4-05d7610ef037', data, layout);\n",
       "        \r\n",
       "});\n",
       "};\r\n",
       "// ensure `require` is available globally\r\n",
       "if ((typeof(require) !==  typeof(Function)) || (typeof(require.config) !== typeof(Function))) {\r\n",
       "    let require_script = document.createElement('script');\r\n",
       "    require_script.setAttribute('src', 'https://cdnjs.cloudflare.com/ajax/libs/require.js/2.3.6/require.min.js');\r\n",
       "    require_script.setAttribute('type', 'text/javascript');\r\n",
       "    \r\n",
       "    \r\n",
       "    require_script.onload = function() {\r\n",
       "        renderPlotly();\r\n",
       "    };\r\n",
       "\r\n",
       "    document.getElementsByTagName('head')[0].appendChild(require_script);\r\n",
       "}\r\n",
       "else {\r\n",
       "    renderPlotly();\r\n",
       "}\r\n",
       "\r\n",
       "</script>\r\n"
      ]
     },
     "metadata": {},
     "output_type": "display_data"
    }
   ],
   "source": [
    "br.Indicators.``Access to electricity (% of population)``\n",
    "|> chart \"Acesso a Eletricidade\""
   ]
  }
 ],
 "metadata": {
  "kernelspec": {
   "display_name": ".NET (C#)",
   "language": "C#",
   "name": ".net-csharp"
  },
  "language_info": {
   "file_extension": ".cs",
   "mimetype": "text/x-csharp",
   "name": "C#",
   "pygments_lexer": "csharp",
   "version": "9.0"
  },
  "orig_nbformat": 4
 },
 "nbformat": 4,
 "nbformat_minor": 2
}
