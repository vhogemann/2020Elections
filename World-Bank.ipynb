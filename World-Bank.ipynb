{
 "cells": [
  {
   "cell_type": "code",
   "execution_count": null,
   "metadata": {
    "dotnet_interactive": {
     "language": "fsharp"
    },
    "vscode": {
     "languageId": "dotnet-interactive.fsharp"
    }
   },
   "outputs": [
    {
     "data": {
      "text/html": [
       "<div><div><strong>Restore sources</strong><ul><li><span>https://pkgs.dev.azure.com/dnceng/public/_packaging/dotnet-tools/nuget/v3/index.json</span></li><li><span>https://pkgs.dev.azure.com/dnceng/public/_packaging/dotnet5/nuget/v3/index.json</span></li></ul></div><div></div><div><strong>Installed Packages</strong><ul><li><span>FSharp.Data, 4.2.8</span></li><li><span>XPlot.Plotly.Interactive, 4.0.6</span></li></ul></div></div>"
      ]
     },
     "metadata": {},
     "output_type": "display_data"
    },
    {
     "data": {
      "text/markdown": [
       "Loading extensions from `XPlot.Plotly.Interactive.dll`"
      ]
     },
     "metadata": {},
     "output_type": "display_data"
    },
    {
     "data": {
      "text/markdown": [
       "Configuring PowerShell Kernel for XPlot.Plotly integration."
      ]
     },
     "metadata": {},
     "output_type": "display_data"
    },
    {
     "data": {
      "text/markdown": [
       "Installed support for XPlot.Plotly."
      ]
     },
     "metadata": {},
     "output_type": "display_data"
    },
    {
     "data": {
      "text/plain": [
       "Ready"
      ]
     },
     "metadata": {},
     "output_type": "display_data"
    }
   ],
   "source": [
    "\n",
    "#i \"nuget:https://pkgs.dev.azure.com/dnceng/public/_packaging/dotnet5/nuget/v3/index.json\" \n",
    "#i \"nuget:https://pkgs.dev.azure.com/dnceng/public/_packaging/dotnet-tools/nuget/v3/index.json\" \n",
    "\n",
    "#r \"nuget: XPlot.Plotly.Interactive, 4.0.6\"\n",
    "\n",
    "#r \"nuget: FSharp.Data\"\n",
    "\n",
    "open FSharp.Data\n",
    "\n",
    "let wb = WorldBankData.GetDataContext()\n",
    "let br = wb.Countries.``Brazil``\n",
    "\n",
    "let getInterval indicator starting ending =\n",
    "    seq {\n",
    "        for year, value in indicator do\n",
    "            yield year, value\n",
    "    }\n",
    "    |> Seq.filter(fun (year,_) -> year >= starting && year <= ending)\n",
    "    |> Seq.toList\n",
    "    |> List.unzip\n",
    "\n",
    "open XPlot.Plotly\n",
    "\n",
    "let getScatter title (year, value) =\n",
    "    Scatter( name = title, x = year, y = value)\n",
    "\n",
    "\"Ready\""
   ]
  },
  {
   "cell_type": "code",
   "execution_count": null,
   "metadata": {
    "dotnet_interactive": {
     "language": "fsharp"
    },
    "vscode": {
     "languageId": "dotnet-interactive.fsharp"
    }
   },
   "outputs": [
    {
     "ename": "Error",
     "evalue": "System.ArgumentException: No formatter is registered for MIME type svg.\n   at Microsoft.DotNet.Interactive.Formatting.Formatter.InferPreferredFormatter(Type actualType, String mimeType) in D:\\a\\_work\\1\\s\\src\\Microsoft.DotNet.Interactive.Formatting\\Formatter.cs:line 556\n   at Microsoft.DotNet.Interactive.Formatting.Formatter.<>c__DisplayClass52_0.<GetPreferredFormatterFor>b__0(ValueTuple`2 tuple) in D:\\a\\_work\\1\\s\\src\\Microsoft.DotNet.Interactive.Formatting\\Formatter.cs:line 508\n   at System.Collections.Concurrent.ConcurrentDictionary`2.GetOrAdd(TKey key, Func`2 valueFactory)\n   at Microsoft.DotNet.Interactive.Formatting.Formatter`1.FormatTo(T obj, FormatContext context, String mimeType) in D:\\a\\_work\\1\\s\\src\\Microsoft.DotNet.Interactive.Formatting\\Formatter{T}.cs:line 58\n   at Microsoft.DotNet.Interactive.Formatting.Formatter.FormatTo[T](T obj, FormatContext context, String mimeType) in D:\\a\\_work\\1\\s\\src\\Microsoft.DotNet.Interactive.Formatting\\Formatter.cs:line 303\n   at Microsoft.DotNet.Interactive.Formatting.Formatter.ToDisplayString(Object obj, String mimeType) in D:\\a\\_work\\1\\s\\src\\Microsoft.DotNet.Interactive.Formatting\\Formatter.cs:line 260\n   at Microsoft.DotNet.Interactive.FormattedValue.<>c__DisplayClass7_0.<FromObject>b__1(String mimeType) in D:\\a\\_work\\1\\s\\src\\Microsoft.DotNet.Interactive\\FormattedValue.cs:line 37\n   at System.Linq.Enumerable.SelectArrayIterator`2.ToArray()\n   at Microsoft.DotNet.Interactive.FormattedValue.FromObject(Object value, String[] mimeTypes) in D:\\a\\_work\\1\\s\\src\\Microsoft.DotNet.Interactive\\FormattedValue.cs:line 37\n   at Microsoft.DotNet.Interactive.KernelInvocationContextExtensions.Display(KernelInvocationContext context, Object value, String[] mimeTypes) in D:\\a\\_work\\1\\s\\src\\Microsoft.DotNet.Interactive\\KernelInvocationContextExtensions.cs:line 22\n   at System.DisplayExtensions.Display(Object value, String[] mimeTypes) in D:\\a\\_work\\1\\s\\src\\Microsoft.DotNet.Interactive\\DisplayExtensions.cs:line 20\n   at <StartupCode$FSI_0014>.$FSI_0014.main@()",
     "output_type": "error",
     "traceback": [
      "System.ArgumentException: No formatter is registered for MIME type svg.\n",
      "   at Microsoft.DotNet.Interactive.Formatting.Formatter.InferPreferredFormatter(Type actualType, String mimeType) in D:\\a\\_work\\1\\s\\src\\Microsoft.DotNet.Interactive.Formatting\\Formatter.cs:line 556\n",
      "   at Microsoft.DotNet.Interactive.Formatting.Formatter.<>c__DisplayClass52_0.<GetPreferredFormatterFor>b__0(ValueTuple`2 tuple) in D:\\a\\_work\\1\\s\\src\\Microsoft.DotNet.Interactive.Formatting\\Formatter.cs:line 508\n",
      "   at System.Collections.Concurrent.ConcurrentDictionary`2.GetOrAdd(TKey key, Func`2 valueFactory)\n",
      "   at Microsoft.DotNet.Interactive.Formatting.Formatter`1.FormatTo(T obj, FormatContext context, String mimeType) in D:\\a\\_work\\1\\s\\src\\Microsoft.DotNet.Interactive.Formatting\\Formatter{T}.cs:line 58\n",
      "   at Microsoft.DotNet.Interactive.Formatting.Formatter.FormatTo[T](T obj, FormatContext context, String mimeType) in D:\\a\\_work\\1\\s\\src\\Microsoft.DotNet.Interactive.Formatting\\Formatter.cs:line 303\n",
      "   at Microsoft.DotNet.Interactive.Formatting.Formatter.ToDisplayString(Object obj, String mimeType) in D:\\a\\_work\\1\\s\\src\\Microsoft.DotNet.Interactive.Formatting\\Formatter.cs:line 260\n",
      "   at Microsoft.DotNet.Interactive.FormattedValue.<>c__DisplayClass7_0.<FromObject>b__1(String mimeType) in D:\\a\\_work\\1\\s\\src\\Microsoft.DotNet.Interactive\\FormattedValue.cs:line 37\n",
      "   at System.Linq.Enumerable.SelectArrayIterator`2.ToArray()\n",
      "   at Microsoft.DotNet.Interactive.FormattedValue.FromObject(Object value, String[] mimeTypes) in D:\\a\\_work\\1\\s\\src\\Microsoft.DotNet.Interactive\\FormattedValue.cs:line 37\n",
      "   at Microsoft.DotNet.Interactive.KernelInvocationContextExtensions.Display(KernelInvocationContext context, Object value, String[] mimeTypes) in D:\\a\\_work\\1\\s\\src\\Microsoft.DotNet.Interactive\\KernelInvocationContextExtensions.cs:line 22\n",
      "   at System.DisplayExtensions.Display(Object value, String[] mimeTypes) in D:\\a\\_work\\1\\s\\src\\Microsoft.DotNet.Interactive\\DisplayExtensions.cs:line 20\n",
      "   at <StartupCode$FSI_0014>.$FSI_0014.main@()"
     ]
    }
   ],
   "source": [
    "let getGdp starting ending title = \n",
    "    let gdp = br.Indicators.``GDP growth (annual %)``\n",
    "    getInterval gdp starting ending |> getScatter title\n",
    "let chart = \n",
    "    seq {\n",
    "        yield getGdp 2003 2011 \"Lula\"\n",
    "        yield getGdp 2011 2016 \"Dilma\"\n",
    "        yield getGdp 2016 2018 \"Temer\"\n",
    "        yield getGdp 2018 2022 \"Bolsonaro\"\n",
    "    }\n",
    "    |> Chart.Plot\n",
    "    |> Chart.WithTitle \"GDP growth (annual %)\"\n",
    "\n",
    "\n",
    "display (chart.Display(\"svg\"))"
   ]
  },
  {
   "cell_type": "code",
   "execution_count": null,
   "metadata": {
    "dotnet_interactive": {
     "language": "fsharp"
    },
    "vscode": {
     "languageId": "dotnet-interactive.fsharp"
    }
   },
   "outputs": [
    {
     "data": {
      "text/html": [
       "<!DOCTYPE html>\n",
       "<div style=\"width: 900px; height: 500px;\" id=\"fb213972-e9dd-4921-b05e-2b26666573c1\"></div><script type=\"text/javascript\">\n",
       "\n",
       "var renderPlotly = function() {\n",
       "    var xplotRequire = require.config({context:'xplot-3.0.1',paths:{plotly:'https://cdn.plot.ly/plotly-1.49.2.min'}}) || require;\n",
       "    xplotRequire(['plotly'], function(Plotly) { \n",
       "\n",
       "            var data = [{\"type\":\"scatter\",\"x\":[2003,2004,2005,2006,2007,2008,2009,2010,2011],\"y\":[14.7149197228147,6.59718509985962,6.86953720898965,4.18356812896902,3.64127299102654,5.67859390284171,4.88803479876804,5.03872690108066,6.63644962213085],\"name\":\"Lula\"},{\"type\":\"scatter\",\"x\":[2011,2012,2013,2014,2015,2016],\"y\":[6.63644962213085,5.40349914037009,6.204310666401,6.32904015516142,9.02990102416129,8.73914352329393],\"name\":\"Dilma\"},{\"type\":\"scatter\",\"x\":[2016,2017,2018],\"y\":[8.73914352329393,3.44637335032672,3.66485028376724],\"name\":\"Temer\"},{\"type\":\"scatter\",\"x\":[2018,2019,2020,2021],\"y\":[3.66485028376724,3.73297621216894,3.21176803803379,8.30165975585676],\"name\":\"Bolsonaro\"}];\n",
       "           var layout = {\"title\":\"Inflação, preços ao consumidor\"};\n",
       "           Plotly.newPlot('fb213972-e9dd-4921-b05e-2b26666573c1', data, layout);\n",
       "        \n",
       "});\n",
       "};\n",
       "// ensure `require` is available globally\r\n",
       "if ((typeof(require) !==  typeof(Function)) || (typeof(require.config) !== typeof(Function))) {\r\n",
       "    let require_script = document.createElement('script');\r\n",
       "    require_script.setAttribute('src', 'https://cdnjs.cloudflare.com/ajax/libs/require.js/2.3.6/require.min.js');\r\n",
       "    require_script.setAttribute('type', 'text/javascript');\r\n",
       "    \r\n",
       "    \r\n",
       "    require_script.onload = function() {\r\n",
       "        renderPlotly();\r\n",
       "    };\r\n",
       "\r\n",
       "    document.getElementsByTagName('head')[0].appendChild(require_script);\r\n",
       "}\r\n",
       "else {\r\n",
       "    renderPlotly();\r\n",
       "}\r\n",
       "\n",
       "</script>\n"
      ]
     },
     "metadata": {},
     "output_type": "display_data"
    }
   ],
   "source": [
    "let getInflation starting ending title = \n",
    "    let gdp = br.Indicators.``Inflation, consumer prices (annual %)``\n",
    "    getInterval gdp starting ending |> getScatter title\n",
    "seq {\n",
    "    yield getInflation 2003 2011 \"Lula\"\n",
    "    yield getInflation 2011 2016 \"Dilma\"\n",
    "    yield getInflation 2016 2018 \"Temer\"\n",
    "    yield getInflation 2018 2022 \"Bolsonaro\"\n",
    "}\n",
    "|> Chart.Plot\n",
    "|> Chart.WithTitle \"Inflação, preços ao consumidor\""
   ]
  },
  {
   "cell_type": "code",
   "execution_count": null,
   "metadata": {
    "dotnet_interactive": {
     "language": "fsharp"
    },
    "vscode": {
     "languageId": "dotnet-interactive.fsharp"
    }
   },
   "outputs": [
    {
     "data": {
      "text/html": [
       "<!DOCTYPE html>\n",
       "<div style=\"width: 900px; height: 500px;\" id=\"cc59390d-f603-48c2-8373-f6921bc4558c\"></div><script type=\"text/javascript\">\n",
       "\n",
       "var renderPlotly = function() {\n",
       "    var xplotRequire = require.config({context:'xplot-3.0.1',paths:{plotly:'https://cdn.plot.ly/plotly-1.49.2.min'}}) || require;\n",
       "    xplotRequire(['plotly'], function(Plotly) { \n",
       "\n",
       "            var data = [{\"type\":\"scatter\",\"x\":[2003,2004,2005,2006,2007,2008,2009,2010,2011],\"y\":[9.98999977111816,9.10999965667725,9.56999969482422,8.64000034332275,8.32999992370605,7.34000015258789,8.52000045776367,7.27400016784668,6.92000007629395],\"name\":\"Lula\"},{\"type\":\"scatter\",\"x\":[2011,2012,2013,2014,2015,2016],\"y\":[6.92000007629395,7.19000005722046,6.98000001907349,6.65999984741211,8.43000030517578,11.6000003814697],\"name\":\"Dilma\"},{\"type\":\"scatter\",\"x\":[2016,2017,2018],\"y\":[11.6000003814697,12.8199996948242,12.3299999237061],\"name\":\"Temer\"},{\"type\":\"scatter\",\"x\":[2018,2019,2020,2021],\"y\":[12.3299999237061,11.9300003051758,13.6899995803833,14.4029998779297],\"name\":\"Bolsonaro\"}];\n",
       "           var layout = {\"title\":\"Desemprego\"};\n",
       "           Plotly.newPlot('cc59390d-f603-48c2-8373-f6921bc4558c', data, layout);\n",
       "        \n",
       "});\n",
       "};\n",
       "// ensure `require` is available globally\r\n",
       "if ((typeof(require) !==  typeof(Function)) || (typeof(require.config) !== typeof(Function))) {\r\n",
       "    let require_script = document.createElement('script');\r\n",
       "    require_script.setAttribute('src', 'https://cdnjs.cloudflare.com/ajax/libs/require.js/2.3.6/require.min.js');\r\n",
       "    require_script.setAttribute('type', 'text/javascript');\r\n",
       "    \r\n",
       "    \r\n",
       "    require_script.onload = function() {\r\n",
       "        renderPlotly();\r\n",
       "    };\r\n",
       "\r\n",
       "    document.getElementsByTagName('head')[0].appendChild(require_script);\r\n",
       "}\r\n",
       "else {\r\n",
       "    renderPlotly();\r\n",
       "}\r\n",
       "\n",
       "</script>\n"
      ]
     },
     "metadata": {},
     "output_type": "display_data"
    }
   ],
   "source": [
    "let getUnemployment starting ending title = \n",
    "    let gdp = br.Indicators.``Unemployment, total (% of total labor force) (modeled ILO estimate)``\n",
    "    getInterval gdp starting ending |> getScatter title\n",
    "seq {\n",
    "    yield getUnemployment 2003 2011 \"Lula\"\n",
    "    yield getUnemployment 2011 2016 \"Dilma\"\n",
    "    yield getUnemployment 2016 2018 \"Temer\"\n",
    "    yield getUnemployment 2018 2022 \"Bolsonaro\"\n",
    "}\n",
    "|> Chart.Plot\n",
    "|> Chart.WithTitle \"Desemprego\""
   ]
  }
 ],
 "metadata": {
  "kernelspec": {
   "display_name": ".NET (C#)",
   "language": "C#",
   "name": ".net-csharp"
  },
  "language_info": {
   "file_extension": ".cs",
   "mimetype": "text/x-csharp",
   "name": "C#",
   "pygments_lexer": "csharp",
   "version": "9.0"
  },
  "orig_nbformat": 4
 },
 "nbformat": 4,
 "nbformat_minor": 2
}
