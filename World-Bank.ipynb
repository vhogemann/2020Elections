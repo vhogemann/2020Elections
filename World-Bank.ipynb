{
 "cells": [
  {
   "cell_type": "code",
   "execution_count": null,
   "metadata": {
    "dotnet_interactive": {
     "language": "fsharp"
    },
    "vscode": {
     "languageId": "dotnet-interactive.fsharp"
    }
   },
   "outputs": [
    {
     "data": {
      "text/html": [
       "<div><div><strong>Restore sources</strong><ul><li><span>https://pkgs.dev.azure.com/dnceng/public/_packaging/dotnet-tools/nuget/v3/index.json</span></li><li><span>https://pkgs.dev.azure.com/dnceng/public/_packaging/dotnet5/nuget/v3/index.json</span></li></ul></div><div></div><div><strong>Installed Packages</strong><ul><li><span>FSharp.Data, 4.2.8</span></li><li><span>XPlot.Plotly.Interactive, 4.0.6</span></li></ul></div></div>"
      ]
     },
     "metadata": {},
     "output_type": "display_data"
    },
    {
     "data": {
      "text/plain": [
       "Ready"
      ]
     },
     "metadata": {},
     "output_type": "display_data"
    }
   ],
   "source": [
    "\n",
    "#i \"nuget:https://pkgs.dev.azure.com/dnceng/public/_packaging/dotnet5/nuget/v3/index.json\" \n",
    "#i \"nuget:https://pkgs.dev.azure.com/dnceng/public/_packaging/dotnet-tools/nuget/v3/index.json\" \n",
    "\n",
    "#r \"nuget: XPlot.Plotly.Interactive, 4.0.6\"\n",
    "\n",
    "#r \"nuget: FSharp.Data\"\n",
    "\n",
    "open FSharp.Data\n",
    "\n",
    "let wb = WorldBankData.GetDataContext()\n",
    "let br = wb.Countries.``Brazil``\n",
    "\n",
    "let getInterval indicator starting ending =\n",
    "    seq {\n",
    "        for year, value in indicator do\n",
    "            yield year, value\n",
    "    }\n",
    "    |> Seq.filter(fun (year,_) -> year >= starting && year <= ending)\n",
    "    |> Seq.toList\n",
    "    |> List.unzip\n",
    "\n",
    "open XPlot.Plotly\n",
    "\n",
    "let getScatter title (year, value) =\n",
    "    Scatter( name = title, x = year, y = value)\n",
    "\n",
    "\"Ready\""
   ]
  },
  {
   "cell_type": "code",
   "execution_count": null,
   "metadata": {
    "dotnet_interactive": {
     "language": "fsharp"
    },
    "vscode": {
     "languageId": "dotnet-interactive.fsharp"
    }
   },
   "outputs": [
    {
     "data": {
      "text/html": [
       "<!DOCTYPE html>\n",
       "<div style=\"width: 900px; height: 500px;\" id=\"5c2d2ecd-39d7-4d23-9d81-b3717f9d3e1d\"></div><script type=\"text/javascript\">\n",
       "\n",
       "var renderPlotly = function() {\n",
       "    var xplotRequire = require.config({context:'xplot-3.0.1',paths:{plotly:'https://cdn.plot.ly/plotly-1.49.2.min'}}) || require;\n",
       "    xplotRequire(['plotly'], function(Plotly) { \n",
       "\n",
       "            var data = [{\"type\":\"scatter\",\"x\":[2003,2004,2005,2006,2007,2008,2009,2010,2011],\"y\":[1.14082899877101,5.75996463685998,3.20213206216255,3.96198870899485,6.06987060733128,5.09419544811998,-0.12581200299141,7.52822581812151,3.97442307944702],\"name\":\"Lula\"},{\"type\":\"scatter\",\"x\":[2011,2012,2013,2014,2015,2016],\"y\":[3.97442307944702,1.92117598509462,3.0048226702888,0.503955740273241,-3.54576339347278,-3.2759169063211],\"name\":\"Dilma\"},{\"type\":\"scatter\",\"x\":[2016,2017,2018],\"y\":[-3.2759169063211,1.32286905390815,1.78366676137003],\"name\":\"Temer\"},{\"type\":\"scatter\",\"x\":[2018,2019,2020],\"y\":[1.78366676137003,1.41115298506995,-4.05904827267271],\"name\":\"Bolsonaro\"}];\n",
       "           var layout = {\"title\":\"GDP growth (annual %)\"};\n",
       "           Plotly.newPlot('5c2d2ecd-39d7-4d23-9d81-b3717f9d3e1d', data, layout);\n",
       "        \n",
       "});\n",
       "};\n",
       "// ensure `require` is available globally\r\n",
       "if ((typeof(require) !==  typeof(Function)) || (typeof(require.config) !== typeof(Function))) {\r\n",
       "    let require_script = document.createElement('script');\r\n",
       "    require_script.setAttribute('src', 'https://cdnjs.cloudflare.com/ajax/libs/require.js/2.3.6/require.min.js');\r\n",
       "    require_script.setAttribute('type', 'text/javascript');\r\n",
       "    \r\n",
       "    \r\n",
       "    require_script.onload = function() {\r\n",
       "        renderPlotly();\r\n",
       "    };\r\n",
       "\r\n",
       "    document.getElementsByTagName('head')[0].appendChild(require_script);\r\n",
       "}\r\n",
       "else {\r\n",
       "    renderPlotly();\r\n",
       "}\r\n",
       "\n",
       "</script>\n"
      ]
     },
     "metadata": {},
     "output_type": "display_data"
    }
   ],
   "source": [
    "let getGdp starting ending title = \n",
    "    let gdp = br.Indicators.``GDP growth (annual %)``\n",
    "    getInterval gdp starting ending |> getScatter title\n",
    "seq {\n",
    "    yield getGdp 2003 2011 \"Lula\"\n",
    "    yield getGdp 2011 2016 \"Dilma\"\n",
    "    yield getGdp 2016 2018 \"Temer\"\n",
    "    yield getGdp 2018 2022 \"Bolsonaro\"\n",
    "}\n",
    "|> Chart.Plot\n",
    "|> Chart.WithTitle \"GDP growth (annual %)\""
   ]
  },
  {
   "cell_type": "code",
   "execution_count": null,
   "metadata": {
    "dotnet_interactive": {
     "language": "fsharp"
    },
    "vscode": {
     "languageId": "dotnet-interactive.fsharp"
    }
   },
   "outputs": [
    {
     "data": {
      "text/html": [
       "<!DOCTYPE html>\n",
       "<div style=\"width: 900px; height: 500px;\" id=\"763d3f82-e046-46a6-99fe-c6b1831c454e\"></div><script type=\"text/javascript\">\n",
       "\n",
       "var renderPlotly = function() {\n",
       "    var xplotRequire = require.config({context:'xplot-3.0.1',paths:{plotly:'https://cdn.plot.ly/plotly-1.49.2.min'}}) || require;\n",
       "    xplotRequire(['plotly'], function(Plotly) { \n",
       "\n",
       "            var data = [{\"type\":\"scatter\",\"x\":[2003,2004,2005,2006,2007,2008,2009,2010,2011],\"y\":[14.7149197228147,6.59718509985962,6.86953720898965,4.18356812896902,3.64127299102654,5.67859390284171,4.88803479876804,5.03872690108066,6.63644962213085],\"name\":\"Lula\"},{\"type\":\"scatter\",\"x\":[2011,2012,2013,2014,2015,2016],\"y\":[6.63644962213085,5.40349914037009,6.204310666401,6.32904015516142,9.02990102416129,8.73914352329393],\"name\":\"Dilma\"},{\"type\":\"scatter\",\"x\":[2016,2017,2018],\"y\":[8.73914352329393,3.44637335032672,3.66485028376724],\"name\":\"Temer\"},{\"type\":\"scatter\",\"x\":[2018,2019,2020,2021],\"y\":[3.66485028376724,3.73297621216894,3.21176803803379,8.30165975585676],\"name\":\"Bolsonaro\"}];\n",
       "           var layout = {\"title\":\"Inflação\"};\n",
       "           Plotly.newPlot('763d3f82-e046-46a6-99fe-c6b1831c454e', data, layout);\n",
       "        \n",
       "});\n",
       "};\n",
       "// ensure `require` is available globally\r\n",
       "if ((typeof(require) !==  typeof(Function)) || (typeof(require.config) !== typeof(Function))) {\r\n",
       "    let require_script = document.createElement('script');\r\n",
       "    require_script.setAttribute('src', 'https://cdnjs.cloudflare.com/ajax/libs/require.js/2.3.6/require.min.js');\r\n",
       "    require_script.setAttribute('type', 'text/javascript');\r\n",
       "    \r\n",
       "    \r\n",
       "    require_script.onload = function() {\r\n",
       "        renderPlotly();\r\n",
       "    };\r\n",
       "\r\n",
       "    document.getElementsByTagName('head')[0].appendChild(require_script);\r\n",
       "}\r\n",
       "else {\r\n",
       "    renderPlotly();\r\n",
       "}\r\n",
       "\n",
       "</script>\n"
      ]
     },
     "metadata": {},
     "output_type": "display_data"
    }
   ],
   "source": [
    "let getInflation starting ending title = \n",
    "    let gdp = br.Indicators.``Inflation, consumer prices (annual %)``\n",
    "    getInterval gdp starting ending |> getScatter title\n",
    "seq {\n",
    "    yield getInflation 2003 2011 \"Lula\"\n",
    "    yield getInflation 2011 2016 \"Dilma\"\n",
    "    yield getInflation 2016 2018 \"Temer\"\n",
    "    yield getInflation 2018 2022 \"Bolsonaro\"\n",
    "}\n",
    "|> Chart.Plot\n",
    "|> Chart.WithTitle \"Inflação, preços ao consumidor\""
   ]
  },
  {
   "cell_type": "code",
   "execution_count": null,
   "metadata": {
    "dotnet_interactive": {
     "language": "fsharp"
    },
    "vscode": {
     "languageId": "dotnet-interactive.fsharp"
    }
   },
   "outputs": [
    {
     "data": {
      "text/html": [
       "<!DOCTYPE html>\n",
       "<div style=\"width: 900px; height: 500px;\" id=\"62510331-3682-4143-a597-08ad3038b8bd\"></div><script type=\"text/javascript\">\n",
       "\n",
       "var renderPlotly = function() {\n",
       "    var xplotRequire = require.config({context:'xplot-3.0.1',paths:{plotly:'https://cdn.plot.ly/plotly-1.49.2.min'}}) || require;\n",
       "    xplotRequire(['plotly'], function(Plotly) { \n",
       "\n",
       "            var data = [{\"type\":\"scatter\",\"x\":[2003,2004,2005,2006,2007,2008,2009,2010,2011],\"y\":[9.98999977111816,9.10999965667725,9.56999969482422,8.64000034332275,8.32999992370605,7.34000015258789,8.52000045776367,7.27400016784668,6.92000007629395],\"name\":\"Lula\"},{\"type\":\"scatter\",\"x\":[2011,2012,2013,2014,2015,2016],\"y\":[6.92000007629395,7.19000005722046,6.98000001907349,6.65999984741211,8.43000030517578,11.6000003814697],\"name\":\"Dilma\"},{\"type\":\"scatter\",\"x\":[2016,2017,2018],\"y\":[11.6000003814697,12.8199996948242,12.3299999237061],\"name\":\"Temer\"},{\"type\":\"scatter\",\"x\":[2018,2019,2020,2021],\"y\":[12.3299999237061,11.9300003051758,13.6899995803833,14.4029998779297],\"name\":\"Bolsonaro\"}];\n",
       "           var layout = {\"title\":\"Inflação\"};\n",
       "           Plotly.newPlot('62510331-3682-4143-a597-08ad3038b8bd', data, layout);\n",
       "        \n",
       "});\n",
       "};\n",
       "// ensure `require` is available globally\r\n",
       "if ((typeof(require) !==  typeof(Function)) || (typeof(require.config) !== typeof(Function))) {\r\n",
       "    let require_script = document.createElement('script');\r\n",
       "    require_script.setAttribute('src', 'https://cdnjs.cloudflare.com/ajax/libs/require.js/2.3.6/require.min.js');\r\n",
       "    require_script.setAttribute('type', 'text/javascript');\r\n",
       "    \r\n",
       "    \r\n",
       "    require_script.onload = function() {\r\n",
       "        renderPlotly();\r\n",
       "    };\r\n",
       "\r\n",
       "    document.getElementsByTagName('head')[0].appendChild(require_script);\r\n",
       "}\r\n",
       "else {\r\n",
       "    renderPlotly();\r\n",
       "}\r\n",
       "\n",
       "</script>\n"
      ]
     },
     "metadata": {},
     "output_type": "display_data"
    }
   ],
   "source": [
    "let getUnemployment starting ending title = \n",
    "    let gdp = br.Indicators.``Unemployment, total (% of total labor force) (modeled ILO estimate)``\n",
    "    getInterval gdp starting ending |> getScatter title\n",
    "seq {\n",
    "    yield getUnemployment 2003 2011 \"Lula\"\n",
    "    yield getUnemployment 2011 2016 \"Dilma\"\n",
    "    yield getUnemployment 2016 2018 \"Temer\"\n",
    "    yield getUnemployment 2018 2022 \"Bolsonaro\"\n",
    "}\n",
    "|> Chart.Plot\n",
    "|> Chart.WithTitle \"Desemprego\""
   ]
  }
 ],
 "metadata": {
  "kernelspec": {
   "display_name": ".NET (C#)",
   "language": "C#",
   "name": ".net-csharp"
  },
  "language_info": {
   "file_extension": ".cs",
   "mimetype": "text/x-csharp",
   "name": "C#",
   "pygments_lexer": "csharp",
   "version": "9.0"
  },
  "orig_nbformat": 4
 },
 "nbformat": 4,
 "nbformat_minor": 2
}
