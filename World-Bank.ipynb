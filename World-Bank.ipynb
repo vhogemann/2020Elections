{
 "cells": [
  {
   "cell_type": "markdown",
   "metadata": {},
   "source": [
    "Dados do Banco Mundial segmentados por Governo\n",
    "===\n",
    "\n",
    "Seja bem vindo! Esse notebook contém código para consultar e visualizar dados da base do Banco Mundial no tempo, indicando qual era o governo da época. \n",
    "\n",
    "Você pode acessar um preview com os gráficos funcionando (o Github não suporta conteúdo com Javascript) pelo [nbviewer](https://nbviewer.org/github/vhogemann/Notebooks/blob/main/World-Bank.ipynb#). Ou então pode ter acesso a uma versão interativa usando o serviço do Binder pelo link abaixo:\n",
    "\n",
    " [![Binder](https://mybinder.org/badge_logo.svg)](https://mybinder.org/v2/gh/vhogemann/Notebooks/main?labpath=World-Bank.ipynb)\n",
    "\n",
    "Para executar esse notebook na sua máquina eu recomendo utilizar o [Visual Studio Code](https://code.visualstudio.com/), com a extensão [Polyglot Notebooks](https://marketplace.visualstudio.com/items?itemName=ms-dotnettools.dotnet-interactive-vscode#:~:text=To%20create%20a%20new%20polyglot,N%20key%20co) e [.NET 6.0+](https://dotnet.microsoft.com/en-us/download/dotnet/7.0).\n",
    "\n",
    "## Sobre esse Notebook\n",
    "\n",
    "Esse notebook foi escrito usando F#, que é uma linguagem multi-paradigma que roda na plataforma .NET da Microsoft. Os dados do Banco Mundial são acessados utilizando a excelente biblioteca [FSharp.Data](https://fsprojects.github.io/FSharp.Data/), mas você pode usar o [Google Public Data Explorer](https://www.google.com/publicdata/explore?ds=d5bncppjof8f9_) pra navegar pelos dados sem ter que se preocupar em lidar com código."
   ]
  },
  {
   "cell_type": "code",
   "execution_count": 1,
   "metadata": {
    "dotnet_interactive": {
     "language": "fsharp"
    },
    "vscode": {
     "languageId": "dotnet-interactive.fsharp"
    }
   },
   "outputs": [
    {
     "data": {
      "text/html": [
       "<div><div></div><div></div><div><strong>Installed Packages</strong><ul><li><span>FSharp.Data, 5.0.2</span></li><li><span>XPlot.Plotly.Interactive, 4.0.6</span></li></ul></div></div>"
      ]
     },
     "metadata": {},
     "output_type": "display_data"
    },
    {
     "data": {
      "text/markdown": [
       "Loading extensions from `XPlot.Plotly.Interactive.dll`"
      ]
     },
     "metadata": {},
     "output_type": "display_data"
    },
    {
     "data": {
      "text/markdown": [
       "Configuring PowerShell Kernel for XPlot.Plotly integration."
      ]
     },
     "metadata": {},
     "output_type": "display_data"
    },
    {
     "data": {
      "text/markdown": [
       "Installed support for XPlot.Plotly."
      ]
     },
     "metadata": {},
     "output_type": "display_data"
    }
   ],
   "source": [
    "#r \"nuget: XPlot.Plotly.Interactive, 4.0.6\"\n",
    "#r \"nuget: FSharp.Data\"\n",
    "\n",
    "open FSharp.Data\n",
    "open XPlot.Plotly\n",
    "\n",
    "type Mandate = {\n",
    "    name: string\n",
    "    starting: int\n",
    "    ending: int\n",
    "}\n",
    "\n",
    "let fhc1 = { name = \"FHC 1\"; starting = 1995; ending = 1999 }\n",
    "let fhc2 = { name = \"FHC 2\"; starting = 1999; ending = 2003}\n",
    "let lula1 = { name = \"Lula 1\"; starting = 2003; ending = 2007 }\n",
    "let lula2 = { name = \"Lula 2\"; starting = 2007; ending = 2011 }\n",
    "let dilma1 = { name = \"Dilma 1\"; starting = 2011; ending = 2015 }\n",
    "let dilma2 = { name = \"Dilma 2\"; starting = 2015; ending = 2017 }\n",
    "let temer = { name = \"Temer\"; starting = 2017; ending = 2018 }\n",
    "let bolsonaro = { name = \"Bolsonaro\"; starting = 2018; ending = 2022 }\n",
    "\n",
    "let mandates = [| fhc1; fhc2; lula1; lula2; dilma1; dilma2; temer; bolsonaro |]\n",
    "\n",
    "let wb = WorldBankData.GetDataContext()\n",
    "\n",
    "let br = wb.Countries.``Brazil``\n",
    "\n",
    "let filter indicator starting ending  =\n",
    "    seq {\n",
    "            for year, value in indicator do\n",
    "                yield year, value\n",
    "        }\n",
    "        |> Seq.filter(fun (year,_) -> year >= starting && year <= ending)\n",
    "        |> Seq.toList\n",
    "        |> List.unzip\n",
    "\n",
    "let scatter indicator mandate =\n",
    "    let years, values = filter indicator mandate.starting mandate.ending\n",
    "    Scatter (name = mandate.name, x = years, y = values)\n",
    "\n",
    "let chart title indicator =\n",
    "    let plotter = scatter indicator\n",
    "    mandates\n",
    "    |> Seq.map plotter\n",
    "    |> Chart.Plot\n",
    "    |> Chart.WithTitle title\n",
    "\n",
    "let candle indicator =\n",
    "    let convert (_, values) =\n",
    "        let opening = values |> Seq.head\n",
    "        let closing = values |> Seq.last\n",
    "        let high = values |> Seq.max\n",
    "        let low = values |> Seq.min\n",
    "        opening, high, low, closing\n",
    "    \n",
    "    mandates\n",
    "    |> Seq.map ( fun mandate ->\n",
    "        let opening, high, low, closing =\n",
    "            filter indicator mandate.starting mandate.ending\n",
    "            |> convert\n",
    "        mandate.name, opening, high, low, closing\n",
    "    )\n",
    "    |> Chart.Candlestick\n"
   ]
  },
  {
   "cell_type": "code",
   "execution_count": 2,
   "metadata": {
    "dotnet_interactive": {
     "language": "fsharp"
    },
    "vscode": {
     "languageId": "dotnet-interactive.fsharp"
    }
   },
   "outputs": [
    {
     "data": {
      "text/html": [
       "<!DOCTYPE html>\r\n",
       "<div style=\"width: 900px; height: 500px;\" id=\"18ab9f0e-181d-4b80-b4bf-50aab3ba8c0e\"></div><script type=\"text/javascript\">\r\n",
       "\n",
       "var renderPlotly = function() {\n",
       "    var xplotRequire = require.config({context:'xplot-3.0.1',paths:{plotly:'https://cdn.plot.ly/plotly-1.49.2.min'}}) || require;\n",
       "    xplotRequire(['plotly'], function(Plotly) { \r\n",
       "\n",
       "            var data = [{\"type\":\"scatter\",\"x\":[1995,1996,1997,1998,1999],\"y\":[4.2237936336472,2.20886405051482,3.39484598531597,0.338097901952338,0.467937566679467],\"name\":\"FHC 1\"},{\"type\":\"scatter\",\"x\":[1999,2000,2001,2002,2003],\"y\":[0.467937566679467,4.38794944364869,1.3898964044581,3.05346185683619,1.14082899877101],\"name\":\"FHC 2\"},{\"type\":\"scatter\",\"x\":[2003,2004,2005,2006,2007],\"y\":[1.14082899877101,5.75996463685998,3.20213206216255,3.96198870899485,6.06987060733128],\"name\":\"Lula 1\"},{\"type\":\"scatter\",\"x\":[2007,2008,2009,2010,2011],\"y\":[6.06987060733128,5.09419544811998,-0.12581200299141,7.52822581812151,3.97442307944702],\"name\":\"Lula 2\"},{\"type\":\"scatter\",\"x\":[2011,2012,2013,2014,2015],\"y\":[3.97442307944702,1.92117598509462,3.0048226702888,0.503955740273241,-3.54576339347278],\"name\":\"Dilma 1\"},{\"type\":\"scatter\",\"x\":[2015,2016,2017],\"y\":[-3.54576339347278,-3.2759169063211,1.32286905390815],\"name\":\"Dilma 2\"},{\"type\":\"scatter\",\"x\":[2017,2018],\"y\":[1.32286905390815,1.78366676137003],\"name\":\"Temer\"},{\"type\":\"scatter\",\"x\":[2018,2019,2020,2021],\"y\":[1.78366676137003,1.22077782271943,-3.87867633425788,4.61942162064217],\"name\":\"Bolsonaro\"}];\n",
       "           var layout = {\"title\":\"Crescimento do PIB (% anual)\"};\n",
       "           Plotly.newPlot('18ab9f0e-181d-4b80-b4bf-50aab3ba8c0e', data, layout);\n",
       "        \r\n",
       "});\n",
       "};\r\n",
       "// ensure `require` is available globally\r\n",
       "if ((typeof(require) !==  typeof(Function)) || (typeof(require.config) !== typeof(Function))) {\r\n",
       "    let require_script = document.createElement('script');\r\n",
       "    require_script.setAttribute('src', 'https://cdnjs.cloudflare.com/ajax/libs/require.js/2.3.6/require.min.js');\r\n",
       "    require_script.setAttribute('type', 'text/javascript');\r\n",
       "    \r\n",
       "    \r\n",
       "    require_script.onload = function() {\r\n",
       "        renderPlotly();\r\n",
       "    };\r\n",
       "\r\n",
       "    document.getElementsByTagName('head')[0].appendChild(require_script);\r\n",
       "}\r\n",
       "else {\r\n",
       "    renderPlotly();\r\n",
       "}\r\n",
       "\r\n",
       "</script>\r\n"
      ]
     },
     "metadata": {},
     "output_type": "display_data"
    }
   ],
   "source": [
    "br.Indicators.``GDP growth (annual %)``\n",
    "|> chart \"Crescimento do PIB (% anual)\" "
   ]
  },
  {
   "cell_type": "code",
   "execution_count": 3,
   "metadata": {
    "dotnet_interactive": {
     "language": "fsharp"
    },
    "vscode": {
     "languageId": "dotnet-interactive.fsharp"
    }
   },
   "outputs": [
    {
     "data": {
      "text/html": [
       "<!DOCTYPE html>\r\n",
       "<div style=\"width: 900px; height: 500px;\" id=\"8388f2ec-e6a4-4ede-8b8c-bf108e81a9d3\"></div><script type=\"text/javascript\">\r\n",
       "\n",
       "var renderPlotly = function() {\n",
       "    var xplotRequire = require.config({context:'xplot-3.0.1',paths:{plotly:'https://cdn.plot.ly/plotly-1.49.2.min'}}) || require;\n",
       "    xplotRequire(['plotly'], function(Plotly) { \r\n",
       "\n",
       "            var data = [{\"type\":\"scatter\",\"x\":[1995,1996,1997,1998,1999],\"y\":[15023.5085177985,15113.3135314642,15383.9330428646,15201.731159446,15048.3248196881],\"name\":\"FHC 1\"},{\"type\":\"scatter\",\"x\":[1999,2000,2001,2002,2003],\"y\":[15048.3248196881,15486.5059198347,15488.5765989647,15753.3493190004,15733.9831400524],\"name\":\"FHC 2\"},{\"type\":\"scatter\",\"x\":[2003,2004,2005,2006,2007],\"y\":[15733.9831400524,16441.5524868887,16774.7083602257,17250.2308286382,18108.3783887396],\"name\":\"Lula 1\"},{\"type\":\"scatter\",\"x\":[2007,2008,2009,2010,2011],\"y\":[18108.3783887396,18842.5664131756,18638.7007038013,19854.7585112835,20455.6433138763],\"name\":\"Lula 2\"},{\"type\":\"scatter\",\"x\":[2011,2012,2013,2014,2015],\"y\":[20455.6433138763,20663.1741655303,21098.9369212718,21024.566724849,20109.6879460734],\"name\":\"Dilma 1\"},{\"type\":\"scatter\",\"x\":[2015,2016,2017],\"y\":[20109.6879460734,19291.342108051,19389.4073268986],\"name\":\"Dilma 2\"},{\"type\":\"scatter\",\"x\":[2017,2018],\"y\":[19389.4073268986,19581.1608159243],\"name\":\"Temer\"},{\"type\":\"scatter\",\"x\":[2018,2019,2020,2021],\"y\":[19581.1608159243,19671.8027312164,18774.4808251456,19510.12817665],\"name\":\"Bolsonaro\"}];\n",
       "           var layout = {\"title\":\"PIB per Capita\"};\n",
       "           Plotly.newPlot('8388f2ec-e6a4-4ede-8b8c-bf108e81a9d3', data, layout);\n",
       "        \r\n",
       "});\n",
       "};\r\n",
       "// ensure `require` is available globally\r\n",
       "if ((typeof(require) !==  typeof(Function)) || (typeof(require.config) !== typeof(Function))) {\r\n",
       "    let require_script = document.createElement('script');\r\n",
       "    require_script.setAttribute('src', 'https://cdnjs.cloudflare.com/ajax/libs/require.js/2.3.6/require.min.js');\r\n",
       "    require_script.setAttribute('type', 'text/javascript');\r\n",
       "    \r\n",
       "    \r\n",
       "    require_script.onload = function() {\r\n",
       "        renderPlotly();\r\n",
       "    };\r\n",
       "\r\n",
       "    document.getElementsByTagName('head')[0].appendChild(require_script);\r\n",
       "}\r\n",
       "else {\r\n",
       "    renderPlotly();\r\n",
       "}\r\n",
       "\r\n",
       "</script>\r\n"
      ]
     },
     "metadata": {},
     "output_type": "display_data"
    }
   ],
   "source": [
    "br.Indicators.``GDP per capita (constant LCU)`` |> chart \"PIB per Capita\""
   ]
  },
  {
   "cell_type": "code",
   "execution_count": 4,
   "metadata": {
    "dotnet_interactive": {
     "language": "fsharp"
    },
    "vscode": {
     "languageId": "dotnet-interactive.fsharp"
    }
   },
   "outputs": [
    {
     "data": {
      "text/html": [
       "<!DOCTYPE html>\r\n",
       "<div style=\"width: 900px; height: 500px;\" id=\"a676d3f4-2cde-44ce-bded-def0a00bf8b9\"></div><script type=\"text/javascript\">\r\n",
       "\n",
       "var renderPlotly = function() {\n",
       "    var xplotRequire = require.config({context:'xplot-3.0.1',paths:{plotly:'https://cdn.plot.ly/plotly-1.49.2.min'}}) || require;\n",
       "    xplotRequire(['plotly'], function(Plotly) { \r\n",
       "\n",
       "            var data = [{\"type\":\"candlestick\",\"showlegend\":false,\"x\":[\"FHC 1\",\"FHC 2\",\"Lula 1\",\"Lula 2\",\"Dilma 1\",\"Dilma 2\",\"Temer\",\"Bolsonaro\"],\"open\":[15023.5085177985,15048.3248196881,15733.9831400524,18108.3783887396,20455.6433138763,20109.6879460734,19389.4073268986,19581.1608159243],\"high\":[15383.9330428646,15753.3493190004,18108.3783887396,20455.6433138763,21098.9369212718,20109.6879460734,19581.1608159243,19671.8027312164],\"low\":[15023.5085177985,15048.3248196881,15733.9831400524,18108.3783887396,20109.6879460734,19291.342108051,19389.4073268986,18774.4808251456],\"close\":[15048.3248196881,15733.9831400524,18108.3783887396,20455.6433138763,20109.6879460734,19389.4073268986,19581.1608159243,19510.12817665]}];\n",
       "           var layout = {\"title\":\"Variação do PIB per Capita\"};\n",
       "           Plotly.newPlot('a676d3f4-2cde-44ce-bded-def0a00bf8b9', data, layout);\n",
       "        \r\n",
       "});\n",
       "};\r\n",
       "// ensure `require` is available globally\r\n",
       "if ((typeof(require) !==  typeof(Function)) || (typeof(require.config) !== typeof(Function))) {\r\n",
       "    let require_script = document.createElement('script');\r\n",
       "    require_script.setAttribute('src', 'https://cdnjs.cloudflare.com/ajax/libs/require.js/2.3.6/require.min.js');\r\n",
       "    require_script.setAttribute('type', 'text/javascript');\r\n",
       "    \r\n",
       "    \r\n",
       "    require_script.onload = function() {\r\n",
       "        renderPlotly();\r\n",
       "    };\r\n",
       "\r\n",
       "    document.getElementsByTagName('head')[0].appendChild(require_script);\r\n",
       "}\r\n",
       "else {\r\n",
       "    renderPlotly();\r\n",
       "}\r\n",
       "\r\n",
       "</script>\r\n"
      ]
     },
     "metadata": {},
     "output_type": "display_data"
    }
   ],
   "source": [
    "br.Indicators.``GDP per capita (constant LCU)`` |> candle |> Chart.WithTitle \"Variação do PIB per Capita\""
   ]
  },
  {
   "cell_type": "code",
   "execution_count": 5,
   "metadata": {
    "dotnet_interactive": {
     "language": "fsharp"
    },
    "vscode": {
     "languageId": "dotnet-interactive.fsharp"
    }
   },
   "outputs": [
    {
     "data": {
      "text/html": [
       "<!DOCTYPE html>\r\n",
       "<div style=\"width: 900px; height: 500px;\" id=\"c57c9613-f51d-4445-bef4-8e613fa92409\"></div><script type=\"text/javascript\">\r\n",
       "\n",
       "var renderPlotly = function() {\n",
       "    var xplotRequire = require.config({context:'xplot-3.0.1',paths:{plotly:'https://cdn.plot.ly/plotly-1.49.2.min'}}) || require;\n",
       "    xplotRequire(['plotly'], function(Plotly) { \r\n",
       "\n",
       "            var data = [{\"type\":\"scatter\",\"x\":[1995,1996,1997,1998,1999],\"y\":[66.0070335542481,15.7576656002606,6.92671251629151,3.19507629280056,4.85844749902668],\"name\":\"FHC 1\"},{\"type\":\"scatter\",\"x\":[1999,2000,2001,2002,2003],\"y\":[4.85844749902668,7.04414105947266,6.84035902487525,8.4501643770833,14.7149197228147],\"name\":\"FHC 2\"},{\"type\":\"scatter\",\"x\":[2003,2004,2005,2006,2007],\"y\":[14.7149197228147,6.59718509985962,6.86953720898965,4.18356812896902,3.64127299102654],\"name\":\"Lula 1\"},{\"type\":\"scatter\",\"x\":[2007,2008,2009,2010,2011],\"y\":[3.64127299102654,5.67859390284171,4.88803479876804,5.03872690108066,6.63644962213085],\"name\":\"Lula 2\"},{\"type\":\"scatter\",\"x\":[2011,2012,2013,2014,2015],\"y\":[6.63644962213085,5.40349914037009,6.204310666401,6.32904015516142,9.02990102416129],\"name\":\"Dilma 1\"},{\"type\":\"scatter\",\"x\":[2015,2016,2017],\"y\":[9.02990102416129,8.73914352329393,3.44637335032672],\"name\":\"Dilma 2\"},{\"type\":\"scatter\",\"x\":[2017,2018],\"y\":[3.44637335032672,3.66485028376724],\"name\":\"Temer\"},{\"type\":\"scatter\",\"x\":[2018,2019,2020,2021],\"y\":[3.66485028376724,3.73297621216894,3.21176803803379,8.30165975585676],\"name\":\"Bolsonaro\"}];\n",
       "           var layout = {\"title\":\"Inflação, preços ao consumidor (% anual)\"};\n",
       "           Plotly.newPlot('c57c9613-f51d-4445-bef4-8e613fa92409', data, layout);\n",
       "        \r\n",
       "});\n",
       "};\r\n",
       "// ensure `require` is available globally\r\n",
       "if ((typeof(require) !==  typeof(Function)) || (typeof(require.config) !== typeof(Function))) {\r\n",
       "    let require_script = document.createElement('script');\r\n",
       "    require_script.setAttribute('src', 'https://cdnjs.cloudflare.com/ajax/libs/require.js/2.3.6/require.min.js');\r\n",
       "    require_script.setAttribute('type', 'text/javascript');\r\n",
       "    \r\n",
       "    \r\n",
       "    require_script.onload = function() {\r\n",
       "        renderPlotly();\r\n",
       "    };\r\n",
       "\r\n",
       "    document.getElementsByTagName('head')[0].appendChild(require_script);\r\n",
       "}\r\n",
       "else {\r\n",
       "    renderPlotly();\r\n",
       "}\r\n",
       "\r\n",
       "</script>\r\n"
      ]
     },
     "metadata": {},
     "output_type": "display_data"
    }
   ],
   "source": [
    "br.Indicators.``Inflation, consumer prices (annual %)``\n",
    "|> chart \"Inflação, preços ao consumidor (% anual)\""
   ]
  },
  {
   "cell_type": "code",
   "execution_count": 6,
   "metadata": {
    "dotnet_interactive": {
     "language": "fsharp"
    },
    "vscode": {
     "languageId": "dotnet-interactive.fsharp"
    }
   },
   "outputs": [
    {
     "data": {
      "text/html": [
       "<!DOCTYPE html>\r\n",
       "<div style=\"width: 900px; height: 500px;\" id=\"d074446d-db60-4263-a1d0-7fcd590f8337\"></div><script type=\"text/javascript\">\r\n",
       "\n",
       "var renderPlotly = function() {\n",
       "    var xplotRequire = require.config({context:'xplot-3.0.1',paths:{plotly:'https://cdn.plot.ly/plotly-1.49.2.min'}}) || require;\n",
       "    xplotRequire(['plotly'], function(Plotly) { \r\n",
       "\n",
       "            var data = [{\"type\":\"scatter\",\"x\":[1995,1996,1997,1998,1999],\"y\":[6.42000007629395,7.25,8.15999984741211,9.42000007629395,10.210000038147],\"name\":\"FHC 1\"},{\"type\":\"scatter\",\"x\":[1999,2000,2001,2002,2003],\"y\":[10.210000038147,9.56099987030029,9.60999965667725,9.36999988555908,9.98999977111816],\"name\":\"FHC 2\"},{\"type\":\"scatter\",\"x\":[2003,2004,2005,2006,2007],\"y\":[9.98999977111816,9.10999965667725,9.56999969482422,8.64000034332275,8.32999992370605],\"name\":\"Lula 1\"},{\"type\":\"scatter\",\"x\":[2007,2008,2009,2010,2011],\"y\":[8.32999992370605,7.34000015258789,8.52000045776367,7.27400016784668,6.92000007629395],\"name\":\"Lula 2\"},{\"type\":\"scatter\",\"x\":[2011,2012,2013,2014,2015],\"y\":[6.92000007629395,7.19000005722046,6.98000001907349,6.65999984741211,8.43000030517578],\"name\":\"Dilma 1\"},{\"type\":\"scatter\",\"x\":[2015,2016,2017],\"y\":[8.43000030517578,11.6000003814697,12.8199996948242],\"name\":\"Dilma 2\"},{\"type\":\"scatter\",\"x\":[2017,2018],\"y\":[12.8199996948242,12.3299999237061],\"name\":\"Temer\"},{\"type\":\"scatter\",\"x\":[2018,2019,2020,2021],\"y\":[12.3299999237061,11.9300003051758,13.6899995803833,14.4029998779297],\"name\":\"Bolsonaro\"}];\n",
       "           var layout = {\"title\":\"Desemprego\"};\n",
       "           Plotly.newPlot('d074446d-db60-4263-a1d0-7fcd590f8337', data, layout);\n",
       "        \r\n",
       "});\n",
       "};\r\n",
       "// ensure `require` is available globally\r\n",
       "if ((typeof(require) !==  typeof(Function)) || (typeof(require.config) !== typeof(Function))) {\r\n",
       "    let require_script = document.createElement('script');\r\n",
       "    require_script.setAttribute('src', 'https://cdnjs.cloudflare.com/ajax/libs/require.js/2.3.6/require.min.js');\r\n",
       "    require_script.setAttribute('type', 'text/javascript');\r\n",
       "    \r\n",
       "    \r\n",
       "    require_script.onload = function() {\r\n",
       "        renderPlotly();\r\n",
       "    };\r\n",
       "\r\n",
       "    document.getElementsByTagName('head')[0].appendChild(require_script);\r\n",
       "}\r\n",
       "else {\r\n",
       "    renderPlotly();\r\n",
       "}\r\n",
       "\r\n",
       "</script>\r\n"
      ]
     },
     "metadata": {},
     "output_type": "display_data"
    }
   ],
   "source": [
    "br.Indicators.``Unemployment, total (% of total labor force) (modeled ILO estimate)``\n",
    "|> chart \"Desemprego\""
   ]
  },
  {
   "cell_type": "code",
   "execution_count": 7,
   "metadata": {
    "dotnet_interactive": {
     "language": "fsharp"
    },
    "vscode": {
     "languageId": "dotnet-interactive.fsharp"
    }
   },
   "outputs": [
    {
     "data": {
      "text/html": [
       "<!DOCTYPE html>\r\n",
       "<div style=\"width: 900px; height: 500px;\" id=\"97d42b47-3f00-47d4-b0d9-ada648f01c74\"></div><script type=\"text/javascript\">\r\n",
       "\n",
       "var renderPlotly = function() {\n",
       "    var xplotRequire = require.config({context:'xplot-3.0.1',paths:{plotly:'https://cdn.plot.ly/plotly-1.49.2.min'}}) || require;\n",
       "    xplotRequire(['plotly'], function(Plotly) { \r\n",
       "\n",
       "            var data = [{\"type\":\"candlestick\",\"showlegend\":false,\"x\":[\"FHC 1\",\"FHC 2\",\"Lula 1\",\"Lula 2\",\"Dilma 1\",\"Dilma 2\",\"Temer\",\"Bolsonaro\"],\"open\":[6.42000007629395,10.210000038147,9.98999977111816,8.32999992370605,6.92000007629395,8.43000030517578,12.8199996948242,12.3299999237061],\"high\":[10.210000038147,10.210000038147,9.98999977111816,8.52000045776367,8.43000030517578,12.8199996948242,12.8199996948242,14.4029998779297],\"low\":[6.42000007629395,9.36999988555908,8.32999992370605,6.92000007629395,6.65999984741211,8.43000030517578,12.3299999237061,11.9300003051758],\"close\":[10.210000038147,9.98999977111816,8.32999992370605,6.92000007629395,8.43000030517578,12.8199996948242,12.3299999237061,14.4029998779297]}];\n",
       "           var layout = {\"title\":\"Desemprego % Total da força de trabalho\"};\n",
       "           Plotly.newPlot('97d42b47-3f00-47d4-b0d9-ada648f01c74', data, layout);\n",
       "        \r\n",
       "});\n",
       "};\r\n",
       "// ensure `require` is available globally\r\n",
       "if ((typeof(require) !==  typeof(Function)) || (typeof(require.config) !== typeof(Function))) {\r\n",
       "    let require_script = document.createElement('script');\r\n",
       "    require_script.setAttribute('src', 'https://cdnjs.cloudflare.com/ajax/libs/require.js/2.3.6/require.min.js');\r\n",
       "    require_script.setAttribute('type', 'text/javascript');\r\n",
       "    \r\n",
       "    \r\n",
       "    require_script.onload = function() {\r\n",
       "        renderPlotly();\r\n",
       "    };\r\n",
       "\r\n",
       "    document.getElementsByTagName('head')[0].appendChild(require_script);\r\n",
       "}\r\n",
       "else {\r\n",
       "    renderPlotly();\r\n",
       "}\r\n",
       "\r\n",
       "</script>\r\n"
      ]
     },
     "metadata": {},
     "output_type": "display_data"
    }
   ],
   "source": [
    "br.Indicators.``Unemployment, total (% of total labor force) (modeled ILO estimate)`` \n",
    "|> candle \n",
    "|> Chart.WithTitle \"Desemprego % Total da força de trabalho\""
   ]
  },
  {
   "cell_type": "code",
   "execution_count": 8,
   "metadata": {
    "dotnet_interactive": {
     "language": "fsharp"
    },
    "vscode": {
     "languageId": "dotnet-interactive.fsharp"
    }
   },
   "outputs": [
    {
     "data": {
      "text/html": [
       "<!DOCTYPE html>\r\n",
       "<div style=\"width: 900px; height: 500px;\" id=\"4a8e790c-c4ea-4f5a-8b3b-69eff2fa509a\"></div><script type=\"text/javascript\">\r\n",
       "\n",
       "var renderPlotly = function() {\n",
       "    var xplotRequire = require.config({context:'xplot-3.0.1',paths:{plotly:'https://cdn.plot.ly/plotly-1.49.2.min'}}) || require;\n",
       "    xplotRequire(['plotly'], function(Plotly) { \r\n",
       "\n",
       "            var data = [{\"type\":\"scatter\",\"x\":[1995,1996,1997,1998,1999],\"y\":[91.728598,92.867095,93.354139,94.193812,94.76296],\"name\":\"FHC 1\"},{\"type\":\"scatter\",\"x\":[1999,2000,2001,2002,2003],\"y\":[94.76296,94.391716003418,96.0165252685547,96.6529922485352,96.980094909668],\"name\":\"FHC 2\"},{\"type\":\"scatter\",\"x\":[2003,2004,2005,2006,2007],\"y\":[96.980094909668,96.7651062011719,97.0935134887695,97.5943145751953,98.1253814697266],\"name\":\"Lula 1\"},{\"type\":\"scatter\",\"x\":[2007,2008,2009,2010,2011],\"y\":[98.1253814697266,98.5266265869141,98.8569412231445,98.5999984741211,99.3286895751953],\"name\":\"Lula 2\"},{\"type\":\"scatter\",\"x\":[2011,2012,2013,2014,2015],\"y\":[99.3286895751953,99.5194931030273,99.5751495361328,99.6502456665039,99.7108993530273],\"name\":\"Dilma 1\"},{\"type\":\"scatter\",\"x\":[2015,2016,2017],\"y\":[99.7108993530273,99.6999969482422,99.8000030517578],\"name\":\"Dilma 2\"},{\"type\":\"scatter\",\"x\":[2017,2018],\"y\":[99.8000030517578,99.6999969482422],\"name\":\"Temer\"},{\"type\":\"scatter\",\"x\":[2018,2019,2020],\"y\":[99.6999969482422,99.8000030517578,100.0],\"name\":\"Bolsonaro\"}];\n",
       "           var layout = {\"title\":\"Acesso a Eletricidade\"};\n",
       "           Plotly.newPlot('4a8e790c-c4ea-4f5a-8b3b-69eff2fa509a', data, layout);\n",
       "        \r\n",
       "});\n",
       "};\r\n",
       "// ensure `require` is available globally\r\n",
       "if ((typeof(require) !==  typeof(Function)) || (typeof(require.config) !== typeof(Function))) {\r\n",
       "    let require_script = document.createElement('script');\r\n",
       "    require_script.setAttribute('src', 'https://cdnjs.cloudflare.com/ajax/libs/require.js/2.3.6/require.min.js');\r\n",
       "    require_script.setAttribute('type', 'text/javascript');\r\n",
       "    \r\n",
       "    \r\n",
       "    require_script.onload = function() {\r\n",
       "        renderPlotly();\r\n",
       "    };\r\n",
       "\r\n",
       "    document.getElementsByTagName('head')[0].appendChild(require_script);\r\n",
       "}\r\n",
       "else {\r\n",
       "    renderPlotly();\r\n",
       "}\r\n",
       "\r\n",
       "</script>\r\n"
      ]
     },
     "metadata": {},
     "output_type": "display_data"
    }
   ],
   "source": [
    "br.Indicators.``Access to electricity (% of population)``\n",
    "|> chart \"Acesso a Eletricidade\""
   ]
  },
  {
   "cell_type": "code",
   "execution_count": 10,
   "metadata": {
    "dotnet_interactive": {
     "language": "fsharp"
    },
    "vscode": {
     "languageId": "dotnet-interactive.fsharp"
    }
   },
   "outputs": [
    {
     "data": {
      "text/html": [
       "<!DOCTYPE html>\r\n",
       "<div style=\"width: 900px; height: 500px;\" id=\"1f597c51-863a-4d76-8c39-eaea5510f28b\"></div><script type=\"text/javascript\">\r\n",
       "\n",
       "var renderPlotly = function() {\n",
       "    var xplotRequire = require.config({context:'xplot-3.0.1',paths:{plotly:'https://cdn.plot.ly/plotly-1.49.2.min'}}) || require;\n",
       "    xplotRequire(['plotly'], function(Plotly) { \r\n",
       "\n",
       "            var data = [{\"type\":\"scatter\",\"x\":[1995,1996,1997,1998,1999],\"y\":[0.917666666666667,1.0051,1.07799166666667,1.16051666666667,1.81393284657213],\"name\":\"FHC 1\"},{\"type\":\"scatter\",\"x\":[1999,2000,2001,2002,2003],\"y\":[1.81393284657213,1.82942312207561,2.34963170932244,2.92036301775519,3.07747511847801],\"name\":\"FHC 2\"},{\"type\":\"scatter\",\"x\":[2003,2004,2005,2006,2007],\"y\":[3.07747511847801,2.92511944951586,2.43439003623188,2.17532666666667,1.94705833333333],\"name\":\"Lula 1\"},{\"type\":\"scatter\",\"x\":[2007,2008,2009,2010,2011],\"y\":[1.94705833333333,1.83376666666667,1.99942817314426,1.75922671058718,1.67282875525659],\"name\":\"Lula 2\"},{\"type\":\"scatter\",\"x\":[2011,2012,2013,2014,2015],\"y\":[1.67282875525659,1.95306861112487,2.15608915126311,2.35295196276669,3.32690438276879],\"name\":\"Dilma 1\"},{\"type\":\"scatter\",\"x\":[2015,2016,2017],\"y\":[3.32690438276879,3.49131342157271,3.19138944630048],\"name\":\"Dilma 2\"},{\"type\":\"scatter\",\"x\":[2017,2018],\"y\":[3.19138944630048,3.65382536145755],\"name\":\"Temer\"},{\"type\":\"scatter\",\"x\":[2018,2019,2020,2021],\"y\":[3.65382536145755,3.9444710972507,5.15517878751281,5.39440078962503],\"name\":\"Bolsonaro\"}];\n",
       "           var layout = {\"title\":\"Taxa de câmbio\"};\n",
       "           Plotly.newPlot('1f597c51-863a-4d76-8c39-eaea5510f28b', data, layout);\n",
       "        \r\n",
       "});\n",
       "};\r\n",
       "// ensure `require` is available globally\r\n",
       "if ((typeof(require) !==  typeof(Function)) || (typeof(require.config) !== typeof(Function))) {\r\n",
       "    let require_script = document.createElement('script');\r\n",
       "    require_script.setAttribute('src', 'https://cdnjs.cloudflare.com/ajax/libs/require.js/2.3.6/require.min.js');\r\n",
       "    require_script.setAttribute('type', 'text/javascript');\r\n",
       "    \r\n",
       "    \r\n",
       "    require_script.onload = function() {\r\n",
       "        renderPlotly();\r\n",
       "    };\r\n",
       "\r\n",
       "    document.getElementsByTagName('head')[0].appendChild(require_script);\r\n",
       "}\r\n",
       "else {\r\n",
       "    renderPlotly();\r\n",
       "}\r\n",
       "\r\n",
       "</script>\r\n"
      ]
     },
     "metadata": {},
     "output_type": "display_data"
    }
   ],
   "source": [
    "br.Indicators.``Official exchange rate (LCU per US$, period average)`` |> chart \"Taxa de câmbio\""
   ]
  },
  {
   "cell_type": "code",
   "execution_count": 11,
   "metadata": {
    "dotnet_interactive": {
     "language": "fsharp"
    },
    "vscode": {
     "languageId": "dotnet-interactive.fsharp"
    }
   },
   "outputs": [
    {
     "data": {
      "text/html": [
       "<!DOCTYPE html>\r\n",
       "<div style=\"width: 900px; height: 500px;\" id=\"676f4795-d3a7-4c65-bd7d-77f78534fa93\"></div><script type=\"text/javascript\">\r\n",
       "\n",
       "var renderPlotly = function() {\n",
       "    var xplotRequire = require.config({context:'xplot-3.0.1',paths:{plotly:'https://cdn.plot.ly/plotly-1.49.2.min'}}) || require;\n",
       "    xplotRequire(['plotly'], function(Plotly) { \r\n",
       "\n",
       "            var data = [{\"type\":\"scatter\",\"x\":[],\"y\":[],\"name\":\"FHC 1\"},{\"type\":\"scatter\",\"x\":[],\"y\":[],\"name\":\"FHC 2\"},{\"type\":\"scatter\",\"x\":[],\"y\":[],\"name\":\"Lula 1\"},{\"type\":\"scatter\",\"x\":[2010,2011],\"y\":[61.3187804611479,59.3416583014604],\"name\":\"Lula 2\"},{\"type\":\"scatter\",\"x\":[2011,2012,2013,2014,2015],\"y\":[59.3416583014604,59.8494899958247,57.228409380258,58.4572711058609,67.5375540277116],\"name\":\"Dilma 1\"},{\"type\":\"scatter\",\"x\":[2015,2016,2017],\"y\":[67.5375540277116,73.4188038096758,83.6692026509366],\"name\":\"Dilma 2\"},{\"type\":\"scatter\",\"x\":[2017,2018],\"y\":[83.6692026509366,86.6078841199146],\"name\":\"Temer\"},{\"type\":\"scatter\",\"x\":[2018,2019,2020],\"y\":[86.6078841199146,92.5652531882782,100.586637345384],\"name\":\"Bolsonaro\"}];\n",
       "           var layout = {\"title\":\"Dívida Pública %PIB\"};\n",
       "           Plotly.newPlot('676f4795-d3a7-4c65-bd7d-77f78534fa93', data, layout);\n",
       "        \r\n",
       "});\n",
       "};\r\n",
       "// ensure `require` is available globally\r\n",
       "if ((typeof(require) !==  typeof(Function)) || (typeof(require.config) !== typeof(Function))) {\r\n",
       "    let require_script = document.createElement('script');\r\n",
       "    require_script.setAttribute('src', 'https://cdnjs.cloudflare.com/ajax/libs/require.js/2.3.6/require.min.js');\r\n",
       "    require_script.setAttribute('type', 'text/javascript');\r\n",
       "    \r\n",
       "    \r\n",
       "    require_script.onload = function() {\r\n",
       "        renderPlotly();\r\n",
       "    };\r\n",
       "\r\n",
       "    document.getElementsByTagName('head')[0].appendChild(require_script);\r\n",
       "}\r\n",
       "else {\r\n",
       "    renderPlotly();\r\n",
       "}\r\n",
       "\r\n",
       "</script>\r\n"
      ]
     },
     "metadata": {},
     "output_type": "display_data"
    }
   ],
   "source": [
    "br.Indicators.``Central government debt, total (% of GDP)`` |> chart \"Dívida Pública %PIB\""
   ]
  }
 ],
 "metadata": {
  "kernelspec": {
   "display_name": ".NET (C#)",
   "language": "C#",
   "name": ".net-csharp"
  },
  "language_info": {
   "file_extension": ".cs",
   "mimetype": "text/x-csharp",
   "name": "C#",
   "pygments_lexer": "csharp",
   "version": "9.0"
  },
  "orig_nbformat": 4
 },
 "nbformat": 4,
 "nbformat_minor": 2
}
