{
 "cells": [
  {
   "cell_type": "markdown",
   "metadata": {
    "dotnet_interactive": {
     "language": "csharp"
    },
    "polyglot_notebook": {
     "kernelName": "csharp"
    }
   },
   "source": [
    "Dados do Banco Mundial segmentados por Governo\n",
    "===\n",
    "\n",
    "Seja bem vindo! Esse notebook contém código para consultar e visualizar dados da base do Banco Mundial no tempo, indicando qual era o governo da época. \n",
    "\n",
    "Você pode acessar um preview com os gráficos funcionando (o Github não suporta conteúdo com Javascript) pelo [nbviewer](https://nbviewer.org/github/vhogemann/Notebooks/blob/main/World-Bank.ipynb#). Ou então pode ter acesso a uma versão interativa usando o serviço do Binder pelo link abaixo:\n",
    "\n",
    " [![Binder](https://mybinder.org/badge_logo.svg)](https://mybinder.org/v2/gh/vhogemann/Notebooks/main?labpath=World-Bank.ipynb)\n",
    "\n",
    "Para executar esse notebook na sua máquina eu recomendo utilizar o [Visual Studio Code](https://code.visualstudio.com/), com a extensão [Polyglot Notebooks](https://marketplace.visualstudio.com/items?itemName=ms-dotnettools.dotnet-interactive-vscode#:~:text=To%20create%20a%20new%20polyglot,N%20key%20co) e [.NET 6.0+](https://dotnet.microsoft.com/en-us/download/dotnet/7.0).\n",
    "\n",
    "## Sobre esse Notebook\n",
    "\n",
    "Esse notebook foi escrito usando F#, que é uma linguagem multi-paradigma que roda na plataforma .NET da Microsoft. Os dados do Banco Mundial são acessados utilizando a excelente biblioteca [FSharp.Data](https://fsprojects.github.io/FSharp.Data/), mas você pode usar o [Google Public Data Explorer](https://www.google.com/publicdata/explore?ds=d5bncppjof8f9_) pra navegar pelos dados sem ter que se preocupar em lidar com código."
   ]
  },
  {
   "cell_type": "code",
   "execution_count": 12,
   "metadata": {
    "dotnet_interactive": {
     "language": "fsharp"
    },
    "vscode": {
     "languageId": "polyglot-notebook"
    }
   },
   "outputs": [
    {
     "data": {
      "text/html": [
       "<div><div></div><div></div><div><strong>Installed Packages</strong><ul><li><span>FSharp.Data, 5.0.2</span></li><li><span>XPlot.Plotly.Interactive, 4.0.6</span></li></ul></div></div>"
      ]
     },
     "metadata": {},
     "output_type": "display_data"
    }
   ],
   "source": [
    "#r \"nuget: XPlot.Plotly.Interactive, 4.0.6\"\n",
    "#r \"nuget: FSharp.Data\"\n",
    "\n",
    "open FSharp.Data\n",
    "open XPlot.Plotly\n",
    "\n",
    "type Mandate = {\n",
    "    name: string\n",
    "    starting: int\n",
    "    ending: int\n",
    "}\n",
    "\n",
    "let fhc1 = { name = \"FHC 1\"; starting = 1995; ending = 1999 }\n",
    "let fhc2 = { name = \"FHC 2\"; starting = 1999; ending = 2003}\n",
    "let lula1 = { name = \"Lula 1\"; starting = 2003; ending = 2007 }\n",
    "let lula2 = { name = \"Lula 2\"; starting = 2007; ending = 2011 }\n",
    "let dilma1 = { name = \"Dilma 1\"; starting = 2011; ending = 2015 }\n",
    "let dilma2 = { name = \"Dilma 2\"; starting = 2015; ending = 2017 }\n",
    "let temer = { name = \"Temer\"; starting = 2017; ending = 2018 }\n",
    "let bolsonaro = { name = \"Bolsonaro\"; starting = 2018; ending = 2022 }\n",
    "let lula3 = { name = \"Lula 3\"; starting = 2022; ending = 2026 }\n",
    "\n",
    "let mandates = [| fhc1; fhc2; lula1; lula2; dilma1; dilma2; temer; bolsonaro; lula3 |]\n",
    "\n",
    "let wb = WorldBankData.GetDataContext()\n",
    "\n",
    "let br = wb.Countries.``Brazil``\n",
    "\n",
    "let filter indicator starting ending  =\n",
    "    seq {\n",
    "            for year, value in indicator do\n",
    "                yield year, value\n",
    "        }\n",
    "        |> Seq.filter(fun (year,_) -> year >= starting && year <= ending)\n",
    "        |> Seq.toList\n",
    "        |> List.unzip\n",
    "\n",
    "let scatter indicator mandate =\n",
    "    let years, values = filter indicator mandate.starting mandate.ending\n",
    "    Scatter (name = mandate.name, x = years, y = values)\n",
    "\n",
    "let chart title indicator =\n",
    "    let plotter = scatter indicator\n",
    "    mandates\n",
    "    |> Seq.map plotter\n",
    "    |> Chart.Plot\n",
    "    |> Chart.WithTitle title\n",
    "\n",
    "let candle indicator =\n",
    "    let convert (_, values) =\n",
    "        let opening = values |> Seq.head\n",
    "        let closing = values |> Seq.last\n",
    "        let high = values |> Seq.max\n",
    "        let low = values |> Seq.min\n",
    "        opening, high, low, closing\n",
    "    \n",
    "    mandates\n",
    "    |> Seq.map ( fun mandate ->\n",
    "        let opening, high, low, closing =\n",
    "            filter indicator mandate.starting mandate.ending\n",
    "            |> convert\n",
    "        mandate.name, opening, high, low, closing\n",
    "    )\n",
    "    |> Chart.Candlestick\n"
   ]
  },
  {
   "cell_type": "code",
   "execution_count": 13,
   "metadata": {
    "dotnet_interactive": {
     "language": "fsharp"
    },
    "vscode": {
     "languageId": "polyglot-notebook"
    }
   },
   "outputs": [
    {
     "data": {
      "text/html": [
       "<!DOCTYPE html>\r\n",
       "<div style=\"width: 900px; height: 500px;\" id=\"1e8d8fc5-7187-46fd-b097-3385b1181b46\"></div><script type=\"text/javascript\">\r\n",
       "\n",
       "var renderPlotly = function() {\n",
       "    var xplotRequire = require.config({context:'xplot-3.0.1',paths:{plotly:'https://cdn.plot.ly/plotly-1.49.2.min'}}) || require;\n",
       "    xplotRequire(['plotly'], function(Plotly) { \r\n",
       "\n",
       "            var data = [{\"type\":\"scatter\",\"x\":[1995,1996,1997,1998,1999],\"y\":[4.22379363350413,2.20886405039022,3.39484598630671,0.338097901207306,0.467937566477133],\"name\":\"FHC 1\"},{\"type\":\"scatter\",\"x\":[1999,2000,2001,2002,2003],\"y\":[0.467937566477133,4.38794944745618,1.38989640095637,3.05346185909312,1.14082899824888],\"name\":\"FHC 2\"},{\"type\":\"scatter\",\"x\":[2003,2004,2005,2006,2007],\"y\":[1.14082899824888,5.75996463670954,3.20213206130431,3.96198871122617,6.06987060678338],\"name\":\"Lula 1\"},{\"type\":\"scatter\",\"x\":[2007,2008,2009,2010,2011],\"y\":[6.06987060678338,5.09419544658736,-0.125812002161169,7.52822581815364,3.97442307944702],\"name\":\"Lula 2\"},{\"type\":\"scatter\",\"x\":[2011,2012,2013,2014,2015],\"y\":[3.97442307944702,1.92117598576537,3.00482266944432,0.503955740242247,-3.54576339269425],\"name\":\"Dilma 1\"},{\"type\":\"scatter\",\"x\":[2015,2016,2017],\"y\":[-3.54576339269425,-3.27591690782192,1.32286905404399],\"name\":\"Dilma 2\"},{\"type\":\"scatter\",\"x\":[2017,2018],\"y\":[1.32286905404399,1.783666761634],\"name\":\"Temer\"},{\"type\":\"scatter\",\"x\":[2018,2019,2020,2021],\"y\":[1.783666761634,1.22077782360842,-3.87867633397198,4.61942162067312],\"name\":\"Bolsonaro\"},{\"type\":\"scatter\",\"x\":[],\"y\":[],\"name\":\"Lula 3\"}];\n",
       "           var layout = {\"title\":\"Crescimento do PIB (% anual)\"};\n",
       "           Plotly.newPlot('1e8d8fc5-7187-46fd-b097-3385b1181b46', data, layout);\n",
       "        \r\n",
       "});\n",
       "};\r\n",
       "// ensure `require` is available globally\r\n",
       "if ((typeof(require) !==  typeof(Function)) || (typeof(require.config) !== typeof(Function))) {\r\n",
       "    let require_script = document.createElement('script');\r\n",
       "    require_script.setAttribute('src', 'https://cdnjs.cloudflare.com/ajax/libs/require.js/2.3.6/require.min.js');\r\n",
       "    require_script.setAttribute('type', 'text/javascript');\r\n",
       "    \r\n",
       "    \r\n",
       "    require_script.onload = function() {\r\n",
       "        renderPlotly();\r\n",
       "    };\r\n",
       "\r\n",
       "    document.getElementsByTagName('head')[0].appendChild(require_script);\r\n",
       "}\r\n",
       "else {\r\n",
       "    renderPlotly();\r\n",
       "}\r\n",
       "\r\n",
       "</script>\r\n"
      ]
     },
     "metadata": {},
     "output_type": "display_data"
    }
   ],
   "source": [
    "br.Indicators.``GDP growth (annual %)``\n",
    "|> chart \"Crescimento do PIB (% anual)\" "
   ]
  },
  {
   "cell_type": "code",
   "execution_count": 14,
   "metadata": {
    "dotnet_interactive": {
     "language": "fsharp"
    },
    "vscode": {
     "languageId": "polyglot-notebook"
    }
   },
   "outputs": [
    {
     "data": {
      "text/html": [
       "<!DOCTYPE html>\r\n",
       "<div style=\"width: 900px; height: 500px;\" id=\"5af3c957-8f54-46c2-97cc-cc391938948f\"></div><script type=\"text/javascript\">\r\n",
       "\n",
       "var renderPlotly = function() {\n",
       "    var xplotRequire = require.config({context:'xplot-3.0.1',paths:{plotly:'https://cdn.plot.ly/plotly-1.49.2.min'}}) || require;\n",
       "    xplotRequire(['plotly'], function(Plotly) { \r\n",
       "\n",
       "            var data = [{\"type\":\"scatter\",\"x\":[1995,1996,1997,1998,1999],\"y\":[14886.1101413074,14983.8377763498,15261.8393653932,15090.2287686204,14947.0457482456],\"name\":\"FHC 1\"},{\"type\":\"scatter\",\"x\":[1999,2000,2001,2002,2003],\"y\":[14947.0457482456,15391.109141832,15400.2897758539,15671.3722645116,15663.3350967965],\"name\":\"FHC 2\"},{\"type\":\"scatter\",\"x\":[2003,2004,2005,2006,2007],\"y\":[15663.3350967965,16377.8622911831,16714.5209609897,17190.5441677199,18046.7759350374],\"name\":\"Lula 1\"},{\"type\":\"scatter\",\"x\":[2007,2008,2009,2010,2011],\"y\":[18046.7759350374,18779.7858334781,18578.2339731209,19790.0580245347,20386.4108953953],\"name\":\"Lula 2\"},{\"type\":\"scatter\",\"x\":[2011,2012,2013,2014,2015],\"y\":[20386.4108953953,20591.8353869314,21027.1995951731,20952.6550601065,20039.4718950829],\"name\":\"Dilma 1\"},{\"type\":\"scatter\",\"x\":[2015,2016,2017],\"y\":[20039.4718950829,19226.3857528511,19326.9967736019],\"name\":\"Dilma 2\"},{\"type\":\"scatter\",\"x\":[2017,2018],\"y\":[19326.9967736019,19516.1961845011],\"name\":\"Temer\"},{\"type\":\"scatter\",\"x\":[2018,2019,2020,2021],\"y\":[19516.1961845011,19603.6834682169,18718.3946139141,19479.835012536],\"name\":\"Bolsonaro\"},{\"type\":\"scatter\",\"x\":[],\"y\":[],\"name\":\"Lula 3\"}];\n",
       "           var layout = {\"title\":\"PIB per Capita\"};\n",
       "           Plotly.newPlot('5af3c957-8f54-46c2-97cc-cc391938948f', data, layout);\n",
       "        \r\n",
       "});\n",
       "};\r\n",
       "// ensure `require` is available globally\r\n",
       "if ((typeof(require) !==  typeof(Function)) || (typeof(require.config) !== typeof(Function))) {\r\n",
       "    let require_script = document.createElement('script');\r\n",
       "    require_script.setAttribute('src', 'https://cdnjs.cloudflare.com/ajax/libs/require.js/2.3.6/require.min.js');\r\n",
       "    require_script.setAttribute('type', 'text/javascript');\r\n",
       "    \r\n",
       "    \r\n",
       "    require_script.onload = function() {\r\n",
       "        renderPlotly();\r\n",
       "    };\r\n",
       "\r\n",
       "    document.getElementsByTagName('head')[0].appendChild(require_script);\r\n",
       "}\r\n",
       "else {\r\n",
       "    renderPlotly();\r\n",
       "}\r\n",
       "\r\n",
       "</script>\r\n"
      ]
     },
     "metadata": {},
     "output_type": "display_data"
    }
   ],
   "source": [
    "br.Indicators.``GDP per capita (constant LCU)`` |> chart \"PIB per Capita\""
   ]
  },
  {
   "cell_type": "code",
   "execution_count": 16,
   "metadata": {
    "dotnet_interactive": {
     "language": "fsharp"
    },
    "vscode": {
     "languageId": "polyglot-notebook"
    }
   },
   "outputs": [
    {
     "data": {
      "text/html": [
       "<!DOCTYPE html>\r\n",
       "<div style=\"width: 900px; height: 500px;\" id=\"f436d224-f3c8-4d99-b7c1-407b10d39040\"></div><script type=\"text/javascript\">\r\n",
       "\n",
       "var renderPlotly = function() {\n",
       "    var xplotRequire = require.config({context:'xplot-3.0.1',paths:{plotly:'https://cdn.plot.ly/plotly-1.49.2.min'}}) || require;\n",
       "    xplotRequire(['plotly'], function(Plotly) { \r\n",
       "\n",
       "            var data = [{\"type\":\"scatter\",\"x\":[1995,1996,1997,1998,1999],\"y\":[66.0070335542481,15.7576656002606,6.92671251629151,3.19507629280056,4.85844749902668],\"name\":\"FHC 1\"},{\"type\":\"scatter\",\"x\":[1999,2000,2001,2002,2003],\"y\":[4.85844749902668,7.04414105947266,6.84035902487525,8.4501643770833,14.7149197228147],\"name\":\"FHC 2\"},{\"type\":\"scatter\",\"x\":[2003,2004,2005,2006,2007],\"y\":[14.7149197228147,6.59718509985962,6.86953720898965,4.18356812896902,3.64127299102654],\"name\":\"Lula 1\"},{\"type\":\"scatter\",\"x\":[2007,2008,2009,2010,2011],\"y\":[3.64127299102654,5.67859390284171,4.88803479876804,5.03872690108066,6.63644962213085],\"name\":\"Lula 2\"},{\"type\":\"scatter\",\"x\":[2011,2012,2013,2014,2015],\"y\":[6.63644962213085,5.40349914037009,6.204310666401,6.32904015516142,9.02990102416129],\"name\":\"Dilma 1\"},{\"type\":\"scatter\",\"x\":[2015,2016,2017],\"y\":[9.02990102416129,8.73914352329393,3.44637335032672],\"name\":\"Dilma 2\"},{\"type\":\"scatter\",\"x\":[2017,2018],\"y\":[3.44637335032672,3.66485028376724],\"name\":\"Temer\"},{\"type\":\"scatter\",\"x\":[2018,2019,2020,2021],\"y\":[3.66485028376724,3.73297621216894,3.21176803803379,8.30165975585676],\"name\":\"Bolsonaro\"},{\"type\":\"scatter\",\"x\":[],\"y\":[],\"name\":\"Lula 3\"}];\n",
       "           var layout = {\"title\":\"Inflação, preços ao consumidor (% anual)\"};\n",
       "           Plotly.newPlot('f436d224-f3c8-4d99-b7c1-407b10d39040', data, layout);\n",
       "        \r\n",
       "});\n",
       "};\r\n",
       "// ensure `require` is available globally\r\n",
       "if ((typeof(require) !==  typeof(Function)) || (typeof(require.config) !== typeof(Function))) {\r\n",
       "    let require_script = document.createElement('script');\r\n",
       "    require_script.setAttribute('src', 'https://cdnjs.cloudflare.com/ajax/libs/require.js/2.3.6/require.min.js');\r\n",
       "    require_script.setAttribute('type', 'text/javascript');\r\n",
       "    \r\n",
       "    \r\n",
       "    require_script.onload = function() {\r\n",
       "        renderPlotly();\r\n",
       "    };\r\n",
       "\r\n",
       "    document.getElementsByTagName('head')[0].appendChild(require_script);\r\n",
       "}\r\n",
       "else {\r\n",
       "    renderPlotly();\r\n",
       "}\r\n",
       "\r\n",
       "</script>\r\n"
      ]
     },
     "metadata": {},
     "output_type": "display_data"
    }
   ],
   "source": [
    "br.Indicators.``Inflation, consumer prices (annual %)``\n",
    "|> chart \"Inflação, preços ao consumidor (% anual)\""
   ]
  },
  {
   "cell_type": "code",
   "execution_count": 17,
   "metadata": {
    "dotnet_interactive": {
     "language": "fsharp"
    },
    "vscode": {
     "languageId": "polyglot-notebook"
    }
   },
   "outputs": [
    {
     "data": {
      "text/html": [
       "<!DOCTYPE html>\r\n",
       "<div style=\"width: 900px; height: 500px;\" id=\"e19c1378-0a47-4a31-ad4b-fdbc94908427\"></div><script type=\"text/javascript\">\r\n",
       "\n",
       "var renderPlotly = function() {\n",
       "    var xplotRequire = require.config({context:'xplot-3.0.1',paths:{plotly:'https://cdn.plot.ly/plotly-1.49.2.min'}}) || require;\n",
       "    xplotRequire(['plotly'], function(Plotly) { \r\n",
       "\n",
       "            var data = [{\"type\":\"scatter\",\"x\":[1995,1996,1997,1998,1999],\"y\":[7.09000015258789,8.02999973297119,9.0,10.1499996185303,11.1300001144409],\"name\":\"FHC 1\"},{\"type\":\"scatter\",\"x\":[1999,2000,2001,2002,2003],\"y\":[11.1300001144409,10.5299997329712,10.6499996185303,10.6400003433228,11.1700000762939],\"name\":\"FHC 2\"},{\"type\":\"scatter\",\"x\":[2003,2004,2005,2006,2007],\"y\":[11.1700000762939,10.0699996948242,10.5500001907349,9.6899995803833,9.27999973297119],\"name\":\"Lula 1\"},{\"type\":\"scatter\",\"x\":[2007,2008,2009,2010,2011],\"y\":[9.27999973297119,8.27000045776367,9.42000007629395,8.03400039672852,7.57999992370605],\"name\":\"Lula 2\"},{\"type\":\"scatter\",\"x\":[2011,2012,2013,2014,2015],\"y\":[7.57999992370605,7.25,7.07000017166138,6.76000022888184,8.5600004196167],\"name\":\"Dilma 1\"},{\"type\":\"scatter\",\"x\":[2015,2016,2017],\"y\":[8.5600004196167,11.7399997711182,12.9300003051758],\"name\":\"Dilma 2\"},{\"type\":\"scatter\",\"x\":[2017,2018],\"y\":[12.9300003051758,12.460000038147],\"name\":\"Temer\"},{\"type\":\"scatter\",\"x\":[2018,2019,2020,2021],\"y\":[12.460000038147,12.0500001907349,13.9300003051758,13.3400001525879],\"name\":\"Bolsonaro\"},{\"type\":\"scatter\",\"x\":[],\"y\":[],\"name\":\"Lula 3\"}];\n",
       "           var layout = {\"title\":\"Desemprego\"};\n",
       "           Plotly.newPlot('e19c1378-0a47-4a31-ad4b-fdbc94908427', data, layout);\n",
       "        \r\n",
       "});\n",
       "};\r\n",
       "// ensure `require` is available globally\r\n",
       "if ((typeof(require) !==  typeof(Function)) || (typeof(require.config) !== typeof(Function))) {\r\n",
       "    let require_script = document.createElement('script');\r\n",
       "    require_script.setAttribute('src', 'https://cdnjs.cloudflare.com/ajax/libs/require.js/2.3.6/require.min.js');\r\n",
       "    require_script.setAttribute('type', 'text/javascript');\r\n",
       "    \r\n",
       "    \r\n",
       "    require_script.onload = function() {\r\n",
       "        renderPlotly();\r\n",
       "    };\r\n",
       "\r\n",
       "    document.getElementsByTagName('head')[0].appendChild(require_script);\r\n",
       "}\r\n",
       "else {\r\n",
       "    renderPlotly();\r\n",
       "}\r\n",
       "\r\n",
       "</script>\r\n"
      ]
     },
     "metadata": {},
     "output_type": "display_data"
    }
   ],
   "source": [
    "br.Indicators.``Unemployment, total (% of total labor force) (modeled ILO estimate)``\n",
    "|> chart \"Desemprego\""
   ]
  },
  {
   "cell_type": "code",
   "execution_count": 19,
   "metadata": {
    "dotnet_interactive": {
     "language": "fsharp"
    },
    "vscode": {
     "languageId": "polyglot-notebook"
    }
   },
   "outputs": [
    {
     "data": {
      "text/html": [
       "<!DOCTYPE html>\r\n",
       "<div style=\"width: 900px; height: 500px;\" id=\"4b3256ea-16bd-4397-a948-8e3a6b02fa26\"></div><script type=\"text/javascript\">\r\n",
       "\n",
       "var renderPlotly = function() {\n",
       "    var xplotRequire = require.config({context:'xplot-3.0.1',paths:{plotly:'https://cdn.plot.ly/plotly-1.49.2.min'}}) || require;\n",
       "    xplotRequire(['plotly'], function(Plotly) { \r\n",
       "\n",
       "            var data = [{\"type\":\"scatter\",\"x\":[1995,1996,1997,1998,1999],\"y\":[91.728598,92.867095,93.354139,94.193812,94.76296],\"name\":\"FHC 1\"},{\"type\":\"scatter\",\"x\":[1999,2000,2001,2002,2003],\"y\":[94.76296,94.391716003418,96.0165252685547,96.6529922485352,96.980094909668],\"name\":\"FHC 2\"},{\"type\":\"scatter\",\"x\":[2003,2004,2005,2006,2007],\"y\":[96.980094909668,96.7651062011719,97.0935134887695,97.5943145751953,98.1253814697266],\"name\":\"Lula 1\"},{\"type\":\"scatter\",\"x\":[2007,2008,2009,2010,2011],\"y\":[98.1253814697266,98.5266265869141,98.8569412231445,98.5999984741211,99.3286895751953],\"name\":\"Lula 2\"},{\"type\":\"scatter\",\"x\":[2011,2012,2013,2014,2015],\"y\":[99.3286895751953,99.5194931030273,99.5751495361328,99.6502456665039,99.7108993530273],\"name\":\"Dilma 1\"},{\"type\":\"scatter\",\"x\":[2015,2016,2017],\"y\":[99.7108993530273,99.6999969482422,99.8000030517578],\"name\":\"Dilma 2\"},{\"type\":\"scatter\",\"x\":[2017,2018],\"y\":[99.8000030517578,99.6999969482422],\"name\":\"Temer\"},{\"type\":\"scatter\",\"x\":[2018,2019,2020],\"y\":[99.6999969482422,99.8000030517578,100.0],\"name\":\"Bolsonaro\"},{\"type\":\"scatter\",\"x\":[],\"y\":[],\"name\":\"Lula 3\"}];\n",
       "           var layout = {\"title\":\"Acesso a Eletricidade\"};\n",
       "           Plotly.newPlot('4b3256ea-16bd-4397-a948-8e3a6b02fa26', data, layout);\n",
       "        \r\n",
       "});\n",
       "};\r\n",
       "// ensure `require` is available globally\r\n",
       "if ((typeof(require) !==  typeof(Function)) || (typeof(require.config) !== typeof(Function))) {\r\n",
       "    let require_script = document.createElement('script');\r\n",
       "    require_script.setAttribute('src', 'https://cdnjs.cloudflare.com/ajax/libs/require.js/2.3.6/require.min.js');\r\n",
       "    require_script.setAttribute('type', 'text/javascript');\r\n",
       "    \r\n",
       "    \r\n",
       "    require_script.onload = function() {\r\n",
       "        renderPlotly();\r\n",
       "    };\r\n",
       "\r\n",
       "    document.getElementsByTagName('head')[0].appendChild(require_script);\r\n",
       "}\r\n",
       "else {\r\n",
       "    renderPlotly();\r\n",
       "}\r\n",
       "\r\n",
       "</script>\r\n"
      ]
     },
     "metadata": {},
     "output_type": "display_data"
    }
   ],
   "source": [
    "br.Indicators.``Access to electricity (% of population)``\n",
    "|> chart \"Acesso a Eletricidade\""
   ]
  },
  {
   "cell_type": "code",
   "execution_count": 20,
   "metadata": {
    "dotnet_interactive": {
     "language": "fsharp"
    },
    "vscode": {
     "languageId": "polyglot-notebook"
    }
   },
   "outputs": [
    {
     "data": {
      "text/html": [
       "<!DOCTYPE html>\r\n",
       "<div style=\"width: 900px; height: 500px;\" id=\"b447a1a5-35d6-450f-a815-5a4679bdaaf7\"></div><script type=\"text/javascript\">\r\n",
       "\n",
       "var renderPlotly = function() {\n",
       "    var xplotRequire = require.config({context:'xplot-3.0.1',paths:{plotly:'https://cdn.plot.ly/plotly-1.49.2.min'}}) || require;\n",
       "    xplotRequire(['plotly'], function(Plotly) { \r\n",
       "\n",
       "            var data = [{\"type\":\"scatter\",\"x\":[1995,1996,1997,1998,1999],\"y\":[0.917666666666667,1.0051,1.07799166666667,1.16051666666667,1.81393284657213],\"name\":\"FHC 1\"},{\"type\":\"scatter\",\"x\":[1999,2000,2001,2002,2003],\"y\":[1.81393284657213,1.82942312207561,2.34963170932244,2.92036301775519,3.07747511847801],\"name\":\"FHC 2\"},{\"type\":\"scatter\",\"x\":[2003,2004,2005,2006,2007],\"y\":[3.07747511847801,2.92511944951586,2.43439003623188,2.17532666666667,1.94705833333333],\"name\":\"Lula 1\"},{\"type\":\"scatter\",\"x\":[2007,2008,2009,2010,2011],\"y\":[1.94705833333333,1.83376666666667,1.99942817314426,1.75922671058718,1.67282875525659],\"name\":\"Lula 2\"},{\"type\":\"scatter\",\"x\":[2011,2012,2013,2014,2015],\"y\":[1.67282875525659,1.95306861112487,2.15608915126311,2.35295196276669,3.32690438276879],\"name\":\"Dilma 1\"},{\"type\":\"scatter\",\"x\":[2015,2016,2017],\"y\":[3.32690438276879,3.49131342157271,3.19138944630048],\"name\":\"Dilma 2\"},{\"type\":\"scatter\",\"x\":[2017,2018],\"y\":[3.19138944630048,3.65382536145755],\"name\":\"Temer\"},{\"type\":\"scatter\",\"x\":[2018,2019,2020,2021],\"y\":[3.65382536145755,3.9444710972507,5.15517878751281,5.39440078962503],\"name\":\"Bolsonaro\"},{\"type\":\"scatter\",\"x\":[],\"y\":[],\"name\":\"Lula 3\"}];\n",
       "           var layout = {\"title\":\"Taxa de câmbio\"};\n",
       "           Plotly.newPlot('b447a1a5-35d6-450f-a815-5a4679bdaaf7', data, layout);\n",
       "        \r\n",
       "});\n",
       "};\r\n",
       "// ensure `require` is available globally\r\n",
       "if ((typeof(require) !==  typeof(Function)) || (typeof(require.config) !== typeof(Function))) {\r\n",
       "    let require_script = document.createElement('script');\r\n",
       "    require_script.setAttribute('src', 'https://cdnjs.cloudflare.com/ajax/libs/require.js/2.3.6/require.min.js');\r\n",
       "    require_script.setAttribute('type', 'text/javascript');\r\n",
       "    \r\n",
       "    \r\n",
       "    require_script.onload = function() {\r\n",
       "        renderPlotly();\r\n",
       "    };\r\n",
       "\r\n",
       "    document.getElementsByTagName('head')[0].appendChild(require_script);\r\n",
       "}\r\n",
       "else {\r\n",
       "    renderPlotly();\r\n",
       "}\r\n",
       "\r\n",
       "</script>\r\n"
      ]
     },
     "metadata": {},
     "output_type": "display_data"
    }
   ],
   "source": [
    "br.Indicators.``Official exchange rate (LCU per US$, period average)`` |> chart \"Taxa de câmbio\""
   ]
  },
  {
   "cell_type": "code",
   "execution_count": 21,
   "metadata": {
    "dotnet_interactive": {
     "language": "fsharp"
    },
    "vscode": {
     "languageId": "polyglot-notebook"
    }
   },
   "outputs": [
    {
     "data": {
      "text/html": [
       "<!DOCTYPE html>\r\n",
       "<div style=\"width: 900px; height: 500px;\" id=\"e4d44437-e8d0-43d6-aa54-a321a9d99742\"></div><script type=\"text/javascript\">\r\n",
       "\n",
       "var renderPlotly = function() {\n",
       "    var xplotRequire = require.config({context:'xplot-3.0.1',paths:{plotly:'https://cdn.plot.ly/plotly-1.49.2.min'}}) || require;\n",
       "    xplotRequire(['plotly'], function(Plotly) { \r\n",
       "\n",
       "            var data = [{\"type\":\"scatter\",\"x\":[],\"y\":[],\"name\":\"FHC 1\"},{\"type\":\"scatter\",\"x\":[],\"y\":[],\"name\":\"FHC 2\"},{\"type\":\"scatter\",\"x\":[],\"y\":[],\"name\":\"Lula 1\"},{\"type\":\"scatter\",\"x\":[2010,2011],\"y\":[61.3187804611479,59.3416583014604],\"name\":\"Lula 2\"},{\"type\":\"scatter\",\"x\":[2011,2012,2013,2014,2015],\"y\":[59.3416583014604,59.8494899958247,57.228409380258,58.4572711058609,67.5375540277116],\"name\":\"Dilma 1\"},{\"type\":\"scatter\",\"x\":[2015,2016,2017],\"y\":[67.5375540277116,73.4188038096758,83.6692026509366],\"name\":\"Dilma 2\"},{\"type\":\"scatter\",\"x\":[2017,2018],\"y\":[83.6692026509366,86.6078841199146],\"name\":\"Temer\"},{\"type\":\"scatter\",\"x\":[2018,2019,2020],\"y\":[86.6078841199146,92.5652531882782,100.586637345045],\"name\":\"Bolsonaro\"},{\"type\":\"scatter\",\"x\":[],\"y\":[],\"name\":\"Lula 3\"}];\n",
       "           var layout = {\"title\":\"Dívida Pública %PIB\"};\n",
       "           Plotly.newPlot('e4d44437-e8d0-43d6-aa54-a321a9d99742', data, layout);\n",
       "        \r\n",
       "});\n",
       "};\r\n",
       "// ensure `require` is available globally\r\n",
       "if ((typeof(require) !==  typeof(Function)) || (typeof(require.config) !== typeof(Function))) {\r\n",
       "    let require_script = document.createElement('script');\r\n",
       "    require_script.setAttribute('src', 'https://cdnjs.cloudflare.com/ajax/libs/require.js/2.3.6/require.min.js');\r\n",
       "    require_script.setAttribute('type', 'text/javascript');\r\n",
       "    \r\n",
       "    \r\n",
       "    require_script.onload = function() {\r\n",
       "        renderPlotly();\r\n",
       "    };\r\n",
       "\r\n",
       "    document.getElementsByTagName('head')[0].appendChild(require_script);\r\n",
       "}\r\n",
       "else {\r\n",
       "    renderPlotly();\r\n",
       "}\r\n",
       "\r\n",
       "</script>\r\n"
      ]
     },
     "metadata": {},
     "output_type": "display_data"
    }
   ],
   "source": [
    "br.Indicators.``Central government debt, total (% of GDP)`` |> chart \"Dívida Pública %PIB\""
   ]
  }
 ],
 "metadata": {
  "kernelspec": {
   "display_name": ".NET (C#)",
   "language": "C#",
   "name": ".net-csharp"
  },
  "polyglot_notebook": {
   "kernelInfo": {
    "defaultKernelName": "csharp",
    "items": [
     {
      "aliases": [
       "c#",
       "C#"
      ],
      "languageName": "C#",
      "name": "csharp"
     },
     {
      "aliases": [],
      "name": ".NET"
     },
     {
      "aliases": [
       "f#",
       "F#"
      ],
      "languageName": "F#",
      "name": "fsharp"
     },
     {
      "aliases": [],
      "languageName": "HTML",
      "name": "html"
     },
     {
      "aliases": [],
      "languageName": "KQL",
      "name": "kql"
     },
     {
      "aliases": [],
      "languageName": "Mermaid",
      "name": "mermaid"
     },
     {
      "aliases": [
       "powershell"
      ],
      "languageName": "PowerShell",
      "name": "pwsh"
     },
     {
      "aliases": [],
      "languageName": "SQL",
      "name": "sql"
     },
     {
      "aliases": [],
      "name": "value"
     },
     {
      "aliases": [
       "frontend"
      ],
      "languageName": null,
      "name": "vscode"
     },
     {
      "aliases": [
       "js"
      ],
      "languageName": "JavaScript",
      "name": "javascript"
     },
     {
      "aliases": [],
      "name": "webview"
     }
    ]
   }
  }
 },
 "nbformat": 4,
 "nbformat_minor": 2
}
