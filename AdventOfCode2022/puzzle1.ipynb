{
 "cells": [
  {
   "cell_type": "code",
   "execution_count": 3,
   "metadata": {
    "dotnet_interactive": {
     "language": "fsharp"
    },
    "vscode": {
     "languageId": "dotnet-interactive.fsharp"
    }
   },
   "outputs": [
    {
     "data": {
      "text/html": [
       "<table><thead><tr><th>acc</th><th>max</th></tr></thead><tbody><tr><td><div class=\"dni-plaintext\">49098</div></td><td><div class=\"dni-plaintext\">69310</div></td></tr></tbody></table>"
      ]
     },
     "metadata": {},
     "output_type": "display_data"
    }
   ],
   "source": [
    "open System\n",
    "\n",
    "let ResolutionFolder = __SOURCE_DIRECTORY__\n",
    "\n",
    "let (|IsNumber|_|) (line:string) =\n",
    "    if String.IsNullOrWhiteSpace(line) then\n",
    "        None\n",
    "    else\n",
    "        line |> int  |> Some\n",
    "\n",
    "type State = {\n",
    "    acc: int;\n",
    "    max: int;\n",
    "}\n",
    "\n",
    "let folder (state:State) (line:string): State =\n",
    "    match line with\n",
    "    | IsNumber number -> { state with acc = state.acc + number }\n",
    "    | _ ->\n",
    "        if state.acc > state.max then\n",
    "            { state with max = state.acc; acc = 0 }\n",
    "        else\n",
    "            { state with acc = 0 }\n",
    "\n",
    "\n",
    "let state =\n",
    "    File.ReadAllLines( ResolutionFolder + \"/input1.txt\")\n",
    "    |> Seq.fold folder { acc = 0; max =0 }\n",
    "\n",
    "state"
   ]
  }
 ],
 "metadata": {
  "kernelspec": {
   "display_name": ".NET (C#)",
   "language": "C#",
   "name": ".net-csharp"
  },
  "language_info": {
   "file_extension": ".cs",
   "mimetype": "text/x-csharp",
   "name": "C#",
   "pygments_lexer": "csharp",
   "version": "9.0"
  },
  "orig_nbformat": 4
 },
 "nbformat": 4,
 "nbformat_minor": 2
}
