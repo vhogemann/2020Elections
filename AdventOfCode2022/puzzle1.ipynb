{
 "cells": [
  {
   "cell_type": "code",
   "execution_count": 2,
   "metadata": {
    "dotnet_interactive": {
     "language": "fsharp"
    },
    "vscode": {
     "languageId": "dotnet-interactive.fsharp"
    }
   },
   "outputs": [
    {
     "name": "stderr",
     "output_type": "stream",
     "text": [
      "Stopped due to error\n"
     ]
    },
    {
     "ename": "Error",
     "evalue": "input.fsx (5,7)-(5,15) parse error Active pattern case identifiers must begin with an uppercase letter\ninput.fsx (12,41)-(12,42) parse error Incomplete structured construct at or before this point in expression\ninput.fsx (12,31)-(12,35) typecheck warning Incomplete pattern matches on this expression.",
     "output_type": "error",
     "traceback": [
      "input.fsx (5,7)-(5,15) parse error Active pattern case identifiers must begin with an uppercase letter\n",
      "input.fsx (12,41)-(12,42) parse error Incomplete structured construct at or before this point in expression\n",
      "input.fsx (12,31)-(12,35) typecheck warning Incomplete pattern matches on this expression."
     ]
    }
   ],
   "source": [
    "open System\n",
    "\n",
    "let ResolutionFolder = __SOURCE_DIRECTORY__\n",
    "\n",
    "let (|IsNumber|) (line:string) =\n",
    "    if String.IsNullOrWhiteSpace(line) then\n",
    "        None\n",
    "    else\n",
    "        line |> int  |> Some\n",
    "\n",
    "File.ReadAllLines( ResolutionFolder + \"/input1.txt\")\n",
    "|> Seq.map( fun line -> match line with )\n"
   ]
  }
 ],
 "metadata": {
  "kernelspec": {
   "display_name": ".NET (C#)",
   "language": "C#",
   "name": ".net-csharp"
  },
  "language_info": {
   "file_extension": ".cs",
   "mimetype": "text/x-csharp",
   "name": "C#",
   "pygments_lexer": "csharp",
   "version": "9.0"
  },
  "orig_nbformat": 4
 },
 "nbformat": 4,
 "nbformat_minor": 2
}
