{
 "cells": [
  {
   "cell_type": "code",
   "execution_count": 57,
   "metadata": {
    "dotnet_interactive": {
     "language": "fsharp"
    },
    "vscode": {
     "languageId": "dotnet-interactive.fsharp"
    }
   },
   "outputs": [
    {
     "data": {
      "text/html": [
       "<div class=\"dni-plaintext\">21</div>"
      ]
     },
     "metadata": {},
     "output_type": "display_data"
    }
   ],
   "source": [
    "let ResolutionFolder = __SOURCE_DIRECTORY__\n",
    "type Tree = {\n",
    "    line: int\n",
    "    column: int\n",
    "    height: int\n",
    "}\n",
    "\n",
    "module Visible =\n",
    "    type State = { max: int; visible: Tree seq } with static member Empty = { max = -1; visible = Seq.empty }\n",
    "    let find (line:Tree seq) =\n",
    "        let folder acc tree =\n",
    "            if tree.height > acc.max then\n",
    "                { max = tree.height; visible = acc.visible |> Seq.append [tree] }\n",
    "            else\n",
    "                acc\n",
    "        let front = line |> Seq.fold folder State.Empty\n",
    "        let back = line |> Seq.rev |> Seq.fold folder State.Empty\n",
    "\n",
    "        front.visible \n",
    "        |> Seq.append back.visible\n",
    "        |> Set.ofSeq\n",
    "\n",
    "let lineToTree line column height =\n",
    "    { line = line; column = column; height = $\"{height}\" |> int }\n",
    "\n",
    "let forest = \n",
    "    System.IO.File.ReadLines(ResolutionFolder + \"/input8.txt\")\n",
    "    |> Seq.mapi (fun line trees -> trees |> Seq.mapi (lineToTree line))\n",
    "\n",
    "let lines = \n",
    "    forest \n",
    "    |> Seq.map Visible.find \n",
    "    |> Seq.concat\n",
    "\n",
    "let columns = \n",
    "    forest \n",
    "    |> Seq.transpose \n",
    "    |> Seq.map Visible.find \n",
    "    |> Seq.concat\n",
    "\n",
    "columns\n",
    "|> Seq.append lines\n",
    "|> Set.ofSeq\n",
    "|> Seq.length"
   ]
  },
  {
   "cell_type": "code",
   "execution_count": 97,
   "metadata": {
    "dotnet_interactive": {
     "language": "fsharp"
    },
    "vscode": {
     "languageId": "dotnet-interactive.fsharp"
    }
   },
   "outputs": [
    {
     "data": {
      "text/html": [
       "<div class=\"dni-plaintext\">8</div>"
      ]
     },
     "metadata": {},
     "output_type": "display_data"
    }
   ],
   "source": [
    "module Score =\n",
    "    \n",
    "    let backTrace height (trees: Tree seq) =\n",
    "        trees \n",
    "        |> Seq.tryFindIndex (fun it -> it.height >= height)\n",
    "        |> Option.map ((+) 1)\n",
    "        |> Option.defaultValue (trees |> Seq.length)\n",
    "\n",
    "    \n",
    "    let getScore (visited) (tree: Tree) =\n",
    "        let result = \n",
    "            if Seq.isEmpty visited then\n",
    "                0\n",
    "            else\n",
    "                backTrace (tree.height) visited\n",
    "        \n",
    "        (tree, result), visited |> Seq.append [tree]\n",
    "\n",
    "    let calculate trees =\n",
    "        let forward =\n",
    "            trees\n",
    "            |> Seq.mapFold getScore Seq.empty\n",
    "            |> fst\n",
    "        let backward =\n",
    "            trees\n",
    "            |> Seq.rev\n",
    "            |> Seq.mapFold getScore Seq.empty\n",
    "            |> fst\n",
    "            |> Seq.rev\n",
    "        (forward,backward) ||> Seq.map2 (fun (ft,fs) (bt, bs) -> (fs * bs), ft)\n",
    "\n",
    "// forest\n",
    "// |> Seq.map (Seq.mapFold Score.getScore Seq.empty >> fst >> Seq.map snd) |> display\n",
    "\n",
    "// forest\n",
    "// |> Seq.map (Seq.rev >> Seq.mapFold Score.getScore Seq.empty >> fst >> Seq.map snd >> Seq.rev) |> display\n",
    "\n",
    "let horizontal =\n",
    "    forest\n",
    "    |> Seq.map (Score.calculate)\n",
    "    |> Seq.concat\n",
    "    |> Seq.sortBy snd\n",
    "    |> Seq.map fst\n",
    "\n",
    "let vertical =\n",
    "    forest\n",
    "    |> Seq.transpose\n",
    "    |> Seq.map (Score.calculate)\n",
    "    |> Seq.concat\n",
    "    |> Seq.sortBy snd\n",
    "    |> Seq.map fst\n",
    "\n",
    "(horizontal, vertical) ||> Seq.map2 (fun x y -> x * y) |> Seq.max"
   ]
  },
  {
   "cell_type": "code",
   "execution_count": null,
   "metadata": {
    "dotnet_interactive": {
     "language": "fsharp"
    },
    "vscode": {
     "languageId": "dotnet-interactive.fsharp"
    }
   },
   "outputs": [],
   "source": []
  }
 ],
 "metadata": {
  "kernelspec": {
   "display_name": ".NET (C#)",
   "language": "C#",
   "name": ".net-csharp"
  },
  "language_info": {
   "file_extension": ".cs",
   "mimetype": "text/x-csharp",
   "name": "C#",
   "pygments_lexer": "csharp",
   "version": "9.0"
  },
  "orig_nbformat": 4
 },
 "nbformat": 4,
 "nbformat_minor": 2
}
