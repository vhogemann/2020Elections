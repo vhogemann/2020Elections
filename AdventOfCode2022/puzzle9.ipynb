{
 "cells": [
  {
   "cell_type": "code",
   "execution_count": 76,
   "metadata": {
    "dotnet_interactive": {
     "language": "fsharp"
    },
    "vscode": {
     "languageId": "dotnet-interactive.fsharp"
    }
   },
   "outputs": [
    {
     "data": {
      "text/plain": [
       "orthogonal"
      ]
     },
     "metadata": {},
     "output_type": "display_data"
    },
    {
     "data": {
      "text/plain": [
       "orthogonal"
      ]
     },
     "metadata": {},
     "output_type": "display_data"
    },
    {
     "data": {
      "text/plain": [
       "orthogonal"
      ]
     },
     "metadata": {},
     "output_type": "display_data"
    },
    {
     "data": {
      "text/plain": [
       "orthogonal"
      ]
     },
     "metadata": {},
     "output_type": "display_data"
    },
    {
     "data": {
      "text/plain": [
       "orthogonal"
      ]
     },
     "metadata": {},
     "output_type": "display_data"
    },
    {
     "data": {
      "text/plain": [
       "orthogonal"
      ]
     },
     "metadata": {},
     "output_type": "display_data"
    },
    {
     "data": {
      "text/plain": [
       "orthogonal"
      ]
     },
     "metadata": {},
     "output_type": "display_data"
    },
    {
     "data": {
      "text/plain": [
       "orthogonal"
      ]
     },
     "metadata": {},
     "output_type": "display_data"
    },
    {
     "data": {
      "text/plain": [
       "orthogonal"
      ]
     },
     "metadata": {},
     "output_type": "display_data"
    },
    {
     "data": {
      "text/plain": [
       "orthogonal"
      ]
     },
     "metadata": {},
     "output_type": "display_data"
    },
    {
     "data": {
      "text/plain": [
       "orthogonal"
      ]
     },
     "metadata": {},
     "output_type": "display_data"
    },
    {
     "data": {
      "text/html": [
       "<table><thead><tr><th><i>index</i></th><th>x</th><th>y</th></tr></thead><tbody><tr><td>0</td><td><div class=\"dni-plaintext\">0</div></td><td><div class=\"dni-plaintext\">0</div></td></tr><tr><td>1</td><td><div class=\"dni-plaintext\">1</div></td><td><div class=\"dni-plaintext\">0</div></td></tr><tr><td>2</td><td><div class=\"dni-plaintext\">2</div></td><td><div class=\"dni-plaintext\">0</div></td></tr><tr><td>3</td><td><div class=\"dni-plaintext\">3</div></td><td><div class=\"dni-plaintext\">0</div></td></tr><tr><td>4</td><td><div class=\"dni-plaintext\">3</div></td><td><div class=\"dni-plaintext\">0</div></td></tr><tr><td>5</td><td><div class=\"dni-plaintext\">4</div></td><td><div class=\"dni-plaintext\">1</div></td></tr><tr><td>6</td><td><div class=\"dni-plaintext\">4</div></td><td><div class=\"dni-plaintext\">2</div></td></tr><tr><td>7</td><td><div class=\"dni-plaintext\">4</div></td><td><div class=\"dni-plaintext\">3</div></td></tr><tr><td>8</td><td><div class=\"dni-plaintext\">4</div></td><td><div class=\"dni-plaintext\">3</div></td></tr><tr><td>9</td><td><div class=\"dni-plaintext\">3</div></td><td><div class=\"dni-plaintext\">4</div></td></tr><tr><td>10</td><td><div class=\"dni-plaintext\">2</div></td><td><div class=\"dni-plaintext\">4</div></td></tr><tr><td>11</td><td><div class=\"dni-plaintext\">2</div></td><td><div class=\"dni-plaintext\">4</div></td></tr><tr><td>12</td><td><div class=\"dni-plaintext\">2</div></td><td><div class=\"dni-plaintext\">4</div></td></tr><tr><td>13</td><td><div class=\"dni-plaintext\">2</div></td><td><div class=\"dni-plaintext\">4</div></td></tr><tr><td>14</td><td><div class=\"dni-plaintext\">3</div></td><td><div class=\"dni-plaintext\">3</div></td></tr><tr><td>15</td><td><div class=\"dni-plaintext\">4</div></td><td><div class=\"dni-plaintext\">3</div></td></tr><tr><td>16</td><td><div class=\"dni-plaintext\">4</div></td><td><div class=\"dni-plaintext\">3</div></td></tr><tr><td>17</td><td><div class=\"dni-plaintext\">4</div></td><td><div class=\"dni-plaintext\">3</div></td></tr><tr><td>18</td><td><div class=\"dni-plaintext\">4</div></td><td><div class=\"dni-plaintext\">3</div></td></tr><tr><td>19</td><td><div class=\"dni-plaintext\">3</div></td><td><div class=\"dni-plaintext\">2</div></td></tr><tr><td colspan=\"3\"><i>... (more)</i></td></tr></tbody></table>"
      ]
     },
     "metadata": {},
     "output_type": "display_data"
    }
   ],
   "source": [
    "type Node = { \n",
    "    x: int; \n",
    "    y: int \n",
    "}\n",
    "module Node =\n",
    "    let Empty = { x = 0; y = 0 }\n",
    "    let up node =\n",
    "        { node with y = node.y + 1 } \n",
    "    let down node =\n",
    "        { node with y = node.y - 1 } \n",
    "    let left node =\n",
    "        { node with x = node.x - 1 }\n",
    "    let right node =\n",
    "        { node with x = node.x + 1 }\n",
    "\n",
    "module Tail =\n",
    "\n",
    "    let abs (it:int) = Math.Abs(it)\n",
    "\n",
    "    let follow head tail =\n",
    "        let xoffset = head.x - tail.x\n",
    "        let yoffset = head.y - tail.y\n",
    "        \n",
    "        let adjustX =\n",
    "            if xoffset > 0 then Node.right else Node.left\n",
    "\n",
    "        let adjustY =\n",
    "            if yoffset > 0 then Node.up else Node.down\n",
    "\n",
    "        match Math.Abs(xoffset), Math.Abs(yoffset) with\n",
    "        | x, y when x <= 1 && y <= 1 ->\n",
    "            tail\n",
    "        | x, y when x = 2 && y = 0 ->\n",
    "            tail |> adjustX\n",
    "        | x, y when x = 0 && y = 2 ->\n",
    "            tail |> adjustY\n",
    "        | _ -> tail |> adjustX |> adjustY\n",
    "\n",
    "type Rope = { \n",
    "    head: Node; tail: Node \n",
    "} with \n",
    "    static member Empty = { head = Node.Empty; tail = Node.Empty }\n",
    "module Rope =\n",
    "    let move (direction:Node->Node) (rope:Rope) =\n",
    "        let newHead = rope.head |> direction\n",
    "        let newTail = rope.tail |> Tail.follow newHead\n",
    "        { head = newHead; tail = newTail }\n",
    "\n",
    "let unpack (line:string) =\n",
    "    match line.Split(\" \") with \n",
    "    | [| dir; steps |] -> seq { for _ in 1..(steps |> int) do yield dir }\n",
    "    | _ -> Seq.empty\n",
    "\n",
    "let parser (move:string) (rope:Rope) =\n",
    "    match move with\n",
    "    | \"U\" -> rope |> Rope.move Node.up \n",
    "    | \"D\" -> rope |> Rope.move Node.down\n",
    "    | \"L\" -> rope |> Rope.move Node.left \n",
    "    | \"R\" -> rope |> Rope.move Node.right\n",
    "    | _ -> rope\n",
    "\n",
    "let folder (rope:Rope) (line:string) =\n",
    "    let newRope = rope |> parser line\n",
    "    (newRope), newRope\n",
    "\n",
    "let ResolutionFolder = __SOURCE_DIRECTORY__\n",
    "let lines = File.ReadLines(ResolutionFolder + \"/testcase9.txt\")\n",
    "\n",
    "lines\n",
    "|> Seq.map unpack\n",
    "|> Seq.concat\n",
    "|> Seq.mapFold folder Rope.Empty\n",
    "|> fst\n",
    "|> Seq.map(fun it -> it.tail)\n",
    "|> Set.ofSeq\n",
    "\n",
    "// [ \"L\"; \"L\"; \"L\" ]\n",
    "// |> Seq.mapFold folder { head = { x = 4; y = 4 }; tail = { x = 4; y = 3} }\n",
    "// |> fst"
   ]
  }
 ],
 "metadata": {
  "kernelspec": {
   "display_name": ".NET (C#)",
   "language": "C#",
   "name": ".net-csharp"
  },
  "language_info": {
   "file_extension": ".cs",
   "mimetype": "text/x-csharp",
   "name": "C#",
   "pygments_lexer": "csharp",
   "version": "9.0"
  },
  "orig_nbformat": 4
 },
 "nbformat": 4,
 "nbformat_minor": 2
}
