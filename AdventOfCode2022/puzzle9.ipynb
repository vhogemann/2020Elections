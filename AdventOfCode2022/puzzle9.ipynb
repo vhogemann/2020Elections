{
 "cells": [
  {
   "cell_type": "code",
   "execution_count": 1,
   "metadata": {
    "dotnet_interactive": {
     "language": "fsharp"
    },
    "vscode": {
     "languageId": "dotnet-interactive.fsharp"
    }
   },
   "outputs": [
    {
     "name": "stderr",
     "output_type": "stream",
     "text": [
      "Stopped due to error\n"
     ]
    },
    {
     "ename": "Error",
     "evalue": "input.fsx (19,12)-(19,16) typecheck error All branches of a pattern match expression must return values implicitly convertible to the type of the first branch, which here is ''a option -> 'a option'. This branch returns a value of type ''b option'.",
     "output_type": "error",
     "traceback": [
      "input.fsx (19,12)-(19,16) typecheck error All branches of a pattern match expression must return values implicitly convertible to the type of the first branch, which here is ''a option -> 'a option'. This branch returns a value of type ''b option'."
     ]
    }
   ],
   "source": [
    "type Node = { x: int; y: int }\n",
    "module Head =\n",
    "    let up steps head =\n",
    "        { head with y = head.y + steps } \n",
    "    let down steps head =\n",
    "        { head with y = head.y - steps } \n",
    "    let left steps head =\n",
    "        { head with x = head.x - steps }\n",
    "    let right steps head =\n",
    "        { head with x = head.x + steps }\n",
    "\n",
    "module Tail =\n",
    "    let follow tail head =\n",
    "        let xoffset = head.x - tail.x\n",
    "        let yoffset = head.y - tail.y\n",
    "        tail\n",
    "\n",
    "let parser (head: Node option) (move:string) =\n",
    "    match move.Split(\" \") with\n",
    "    | [| \"U\"; steps |] -> head |> Option.map (Head.up (steps |> int))\n",
    "    | [| \"D\"; steps |] -> head |> Option.map (Head.down (steps |> int))\n",
    "    | [| \"L\"; steps |] -> head |> Option.map (Head.left (steps |> int))\n",
    "    | [| \"R\"; steps |] -> head |> Option.map (Head.right (steps |> int))\n",
    "    | _ -> None\n"
   ]
  }
 ],
 "metadata": {
  "kernelspec": {
   "display_name": ".NET (C#)",
   "language": "C#",
   "name": ".net-csharp"
  },
  "language_info": {
   "file_extension": ".cs",
   "mimetype": "text/x-csharp",
   "name": "C#",
   "pygments_lexer": "csharp",
   "version": "9.0"
  },
  "orig_nbformat": 4
 },
 "nbformat": 4,
 "nbformat_minor": 2
}
