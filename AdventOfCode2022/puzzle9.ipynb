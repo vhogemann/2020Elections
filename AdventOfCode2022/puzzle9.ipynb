{
 "cells": [
  {
   "cell_type": "code",
   "execution_count": 96,
   "metadata": {
    "dotnet_interactive": {
     "language": "fsharp"
    },
    "vscode": {
     "languageId": "dotnet-interactive.fsharp"
    }
   },
   "outputs": [
    {
     "data": {
      "text/html": [
       "<div class=\"dni-plaintext\">6337</div>"
      ]
     },
     "metadata": {},
     "output_type": "display_data"
    },
    {
     "data": {
      "text/html": [
       "<div class=\"dni-plaintext\">2455</div>"
      ]
     },
     "metadata": {},
     "output_type": "display_data"
    }
   ],
   "source": [
    "type Node = { \n",
    "    x: int; \n",
    "    y: int \n",
    "}\n",
    "module Node =\n",
    "    let Empty = { x = 0; y = 0 }\n",
    "    let up node =\n",
    "        { node with y = node.y + 1 } \n",
    "    let down node =\n",
    "        { node with y = node.y - 1 } \n",
    "    let left node =\n",
    "        { node with x = node.x - 1 }\n",
    "    let right node =\n",
    "        { node with x = node.x + 1 }\n",
    "\n",
    "module Tail =\n",
    "    let follow head tail =\n",
    "        let xoffset = head.x - tail.x\n",
    "        let yoffset = head.y - tail.y\n",
    "        \n",
    "        let adjustX =\n",
    "            if xoffset > 0 then Node.right else Node.left\n",
    "\n",
    "        let adjustY =\n",
    "            if yoffset > 0 then Node.up else Node.down\n",
    "\n",
    "        match Math.Abs(xoffset), Math.Abs(yoffset) with\n",
    "        | x, y when x <= 1 && y <= 1 ->\n",
    "            tail\n",
    "        | x, y when x = 2 && y = 0 ->\n",
    "            tail |> adjustX\n",
    "        | x, y when x = 0 && y = 2 ->\n",
    "            tail |> adjustY\n",
    "        | _ -> tail |> adjustX |> adjustY\n",
    "\n",
    "type Rope = Node seq\n",
    "module Rope =\n",
    "    let withSize size =\n",
    "        [1..size] |> Seq.map (fun _-> Node.Empty)\n",
    "\n",
    "    let move (direction:Node->Node) (rope:Rope) =\n",
    "        let head = rope |> Seq.head |> direction\n",
    "        let tail = \n",
    "            rope \n",
    "            |> Seq.skip 1\n",
    "            |> Seq.mapFold (fun state node -> \n",
    "                let newTail = node |> Tail.follow state\n",
    "                newTail,newTail\n",
    "            ) head\n",
    "            |> fst\n",
    "        tail |> Seq.append [head]\n",
    "\n",
    "let unpack (line:string) =\n",
    "    match line.Split(\" \") with \n",
    "    | [| dir; steps |] -> seq { for _ in 1..(steps |> int) do yield dir }\n",
    "    | _ -> Seq.empty\n",
    "\n",
    "let parser (move:string) (rope:Rope) =\n",
    "    match move with\n",
    "    | \"U\" -> rope |> Rope.move Node.up \n",
    "    | \"D\" -> rope |> Rope.move Node.down\n",
    "    | \"L\" -> rope |> Rope.move Node.left \n",
    "    | \"R\" -> rope |> Rope.move Node.right\n",
    "    | _ -> rope\n",
    "\n",
    "let folder (rope:Rope) (line:string) =\n",
    "    let newRope = rope |> parser line\n",
    "    (newRope), newRope\n",
    "\n",
    "let ResolutionFolder = __SOURCE_DIRECTORY__\n",
    "let lines = File.ReadLines(ResolutionFolder + \"/input9.txt\")\n",
    "\n",
    "let solve lines ropeSize =\n",
    "    lines\n",
    "    |> Seq.map unpack\n",
    "    |> Seq.concat\n",
    "    |> Seq.mapFold folder (Rope.withSize ropeSize)\n",
    "    |> fst\n",
    "    |> Seq.map Seq.last\n",
    "    |> Set.ofSeq\n",
    "    |> Seq.length\n",
    "\n",
    "// part 1\n",
    "solve lines 2 |> display\n",
    "\n",
    "// part 2\n",
    "solve lines 10 |> display"
   ]
  }
 ],
 "metadata": {
  "kernelspec": {
   "display_name": ".NET (C#)",
   "language": "C#",
   "name": ".net-csharp"
  },
  "language_info": {
   "file_extension": ".cs",
   "mimetype": "text/x-csharp",
   "name": "C#",
   "pygments_lexer": "csharp",
   "version": "9.0"
  },
  "orig_nbformat": 4
 },
 "nbformat": 4,
 "nbformat_minor": 2
}
