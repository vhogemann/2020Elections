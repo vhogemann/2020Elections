{
 "cells": [
  {
   "cell_type": "code",
   "execution_count": 1,
   "metadata": {
    "dotnet_interactive": {
     "language": "fsharp"
    },
    "vscode": {
     "languageId": "dotnet-interactive.fsharp"
    }
   },
   "outputs": [
    {
     "name": "stderr",
     "output_type": "stream",
     "text": [
      "Stopped due to error\n"
     ]
    },
    {
     "ename": "Error",
     "evalue": "input.fsx (19,12)-(19,16) typecheck error All branches of a pattern match expression must return values implicitly convertible to the type of the first branch, which here is ''a option -> 'a option'. This branch returns a value of type ''b option'.",
     "output_type": "error",
     "traceback": [
      "input.fsx (19,12)-(19,16) typecheck error All branches of a pattern match expression must return values implicitly convertible to the type of the first branch, which here is ''a option -> 'a option'. This branch returns a value of type ''b option'."
     ]
    }
   ],
   "source": [
    "module Rope =\n",
    "    type Node = { x: int; y: int }\n",
    "    type Rope ={ \n",
    "        head: Node; tail: Node \n",
    "    } with \n",
    "        static member New = { head = { x=0; y=0 }; tail = { x=0; y=0 } }\n",
    "\n",
    "    let up rope steps = \n",
    "        { rope with head = { rope.head with y = rope.head.y + (steps |> int) } }\n",
    "    let down rope steps = \n",
    "        rope\n",
    "    let left rope steps = rope\n",
    "    let right rope steps = rope\n",
    "\n",
    "let parser (rope: Rope.Rope option) (move:string) =\n",
    "    match move.Split(\" \") with\n",
    "    | [| \"U\"; steps |] -> rope |> Option.map (Rope.up steps)\n",
    "    | [| \"D\"; steps |] -> rope |> Option.map (Rope.down steps)\n",
    "    | [| \"L\"; steps |] -> rope |> Option.map (Rope.left steps)\n",
    "    | [| \"R\"; steps |] -> rope |> Option.map (Rope.right steps)\n",
    "    | _ -> None\n"
   ]
  }
 ],
 "metadata": {
  "kernelspec": {
   "display_name": ".NET (C#)",
   "language": "C#",
   "name": ".net-csharp"
  },
  "language_info": {
   "file_extension": ".cs",
   "mimetype": "text/x-csharp",
   "name": "C#",
   "pygments_lexer": "csharp",
   "version": "9.0"
  },
  "orig_nbformat": 4
 },
 "nbformat": 4,
 "nbformat_minor": 2
}
