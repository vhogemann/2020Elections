{
 "cells": [
  {
   "cell_type": "code",
   "execution_count": 122,
   "metadata": {
    "dotnet_interactive": {
     "language": "fsharp"
    },
    "polyglot_notebook": {
     "kernelName": "fsharp"
    }
   },
   "outputs": [
    {
     "data": {
      "text/html": [
       "<div class=\"dni-plaintext\"><pre>14300</pre></div><style>\r\n",
       ".dni-code-hint {\r\n",
       "    font-style: italic;\r\n",
       "    overflow: hidden;\r\n",
       "    white-space: nowrap;\r\n",
       "}\r\n",
       ".dni-treeview {\r\n",
       "    white-space: nowrap;\r\n",
       "}\r\n",
       ".dni-treeview td {\r\n",
       "    vertical-align: top;\r\n",
       "    text-align: start;\r\n",
       "}\r\n",
       "details.dni-treeview {\r\n",
       "    padding-left: 1em;\r\n",
       "}\r\n",
       "table td {\r\n",
       "    text-align: start;\r\n",
       "}\r\n",
       "table tr { \r\n",
       "    vertical-align: top; \r\n",
       "    margin: 0em 0px;\r\n",
       "}\r\n",
       "table tr td pre \r\n",
       "{ \r\n",
       "    vertical-align: top !important; \r\n",
       "    margin: 0em 0px !important;\r\n",
       "} \r\n",
       "table th {\r\n",
       "    text-align: start;\r\n",
       "}\r\n",
       "</style>"
      ]
     },
     "metadata": {},
     "output_type": "display_data"
    }
   ],
   "source": [
    "type Op =\n",
    "| Noop\n",
    "| Prepare of int\n",
    "| Add \n",
    "module Op =\n",
    "    let ofString (line:string) =\n",
    "        match line.Split(\" \") with \n",
    "        \n",
    "        | [| \"addx\"; value |] -> \n",
    "            seq {\n",
    "                yield Op.Prepare (value |> int)\n",
    "                yield Op.Add\n",
    "            }\n",
    "        | [| \"noop\" |] | _ ->  Seq.singleton Op.Noop\n",
    "    \n",
    "    let convert (lines:string seq) =\n",
    "        lines |> Seq.map ofString |> Seq.concat\n",
    "\n",
    "    type State = { sum: int; to_add: int }\n",
    "    let execute (ops: Op seq)=\n",
    "        ops\n",
    "        |> Seq.mapFold(fun (state:State) op -> \n",
    "            let newState =\n",
    "                match op with\n",
    "                | Op.Noop -> state\n",
    "                | Op.Prepare value -> { state with to_add = value }\n",
    "                | Op.Add -> { sum = state.sum + state.to_add; to_add = 0 }\n",
    "            state.sum, newState\n",
    "        ) { sum = 1; to_add = 0 }\n",
    "        |> fst\n",
    "\n",
    "module Signal =\n",
    "    let powerAt (idx:int) (ops:int seq) =\n",
    "        ops |> Seq.item (idx - 2) |> (*) idx\n",
    "\n",
    "    let signalSum values =\n",
    "        seq {\n",
    "            yield values |> powerAt 20\n",
    "            yield values |> powerAt 60\n",
    "            yield values |> powerAt 100\n",
    "            yield values |> powerAt 140\n",
    "            yield values |> powerAt 180\n",
    "            yield values |> powerAt 220\n",
    "        }\n",
    "\n",
    "let ResolutionFolder = __SOURCE_DIRECTORY__\n",
    "let lines = File.ReadLines(ResolutionFolder + \"/input10.txt\")\n",
    "\n",
    "let values =\n",
    "    lines\n",
    "    |> Op.convert\n",
    "    |> Op.execute\n",
    "\n",
    "values |> Signal.signalSum |> Seq.sum"
   ]
  },
  {
   "cell_type": "code",
   "execution_count": 123,
   "metadata": {
    "dotnet_interactive": {
     "language": "fsharp"
    },
    "polyglot_notebook": {
     "kernelName": "fsharp"
    }
   },
   "outputs": [
    {
     "data": {
      "text/html": [
       "<table><thead><tr><th><i>index</i></th><th>value</th></tr></thead><tbody><tr><td>0</td><td>&#128993;&#128993;⚫⚫&#128993;&#128993;⚫⚫&#128993;&#128993;⚫⚫&#128993;&#128993;⚫⚫&#128993;&#128993;⚫⚫&#128993;&#128993;⚫⚫&#128993;&#128993;⚫⚫&#128993;&#128993;⚫⚫&#128993;&#128993;⚫⚫&#128993;&#128993;⚫⚫</td></tr><tr><td>1</td><td>&#128993;&#128993;&#128993;⚫⚫⚫&#128993;&#128993;&#128993;⚫⚫⚫&#128993;&#128993;&#128993;⚫⚫⚫&#128993;&#128993;&#128993;⚫⚫⚫&#128993;&#128993;&#128993;⚫⚫⚫&#128993;&#128993;&#128993;⚫⚫⚫&#128993;&#128993;&#128993;⚫</td></tr><tr><td>2</td><td>&#128993;&#128993;&#128993;&#128993;⚫⚫⚫⚫&#128993;&#128993;&#128993;&#128993;⚫⚫⚫⚫&#128993;&#128993;&#128993;&#128993;⚫⚫⚫⚫&#128993;&#128993;&#128993;&#128993;⚫⚫⚫⚫&#128993;&#128993;&#128993;&#128993;⚫⚫⚫⚫</td></tr><tr><td>3</td><td>&#128993;&#128993;&#128993;&#128993;&#128993;⚫⚫⚫⚫⚫&#128993;&#128993;&#128993;&#128993;&#128993;⚫⚫⚫⚫⚫&#128993;&#128993;&#128993;&#128993;&#128993;⚫⚫⚫⚫⚫&#128993;&#128993;&#128993;&#128993;&#128993;⚫⚫⚫⚫⚫</td></tr><tr><td>4</td><td>&#128993;&#128993;&#128993;&#128993;&#128993;&#128993;⚫⚫⚫⚫⚫⚫&#128993;&#128993;&#128993;&#128993;&#128993;&#128993;⚫⚫⚫⚫⚫⚫&#128993;&#128993;&#128993;&#128993;&#128993;&#128993;⚫⚫⚫⚫⚫⚫&#128993;&#128993;&#128993;&#128993;</td></tr><tr><td>5</td><td>&#128993;&#128993;&#128993;&#128993;&#128993;&#128993;&#128993;⚫⚫⚫⚫⚫⚫⚫&#128993;&#128993;&#128993;&#128993;&#128993;&#128993;&#128993;⚫⚫⚫⚫⚫⚫⚫&#128993;&#128993;&#128993;&#128993;&#128993;&#128993;&#128993;⚫⚫⚫⚫⚫</td></tr></tbody></table><style>\r\n",
       ".dni-code-hint {\r\n",
       "    font-style: italic;\r\n",
       "    overflow: hidden;\r\n",
       "    white-space: nowrap;\r\n",
       "}\r\n",
       ".dni-treeview {\r\n",
       "    white-space: nowrap;\r\n",
       "}\r\n",
       ".dni-treeview td {\r\n",
       "    vertical-align: top;\r\n",
       "    text-align: start;\r\n",
       "}\r\n",
       "details.dni-treeview {\r\n",
       "    padding-left: 1em;\r\n",
       "}\r\n",
       "table td {\r\n",
       "    text-align: start;\r\n",
       "}\r\n",
       "table tr { \r\n",
       "    vertical-align: top; \r\n",
       "    margin: 0em 0px;\r\n",
       "}\r\n",
       "table tr td pre \r\n",
       "{ \r\n",
       "    vertical-align: top !important; \r\n",
       "    margin: 0em 0px !important;\r\n",
       "} \r\n",
       "table th {\r\n",
       "    text-align: start;\r\n",
       "}\r\n",
       "</style>"
      ]
     },
     "metadata": {},
     "output_type": "display_data"
    }
   ],
   "source": [
    "module CRT =\n",
    "    let byLine (values:int seq) =\n",
    "        values |> Seq.chunkBySize 40\n",
    "    \n",
    "    // ...*...\n",
    "    // .#####.\n",
    "    // 0123456\n",
    "    let pixel (column:int) (signal:int)=\n",
    "        let offset = Math.Abs(column - signal)\n",
    "\n",
    "        \n",
    "\n",
    "        if offset <= 1 then\n",
    "            \"🟡\"\n",
    "        else\n",
    "            \"⚫\"\n",
    "    let drawLine (values:int seq) =\n",
    "        values \n",
    "        |> Seq.mapi pixel\n",
    "        |> Seq.reduce (+)\n",
    "\n",
    "    let drawScreen (values: int seq) =\n",
    "        values \n",
    "        |> byLine \n",
    "        |> Seq.map drawLine\n",
    "\n",
    "values |> CRT.drawScreen"
   ]
  }
 ],
 "metadata": {
  "kernelspec": {
   "display_name": ".NET (C#)",
   "language": "C#",
   "name": ".net-csharp"
  },
  "polyglot_notebook": {
   "kernelInfo": {
    "defaultKernelName": "csharp",
    "items": [
     {
      "aliases": [],
      "name": "csharp"
     },
     {
      "aliases": [
       "frontend"
      ],
      "languageName": null,
      "name": "vscode"
     }
    ]
   }
  }
 },
 "nbformat": 4,
 "nbformat_minor": 2
}
