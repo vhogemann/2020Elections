{
 "cells": [
  {
   "cell_type": "code",
   "execution_count": 100,
   "metadata": {
    "dotnet_interactive": {
     "language": "fsharp"
    },
    "polyglot_notebook": {
     "kernelName": "fsharp"
    }
   },
   "outputs": [
    {
     "data": {
      "text/html": [
       "<i>(empty)</i><style>\r\n",
       ".dni-code-hint {\r\n",
       "    font-style: italic;\r\n",
       "    overflow: hidden;\r\n",
       "    white-space: nowrap;\r\n",
       "}\r\n",
       ".dni-treeview {\r\n",
       "    white-space: nowrap;\r\n",
       "}\r\n",
       ".dni-treeview td {\r\n",
       "    vertical-align: top;\r\n",
       "    text-align: start;\r\n",
       "}\r\n",
       "details.dni-treeview {\r\n",
       "    padding-left: 1em;\r\n",
       "}\r\n",
       "table td {\r\n",
       "    text-align: start;\r\n",
       "}\r\n",
       "table tr { \r\n",
       "    vertical-align: top; \r\n",
       "    margin: 0em 0px;\r\n",
       "}\r\n",
       "table tr td pre \r\n",
       "{ \r\n",
       "    vertical-align: top !important; \r\n",
       "    margin: 0em 0px !important;\r\n",
       "} \r\n",
       "table th {\r\n",
       "    text-align: start;\r\n",
       "}\r\n",
       "</style>"
      ]
     },
     "metadata": {},
     "output_type": "display_data"
    },
    {
     "data": {
      "text/plain": [
       "5 - 5"
      ]
     },
     "metadata": {},
     "output_type": "display_data"
    },
    {
     "data": {
      "text/plain": [
       "1 - 1"
      ]
     },
     "metadata": {},
     "output_type": "display_data"
    },
    {
     "data": {
      "text/plain": [
       "1 - 1"
      ]
     },
     "metadata": {},
     "output_type": "display_data"
    },
    {
     "data": {
      "text/plain": [
       "3 - 5"
      ]
     },
     "metadata": {},
     "output_type": "display_data"
    },
    {
     "data": {
      "text/plain": [
       "1 - 1"
      ]
     },
     "metadata": {},
     "output_type": "display_data"
    },
    {
     "data": {
      "text/plain": [
       "1 - 1"
      ]
     },
     "metadata": {},
     "output_type": "display_data"
    },
    {
     "data": {
      "text/plain": [
       "2 - 2"
      ]
     },
     "metadata": {},
     "output_type": "display_data"
    },
    {
     "data": {
      "text/plain": [
       "1 - 1"
      ]
     },
     "metadata": {},
     "output_type": "display_data"
    },
    {
     "data": {
      "text/plain": [
       "1 - 1"
      ]
     },
     "metadata": {},
     "output_type": "display_data"
    },
    {
     "data": {
      "text/plain": [
       "3 - 1"
      ]
     },
     "metadata": {},
     "output_type": "display_data"
    },
    {
     "data": {
      "text/plain": [
       "2 - 4"
      ]
     },
     "metadata": {},
     "output_type": "display_data"
    },
    {
     "data": {
      "text/plain": [
       "1 - 1"
      ]
     },
     "metadata": {},
     "output_type": "display_data"
    },
    {
     "data": {
      "text/plain": [
       "1 - 3"
      ]
     },
     "metadata": {},
     "output_type": "display_data"
    },
    {
     "data": {
      "text/plain": [
       "3 - 4"
      ]
     },
     "metadata": {},
     "output_type": "display_data"
    },
    {
     "data": {
      "text/plain": [
       "4 - 3"
      ]
     },
     "metadata": {},
     "output_type": "display_data"
    },
    {
     "data": {
      "text/plain": [
       "7 - 7"
      ]
     },
     "metadata": {},
     "output_type": "display_data"
    },
    {
     "data": {
      "text/plain": [
       "7 - 7"
      ]
     },
     "metadata": {},
     "output_type": "display_data"
    },
    {
     "data": {
      "text/plain": [
       "7 - 7"
      ]
     },
     "metadata": {},
     "output_type": "display_data"
    },
    {
     "data": {
      "text/plain": [
       "0 - 1"
      ]
     },
     "metadata": {},
     "output_type": "display_data"
    },
    {
     "data": {
      "text/plain": [
       "1 - 1"
      ]
     },
     "metadata": {},
     "output_type": "display_data"
    },
    {
     "data": {
      "text/plain": [
       "1 - 0"
      ]
     },
     "metadata": {},
     "output_type": "display_data"
    },
    {
     "data": {
      "text/plain": [
       "4 - 4"
      ]
     },
     "metadata": {},
     "output_type": "display_data"
    },
    {
     "data": {
      "text/plain": [
       "1 - 1"
      ]
     },
     "metadata": {},
     "output_type": "display_data"
    },
    {
     "data": {
      "text/plain": [
       "2 - 2"
      ]
     },
     "metadata": {},
     "output_type": "display_data"
    },
    {
     "data": {
      "text/plain": [
       "2 - 2"
      ]
     },
     "metadata": {},
     "output_type": "display_data"
    },
    {
     "data": {
      "text/plain": [
       "2 - 2"
      ]
     },
     "metadata": {},
     "output_type": "display_data"
    },
    {
     "data": {
      "text/plain": [
       "3 - 3"
      ]
     },
     "metadata": {},
     "output_type": "display_data"
    },
    {
     "data": {
      "text/plain": [
       "2 - 2"
      ]
     },
     "metadata": {},
     "output_type": "display_data"
    },
    {
     "data": {
      "text/plain": [
       "4 - 4"
      ]
     },
     "metadata": {},
     "output_type": "display_data"
    },
    {
     "data": {
      "text/plain": [
       "3 - 3"
      ]
     },
     "metadata": {},
     "output_type": "display_data"
    },
    {
     "data": {
      "text/plain": [
       "5 - 5"
      ]
     },
     "metadata": {},
     "output_type": "display_data"
    },
    {
     "data": {
      "text/plain": [
       "6 - 6"
      ]
     },
     "metadata": {},
     "output_type": "display_data"
    },
    {
     "data": {
      "text/plain": [
       "7 - 0"
      ]
     },
     "metadata": {},
     "output_type": "display_data"
    },
    {
     "data": {
      "text/plain": [
       "8 - 8"
      ]
     },
     "metadata": {},
     "output_type": "display_data"
    },
    {
     "data": {
      "text/plain": [
       "9 - 9"
      ]
     },
     "metadata": {},
     "output_type": "display_data"
    },
    {
     "data": {
      "text/html": [
       "<table><thead><tr><th><i>index</i></th><th>Item1</th><th>Item2</th></tr></thead><tbody><tr><td>0</td><td><div class=\"dni-plaintext\"><pre>1</pre></div></td><td><div class=\"dni-plaintext\"><pre>True</pre></div></td></tr><tr><td>1</td><td><div class=\"dni-plaintext\"><pre>2</pre></div></td><td><div class=\"dni-plaintext\"><pre>True</pre></div></td></tr><tr><td>2</td><td><div class=\"dni-plaintext\"><pre>3</pre></div></td><td><div class=\"dni-plaintext\"><pre>True</pre></div></td></tr><tr><td>3</td><td><div class=\"dni-plaintext\"><pre>4</pre></div></td><td><div class=\"dni-plaintext\"><pre>True</pre></div></td></tr><tr><td>4</td><td><div class=\"dni-plaintext\"><pre>5</pre></div></td><td><div class=\"dni-plaintext\"><pre>True</pre></div></td></tr><tr><td>5</td><td><div class=\"dni-plaintext\"><pre>6</pre></div></td><td><div class=\"dni-plaintext\"><pre>True</pre></div></td></tr><tr><td>6</td><td><div class=\"dni-plaintext\"><pre>7</pre></div></td><td><div class=\"dni-plaintext\"><pre>False</pre></div></td></tr><tr><td>7</td><td><div class=\"dni-plaintext\"><pre>8</pre></div></td><td><div class=\"dni-plaintext\"><pre>False</pre></div></td></tr></tbody></table><style>\r\n",
       ".dni-code-hint {\r\n",
       "    font-style: italic;\r\n",
       "    overflow: hidden;\r\n",
       "    white-space: nowrap;\r\n",
       "}\r\n",
       ".dni-treeview {\r\n",
       "    white-space: nowrap;\r\n",
       "}\r\n",
       ".dni-treeview td {\r\n",
       "    vertical-align: top;\r\n",
       "    text-align: start;\r\n",
       "}\r\n",
       "details.dni-treeview {\r\n",
       "    padding-left: 1em;\r\n",
       "}\r\n",
       "table td {\r\n",
       "    text-align: start;\r\n",
       "}\r\n",
       "table tr { \r\n",
       "    vertical-align: top; \r\n",
       "    margin: 0em 0px;\r\n",
       "}\r\n",
       "table tr td pre \r\n",
       "{ \r\n",
       "    vertical-align: top !important; \r\n",
       "    margin: 0em 0px !important;\r\n",
       "} \r\n",
       "table th {\r\n",
       "    text-align: start;\r\n",
       "}\r\n",
       "</style>"
      ]
     },
     "metadata": {},
     "output_type": "display_data"
    },
    {
     "data": {
      "text/plain": [
       "3 - 4"
      ]
     },
     "metadata": {},
     "output_type": "display_data"
    },
    {
     "data": {
      "text/plain": [
       "true"
      ]
     },
     "metadata": {},
     "output_type": "display_data"
    }
   ],
   "source": [
    "type Value =\n",
    "| AInt of int\n",
    "| ASeq of Value list\n",
    "module Decoder =\n",
    "    let isInt num = System.Text.RegularExpressions.Regex(@\"\\d\").IsMatch(string num)\n",
    "    let rec numDecoder (state:string) (tokens:char list):(string*char list) =\n",
    "        match tokens with\n",
    "        | [] -> \"\", tokens\n",
    "        | token :: tail when (isInt token) ->\n",
    "            numDecoder (state + string token) tail\n",
    "        | _ -> state, tokens\n",
    "\n",
    "    let rec decoder (state:Value list) (tokens:char list):(Value list*char list) =\n",
    "        match tokens with\n",
    "        | [] -> state, tokens\n",
    "        | '[' :: tail -> \n",
    "            let aSeq, aTail = decoder List.empty tail\n",
    "            let aState = [ Value.ASeq aSeq ] |> List.append state\n",
    "            decoder aState aTail\n",
    "        | ']' :: tail ->\n",
    "            state, tail\n",
    "        | ',' :: tail -> decoder state tail\n",
    "        | num :: tail -> \n",
    "            let aNumber, aTail = numDecoder (string num) tail\n",
    "            let value = aNumber |> int |> Value.AInt\n",
    "            decoder ([value] |> List.append state) aTail\n",
    "\n",
    "    let decode (line:string):Value =\n",
    "        line\n",
    "        |> List.ofSeq\n",
    "        |> decoder List.empty\n",
    "        |> fst\n",
    "        |> List.head\n",
    "\n",
    "module Encoder =\n",
    "    let rec toString (value:Value) =\n",
    "        match value with\n",
    "        | Value.AInt i -> string i\n",
    "        | Value.ASeq aSeq ->\n",
    "            let content =\n",
    "                aSeq\n",
    "                |> List.map toString\n",
    "                |> String.concat \",\"\n",
    "            \"[\" + content + \"]\"\n",
    "\n",
    "module Comparer =\n",
    "    type Outcome =\n",
    "    | Good\n",
    "    | Bad\n",
    "    | Tie\n",
    "    let rec compare (a:Value) (b:Value) =\n",
    "        let listCompare (la:Value list) (lb:Value list) =\n",
    "            display $\"{la.Length} - {lb.Length}\"\n",
    "            if la.Length < lb.Length then\n",
    "                false\n",
    "            else if lb.IsEmpty then\n",
    "                false\n",
    "            else\n",
    "            Seq.zip la lb\n",
    "            |> Seq.map (fun (va, vb) -> compare va vb)\n",
    "            |> Seq.reduce (&&)\n",
    "\n",
    "        match a, b with\n",
    "        | Value.AInt ia, Value.AInt ib -> \n",
    "            display $\"{ia} - {ib}\"\n",
    "            ia - ib < 1\n",
    "        | Value.ASeq la, Value.ASeq lb ->\n",
    "            listCompare la lb\n",
    "        | Value.AInt _, Value.ASeq lb ->\n",
    "            listCompare [a] lb\n",
    "        | Value.ASeq la, Value.AInt _ ->\n",
    "            listCompare la [b]\n",
    "\n",
    "let ResolutionFolder = __SOURCE_DIRECTORY__\n",
    "let lines = \n",
    "    File.ReadLines( ResolutionFolder + \"/testcase13.txt\") \n",
    "    |> List.ofSeq\n",
    "    |> List.filter ( String.IsNullOrEmpty >> not )\n",
    "\n",
    "let signal =\n",
    "    lines\n",
    "    |> Seq.chunkBySize 2\n",
    "    |> Seq.map ( Seq.map Decoder.decode )\n",
    "    |> Seq.map List.ofSeq\n",
    "\n",
    "let parsed =\n",
    "    signal\n",
    "    |> Seq.map ( Seq.map Encoder.toString )\n",
    "    |> Seq.concat\n",
    "\n",
    "let original = \n",
    "    lines\n",
    "    |> Seq.filter ( String.IsNullOrEmpty >> not )\n",
    "\n",
    "Seq.zip original parsed\n",
    "|> Seq.mapi (fun idx (a, b) -> (a = b), $\"{idx + 1}  {a}  |  {b}\" )\n",
    "|> Seq.filter (fst >> not)\n",
    "|> display\n",
    "\n",
    "signal\n",
    "|> Seq.map ( fun it -> Comparer.compare it.[0] it[1] )\n",
    "|> Seq.mapi (fun idx it -> idx + 1 ,it)\n",
    "//|> Seq.filter snd\n",
    "//|> Seq.sumBy fst\n",
    "|> display\n",
    "\n",
    "[ \"[[4,4],4,4]\"; \"[[4,4],4,4,4]\" ]\n",
    "|> List.map Decoder.decode\n",
    "|> ( fun it -> Comparer.compare it.[0] it[1] )\n",
    "|> sprintf \"%A\"\n"
   ]
  }
 ],
 "metadata": {
  "kernelspec": {
   "display_name": ".NET (C#)",
   "language": "C#",
   "name": ".net-csharp"
  },
  "polyglot_notebook": {
   "kernelInfo": {
    "defaultKernelName": "csharp",
    "items": [
     {
      "aliases": [
       "c#",
       "C#"
      ],
      "languageName": "C#",
      "name": "csharp"
     },
     {
      "aliases": [],
      "name": ".NET"
     },
     {
      "aliases": [
       "frontend"
      ],
      "name": "vscode"
     },
     {
      "aliases": [
       "f#",
       "F#"
      ],
      "languageName": "F#",
      "name": "fsharp"
     },
     {
      "aliases": [],
      "languageName": "HTML",
      "name": "html"
     },
     {
      "aliases": [
       "js"
      ],
      "languageName": "JavaScript",
      "name": "javascript"
     },
     {
      "aliases": [],
      "languageName": "KQL",
      "name": "kql"
     },
     {
      "aliases": [],
      "languageName": "Mermaid",
      "name": "mermaid"
     },
     {
      "aliases": [
       "powershell"
      ],
      "languageName": "PowerShell",
      "name": "pwsh"
     },
     {
      "aliases": [],
      "languageName": "SQL",
      "name": "sql"
     },
     {
      "aliases": [],
      "name": "value"
     },
     {
      "aliases": [],
      "name": "webview"
     }
    ]
   }
  }
 },
 "nbformat": 4,
 "nbformat_minor": 2
}
