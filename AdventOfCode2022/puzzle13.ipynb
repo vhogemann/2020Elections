{
 "cells": [
  {
   "cell_type": "code",
   "execution_count": 6,
   "metadata": {
    "dotnet_interactive": {
     "language": "fsharp"
    },
    "polyglot_notebook": {
     "kernelName": "fsharp"
    }
   },
   "outputs": [
    {
     "data": {
      "text/html": [
       "<i>(empty)</i><style>\r\n",
       ".dni-code-hint {\r\n",
       "    font-style: italic;\r\n",
       "    overflow: hidden;\r\n",
       "    white-space: nowrap;\r\n",
       "}\r\n",
       ".dni-treeview {\r\n",
       "    white-space: nowrap;\r\n",
       "}\r\n",
       ".dni-treeview td {\r\n",
       "    vertical-align: top;\r\n",
       "    text-align: start;\r\n",
       "}\r\n",
       "details.dni-treeview {\r\n",
       "    padding-left: 1em;\r\n",
       "}\r\n",
       "table td {\r\n",
       "    text-align: start;\r\n",
       "}\r\n",
       "table tr { \r\n",
       "    vertical-align: top; \r\n",
       "    margin: 0em 0px;\r\n",
       "}\r\n",
       "table tr td pre \r\n",
       "{ \r\n",
       "    vertical-align: top !important; \r\n",
       "    margin: 0em 0px !important;\r\n",
       "} \r\n",
       "table th {\r\n",
       "    text-align: start;\r\n",
       "}\r\n",
       "</style>"
      ]
     },
     "metadata": {},
     "output_type": "display_data"
    },
    {
     "data": {
      "text/html": [
       "<table><thead><tr><th><i>index</i></th><th>Item1</th><th>Item2</th></tr></thead><tbody><tr><td>0</td><td><div class=\"dni-plaintext\"><pre>1</pre></div></td><td><div class=\"dni-plaintext\"><pre>Bad</pre></div></td></tr><tr><td>1</td><td><div class=\"dni-plaintext\"><pre>2</pre></div></td><td><div class=\"dni-plaintext\"><pre>Bad</pre></div></td></tr><tr><td>2</td><td><div class=\"dni-plaintext\"><pre>3</pre></div></td><td><div class=\"dni-plaintext\"><pre>Bad</pre></div></td></tr><tr><td>3</td><td><div class=\"dni-plaintext\"><pre>4</pre></div></td><td><div class=\"dni-plaintext\"><pre>Bad</pre></div></td></tr><tr><td>4</td><td><div class=\"dni-plaintext\"><pre>5</pre></div></td><td><div class=\"dni-plaintext\"><pre>Bad</pre></div></td></tr><tr><td>5</td><td><div class=\"dni-plaintext\"><pre>6</pre></div></td><td><div class=\"dni-plaintext\"><pre>Bad</pre></div></td></tr><tr><td>6</td><td><div class=\"dni-plaintext\"><pre>7</pre></div></td><td><div class=\"dni-plaintext\"><pre>Bad</pre></div></td></tr><tr><td>7</td><td><div class=\"dni-plaintext\"><pre>8</pre></div></td><td><div class=\"dni-plaintext\"><pre>Bad</pre></div></td></tr><tr><td>8</td><td><div class=\"dni-plaintext\"><pre>9</pre></div></td><td><div class=\"dni-plaintext\"><pre>Bad</pre></div></td></tr><tr><td>9</td><td><div class=\"dni-plaintext\"><pre>10</pre></div></td><td><div class=\"dni-plaintext\"><pre>Bad</pre></div></td></tr><tr><td>10</td><td><div class=\"dni-plaintext\"><pre>11</pre></div></td><td><div class=\"dni-plaintext\"><pre>Good</pre></div></td></tr><tr><td>11</td><td><div class=\"dni-plaintext\"><pre>12</pre></div></td><td><div class=\"dni-plaintext\"><pre>Bad</pre></div></td></tr><tr><td>12</td><td><div class=\"dni-plaintext\"><pre>13</pre></div></td><td><div class=\"dni-plaintext\"><pre>Good</pre></div></td></tr><tr><td>13</td><td><div class=\"dni-plaintext\"><pre>14</pre></div></td><td><div class=\"dni-plaintext\"><pre>Bad</pre></div></td></tr><tr><td>14</td><td><div class=\"dni-plaintext\"><pre>15</pre></div></td><td><div class=\"dni-plaintext\"><pre>Good</pre></div></td></tr><tr><td>15</td><td><div class=\"dni-plaintext\"><pre>16</pre></div></td><td><div class=\"dni-plaintext\"><pre>Good</pre></div></td></tr><tr><td>16</td><td><div class=\"dni-plaintext\"><pre>17</pre></div></td><td><div class=\"dni-plaintext\"><pre>Good</pre></div></td></tr><tr><td>17</td><td><div class=\"dni-plaintext\"><pre>18</pre></div></td><td><div class=\"dni-plaintext\"><pre>Bad</pre></div></td></tr><tr><td>18</td><td><div class=\"dni-plaintext\"><pre>19</pre></div></td><td><div class=\"dni-plaintext\"><pre>Good</pre></div></td></tr><tr><td>19</td><td><div class=\"dni-plaintext\"><pre>20</pre></div></td><td><div class=\"dni-plaintext\"><pre>Bad</pre></div></td></tr><tr><td colspan=\"3\"><i>... (more)</i></td></tr></tbody></table><style>\r\n",
       ".dni-code-hint {\r\n",
       "    font-style: italic;\r\n",
       "    overflow: hidden;\r\n",
       "    white-space: nowrap;\r\n",
       "}\r\n",
       ".dni-treeview {\r\n",
       "    white-space: nowrap;\r\n",
       "}\r\n",
       ".dni-treeview td {\r\n",
       "    vertical-align: top;\r\n",
       "    text-align: start;\r\n",
       "}\r\n",
       "details.dni-treeview {\r\n",
       "    padding-left: 1em;\r\n",
       "}\r\n",
       "table td {\r\n",
       "    text-align: start;\r\n",
       "}\r\n",
       "table tr { \r\n",
       "    vertical-align: top; \r\n",
       "    margin: 0em 0px;\r\n",
       "}\r\n",
       "table tr td pre \r\n",
       "{ \r\n",
       "    vertical-align: top !important; \r\n",
       "    margin: 0em 0px !important;\r\n",
       "} \r\n",
       "table th {\r\n",
       "    text-align: start;\r\n",
       "}\r\n",
       "</style>"
      ]
     },
     "metadata": {},
     "output_type": "display_data"
    }
   ],
   "source": [
    "type Value =\n",
    "| AInt of int\n",
    "| ASeq of Value list\n",
    "module Decoder =\n",
    "    let isInt num = System.Text.RegularExpressions.Regex(@\"\\d\").IsMatch(string num)\n",
    "    let rec numDecoder (state:string) (tokens:char list):(string*char list) =\n",
    "        match tokens with\n",
    "        | [] -> \"\", tokens\n",
    "        | token :: tail when (isInt token) ->\n",
    "            numDecoder (state + string token) tail\n",
    "        | _ -> state, tokens\n",
    "\n",
    "    let rec decoder (state:Value list) (tokens:char list):(Value list*char list) =\n",
    "        match tokens with\n",
    "        | [] -> state, tokens\n",
    "        | '[' :: tail -> \n",
    "            let aSeq, aTail = decoder List.empty tail\n",
    "            let aState = [ Value.ASeq aSeq ] |> List.append state\n",
    "            decoder aState aTail\n",
    "        | ']' :: tail ->\n",
    "            state, tail\n",
    "        | ',' :: tail -> decoder state tail\n",
    "        | num :: tail -> \n",
    "            let aNumber, aTail = numDecoder (string num) tail\n",
    "            let value = aNumber |> int |> Value.AInt\n",
    "            decoder ([value] |> List.append state) aTail\n",
    "\n",
    "    let decode (line:string):Value =\n",
    "        line\n",
    "        |> List.ofSeq\n",
    "        |> decoder List.empty\n",
    "        |> fst\n",
    "        |> List.head\n",
    "\n",
    "module Encoder =\n",
    "    let rec toString (value:Value) =\n",
    "        match value with\n",
    "        | Value.AInt i -> string i\n",
    "        | Value.ASeq aSeq ->\n",
    "            let content =\n",
    "                aSeq\n",
    "                |> List.map toString\n",
    "                |> String.concat \",\"\n",
    "            \"[\" + content + \"]\"\n",
    "\n",
    "module Comparer =\n",
    "    type Outcome =\n",
    "    | Good\n",
    "    | Bad\n",
    "    | Tie\n",
    "    let rec compare (a:Value) (b:Value) =\n",
    "        let intCompare ia ib =\n",
    "            if ia = ib then\n",
    "                Outcome.Tie\n",
    "            elif ia - ib < 1 then \n",
    "                Outcome.Good\n",
    "            else\n",
    "                Outcome.Bad\n",
    "        \n",
    "        let listCompare (la:Value list) (lb:Value list) =\n",
    "            match la, lb with\n",
    "            | [],[] -> Outcome.Tie\n",
    "            | [], _ -> Outcome.Good\n",
    "            | _, [] -> Outcome.Bad\n",
    "            | _ ->\n",
    "            \n",
    "            let outcome =\n",
    "                Seq.zip la lb\n",
    "                |> Seq.map (fun (va, vb) -> compare va vb)\n",
    "                |> Seq.reduce (fun a b -> \n",
    "                    match a, b with\n",
    "                    | Tie, _ -> b\n",
    "                    | _, Tie -> a\n",
    "                    | Good, _ -> Good\n",
    "                    | Bad, _ | _, Bad -> Bad\n",
    "                )\n",
    "            match outcome with\n",
    "            | Tie when la.Length > lb.Length ->\n",
    "                Outcome.Bad\n",
    "            | Tie when la.Length < lb.Length -> \n",
    "                Outcome.Good\n",
    "            | _ ->\n",
    "                outcome\n",
    "\n",
    "        match a, b with\n",
    "        | Value.AInt ia, Value.AInt ib -> \n",
    "            intCompare ia ib \n",
    "        | Value.ASeq la, Value.ASeq lb ->\n",
    "            listCompare la lb\n",
    "        | Value.AInt _, Value.ASeq lb ->\n",
    "            listCompare [a] lb\n",
    "        | Value.ASeq la, Value.AInt _ ->\n",
    "            listCompare la [b]\n",
    "        \n",
    "\n",
    "let ResolutionFolder = __SOURCE_DIRECTORY__\n",
    "let lines = \n",
    "    File.ReadLines( ResolutionFolder + \"/input13.txt\") \n",
    "    |> List.ofSeq\n",
    "    |> List.filter ( String.IsNullOrEmpty >> not )\n",
    "\n",
    "let signal =\n",
    "    lines\n",
    "    |> Seq.chunkBySize 2\n",
    "    |> Seq.map ( Seq.map Decoder.decode )\n",
    "    |> Seq.map List.ofSeq\n",
    "\n",
    "let parsed =\n",
    "    signal\n",
    "    |> Seq.map ( Seq.map Encoder.toString )\n",
    "    |> Seq.concat\n",
    "\n",
    "let original = \n",
    "    lines\n",
    "    |> Seq.filter ( String.IsNullOrEmpty >> not )\n",
    "\n",
    "Seq.zip original parsed\n",
    "|> Seq.mapi (fun idx (a, b) -> (a = b), $\"{idx + 1}  {a}  |  {b}\" )\n",
    "|> Seq.filter (fst >> not)\n",
    "|> display\n",
    "\n",
    "signal\n",
    "|> Seq.map ( fun it -> Comparer.compare it.[0] it[1] )\n",
    "|> Seq.mapi (fun idx it -> idx + 1 ,it)\n",
    "//|> Seq.filter (fun (_, it) -> match it with Comparer.Outcome.Good -> true | _ -> false)\n",
    "//|> Seq.sumBy fst\n",
    "|> display\n",
    "\n",
    "let debug s =  \n",
    "    s \n",
    "    |> List.map Decoder.decode \n",
    "    |> ( fun it -> Comparer.compare it.[0] it[1] ) \n",
    "    |> sprintf \"%A\"\n",
    "    |> display\n",
    "\n",
    "//[ \"[[4,4],4,4]\"; \"[[4,4],4,4,4]\" ] |> debug\n",
    "\n",
    "//[ \"[7,7,7,7]\"; \"[7,7,7]\" ] |> debug\n",
    "\n",
    "\n",
    "// 1 good\n",
    "// 2 good\n",
    "// 3 bad \n",
    "// 4 good\n",
    "// 5 bad \n",
    "// 6 good\n",
    "// 7 bad\n",
    "// 8 bad\n"
   ]
  }
 ],
 "metadata": {
  "kernelspec": {
   "display_name": ".NET (C#)",
   "language": "C#",
   "name": ".net-csharp"
  },
  "polyglot_notebook": {
   "kernelInfo": {
    "defaultKernelName": "csharp",
    "items": [
     {
      "aliases": [
       "c#",
       "C#"
      ],
      "languageName": "C#",
      "name": "csharp"
     },
     {
      "aliases": [],
      "name": ".NET"
     },
     {
      "aliases": [
       "frontend"
      ],
      "name": "vscode"
     },
     {
      "aliases": [
       "f#",
       "F#"
      ],
      "languageName": "F#",
      "name": "fsharp"
     },
     {
      "aliases": [],
      "languageName": "HTML",
      "name": "html"
     },
     {
      "aliases": [
       "js"
      ],
      "languageName": "JavaScript",
      "name": "javascript"
     },
     {
      "aliases": [],
      "languageName": "KQL",
      "name": "kql"
     },
     {
      "aliases": [],
      "languageName": "Mermaid",
      "name": "mermaid"
     },
     {
      "aliases": [
       "powershell"
      ],
      "languageName": "PowerShell",
      "name": "pwsh"
     },
     {
      "aliases": [],
      "languageName": "SQL",
      "name": "sql"
     },
     {
      "aliases": [],
      "name": "value"
     },
     {
      "aliases": [],
      "name": "webview"
     }
    ]
   }
  }
 },
 "nbformat": 4,
 "nbformat_minor": 2
}
