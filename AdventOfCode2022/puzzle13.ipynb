{
 "cells": [
  {
   "cell_type": "code",
   "execution_count": 3,
   "metadata": {
    "dotnet_interactive": {
     "language": "fsharp"
    },
    "polyglot_notebook": {
     "kernelName": "fsharp"
    }
   },
   "outputs": [
    {
     "data": {
      "text/html": [
       "<i>(empty)</i><style>\r\n",
       ".dni-code-hint {\r\n",
       "    font-style: italic;\r\n",
       "    overflow: hidden;\r\n",
       "    white-space: nowrap;\r\n",
       "}\r\n",
       ".dni-treeview {\r\n",
       "    white-space: nowrap;\r\n",
       "}\r\n",
       ".dni-treeview td {\r\n",
       "    vertical-align: top;\r\n",
       "    text-align: start;\r\n",
       "}\r\n",
       "details.dni-treeview {\r\n",
       "    padding-left: 1em;\r\n",
       "}\r\n",
       "table td {\r\n",
       "    text-align: start;\r\n",
       "}\r\n",
       "table tr { \r\n",
       "    vertical-align: top; \r\n",
       "    margin: 0em 0px;\r\n",
       "}\r\n",
       "table tr td pre \r\n",
       "{ \r\n",
       "    vertical-align: top !important; \r\n",
       "    margin: 0em 0px !important;\r\n",
       "} \r\n",
       "table th {\r\n",
       "    text-align: start;\r\n",
       "}\r\n",
       "</style>"
      ]
     },
     "metadata": {},
     "output_type": "display_data"
    },
    {
     "ename": "Error",
     "evalue": "System.ArgumentException: The input sequence was empty. (Parameter 'source')\r\n   at Microsoft.FSharp.Collections.SeqModule.Reduce[T](FSharpFunc`2 reduction, IEnumerable`1 source) in D:\\a\\_work\\1\\s\\src\\FSharp.Core\\seq.fs:line 910\r\n   at FSI_0009.Comparer.compare(Value a, Value b)\r\n   at FSI_0009.clo@111-7.Invoke(FSharpList`1 it)\r\n   at Microsoft.FSharp.Collections.Internal.IEnumerator.map@99.DoMoveNext(b& curr) in D:\\a\\_work\\1\\s\\src\\FSharp.Core\\seq.fs:line 105\r\n   at Microsoft.FSharp.Collections.Internal.IEnumerator.MapEnumerator`1.System.Collections.IEnumerator.MoveNext() in D:\\a\\_work\\1\\s\\src\\FSharp.Core\\seq.fs:line 88\r\n   at Microsoft.FSharp.Collections.Internal.IEnumerator.mapi@116.DoMoveNext(b& curr) in D:\\a\\_work\\1\\s\\src\\FSharp.Core\\seq.fs:line 124\r\n   at Microsoft.FSharp.Collections.Internal.IEnumerator.MapEnumerator`1.System.Collections.IEnumerator.MoveNext() in D:\\a\\_work\\1\\s\\src\\FSharp.Core\\seq.fs:line 88\r\n   at System.Linq.Enumerable.SelectIterator[TSource,TResult](IEnumerable`1 source, Func`3 selector)+MoveNext()\r\n   at Microsoft.DotNet.Interactive.Formatting.EnumerableExtensions.TakeAndCountRemaining[T](IEnumerable`1 source, Int32 count, Boolean forceCountRemainder) in D:\\a\\_work\\1\\s\\src\\Microsoft.DotNet.Interactive.Formatting\\EnumerableExtensions.cs:line 23\r\n   at Microsoft.DotNet.Interactive.Formatting.HtmlFormatter`1.<>c__DisplayClass8_0.<CreateForAnyEnumerable>g__BuildTable|3(T source, FormatContext context) in D:\\a\\_work\\1\\s\\src\\Microsoft.DotNet.Interactive.Formatting\\HtmlFormatter{T}.cs:line 147\r\n   at Microsoft.DotNet.Interactive.Formatting.HtmlFormatter`1.Format(T value, FormatContext context) in D:\\a\\_work\\1\\s\\src\\Microsoft.DotNet.Interactive.Formatting\\HtmlFormatter{T}.cs:line 52\r\n   at Microsoft.DotNet.Interactive.Formatting.HtmlFormatter.<>c.<.cctor>b__0_12(IEnumerable value, FormatContext context) in D:\\a\\_work\\1\\s\\src\\Microsoft.DotNet.Interactive.Formatting\\HtmlFormatter.cs:line 208\r\n   at Microsoft.DotNet.Interactive.Formatting.HtmlFormatter`1.Format(T value, FormatContext context) in D:\\a\\_work\\1\\s\\src\\Microsoft.DotNet.Interactive.Formatting\\HtmlFormatter{T}.cs:line 52\r\n   at Microsoft.DotNet.Interactive.Formatting.Formatter.<>c__DisplayClass53_0.<TryInferPreferredFormatter>b__4(Object value, FormatContext context) in D:\\a\\_work\\1\\s\\src\\Microsoft.DotNet.Interactive.Formatting\\Formatter.cs:line 701\r\n   at Microsoft.DotNet.Interactive.Formatting.Formatter`1.FormatTo(T obj, FormatContext context, String mimeType) in D:\\a\\_work\\1\\s\\src\\Microsoft.DotNet.Interactive.Formatting\\Formatter{T}.cs:line 87\r\n   at Microsoft.DotNet.Interactive.Formatting.Formatter.FormatTo[T](T obj, FormatContext context, String mimeType) in D:\\a\\_work\\1\\s\\src\\Microsoft.DotNet.Interactive.Formatting\\Formatter.cs:line 316\r\n   at Microsoft.DotNet.Interactive.Formatting.Formatter.ToDisplayString(Object obj, String mimeType) in D:\\a\\_work\\1\\s\\src\\Microsoft.DotNet.Interactive.Formatting\\Formatter.cs:line 266\r\n   at Microsoft.DotNet.Interactive.FormattedValue.<>c__DisplayClass7_0.<FromObject>b__0(String mimeType) in D:\\a\\_work\\1\\s\\src\\Microsoft.DotNet.Interactive\\FormattedValue.cs:line 36\r\n   at System.Linq.Enumerable.SelectArrayIterator`2.ToArray()\r\n   at Microsoft.DotNet.Interactive.FormattedValue.FromObject(Object value, String[] mimeTypes) in D:\\a\\_work\\1\\s\\src\\Microsoft.DotNet.Interactive\\FormattedValue.cs:line 36\r\n   at Microsoft.DotNet.Interactive.KernelInvocationContextExtensions.Display(KernelInvocationContext context, Object value, String[] mimeTypes) in D:\\a\\_work\\1\\s\\src\\Microsoft.DotNet.Interactive\\KernelInvocationContextExtensions.cs:line 24\r\n   at System.DisplayExtensions.Display(Object value, String[] mimeTypes) in D:\\a\\_work\\1\\s\\src\\Microsoft.DotNet.Interactive\\DisplayExtensions.cs:line 20\r\n   at Microsoft.DotNet.Interactive.Kernel.display(Object value, String[] mimeTypes) in D:\\a\\_work\\1\\s\\src\\Microsoft.DotNet.Interactive\\Kernel.Static.cs:line 31\r\n   at <StartupCode$FSI_0009>.$FSI_0009.main@()\r\n   at System.RuntimeMethodHandle.InvokeMethod(Object target, Void** arguments, Signature sig, Boolean isConstructor)\r\n   at System.Reflection.MethodInvoker.Invoke(Object obj, IntPtr* args, BindingFlags invokeAttr)",
     "output_type": "error",
     "traceback": [
      "System.ArgumentException: The input sequence was empty. (Parameter 'source')\r\n",
      "   at Microsoft.FSharp.Collections.SeqModule.Reduce[T](FSharpFunc`2 reduction, IEnumerable`1 source) in D:\\a\\_work\\1\\s\\src\\FSharp.Core\\seq.fs:line 910\r\n",
      "   at FSI_0009.Comparer.compare(Value a, Value b)\r\n",
      "   at FSI_0009.clo@111-7.Invoke(FSharpList`1 it)\r\n",
      "   at Microsoft.FSharp.Collections.Internal.IEnumerator.map@99.DoMoveNext(b& curr) in D:\\a\\_work\\1\\s\\src\\FSharp.Core\\seq.fs:line 105\r\n",
      "   at Microsoft.FSharp.Collections.Internal.IEnumerator.MapEnumerator`1.System.Collections.IEnumerator.MoveNext() in D:\\a\\_work\\1\\s\\src\\FSharp.Core\\seq.fs:line 88\r\n",
      "   at Microsoft.FSharp.Collections.Internal.IEnumerator.mapi@116.DoMoveNext(b& curr) in D:\\a\\_work\\1\\s\\src\\FSharp.Core\\seq.fs:line 124\r\n",
      "   at Microsoft.FSharp.Collections.Internal.IEnumerator.MapEnumerator`1.System.Collections.IEnumerator.MoveNext() in D:\\a\\_work\\1\\s\\src\\FSharp.Core\\seq.fs:line 88\r\n",
      "   at System.Linq.Enumerable.SelectIterator[TSource,TResult](IEnumerable`1 source, Func`3 selector)+MoveNext()\r\n",
      "   at Microsoft.DotNet.Interactive.Formatting.EnumerableExtensions.TakeAndCountRemaining[T](IEnumerable`1 source, Int32 count, Boolean forceCountRemainder) in D:\\a\\_work\\1\\s\\src\\Microsoft.DotNet.Interactive.Formatting\\EnumerableExtensions.cs:line 23\r\n",
      "   at Microsoft.DotNet.Interactive.Formatting.HtmlFormatter`1.<>c__DisplayClass8_0.<CreateForAnyEnumerable>g__BuildTable|3(T source, FormatContext context) in D:\\a\\_work\\1\\s\\src\\Microsoft.DotNet.Interactive.Formatting\\HtmlFormatter{T}.cs:line 147\r\n",
      "   at Microsoft.DotNet.Interactive.Formatting.HtmlFormatter`1.Format(T value, FormatContext context) in D:\\a\\_work\\1\\s\\src\\Microsoft.DotNet.Interactive.Formatting\\HtmlFormatter{T}.cs:line 52\r\n",
      "   at Microsoft.DotNet.Interactive.Formatting.HtmlFormatter.<>c.<.cctor>b__0_12(IEnumerable value, FormatContext context) in D:\\a\\_work\\1\\s\\src\\Microsoft.DotNet.Interactive.Formatting\\HtmlFormatter.cs:line 208\r\n",
      "   at Microsoft.DotNet.Interactive.Formatting.HtmlFormatter`1.Format(T value, FormatContext context) in D:\\a\\_work\\1\\s\\src\\Microsoft.DotNet.Interactive.Formatting\\HtmlFormatter{T}.cs:line 52\r\n",
      "   at Microsoft.DotNet.Interactive.Formatting.Formatter.<>c__DisplayClass53_0.<TryInferPreferredFormatter>b__4(Object value, FormatContext context) in D:\\a\\_work\\1\\s\\src\\Microsoft.DotNet.Interactive.Formatting\\Formatter.cs:line 701\r\n",
      "   at Microsoft.DotNet.Interactive.Formatting.Formatter`1.FormatTo(T obj, FormatContext context, String mimeType) in D:\\a\\_work\\1\\s\\src\\Microsoft.DotNet.Interactive.Formatting\\Formatter{T}.cs:line 87\r\n",
      "   at Microsoft.DotNet.Interactive.Formatting.Formatter.FormatTo[T](T obj, FormatContext context, String mimeType) in D:\\a\\_work\\1\\s\\src\\Microsoft.DotNet.Interactive.Formatting\\Formatter.cs:line 316\r\n",
      "   at Microsoft.DotNet.Interactive.Formatting.Formatter.ToDisplayString(Object obj, String mimeType) in D:\\a\\_work\\1\\s\\src\\Microsoft.DotNet.Interactive.Formatting\\Formatter.cs:line 266\r\n",
      "   at Microsoft.DotNet.Interactive.FormattedValue.<>c__DisplayClass7_0.<FromObject>b__0(String mimeType) in D:\\a\\_work\\1\\s\\src\\Microsoft.DotNet.Interactive\\FormattedValue.cs:line 36\r\n",
      "   at System.Linq.Enumerable.SelectArrayIterator`2.ToArray()\r\n",
      "   at Microsoft.DotNet.Interactive.FormattedValue.FromObject(Object value, String[] mimeTypes) in D:\\a\\_work\\1\\s\\src\\Microsoft.DotNet.Interactive\\FormattedValue.cs:line 36\r\n",
      "   at Microsoft.DotNet.Interactive.KernelInvocationContextExtensions.Display(KernelInvocationContext context, Object value, String[] mimeTypes) in D:\\a\\_work\\1\\s\\src\\Microsoft.DotNet.Interactive\\KernelInvocationContextExtensions.cs:line 24\r\n",
      "   at System.DisplayExtensions.Display(Object value, String[] mimeTypes) in D:\\a\\_work\\1\\s\\src\\Microsoft.DotNet.Interactive\\DisplayExtensions.cs:line 20\r\n",
      "   at Microsoft.DotNet.Interactive.Kernel.display(Object value, String[] mimeTypes) in D:\\a\\_work\\1\\s\\src\\Microsoft.DotNet.Interactive\\Kernel.Static.cs:line 31\r\n",
      "   at <StartupCode$FSI_0009>.$FSI_0009.main@()\r\n",
      "   at System.RuntimeMethodHandle.InvokeMethod(Object target, Void** arguments, Signature sig, Boolean isConstructor)\r\n",
      "   at System.Reflection.MethodInvoker.Invoke(Object obj, IntPtr* args, BindingFlags invokeAttr)"
     ]
    }
   ],
   "source": [
    "type Value =\n",
    "| AInt of int\n",
    "| ASeq of Value list\n",
    "module Decoder =\n",
    "    let isInt num = System.Text.RegularExpressions.Regex(@\"\\d\").IsMatch(string num)\n",
    "    let rec numDecoder (state:string) (tokens:char list):(string*char list) =\n",
    "        match tokens with\n",
    "        | [] -> \"\", tokens\n",
    "        | token :: tail when (isInt token) ->\n",
    "            numDecoder (state + string token) tail\n",
    "        | _ -> state, tokens\n",
    "\n",
    "    let rec decoder (state:Value list) (tokens:char list):(Value list*char list) =\n",
    "        match tokens with\n",
    "        | [] -> state, tokens\n",
    "        | '[' :: tail -> \n",
    "            let aSeq, aTail = decoder List.empty tail\n",
    "            let aState = [ Value.ASeq aSeq ] |> List.append state\n",
    "            decoder aState aTail\n",
    "        | ']' :: tail ->\n",
    "            state, tail\n",
    "        | ',' :: tail -> decoder state tail\n",
    "        | num :: tail -> \n",
    "            let aNumber, aTail = numDecoder (string num) tail\n",
    "            let value = aNumber |> int |> Value.AInt\n",
    "            decoder ([value] |> List.append state) aTail\n",
    "\n",
    "    let decode (line:string):Value =\n",
    "        line\n",
    "        |> List.ofSeq\n",
    "        |> decoder List.empty\n",
    "        |> fst\n",
    "        |> List.head\n",
    "\n",
    "module Encoder =\n",
    "    let rec toString (value:Value) =\n",
    "        match value with\n",
    "        | Value.AInt i -> string i\n",
    "        | Value.ASeq aSeq ->\n",
    "            let content =\n",
    "                aSeq\n",
    "                |> List.map toString\n",
    "                |> String.concat \",\"\n",
    "            \"[\" + content + \"]\"\n",
    "\n",
    "module Comparer =\n",
    "    type Outcome =\n",
    "    | Good\n",
    "    | Bad\n",
    "    | Tie\n",
    "    let rec compare (a:Value) (b:Value) =\n",
    "        let intCompare ia ib =\n",
    "            if ia - ib = 0 then\n",
    "                Outcome.Tie\n",
    "            elif ia - ib < 1 then \n",
    "                Outcome.Good\n",
    "            else\n",
    "                Outcome.Bad\n",
    "        \n",
    "        let listCompare (la:Value list) (lb:Value list) =\n",
    "            if la.Length < lb.Length || lb.IsEmpty then\n",
    "                Outcome.Bad\n",
    "            else\n",
    "            Seq.zip la lb\n",
    "            |> Seq.map (fun (va, vb) -> compare va vb)\n",
    "            |> Seq.reduce (fun a b -> \n",
    "                match a, b with\n",
    "                | Tie, _ -> b\n",
    "                | _, Tie -> a\n",
    "                | Good, Good -> Good\n",
    "                | _ -> Bad\n",
    "            )\n",
    "\n",
    "        match a, b with\n",
    "        | Value.AInt ia, Value.AInt ib -> \n",
    "            intCompare ia ib \n",
    "        | Value.ASeq la, Value.ASeq lb ->\n",
    "            listCompare la lb\n",
    "        | Value.AInt _, Value.ASeq lb ->\n",
    "            listCompare [a] lb\n",
    "        | Value.ASeq la, Value.AInt _ ->\n",
    "            listCompare la [b]\n",
    "\n",
    "let ResolutionFolder = __SOURCE_DIRECTORY__\n",
    "let lines = \n",
    "    File.ReadLines( ResolutionFolder + \"/testcase13.txt\") \n",
    "    |> List.ofSeq\n",
    "    |> List.filter ( String.IsNullOrEmpty >> not )\n",
    "\n",
    "let signal =\n",
    "    lines\n",
    "    |> Seq.chunkBySize 2\n",
    "    |> Seq.map ( Seq.map Decoder.decode )\n",
    "    |> Seq.map List.ofSeq\n",
    "\n",
    "let parsed =\n",
    "    signal\n",
    "    |> Seq.map ( Seq.map Encoder.toString )\n",
    "    |> Seq.concat\n",
    "\n",
    "let original = \n",
    "    lines\n",
    "    |> Seq.filter ( String.IsNullOrEmpty >> not )\n",
    "\n",
    "Seq.zip original parsed\n",
    "|> Seq.mapi (fun idx (a, b) -> (a = b), $\"{idx + 1}  {a}  |  {b}\" )\n",
    "|> Seq.filter (fst >> not)\n",
    "|> display\n",
    "\n",
    "signal\n",
    "|> Seq.map ( fun it -> Comparer.compare it.[0] it[1] )\n",
    "|> Seq.mapi (fun idx it -> idx + 1 ,it)\n",
    "//|> Seq.filter snd\n",
    "//|> Seq.sumBy fst\n",
    "|> display\n",
    "\n",
    "[ \"[[4,4],4,4]\"; \"[[4,4],4,4,4]\" ]\n",
    "|> List.map Decoder.decode\n",
    "|> ( fun it -> Comparer.compare it.[0] it[1] )\n",
    "|> sprintf \"%A\"\n"
   ]
  }
 ],
 "metadata": {
  "kernelspec": {
   "display_name": ".NET (C#)",
   "language": "C#",
   "name": ".net-csharp"
  },
  "polyglot_notebook": {
   "kernelInfo": {
    "defaultKernelName": "csharp",
    "items": [
     {
      "aliases": [
       "c#",
       "C#"
      ],
      "languageName": "C#",
      "name": "csharp"
     },
     {
      "aliases": [],
      "name": ".NET"
     },
     {
      "aliases": [
       "frontend"
      ],
      "name": "vscode"
     },
     {
      "aliases": [
       "f#",
       "F#"
      ],
      "languageName": "F#",
      "name": "fsharp"
     },
     {
      "aliases": [],
      "languageName": "HTML",
      "name": "html"
     },
     {
      "aliases": [
       "js"
      ],
      "languageName": "JavaScript",
      "name": "javascript"
     },
     {
      "aliases": [],
      "languageName": "KQL",
      "name": "kql"
     },
     {
      "aliases": [],
      "languageName": "Mermaid",
      "name": "mermaid"
     },
     {
      "aliases": [
       "powershell"
      ],
      "languageName": "PowerShell",
      "name": "pwsh"
     },
     {
      "aliases": [],
      "languageName": "SQL",
      "name": "sql"
     },
     {
      "aliases": [],
      "name": "value"
     },
     {
      "aliases": [],
      "name": "webview"
     }
    ]
   }
  }
 },
 "nbformat": 4,
 "nbformat_minor": 2
}
