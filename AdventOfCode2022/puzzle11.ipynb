{
 "cells": [
  {
   "cell_type": "code",
   "execution_count": 1,
   "metadata": {
    "dotnet_interactive": {
     "language": "fsharp"
    },
    "polyglot_notebook": {
     "kernelName": "fsharp"
    }
   },
   "outputs": [
    {
     "name": "stderr",
     "output_type": "stream",
     "text": [
      "Stopped due to error\n"
     ]
    },
    {
     "ename": "Error",
     "evalue": "input.fsx (10,5)-(10,8) parse warning Possible incorrect indentation: this token is offside of context started at position (7:5). Try indenting this token further or using standard formatting conventions.\ninput.fsx (10,5)-(10,8) parse warning Possible incorrect indentation: this token is offside of context started at position (7:5). Try indenting this token further or using standard formatting conventions.\ninput.fsx (10,5)-(10,8) parse error The block following this 'let' is unfinished. Every code block is an expression and must have a result. 'let' cannot be the final code element in a block. Consider giving this block an explicit result.",
     "output_type": "error",
     "traceback": [
      "input.fsx (10,5)-(10,8) parse warning Possible incorrect indentation: this token is offside of context started at position (7:5). Try indenting this token further or using standard formatting conventions.\n",
      "input.fsx (10,5)-(10,8) parse warning Possible incorrect indentation: this token is offside of context started at position (7:5). Try indenting this token further or using standard formatting conventions.\n",
      "input.fsx (10,5)-(10,8) parse error The block following this 'let' is unfinished. Every code block is an expression and must have a result. 'let' cannot be the final code element in a block. Consider giving this block an explicit result."
     ]
    }
   ],
   "source": [
    "type Monkey = {\n",
    "    id: int\n",
    "    items: int seq\n",
    "    op: int -> int\n",
    "}\n",
    "module Monkey =\n",
    "    open System.Text.RegularExpressions\n",
    "\n",
    "    let capture (group:string) (line:string) (regex:Regex) =\n",
    "        regex.Matches(line)\n",
    "        |> Seq.map(fun m -> m.Groups.[group].Value)\n",
    "        |> Seq.tryHead\n",
    "\n",
    "    let (|MonkeyId|_|) (line: string) =\n",
    "        let regex = Regex(@\"Monkey\\s(?<monkey_id>\\d*)\\:\", RegexOptions.Compiled)\n",
    "        let isMatch = line |> regex.IsMatch\n",
    "        if isMatch then\n",
    "            regex\n",
    "            |> capture \"monkey_id\" line\n",
    "        else\n",
    "        None"
   ]
  }
 ],
 "metadata": {
  "kernelspec": {
   "display_name": ".NET (C#)",
   "language": "C#",
   "name": ".net-csharp"
  },
  "polyglot_notebook": {
   "kernelInfo": {
    "defaultKernelName": "csharp",
    "items": [
     {
      "aliases": [
       "c#",
       "C#"
      ],
      "languageName": "C#",
      "name": "csharp"
     },
     {
      "aliases": [
       "frontend"
      ],
      "languageName": null,
      "name": "vscode"
     }
    ]
   }
  }
 },
 "nbformat": 4,
 "nbformat_minor": 2
}
