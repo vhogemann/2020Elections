{
 "cells": [
  {
   "cell_type": "code",
   "execution_count": 27,
   "metadata": {
    "dotnet_interactive": {
     "language": "fsharp"
    },
    "polyglot_notebook": {
     "kernelName": "fsharp"
    }
   },
   "outputs": [
    {
     "data": {
      "text/html": [
       "<table><thead><tr><th>id</th><th>items</th><th>op</th><th>test</th><th>ifTrue</th><th>ifFalse</th></tr></thead><tbody><tr><td><div class=\"dni-plaintext\">3</div></td><td><div class=\"dni-plaintext\">[ 74, 500 ]</div></td><td><div class=\"dni-plaintext\">{ FSI_0140+MonkeyModule+buildOperation@52-85: term2: 3, operator: FSI_0140+MonkeyModule+operator@46-52 }</div></td><td><div class=\"dni-plaintext\">17</div></td><td><div class=\"dni-plaintext\">0</div></td><td><div class=\"dni-plaintext\">1</div></td></tr></tbody></table>"
      ]
     },
     "metadata": {},
     "output_type": "display_data"
    },
    {
     "data": {
      "text/html": [
       "<table><thead><tr><th>id</th><th>items</th><th>op</th><th>test</th><th>ifTrue</th><th>ifFalse</th></tr></thead><tbody><tr><td><div class=\"dni-plaintext\">3</div></td><td><div class=\"dni-plaintext\">[ 74, 500, 620 ]</div></td><td><div class=\"dni-plaintext\">{ FSI_0140+MonkeyModule+buildOperation@52-85: term2: 3, operator: FSI_0140+MonkeyModule+operator@46-52 }</div></td><td><div class=\"dni-plaintext\">17</div></td><td><div class=\"dni-plaintext\">0</div></td><td><div class=\"dni-plaintext\">1</div></td></tr></tbody></table>"
      ]
     },
     "metadata": {},
     "output_type": "display_data"
    },
    {
     "data": {
      "text/html": [
       "<table><thead><tr><th>id</th><th>items</th><th>op</th><th>test</th><th>ifTrue</th><th>ifFalse</th></tr></thead><tbody><tr><td><div class=\"dni-plaintext\">0</div></td><td><div class=\"dni-plaintext\">[ 20 ]</div></td><td><div class=\"dni-plaintext\">{ FSI_0140+MonkeyModule+buildOperation@52-85: term2: 19, operator: FSI_0140+MonkeyModule+operator@47-53 }</div></td><td><div class=\"dni-plaintext\">23</div></td><td><div class=\"dni-plaintext\">2</div></td><td><div class=\"dni-plaintext\">3</div></td></tr></tbody></table>"
      ]
     },
     "metadata": {},
     "output_type": "display_data"
    },
    {
     "data": {
      "text/html": [
       "<table><thead><tr><th>id</th><th>items</th><th>op</th><th>test</th><th>ifTrue</th><th>ifFalse</th></tr></thead><tbody><tr><td><div class=\"dni-plaintext\">0</div></td><td><div class=\"dni-plaintext\">[ 20, 23 ]</div></td><td><div class=\"dni-plaintext\">{ FSI_0140+MonkeyModule+buildOperation@52-85: term2: 19, operator: FSI_0140+MonkeyModule+operator@47-53 }</div></td><td><div class=\"dni-plaintext\">23</div></td><td><div class=\"dni-plaintext\">2</div></td><td><div class=\"dni-plaintext\">3</div></td></tr></tbody></table>"
      ]
     },
     "metadata": {},
     "output_type": "display_data"
    },
    {
     "data": {
      "text/html": [
       "<table><thead><tr><th>id</th><th>items</th><th>op</th><th>test</th><th>ifTrue</th><th>ifFalse</th></tr></thead><tbody><tr><td><div class=\"dni-plaintext\">0</div></td><td><div class=\"dni-plaintext\">[ 20, 23, 27 ]</div></td><td><div class=\"dni-plaintext\">{ FSI_0140+MonkeyModule+buildOperation@52-85: term2: 19, operator: FSI_0140+MonkeyModule+operator@47-53 }</div></td><td><div class=\"dni-plaintext\">23</div></td><td><div class=\"dni-plaintext\">2</div></td><td><div class=\"dni-plaintext\">3</div></td></tr></tbody></table>"
      ]
     },
     "metadata": {},
     "output_type": "display_data"
    },
    {
     "data": {
      "text/html": [
       "<table><thead><tr><th>id</th><th>items</th><th>op</th><th>test</th><th>ifTrue</th><th>ifFalse</th></tr></thead><tbody><tr><td><div class=\"dni-plaintext\">0</div></td><td><div class=\"dni-plaintext\">[ 20, 23, 27, 26 ]</div></td><td><div class=\"dni-plaintext\">{ FSI_0140+MonkeyModule+buildOperation@52-85: term2: 19, operator: FSI_0140+MonkeyModule+operator@47-53 }</div></td><td><div class=\"dni-plaintext\">23</div></td><td><div class=\"dni-plaintext\">2</div></td><td><div class=\"dni-plaintext\">3</div></td></tr></tbody></table>"
      ]
     },
     "metadata": {},
     "output_type": "display_data"
    },
    {
     "data": {
      "text/html": [
       "<table><thead><tr><th>id</th><th>items</th><th>op</th><th>test</th><th>ifTrue</th><th>ifFalse</th></tr></thead><tbody><tr><td><div class=\"dni-plaintext\">1</div></td><td><div class=\"dni-plaintext\">[ 2080 ]</div></td><td><div class=\"dni-plaintext\">{ FSI_0140+MonkeyModule+buildOperation@52-85: term2: 6, operator: FSI_0140+MonkeyModule+operator@46-52 }</div></td><td><div class=\"dni-plaintext\">19</div></td><td><div class=\"dni-plaintext\">2</div></td><td><div class=\"dni-plaintext\">0</div></td></tr></tbody></table>"
      ]
     },
     "metadata": {},
     "output_type": "display_data"
    },
    {
     "data": {
      "text/html": [
       "<table><thead><tr><th>id</th><th>items</th><th>op</th><th>test</th><th>ifTrue</th><th>ifFalse</th></tr></thead><tbody><tr><td><div class=\"dni-plaintext\">3</div></td><td><div class=\"dni-plaintext\">[ 74, 500, 620, 1200 ]</div></td><td><div class=\"dni-plaintext\">{ FSI_0140+MonkeyModule+buildOperation@52-85: term2: 3, operator: FSI_0140+MonkeyModule+operator@46-52 }</div></td><td><div class=\"dni-plaintext\">17</div></td><td><div class=\"dni-plaintext\">0</div></td><td><div class=\"dni-plaintext\">1</div></td></tr></tbody></table>"
      ]
     },
     "metadata": {},
     "output_type": "display_data"
    },
    {
     "data": {
      "text/html": [
       "<table><thead><tr><th>id</th><th>items</th><th>op</th><th>test</th><th>ifTrue</th><th>ifFalse</th></tr></thead><tbody><tr><td><div class=\"dni-plaintext\">3</div></td><td><div class=\"dni-plaintext\">[ 74, 500, 620, 1200, 3136 ]</div></td><td><div class=\"dni-plaintext\">{ FSI_0140+MonkeyModule+buildOperation@52-85: term2: 3, operator: FSI_0140+MonkeyModule+operator@46-52 }</div></td><td><div class=\"dni-plaintext\">17</div></td><td><div class=\"dni-plaintext\">0</div></td><td><div class=\"dni-plaintext\">1</div></td></tr></tbody></table>"
      ]
     },
     "metadata": {},
     "output_type": "display_data"
    },
    {
     "data": {
      "text/html": [
       "<table><thead><tr><th>id</th><th>items</th><th>op</th><th>test</th><th>ifTrue</th><th>ifFalse</th></tr></thead><tbody><tr><td><div class=\"dni-plaintext\">1</div></td><td><div class=\"dni-plaintext\">[ 2080, 25 ]</div></td><td><div class=\"dni-plaintext\">{ FSI_0140+MonkeyModule+buildOperation@52-85: term2: 6, operator: FSI_0140+MonkeyModule+operator@46-52 }</div></td><td><div class=\"dni-plaintext\">19</div></td><td><div class=\"dni-plaintext\">2</div></td><td><div class=\"dni-plaintext\">0</div></td></tr></tbody></table>"
      ]
     },
     "metadata": {},
     "output_type": "display_data"
    },
    {
     "data": {
      "text/html": [
       "<table><thead><tr><th><i>key</i></th><th>id</th><th>items</th><th>op</th><th>test</th><th>ifTrue</th><th>ifFalse</th></tr></thead><tbody><tr><td><div class=\"dni-plaintext\">0</div></td><td><div class=\"dni-plaintext\">0</div></td><td><div class=\"dni-plaintext\">[ 20, 23, 27, 26 ]</div></td><td><table><thead><tr><th>term2</th><th>operator</th></tr></thead><tbody><tr><td><div class=\"dni-plaintext\">19</div></td><td><div class=\"dni-plaintext\">FSI_0140+MonkeyModule+operator@47-53</div></td></tr></tbody></table></td><td><div class=\"dni-plaintext\">23</div></td><td><div class=\"dni-plaintext\">2</div></td><td><div class=\"dni-plaintext\">3</div></td></tr><tr><td><div class=\"dni-plaintext\">1</div></td><td><div class=\"dni-plaintext\">1</div></td><td><div class=\"dni-plaintext\">[ 2080, 25 ]</div></td><td><table><thead><tr><th>term2</th><th>operator</th></tr></thead><tbody><tr><td><div class=\"dni-plaintext\">6</div></td><td><div class=\"dni-plaintext\">FSI_0140+MonkeyModule+operator@46-52</div></td></tr></tbody></table></td><td><div class=\"dni-plaintext\">19</div></td><td><div class=\"dni-plaintext\">2</div></td><td><div class=\"dni-plaintext\">0</div></td></tr><tr><td><div class=\"dni-plaintext\">2</div></td><td><div class=\"dni-plaintext\">2</div></td><td><div class=\"dni-plaintext\">[  ]</div></td><td><table><thead><tr><th>operator</th></tr></thead><tbody><tr><td><div class=\"dni-plaintext\">FSI_0140+MonkeyModule+operator@47-53</div></td></tr></tbody></table></td><td><div class=\"dni-plaintext\">13</div></td><td><div class=\"dni-plaintext\">1</div></td><td><div class=\"dni-plaintext\">3</div></td></tr><tr><td><div class=\"dni-plaintext\">3</div></td><td><div class=\"dni-plaintext\">3</div></td><td><div class=\"dni-plaintext\">[  ]</div></td><td><table><thead><tr><th>term2</th><th>operator</th></tr></thead><tbody><tr><td><div class=\"dni-plaintext\">3</div></td><td><div class=\"dni-plaintext\">FSI_0140+MonkeyModule+operator@46-52</div></td></tr></tbody></table></td><td><div class=\"dni-plaintext\">17</div></td><td><div class=\"dni-plaintext\">0</div></td><td><div class=\"dni-plaintext\">1</div></td></tr></tbody></table>"
      ]
     },
     "metadata": {},
     "output_type": "display_data"
    }
   ],
   "source": [
    "type Monkey = {\n",
    "    id: int\n",
    "    items: int seq\n",
    "    op: int -> int\n",
    "    test: int\n",
    "    ifTrue: int\n",
    "    ifFalse: int\n",
    "} with\n",
    "    static member Empty = \n",
    "        { \n",
    "            id = -1\n",
    "            items = Seq.empty\n",
    "            op = id\n",
    "            test = -1\n",
    "            ifTrue = -1\n",
    "            ifFalse = -1\n",
    "        }\n",
    "module Monkey =\n",
    "    open System.Text.RegularExpressions\n",
    "\n",
    "    let (|MonkeyId|_|) (line: string) =\n",
    "        let monkeyId = Regex(@\"Monkey\\s(?<monkey_id>\\d*):\")\n",
    "        let isMatch = line |> monkeyId.IsMatch\n",
    "        if isMatch then\n",
    "            monkeyId.Matches(line)\n",
    "            |> Seq.map(fun m -> m.Groups.[\"monkey_id\"].Value)\n",
    "            |> Seq.tryHead\n",
    "            |> Option.map int\n",
    "        else\n",
    "        None\n",
    "\n",
    "    let (|StartingItems|_|) (line: string) =\n",
    "        let startingItems = Regex(@\"\\d+\")\n",
    "        if line.Contains(\"Starting items\") then \n",
    "            startingItems.Matches(line)\n",
    "            |> Seq.map(fun m -> m.Groups.Values |> Seq.map (fun g -> g.Value))\n",
    "            |> Seq.concat\n",
    "            |> Seq.map int\n",
    "            |> Some\n",
    "        else \n",
    "            None\n",
    "\n",
    "    let buildOperation (term1:string, op:string, term2:string) =\n",
    "        let operator =\n",
    "            match op with \n",
    "            | \"+\" -> (fun a b -> a + b)\n",
    "            | \"*\" -> (fun a b -> a * b)\n",
    "            | _ -> (fun a b -> -1)\n",
    "        \n",
    "        match term1, term2 with\n",
    "        | \"old\", \"old\" -> (fun it -> operator it it)\n",
    "        | \"old\", aNum -> (fun it -> operator it (aNum |> int) )\n",
    "        | aNum, \"old\" -> (fun it -> operator (aNum |> int) it)\n",
    "        | _ -> id\n",
    "\n",
    "    let (|Operation|_|) (line:string) =\n",
    "        let operation = Regex(@\"(?<term1>old|\\d*) (?<op>\\*|\\+) (?<term2>old|\\d*)\")\n",
    "        if line.Contains(\"Operation:\") then \n",
    "            operation.Matches(line)\n",
    "            |> Seq.map(fun m ->\n",
    "                m.Groups.[\"term1\"].Value , m.Groups.[\"op\"].Value, m.Groups.[\"term2\"].Value )\n",
    "            |> Seq.tryHead\n",
    "            |> Option.map buildOperation\n",
    "        else \n",
    "            None\n",
    "    let (|Test|_|) (line:string) =\n",
    "        let test = Regex(@\"(\\d+)\")    \n",
    "        if line.Contains(\"Test: divisible by\") then\n",
    "            test.Matches(line)\n",
    "            |> Seq.map(fun m -> m.Groups.Values |> Seq.map (fun g -> g.Value ))\n",
    "            |> Seq.concat\n",
    "            |> Seq.tryHead\n",
    "            |> Option.map int\n",
    "        else \n",
    "            None\n",
    "\n",
    "    let outcome outcome (line:string) =\n",
    "        let test = Regex(@\"(\\d+)\")  \n",
    "        if line.Contains($\"If {outcome}: throw to monkey\") then \n",
    "            test.Matches(line)\n",
    "            |> Seq.map(fun m -> m.Groups.Values |> Seq.map (fun g -> g.Value ))\n",
    "            |> Seq.concat\n",
    "            |> Seq.tryHead\n",
    "            |> Option.map int\n",
    "        else \n",
    "            None\n",
    "\n",
    "    let (|OutcomeTrue|_|) = outcome \"true\"\n",
    "\n",
    "    let (|OutcomeFalse|_|) = outcome \"false\"\n",
    "\n",
    "    let builder monkey line =\n",
    "        match line with\n",
    "        | MonkeyId mId -> { monkey with id = mId }\n",
    "        | StartingItems items -> { monkey with items = items }\n",
    "        | Operation opr -> { monkey with op = opr }\n",
    "        | Test test -> { monkey with test = test }\n",
    "        | OutcomeTrue mId -> { monkey with ifTrue = mId }\n",
    "        | OutcomeFalse mId -> { monkey with ifFalse = mId }\n",
    "        | _ -> monkey\n",
    "\n",
    "type MonkeyMap = Map<int,Monkey>\n",
    "module KeepAway =\n",
    "    let inspect (monkey:Monkey) =\n",
    "        let inspected =\n",
    "            monkey.items\n",
    "            |> Seq.map monkey.op\n",
    "            |> Seq.map (fun it -> (it / 3))\n",
    "        { monkey with items = inspected }\n",
    "\n",
    "    let target item (monkey:Monkey) =\n",
    "        if item % monkey.test = 0 then\n",
    "            monkey.ifTrue\n",
    "        else\n",
    "            monkey.ifFalse\n",
    "\n",
    "    let throw (monkeys:MonkeyMap) (item:int, monkeyId:int) =\n",
    "        monkeys\n",
    "        |> Map.change monkeyId (fun monkey ->\n",
    "            match monkey with\n",
    "            | Some m -> \n",
    "                display $\"${ item } -> monkey ${ monkeyId }\"\n",
    "                { m with items = [item] |> Seq.append m.items } \n",
    "                |> Some\n",
    "            | None -> None)\n",
    "\n",
    "    let round (monkeys:MonkeyMap) monkey =\n",
    "        let inspected = monkey |> inspect\n",
    "        inspected.items\n",
    "        |> Seq.map (fun it -> it, target it inspected)\n",
    "        |> Seq.fold throw monkeys\n",
    "        |> Map.change monkey.id (fun it -> match it with Some m -> { m with items = Seq.empty } |> Some | None -> None)\n",
    "\n",
    "\n",
    "\n",
    "let ResolutionFolder = __SOURCE_DIRECTORY__\n",
    "let lines = File.ReadAllLines(ResolutionFolder + \"/testcase11.txt\")\n",
    "\n",
    "let monkeys =\n",
    "    lines\n",
    "    |>Seq.chunkBySize 7\n",
    "    |>Seq.map (Seq.fold Monkey.builder Monkey.Empty)\n",
    "    |>Seq.map (fun monkey -> monkey.id, monkey)\n",
    "    |>Map.ofSeq\n",
    "\n",
    "monkeys\n",
    "|> Map.values\n",
    "|> Seq.sortBy (fun it -> it.id)\n",
    "|> Seq.fold KeepAway.round monkeys"
   ]
  }
 ],
 "metadata": {
  "kernelspec": {
   "display_name": ".NET (C#)",
   "language": "C#",
   "name": ".net-csharp"
  },
  "polyglot_notebook": {
   "kernelInfo": {
    "defaultKernelName": "csharp",
    "items": [
     {
      "aliases": [
       "c#",
       "C#"
      ],
      "languageName": "C#",
      "name": "csharp"
     },
     {
      "aliases": [
       "frontend"
      ],
      "languageName": null,
      "name": "vscode"
     }
    ]
   }
  }
 },
 "nbformat": 4,
 "nbformat_minor": 2
}
