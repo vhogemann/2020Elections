{
 "cells": [
  {
   "cell_type": "markdown",
   "metadata": {
    "dotnet_interactive": {
     "language": "value"
    },
    "polyglot_notebook": {
     "kernelName": "value"
    }
   },
   "source": [
    "498,4 -> 498,6 -> 496,6\n",
    "503,4 -> 502,4 -> 502,9 -> 494,9"
   ]
  },
  {
   "cell_type": "code",
   "execution_count": 40,
   "metadata": {
    "dotnet_interactive": {
     "language": "fsharp"
    },
    "polyglot_notebook": {
     "kernelName": "fsharp"
    },
    "vscode": {
     "languageId": "polyglot-notebook"
    }
   },
   "outputs": [
    {
     "name": "stderr",
     "output_type": "stream",
     "text": [
      "Stopped due to error\n"
     ]
    },
    {
     "ename": "Error",
     "evalue": "input.fsx (120,12)-(120,30) typecheck error The type 'Position * Material' does not match the type 'Position'\ninput.fsx (136,48)-(136,49) typecheck error This expression was expected to have type\n    'Position'    \nbut here has type\n    'Position * Material'    \ninput.fsx (153,12)-(153,18) typecheck error Type constraint mismatch. The type \n    'Position * Material'    \nis not compatible with type\n    'Position'    \n",
     "output_type": "error",
     "traceback": [
      "input.fsx (120,12)-(120,30) typecheck error The type 'Position * Material' does not match the type 'Position'\n",
      "input.fsx (136,48)-(136,49) typecheck error This expression was expected to have type\n",
      "    'Position'    \n",
      "but here has type\n",
      "    'Position * Material'    \n",
      "input.fsx (153,12)-(153,18) typecheck error Type constraint mismatch. The type \n",
      "    'Position * Material'    \n",
      "is not compatible with type\n",
      "    'Position'    \n"
     ]
    }
   ],
   "source": [
    "type Material =\n",
    "| Rock\n",
    "| MovingSand\n",
    "| SettledSand\n",
    "| Air\n",
    "\n",
    "type Position = {\n",
    "    y: int\n",
    "    x: int\n",
    "}\n",
    "\n",
    "type Cave = Map<Position,Material>\n",
    "\n",
    "module Parser =\n",
    "    let interpolate (starting,ending) =\n",
    "        let sorted a b = if a < b then a,b else b,a\n",
    "        if starting.x = ending.x then\n",
    "            let (a, b) = sorted starting.y ending.y\n",
    "            seq {\n",
    "                for y in [a .. b] do \n",
    "                    yield { starting with y = y }\n",
    "            }\n",
    "        else\n",
    "            let (a, b)  = sorted starting.x ending.x\n",
    "            seq {\n",
    "                for x in [a .. b] do \n",
    "                    yield { starting with x = x }\n",
    "            }\n",
    "\n",
    "    let parse (line:string) =\n",
    "        line.Split(\"->\")\n",
    "        |> Seq.map ( fun it -> \n",
    "            let coords = it.Split(\",\") |> Array.map int\n",
    "            { x = coords.[0]; y = coords.[1] } )\n",
    "        |> Seq.pairwise\n",
    "        |> Seq.map interpolate\n",
    "        |> Seq.concat\n",
    "        |> Seq.map (fun it -> it, Material.Rock)\n",
    "\n",
    "module Cave =\n",
    "    let dimensions (cave:Cave) =\n",
    "        let maxBy chooser = \n",
    "            cave \n",
    "            |> Map.keys\n",
    "            |> List.ofSeq\n",
    "            |> List.map chooser\n",
    "            |> List.max\n",
    "        maxBy (fun it -> it.x), maxBy (fun it -> it.y)\n",
    "\n",
    "    let isFull cave =\n",
    "        let origin = { x = 500; y = 0 }\n",
    "        cave \n",
    "        |> Map.containsKey origin &&\n",
    "        match cave |> Map.find origin with\n",
    "        | Material.SettledSand -> true\n",
    "        | _ -> false\n",
    "\n",
    "    let preview (cave:Cave) =\n",
    "        let width, height = cave |> dimensions\n",
    "        seq {\n",
    "            for y in [0 .. height] do yield seq {\n",
    "                for x in [0 .. width] do\n",
    "                    let key = { x = x; y = y }\n",
    "                    if cave |> Map.containsKey key  then \n",
    "                        yield\n",
    "                            match cave |> Map.find key with \n",
    "                            | Rock -> \"🪨\"\n",
    "                            | MovingSand -> \"🟡\"\n",
    "                            | SettledSand -> \"🟨\"\n",
    "                            | Air -> \"⬛\"\n",
    "                    else\n",
    "                        yield \"⬛\"\n",
    "            }\n",
    "        }\n",
    "        |> Seq.map (Seq.skip 450 >> String.concat \"\")\n",
    "        |> String.concat \"\\n\"\n",
    "\n",
    "module Sand =\n",
    "    let create (cave:Cave) =\n",
    "        if cave |> Cave.isFull then cave else\n",
    "        cave\n",
    "        |> Map.add { x = 500; y = 0 } Material.MovingSand\n",
    "\n",
    "    let move (sand:Position) (floorOffset: int option) height (cave:Cave) =\n",
    "        match floorOffset with \n",
    "        | Some offset when sand.y = (height + offset) ->\n",
    "            cave |> Map.change sand (fun it -> match it with Some _ -> Some (Material.SettledSand) | _ -> None) \n",
    "        | None when sand.y = height ->\n",
    "            cave |> Map.remove sand // Sand already at the bottom of the cave\n",
    "        | _ ->\n",
    "\n",
    "        let down = { sand with y = sand.y + 1 }\n",
    "        if cave |> Map.containsKey down then\n",
    "            let downLeft = { down with x = sand.x - 1 }\n",
    "            if cave |> Map.containsKey downLeft then\n",
    "                let downRight = { down with x = sand.x + 1 }\n",
    "                if cave |> Map.containsKey downRight then\n",
    "                    cave |> Map.change sand (fun it -> match it with Some _ -> Some (Material.SettledSand) | _ -> None)\n",
    "                else \n",
    "                    cave |> Map.remove sand |> Map.add downRight Material.MovingSand\n",
    "            else\n",
    "                cave\n",
    "                |> Map.remove sand \n",
    "                |> Map.add downLeft Material.MovingSand\n",
    "        else\n",
    "        cave\n",
    "        |> Map.remove sand\n",
    "        |> Map.add down Material.MovingSand\n",
    "\n",
    "module Simulation =\n",
    "    let movingSand (cave:Cave) =\n",
    "        let moving = \n",
    "            cave \n",
    "            |> Map.toSeq \n",
    "            |> Seq.filter (fun (_,mat) -> match mat with Material.MovingSand -> true | _ -> false )\n",
    "\n",
    "        if moving |> Seq.isEmpty then Seq.empty else\n",
    "        \n",
    "        moving\n",
    "        |> Seq.sortDescending\n",
    "        |> Seq.map fst\n",
    "\n",
    "    let settledSand (cave:Cave) =\n",
    "        cave \n",
    "            |> Map.toSeq \n",
    "            |> Seq.filter (fun (_,mat) -> match mat with Material.SettledSand -> true | _ -> false )\n",
    "            |> Seq.map fst\n",
    "\n",
    "    let tick floorOffset height (cave:Cave) =\n",
    "        let sand =\n",
    "            cave \n",
    "            |> movingSand\n",
    "        if sand |> Seq.isEmpty then\n",
    "            cave\n",
    "        else\n",
    "        sand\n",
    "        |> Seq.fold( fun c s -> c |> Sand.move s floorOffset height) cave\n",
    "        |> Sand.create\n",
    "\n",
    "    let rec run ticks floorOffset height cave =\n",
    "        if ticks = 0 then cave else\n",
    "        run (ticks - 1) floorOffset height (tick floorOffset height cave)\n",
    "\n",
    "    let rec solve aTick floorOffset height aCave =\n",
    "        if aTick > 200 || aCave |> Cave.isFull then aCave, aTick else\n",
    "        \n",
    "        let floor, hasFloor =\n",
    "            match floorOffset with \n",
    "            | Some offset -> height + offset, true\n",
    "            | None -> height, false\n",
    "        let cave = aCave |> tick floorOffset height\n",
    "        let sand = cave |> movingSand |> Seq.head\n",
    "        \n",
    "        if sand.y >= floor && not hasFloor then \n",
    "            cave, aTick\n",
    "        else\n",
    "            solve (aTick + 1) floorOffset height cave\n",
    "\n",
    "\n",
    "let ResolutionFolder = __SOURCE_DIRECTORY__\n",
    "let cave = \n",
    "    File.ReadLines( ResolutionFolder + \"/testcase14.txt\")\n",
    "    |> Seq.map Parser.parse \n",
    "    |> Seq.concat\n",
    "    |> Map.ofSeq\n",
    "\n",
    "let _, height = cave |> Cave.dimensions\n",
    "\n",
    "let part1, ticks =\n",
    "    cave \n",
    "    //|> Cave.dimensions\n",
    "    //|> Simulation.run 100 \n",
    "    |> Simulation.solve 0 None height\n",
    "    //|> Simulation.movingSand\n",
    "    //|> Simulation.settledSand |> Seq.length\n",
    "\n",
    "display ticks\n",
    "\n",
    "part1 |> Simulation.settledSand |> Seq.length |> display\n",
    "\n",
    "part1 |> Cave.preview"
   ]
  },
  {
   "cell_type": "code",
   "execution_count": 38,
   "metadata": {
    "dotnet_interactive": {
     "language": "fsharp"
    },
    "polyglot_notebook": {
     "kernelName": "fsharp"
    },
    "vscode": {
     "languageId": "polyglot-notebook"
    }
   },
   "outputs": [
    {
     "ename": "Error",
     "evalue": "System.ArgumentException: The input sequence was empty. (Parameter 'source')\r\n   at Microsoft.FSharp.Collections.SeqModule.Head[T](IEnumerable`1 source) in D:\\a\\_work\\1\\s\\src\\FSharp.Core\\seq.fs:line 1653\r\n   at FSI_0067.Simulation.solve(Int32 aTick, FSharpOption`1 floorOffset, Int32 height, FSharpMap`2 aCave)\r\n   at <StartupCode$FSI_0071>.$FSI_0071.main@()\r\n   at System.RuntimeMethodHandle.InvokeMethod(Object target, Void** arguments, Signature sig, Boolean isConstructor)\r\n   at System.Reflection.MethodInvoker.Invoke(Object obj, IntPtr* args, BindingFlags invokeAttr)",
     "output_type": "error",
     "traceback": [
      "System.ArgumentException: The input sequence was empty. (Parameter 'source')\r\n",
      "   at Microsoft.FSharp.Collections.SeqModule.Head[T](IEnumerable`1 source) in D:\\a\\_work\\1\\s\\src\\FSharp.Core\\seq.fs:line 1653\r\n",
      "   at FSI_0067.Simulation.solve(Int32 aTick, FSharpOption`1 floorOffset, Int32 height, FSharpMap`2 aCave)\r\n",
      "   at <StartupCode$FSI_0071>.$FSI_0071.main@()\r\n",
      "   at System.RuntimeMethodHandle.InvokeMethod(Object target, Void** arguments, Signature sig, Boolean isConstructor)\r\n",
      "   at System.Reflection.MethodInvoker.Invoke(Object obj, IntPtr* args, BindingFlags invokeAttr)"
     ]
    }
   ],
   "source": [
    "let part2, ticks =\n",
    "    cave \n",
    "    |> Simulation.solve 0 (Some 2) height\n",
    "\n",
    "display ticks\n",
    "\n",
    "part2 |> Cave.preview"
   ]
  }
 ],
 "metadata": {
  "kernelspec": {
   "display_name": ".NET (C#)",
   "language": "C#",
   "name": ".net-csharp"
  },
  "polyglot_notebook": {
   "kernelInfo": {
    "defaultKernelName": "csharp",
    "items": [
     {
      "aliases": [
       "c#",
       "C#"
      ],
      "languageName": "C#",
      "name": "csharp"
     },
     {
      "aliases": [
       "js"
      ],
      "languageName": "JavaScript",
      "name": "javascript"
     },
     {
      "aliases": [],
      "name": "webview"
     },
     {
      "aliases": [],
      "name": ".NET"
     },
     {
      "aliases": [
       "frontend"
      ],
      "name": "vscode"
     },
     {
      "aliases": [
       "f#",
       "F#"
      ],
      "languageName": "F#",
      "name": "fsharp"
     },
     {
      "aliases": [],
      "languageName": "HTML",
      "name": "html"
     },
     {
      "aliases": [],
      "languageName": "KQL",
      "name": "kql"
     },
     {
      "aliases": [],
      "languageName": "Mermaid",
      "name": "mermaid"
     },
     {
      "aliases": [
       "powershell"
      ],
      "languageName": "PowerShell",
      "name": "pwsh"
     },
     {
      "aliases": [],
      "languageName": "SQL",
      "name": "sql"
     },
     {
      "aliases": [],
      "name": "value"
     }
    ]
   }
  }
 },
 "nbformat": 4,
 "nbformat_minor": 2
}
