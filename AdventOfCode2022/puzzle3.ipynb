{
 "cells": [
  {
   "cell_type": "code",
   "execution_count": 32,
   "metadata": {
    "dotnet_interactive": {
     "language": "fsharp"
    },
    "vscode": {
     "languageId": "dotnet-interactive.fsharp"
    }
   },
   "outputs": [
    {
     "data": {
      "text/html": [
       "<div class=\"dni-plaintext\">8185</div>"
      ]
     },
     "metadata": {},
     "output_type": "display_data"
    }
   ],
   "source": [
    "let ResolutionFolder = __SOURCE_DIRECTORY__\n",
    "\n",
    "let splitLine (line:string) =\n",
    "    let middle = line.Length / 2\n",
    "    let first = line.Substring(0, middle).ToCharArray() |> Set.ofArray |> Set.toList\n",
    "    let second = line.Substring(middle, middle).ToCharArray() |> Set.ofArray\n",
    "    first,second\n",
    "    \n",
    "let rec findRepeatedItem (first: char list, second: Set<char>) =\n",
    "    match first with\n",
    "    | [] -> None\n",
    "    | h :: tail -> \n",
    "        if second.Contains(h) then Some h else findRepeatedItem (tail, second)\n",
    "\n",
    "let finder = splitLine >> findRepeatedItem\n",
    "\n",
    "\n",
    "let convertPriority (value:int) =\n",
    "    if value > 96 then\n",
    "        value - 96\n",
    "    else\n",
    "        value - 38\n",
    "\n",
    "File.ReadLines( ResolutionFolder + \"/input3.txt\") \n",
    "|> Seq.map finder \n",
    "|> Seq.choose id \n",
    "|> Array.ofSeq \n",
    "|> System.String \n",
    "|> Encoding.ASCII.GetBytes \n",
    "|> Array.map int\n",
    "|> Array.map convertPriority\n",
    "|> Seq.sum"
   ]
  },
  {
   "cell_type": "code",
   "execution_count": 40,
   "metadata": {
    "dotnet_interactive": {
     "language": "fsharp"
    },
    "vscode": {
     "languageId": "dotnet-interactive.fsharp"
    }
   },
   "outputs": [
    {
     "data": {
      "text/html": [
       "<div class=\"dni-plaintext\">2817</div>"
      ]
     },
     "metadata": {},
     "output_type": "display_data"
    }
   ],
   "source": [
    "let findRepeatedItemList (first: char seq) (second: Set<char> ) =\n",
    "    seq {\n",
    "        for letter in first do\n",
    "            if second.Contains(letter) then\n",
    "                yield letter\n",
    "    }\n",
    "\n",
    "let findBadge first second third =\n",
    "    findRepeatedItemList (findRepeatedItemList first second) third\n",
    "    |> Seq.head\n",
    "\n",
    "let batchesOf n =\n",
    "    Seq.mapi (fun i v -> i / n, v) >>\n",
    "    Seq.groupBy fst >>\n",
    "    Seq.map snd >>\n",
    "    Seq.map (Seq.map snd)\n",
    "\n",
    "\n",
    "File.ReadLines( ResolutionFolder + \"/input3.txt\") \n",
    "|> batchesOf 3\n",
    "|> Seq.map Array.ofSeq\n",
    "|> Seq.map ( fun it -> it |> Array.map( fun line -> line.ToCharArray() |> Set.ofArray ))\n",
    "|> Seq.map ( fun it -> findBadge (it.[0]) (it.[1]) (it.[2]))\n",
    "|> Array.ofSeq\n",
    "|> System.String \n",
    "|> Encoding.ASCII.GetBytes \n",
    "|> Array.map int\n",
    "|> Array.map convertPriority\n",
    "|> Seq.sum"
   ]
  }
 ],
 "metadata": {
  "kernelspec": {
   "display_name": ".NET (C#)",
   "language": "C#",
   "name": ".net-csharp"
  },
  "language_info": {
   "file_extension": ".cs",
   "mimetype": "text/x-csharp",
   "name": "C#",
   "pygments_lexer": "csharp",
   "version": "9.0"
  },
  "orig_nbformat": 4
 },
 "nbformat": 4,
 "nbformat_minor": 2
}
