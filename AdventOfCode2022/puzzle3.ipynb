{
 "cells": [
  {
   "cell_type": "code",
   "execution_count": 74,
   "metadata": {
    "dotnet_interactive": {
     "language": "fsharp"
    },
    "vscode": {
     "languageId": "dotnet-interactive.fsharp"
    }
   },
   "outputs": [
    {
     "data": {
      "text/html": [
       "<div class=\"dni-plaintext\">8185</div>"
      ]
     },
     "metadata": {},
     "output_type": "display_data"
    }
   ],
   "source": [
    "let ResolutionFolder = __SOURCE_DIRECTORY__\n",
    "\n",
    "let convertPriority (value:int) =\n",
    "    if value > 96 then\n",
    "        value - 96\n",
    "    else\n",
    "        value - 38\n",
    "\n",
    "let intersect line =\n",
    "    line\n",
    "    |> Seq.splitInto 2\n",
    "    |> Seq.map Set.ofSeq\n",
    "    |> Set.intersectMany \n",
    "    |> Seq.head\n",
    "\n",
    "File.ReadLines( ResolutionFolder + \"/input3.txt\") \n",
    "|> Seq.map ( intersect >> int >> convertPriority )\n",
    "|> Seq.sum"
   ]
  },
  {
   "cell_type": "code",
   "execution_count": 72,
   "metadata": {
    "dotnet_interactive": {
     "language": "fsharp"
    },
    "vscode": {
     "languageId": "dotnet-interactive.fsharp"
    }
   },
   "outputs": [
    {
     "data": {
      "text/html": [
       "<div class=\"dni-plaintext\">2817</div>"
      ]
     },
     "metadata": {},
     "output_type": "display_data"
    }
   ],
   "source": [
    "File.ReadLines( ResolutionFolder + \"/input3.txt\")\n",
    "|> Seq.map ( fun it -> it.ToCharArray() |> Set.ofArray)\n",
    "|> Seq.chunkBySize 3\n",
    "|> Seq.map (Set.intersectMany >> Seq.head >> int >> convertPriority)\n",
    "|> Seq.sum"
   ]
  }
 ],
 "metadata": {
  "kernelspec": {
   "display_name": ".NET (C#)",
   "language": "C#",
   "name": ".net-csharp"
  },
  "language_info": {
   "file_extension": ".cs",
   "mimetype": "text/x-csharp",
   "name": "C#",
   "pygments_lexer": "csharp",
   "version": "9.0"
  },
  "orig_nbformat": 4
 },
 "nbformat": 4,
 "nbformat_minor": 2
}
