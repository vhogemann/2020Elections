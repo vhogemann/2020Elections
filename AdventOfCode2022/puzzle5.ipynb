{
 "cells": [
  {
   "cell_type": "code",
   "execution_count": 33,
   "metadata": {
    "dotnet_interactive": {
     "language": "fsharp"
    },
    "vscode": {
     "languageId": "dotnet-interactive.fsharp"
    }
   },
   "outputs": [
    {
     "data": {
      "text/plain": [
       "[D][H][B][J] [Q][J] [C][C][W]"
      ]
     },
     "metadata": {},
     "output_type": "display_data"
    }
   ],
   "source": [
    "open System\n",
    "open System.Collections.Generic\n",
    "open System.IO\n",
    "open System.Text.RegularExpressions\n",
    "\n",
    "let ResolutionFolder = __SOURCE_DIRECTORY__\n",
    "\n",
    "let regexMapper find extract line =\n",
    "    let finder = Regex(find, RegexOptions.Compiled)\n",
    "    let extractor = Regex(extract, RegexOptions.Compiled)\n",
    "    if finder.IsMatch(line) then\n",
    "        seq {\n",
    "            for stack in extractor.Matches(line) do\n",
    "                yield stack.Value\n",
    "        } |> Some\n",
    "    else\n",
    "        None\n",
    "\n",
    "let (|StackLine|_|) = regexMapper @\"\\[\\w\\]\" @\".{3}\\s?\"\n",
    "\n",
    "let (|MoveLine|_|) = regexMapper @\"move \\d{1,2} from \\d to \\d\" @\"\\d{1,2}\"\n",
    "\n",
    "type Line =\n",
    "| Stack of string seq\n",
    "| Move of string seq\n",
    "\n",
    "let mapper =\n",
    "    function\n",
    "    | StackLine line -> line |> Stack |> Some\n",
    "    | MoveLine line -> line |> Move |> Some\n",
    "    | _ -> None\n",
    "\n",
    "type State = Map<string, string list>\n",
    "\n",
    "let stacker (state: State) (line: string seq) =\n",
    "    line\n",
    "    |> Seq.mapi (fun i crate -> string (i + 1), crate)\n",
    "    |> Seq.filter( fun (_,crate) -> not <| String.IsNullOrWhiteSpace(crate) )\n",
    "    |> Seq.fold (fun (acc:State) (i, crate) -> \n",
    "        acc \n",
    "        |> Map.change i (function\n",
    "                        | Some crates -> Some (crates @ [crate.Trim()] ) \n",
    "                        | None -> Some [crate])\n",
    "    ) state\n",
    "\n",
    "let rec crateMover9000 origin dest quantity =\n",
    "    match origin with\n",
    "    | [] -> origin,dest\n",
    "    | head :: tail -> \n",
    "        if quantity = 1 then\n",
    "            (tail), ([head] @ dest)\n",
    "        else\n",
    "            crateMover9000 (tail) ([head] @ dest) (quantity - 1)\n",
    "\n",
    "let mover crateMover (state:State) (move: string seq) =\n",
    "    match (move |> List.ofSeq) with\n",
    "    | [quantity; origin; dest] ->\n",
    "        let (o,d) = crateMover (state.Item(origin)) (state.Item(dest)) (int quantity)\n",
    "        state\n",
    "        |> Map.change origin (function Some _ -> Some o | None -> Some o)\n",
    "        |> Map.change dest (function Some _ -> Some d | None -> Some d)\n",
    "    | _ -> state\n",
    "\n",
    "let folder crateMover (state:State) (line:Line) =\n",
    "    match line with\n",
    "    | Stack stack ->\n",
    "        stacker state stack \n",
    "    | Move move ->\n",
    "        mover crateMover state move\n",
    "\n",
    "File.ReadLines(ResolutionFolder + \"/input5.txt\")\n",
    "|> Seq.map mapper\n",
    "|> Seq.choose id\n",
    "|> Seq.fold (folder crateMover9000) Map.empty\n",
    "|> Map.values\n",
    "|> Seq.mapi (fun i stack -> (int i, stack |> Seq.tryHead))\n",
    "|> Seq.sortBy fst\n",
    "|> Seq.map snd\n",
    "|> Seq.choose id\n",
    "|> Seq.reduce (+)"
   ]
  },
  {
   "cell_type": "code",
   "execution_count": 34,
   "metadata": {
    "dotnet_interactive": {
     "language": "fsharp"
    },
    "vscode": {
     "languageId": "dotnet-interactive.fsharp"
    }
   },
   "outputs": [
    {
     "data": {
      "text/plain": [
       "[W][J] [V][R] [L][S][J][J] [T]"
      ]
     },
     "metadata": {},
     "output_type": "display_data"
    }
   ],
   "source": [
    "let rec crateMover9001 origin dest quantity =\n",
    "    match origin with\n",
    "    | [] -> origin,dest\n",
    "    | head :: tail -> \n",
    "        let crates = origin |> List.take quantity\n",
    "        (origin |> List.skip quantity),(crates @ dest)\n",
    "\n",
    "File.ReadLines(ResolutionFolder + \"/input5.txt\")\n",
    "|> Seq.map mapper\n",
    "|> Seq.choose id\n",
    "|> Seq.fold (folder crateMover9001) Map.empty\n",
    "|> Map.values\n",
    "|> Seq.mapi (fun i stack -> (i, stack |> Seq.tryHead))\n",
    "|> Seq.sortBy fst\n",
    "|> Seq.map snd\n",
    "|> Seq.choose id\n",
    "|> Seq.reduce (+)"
   ]
  },
  {
   "cell_type": "code",
   "execution_count": 31,
   "metadata": {
    "dotnet_interactive": {
     "language": "fsharp"
    },
    "vscode": {
     "languageId": "dotnet-interactive.fsharp"
    }
   },
   "outputs": [],
   "source": []
  }
 ],
 "metadata": {
  "kernelspec": {
   "display_name": ".NET (C#)",
   "language": "C#",
   "name": ".net-csharp"
  },
  "language_info": {
   "file_extension": ".cs",
   "mimetype": "text/x-csharp",
   "name": "C#",
   "pygments_lexer": "csharp",
   "version": "9.0"
  },
  "orig_nbformat": 4
 },
 "nbformat": 4,
 "nbformat_minor": 2
}
