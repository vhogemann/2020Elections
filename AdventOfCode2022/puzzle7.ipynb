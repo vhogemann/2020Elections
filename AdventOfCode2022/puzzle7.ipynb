{
 "cells": [
  {
   "cell_type": "code",
   "execution_count": 89,
   "metadata": {
    "dotnet_interactive": {
     "language": "fsharp"
    },
    "vscode": {
     "languageId": "dotnet-interactive.fsharp"
    }
   },
   "outputs": [
    {
     "data": {
      "text/html": [
       "<table><thead><tr><th>Value</th></tr></thead><tbody><tr><td><div class=\"dni-plaintext\">[ 23427191, 703677, 500913, 500913, 9319261, 2861769, 2832508, 976002, 580144, 150671, 258985, 62087, 1057988, 1039264, 717048, 243203, 141078, 139875, 139875, 2562 ... (more) ]</div></td></tr></tbody></table>"
      ]
     },
     "metadata": {},
     "output_type": "display_data"
    }
   ],
   "source": [
    "let ResolutionFolder = __SOURCE_DIRECTORY__\n",
    "\n",
    "[<RequireQualifiedAccess>]\n",
    "type Log =\n",
    "| ChangeDir of string\n",
    "| GoUp\n",
    "| GoRoot\n",
    "| File of int*string\n",
    "| Dir of string\n",
    "\n",
    "type AFile = {\n",
    "    name: string\n",
    "    size: int\n",
    "}\n",
    "type ADir = {\n",
    "    name: string\n",
    "    mutable parent: ADir option\n",
    "    mutable dirs: ADir seq\n",
    "    mutable files: AFile seq\n",
    "} with\n",
    "    member this.Size() =\n",
    "        let files = (this.files |> Seq.sumBy( fun it -> it.size ))\n",
    "        let dirs = (this.dirs |> Seq.sumBy (fun it -> it.Size()))\n",
    "        files + dirs\n",
    "    member this.Ls() =\n",
    "        this.dirs |> Seq.map (fun it -> it.name) |> sprintf \"%A\"\n",
    "    \n",
    "\n",
    "let cd (dir:string) (scope:ADir) =\n",
    "    scope.dirs\n",
    "    |> Seq.tryFind(fun it -> it.name = dir)\n",
    "    |> Option.orElse (Some scope)\n",
    "\n",
    "let rec goRoot (scope: ADir option) =\n",
    "    scope\n",
    "    |> Option.bind (fun folder -> if folder.name = \"/\" then Some folder else folder.parent )\n",
    "    |> Option.orElse ({ name = \"/\"; parent = None; dirs = Seq.empty; files = Seq.empty } |> Some)\n",
    "   \n",
    "let goUp (scope: ADir) =\n",
    "    scope.parent |> Option.orElse (Some scope)\n",
    "\n",
    "let addFile (size: int, name: string) (scope: ADir) =\n",
    "    scope.files <- scope.files |> Seq.append [ { name = name; size = size } ]\n",
    "    scope\n",
    "\n",
    "let addDir (dir: string) (scope: ADir)  =\n",
    "    scope.dirs <- \n",
    "        scope.dirs \n",
    "        |> Seq.append [ { name = dir; parent = Some scope; dirs = Seq.empty; files = Seq.empty } ]\n",
    "    scope\n",
    "let folder (state: ADir option) (line: Log) =\n",
    "    match line with\n",
    "    | Log.GoRoot -> goRoot state\n",
    "    | Log.ChangeDir name -> state |> Option.bind (cd name)\n",
    "    | Log.GoUp -> state |> Option.bind (goUp)\n",
    "    | Log.File (size,name) -> state |> Option.map (addFile (size,name))\n",
    "    | Log.Dir name -> state |> Option.map (addDir name)\n",
    "    \n",
    "\n",
    "let parseLog (line:string) =\n",
    "    match line.Split(\" \") with\n",
    "    | [| \"$\"; \"cd\"; \"/\" |] -> Log.GoRoot |> Some\n",
    "    | [| \"$\"; \"cd\"; \"..\" |] -> Log.GoUp |> Some\n",
    "    | [| \"$\"; \"cd\"; dir |] -> Log.ChangeDir dir |> Some\n",
    "    | [| \"dir\"; dir |] -> Log.Dir dir |> Some\n",
    "    | [| size; file |] when (Int64.TryParse(size)) |> fst -> Log.File (size |> int ,file) |> Some\n",
    "    | unknown -> \n",
    "        None\n",
    "\n",
    "let rec find (fs:ADir) =\n",
    "    seq{\n",
    "        yield fs.Size()\n",
    "        let children = \n",
    "            fs.dirs\n",
    "            |> Seq.map find\n",
    "            |> Seq.concat\n",
    "        yield! children\n",
    "    }\n",
    "\n",
    "File.ReadLines(ResolutionFolder + \"/input7.txt\")\n",
    "|> Seq.map parseLog\n",
    "|> Seq.choose id\n",
    "|> Seq.fold folder None\n",
    "|> goRoot\n",
    "|> Option.map (find >> Seq.filter (fun it -> it <= 100000) ) "
   ]
  }
 ],
 "metadata": {
  "kernelspec": {
   "display_name": ".NET (C#)",
   "language": "C#",
   "name": ".net-csharp"
  },
  "language_info": {
   "file_extension": ".cs",
   "mimetype": "text/x-csharp",
   "name": "C#",
   "pygments_lexer": "csharp",
   "version": "9.0"
  },
  "orig_nbformat": 4
 },
 "nbformat": 4,
 "nbformat_minor": 2
}
