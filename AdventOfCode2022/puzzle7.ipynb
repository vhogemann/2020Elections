{
 "cells": [
  {
   "cell_type": "code",
   "execution_count": 2,
   "metadata": {
    "dotnet_interactive": {
     "language": "fsharp"
    },
    "vscode": {
     "languageId": "dotnet-interactive.fsharp"
    }
   },
   "outputs": [
    {
     "data": {
      "text/html": [
       "<table><thead><tr><th><i>index</i></th><th>value</th></tr></thead><tbody><tr><td>0</td><td><div class=\"dni-plaintext\">1400951</div></td></tr><tr><td>1</td><td><div class=\"dni-plaintext\">101940</div></td></tr><tr><td>2</td><td><div class=\"dni-plaintext\">101940</div></td></tr><tr><td>3</td><td><div class=\"dni-plaintext\">752508</div></td></tr><tr><td>4</td><td><div class=\"dni-plaintext\">1978542</div></td></tr><tr><td>5</td><td><div class=\"dni-plaintext\">30443</div></td></tr><tr><td>6</td><td><div class=\"dni-plaintext\">30443</div></td></tr><tr><td>7</td><td><div class=\"dni-plaintext\">918045</div></td></tr><tr><td>8</td><td><div class=\"dni-plaintext\">272548</div></td></tr><tr><td>9</td><td><div class=\"dni-plaintext\">165670</div></td></tr><tr><td>10</td><td><div class=\"dni-plaintext\">219638</div></td></tr><tr><td>11</td><td><div class=\"dni-plaintext\">219638</div></td></tr><tr><td>12</td><td><div class=\"dni-plaintext\">356258</div></td></tr><tr><td>13</td><td><div class=\"dni-plaintext\">1992008</div></td></tr><tr><td>14</td><td><div class=\"dni-plaintext\">11756</div></td></tr><tr><td>15</td><td><div class=\"dni-plaintext\">149750</div></td></tr><tr><td>16</td><td><div class=\"dni-plaintext\">277720</div></td></tr><tr><td>17</td><td><div class=\"dni-plaintext\">807854</div></td></tr><tr><td>18</td><td><div class=\"dni-plaintext\">229687</div></td></tr><tr><td>19</td><td><div class=\"dni-plaintext\">229687</div></td></tr><tr><td colspan=\"2\"><i>... (more)</i></td></tr></tbody></table>"
      ]
     },
     "metadata": {},
     "output_type": "display_data"
    }
   ],
   "source": [
    "let ResolutionFolder = __SOURCE_DIRECTORY__\n",
    "\n",
    "[<RequireQualifiedAccess>]\n",
    "type Log =\n",
    "| ChangeDir of string\n",
    "| GoUp\n",
    "| GoRoot\n",
    "| File of int*string\n",
    "| Dir of string\n",
    "\n",
    "type AFile = {\n",
    "    name: string\n",
    "    size: int\n",
    "}\n",
    "type ADir = {\n",
    "    name: string\n",
    "    mutable parent: ADir option\n",
    "    mutable dirs: Set<ADir>\n",
    "    mutable files: Set<AFile>\n",
    "} with\n",
    "    static member New (name, scope) = { name = name; parent = scope; dirs = Set.empty; files = Set.empty }\n",
    "    member this.Size() =\n",
    "        let files = (this.files |> Seq.sumBy( fun it -> it.size ))\n",
    "        let dirs = (this.dirs |> Seq.sumBy (fun it -> it.Size()))\n",
    "        files + dirs\n",
    "    member this.AddFile(size, name) =\n",
    "        this.files <- this.files |> Set.add { size = size; name = name }\n",
    "        Some this\n",
    "    member this.AddDir(name) =\n",
    "        this.dirs <- this.dirs |> Set.add (ADir.New(name, (Some this)))\n",
    "        Some this\n",
    "    member this.ChangeDir(name) =\n",
    "        this.dirs |> Seq.tryFind(fun it -> it.name = name )\n",
    "    member this.GoUp() =\n",
    "        this.parent |> Option.orElse(Some this)\n",
    "    member this.GoToRoot() =\n",
    "        if this.parent.IsNone then \n",
    "            Some this\n",
    "        else \n",
    "            this.parent |> Option.bind( fun it -> it.GoToRoot())\n",
    "\n",
    "let parser (state: ADir option) (line: Log) =\n",
    "    match state with \n",
    "    | None -> None\n",
    "    | Some folder -> \n",
    "\n",
    "    match line with\n",
    "    | Log.GoRoot ->\n",
    "        folder.GoToRoot()\n",
    "    | Log.ChangeDir name -> \n",
    "        folder.ChangeDir name\n",
    "    | Log.GoUp -> \n",
    "        folder.GoUp()\n",
    "    | Log.File (size,name) -> \n",
    "        folder.AddFile(size, name)\n",
    "    | Log.Dir name -> \n",
    "        folder.AddDir name\n",
    "\n",
    "let parseLog (line:string) =\n",
    "    match line.Split(\" \") with\n",
    "    | [| \"$\"; \"cd\"; \"/\" |] -> Log.GoRoot |> Some\n",
    "    | [| \"$\"; \"cd\"; \"..\" |] -> Log.GoUp |> Some\n",
    "    | [| \"$\"; \"cd\"; dir |] -> Log.ChangeDir dir |> Some\n",
    "    | [| \"dir\"; dir |] -> Log.Dir dir |> Some\n",
    "    | [| size; file |] when (Int64.TryParse(size)) |> fst -> Log.File (size |> int ,file) |> Some\n",
    "    | unknown ->  None\n",
    "\n",
    "let rec find (fs:ADir) =\n",
    "    seq{\n",
    "        yield fs.Size()\n",
    "        let children = \n",
    "            fs.dirs\n",
    "            |> Seq.map find\n",
    "            |> Seq.concat\n",
    "        yield! children\n",
    "    }\n",
    "\n",
    "let maybeRoot =\n",
    "    File.ReadLines(ResolutionFolder + \"/input7.txt\")\n",
    "    |> Seq.map parseLog\n",
    "    |> Seq.choose id\n",
    "    |> Seq.fold parser (ADir.New(\"/\", None) |> Some)\n",
    "    |> Option.bind (fun it -> it.GoToRoot())\n",
    "\n",
    "let part1 =\n",
    "    match maybeRoot with\n",
    "    | None -> 0\n",
    "    | Some root ->\n",
    "        root |> find |> Seq.filter(fun it -> it <= 100000) |> Seq.sum\n",
    "\n",
    "let part2 =\n",
    "    match maybeRoot with\n",
    "    | None -> 0\n",
    "    | Some root ->\n",
    "        let left = 70000000 - root.Size()\n",
    "        let target = 30000000 - left\n",
    "        root |> find |> Seq.filter(fun it -> it >= target) |> Seq.min\n",
    "\n",
    "part2"
   ]
  }
 ],
 "metadata": {
  "kernelspec": {
   "display_name": ".NET (C#)",
   "language": "C#",
   "name": ".net-csharp"
  },
  "language_info": {
   "file_extension": ".cs",
   "mimetype": "text/x-csharp",
   "name": "C#",
   "pygments_lexer": "csharp",
   "version": "9.0"
  },
  "orig_nbformat": 4
 },
 "nbformat": 4,
 "nbformat_minor": 2
}
