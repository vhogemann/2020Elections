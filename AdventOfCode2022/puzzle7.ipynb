{
 "cells": [
  {
   "cell_type": "code",
   "execution_count": 6,
   "metadata": {
    "dotnet_interactive": {
     "language": "fsharp"
    },
    "vscode": {
     "languageId": "dotnet-interactive.fsharp"
    }
   },
   "outputs": [
    {
     "data": {
      "text/html": [
       "<table><thead><tr><th><i>index</i></th><th><i>type</i></th><th>Item</th><th>Item1</th><th>Item2</th></tr></thead><tbody><tr><td>0</td><td>FSI_0014+Log+ChangeDir</td><td>/</td><td></td><td></td></tr><tr><td>1</td><td>FSI_0014+Log+Dir</td><td>a</td><td></td><td></td></tr><tr><td>2</td><td>FSI_0014+Log+File</td><td></td><td><div class=\"dni-plaintext\">14848514</div></td><td>b.txt</td></tr><tr><td>3</td><td>FSI_0014+Log+File</td><td></td><td><div class=\"dni-plaintext\">8504156</div></td><td>c.dat</td></tr><tr><td>4</td><td>FSI_0014+Log+Dir</td><td>d</td><td></td><td></td></tr><tr><td>5</td><td>FSI_0014+Log+ChangeDir</td><td>a</td><td></td><td></td></tr><tr><td>6</td><td>FSI_0014+Log+Dir</td><td>e</td><td></td><td></td></tr><tr><td>7</td><td>FSI_0014+Log+File</td><td></td><td><div class=\"dni-plaintext\">29116</div></td><td>f</td></tr><tr><td>8</td><td>FSI_0014+Log+File</td><td></td><td><div class=\"dni-plaintext\">2557</div></td><td>g</td></tr><tr><td>9</td><td>FSI_0014+Log+File</td><td></td><td><div class=\"dni-plaintext\">62596</div></td><td>h.lst</td></tr><tr><td>10</td><td>FSI_0014+Log+ChangeDir</td><td>e</td><td></td><td></td></tr><tr><td>11</td><td>FSI_0014+Log+File</td><td></td><td><div class=\"dni-plaintext\">584</div></td><td>i</td></tr><tr><td>12</td><td>FSI_0014+Log</td><td></td><td></td><td></td></tr><tr><td>13</td><td>FSI_0014+Log</td><td></td><td></td><td></td></tr><tr><td>14</td><td>FSI_0014+Log+ChangeDir</td><td>d</td><td></td><td></td></tr><tr><td>15</td><td>FSI_0014+Log+File</td><td></td><td><div class=\"dni-plaintext\">4060174</div></td><td>j</td></tr><tr><td>16</td><td>FSI_0014+Log+File</td><td></td><td><div class=\"dni-plaintext\">8033020</div></td><td>d.log</td></tr><tr><td>17</td><td>FSI_0014+Log+File</td><td></td><td><div class=\"dni-plaintext\">5626152</div></td><td>d.ext</td></tr><tr><td>18</td><td>FSI_0014+Log+File</td><td></td><td><div class=\"dni-plaintext\">7214296</div></td><td>k</td></tr></tbody></table>"
      ]
     },
     "metadata": {},
     "output_type": "display_data"
    }
   ],
   "source": [
    "let ResolutionFolder = __SOURCE_DIRECTORY__\n",
    "\n",
    "[<RequireQualifiedAccess>]\n",
    "type Log =\n",
    "| ChangeDir of string\n",
    "| GoUp\n",
    "| File of int*string\n",
    "| Dir of string\n",
    "\n",
    "type ADir = {\n",
    "    name: string\n",
    "    dirs: ADir seq\n",
    "    files: AFile seq\n",
    "}\n",
    "and AFile = {\n",
    "    name: string\n",
    "    size: int\n",
    "}\n",
    "\n",
    "type FSystem = Map<string, ADir>\n",
    "\n",
    "let folder (fileSystem:FSystem) (log:Log) =\n",
    "    fileSystem\n",
    "\n",
    "let parseLog (line:string) =\n",
    "    match line.Split(\" \") with\n",
    "    | [| \"$\"; \"cd\"; \"..\" |] -> Log.GoUp |> Some\n",
    "    | [| \"$\"; \"cd\"; dir |] -> Log.ChangeDir dir |> Some\n",
    "    | [| \"dir\"; dir |] -> Log.Dir dir |> Some\n",
    "    | [| size; file |] when (Int64.TryParse(size)) |> fst -> Log.File (size |> int ,file) |> Some\n",
    "    | _ -> None\n",
    "\n",
    "File.ReadLines(ResolutionFolder + \"/testcase7.txt\")\n",
    "|> Seq.map parseLog\n",
    "|> Seq.choose id\n",
    "|> Seq.fold folder Map.empty"
   ]
  }
 ],
 "metadata": {
  "kernelspec": {
   "display_name": ".NET (C#)",
   "language": "C#",
   "name": ".net-csharp"
  },
  "language_info": {
   "file_extension": ".cs",
   "mimetype": "text/x-csharp",
   "name": "C#",
   "pygments_lexer": "csharp",
   "version": "9.0"
  },
  "orig_nbformat": 4
 },
 "nbformat": 4,
 "nbformat_minor": 2
}
