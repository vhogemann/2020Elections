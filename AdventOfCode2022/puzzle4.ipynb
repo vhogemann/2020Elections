{
 "cells": [
  {
   "cell_type": "code",
   "execution_count": 6,
   "metadata": {
    "dotnet_interactive": {
     "language": "fsharp"
    },
    "vscode": {
     "languageId": "dotnet-interactive.fsharp"
    }
   },
   "outputs": [
    {
     "data": {
      "text/html": [
       "<div class=\"dni-plaintext\">588</div>"
      ]
     },
     "metadata": {},
     "output_type": "display_data"
    }
   ],
   "source": [
    "let ResolutionFolder = __SOURCE_DIRECTORY__\n",
    "\n",
    "let parseArea (area:string) =\n",
    "    let bounds = area.Split(\"-\")\n",
    "    (int bounds.[0]), (int bounds.[1])\n",
    "\n",
    "let parseLine (line:string) =\n",
    "    let areas = line.Split(\",\")\n",
    "    (parseArea areas.[0]),(parseArea areas.[1])\n",
    "\n",
    "let eitherContains (area1:int*int, area2:int*int) =\n",
    "    match area1, area2 with\n",
    "    | (a1s, a1e), (a2s, a2e) when a1s <= a2s && a1e >= a2e -> true\n",
    "    | (a1s, a1e), (a2s, a2e) when a2s <= a1s && a2e >= a1e -> true\n",
    "    | _ -> false\n",
    "\n",
    "File.ReadAllLines( ResolutionFolder + \"/input4.txt\")\n",
    "|> Seq.map parseLine\n",
    "|> Seq.filter eitherContains\n",
    "|> Seq.length\n"
   ]
  },
  {
   "cell_type": "code",
   "execution_count": 11,
   "metadata": {
    "dotnet_interactive": {
     "language": "fsharp"
    },
    "vscode": {
     "languageId": "dotnet-interactive.fsharp"
    }
   },
   "outputs": [
    {
     "data": {
      "text/html": [
       "<div class=\"dni-plaintext\">4</div>"
      ]
     },
     "metadata": {},
     "output_type": "display_data"
    }
   ],
   "source": [
    "let overlaps (area1:int*int, area2:int*int) =\n",
    "    match area1, area2 with\n",
    "    | (a1s, a1e), (a2s, a2e) when a1s <= a2s && a1e >= a2s -> true\n",
    "    | (a1s, a1e), (a2s, a2e) when a1s >= a2s && a1s <= a2e -> true\n",
    "    | _ -> false\n",
    "\n",
    "File.ReadAllLines( ResolutionFolder + \"/input4.txt\")\n",
    "|> Seq.map parseLine\n",
    "|> Seq.filter overlaps\n",
    "|> Seq.length"
   ]
  }
 ],
 "metadata": {
  "kernelspec": {
   "display_name": ".NET (C#)",
   "language": "C#",
   "name": ".net-csharp"
  },
  "language_info": {
   "file_extension": ".cs",
   "mimetype": "text/x-csharp",
   "name": "C#",
   "pygments_lexer": "csharp",
   "version": "9.0"
  },
  "orig_nbformat": 4
 },
 "nbformat": 4,
 "nbformat_minor": 2
}
