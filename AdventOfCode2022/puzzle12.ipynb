{
 "cells": [
  {
   "cell_type": "code",
   "execution_count": 13,
   "metadata": {
    "dotnet_interactive": {
     "language": "fsharp"
    },
    "polyglot_notebook": {
     "kernelName": "fsharp"
    }
   },
   "outputs": [
    {
     "data": {
      "text/html": [
       "<table><thead><tr><th>Value</th></tr></thead><tbody><tr><td><div class=\"dni-plaintext\"><pre>Position\r\n",
       "        line: 1\r\n",
       "        col: 0\r\n",
       "        height: 1\r\n",
       "        kind: Step</pre></div></td></tr></tbody></table>"
      ]
     },
     "metadata": {},
     "output_type": "display_data"
    }
   ],
   "source": [
    "type Kind = \n",
    "| Start\n",
    "| End\n",
    "| Step\n",
    "type Position = {\n",
    "    line: int\n",
    "    col: int\n",
    "    height: int\n",
    "    kind: Kind\n",
    "}\n",
    "module Position =\n",
    "    let value line col (character:char) =\n",
    "        let toInt c = (c |> int) - 96\n",
    "        let aPos = { line = line; col = col; height = -1; kind = Step }\n",
    "        match character with\n",
    "        | 'S' -> { aPos with height = 'a' |> toInt; kind = Start }\n",
    "        | 'E' -> { aPos with height = 'z' |> toInt; kind = End }\n",
    "        | _ -> { aPos with height = character |> toInt }\n",
    "\n",
    "module Path =\n",
    "    let mapIt values =\n",
    "        values\n",
    "        |> Seq.mapi (fun idx line -> \n",
    "            line \n",
    "            |> Seq.mapi (fun idy value -> value |> Position.value idx idy )\n",
    "            |> List.ofSeq)\n",
    "        |> List.ofSeq\n",
    "\n",
    "    let start map =\n",
    "        map\n",
    "        |> Seq.concat\n",
    "        |> Seq.filter (fun it -> match it.kind with | Kind.Start _ -> true | _ -> false)\n",
    "        |> Seq.tryHead\n",
    "    \n",
    "    type Direction = UP | DOWN | LEFT | RIGHT\n",
    "    \n",
    "    let walk direction (map:Position list list) (position:Position) =\n",
    "        let height = (map |> List.length) - 1\n",
    "        let width = (map.[0] |> List.length) - 1\n",
    "\n",
    "        let walkInto dest origin =\n",
    "            if Math.Abs(dest.height - origin.height) <= 1 then\n",
    "                Some dest\n",
    "            else \n",
    "                None\n",
    "\n",
    "        match direction with\n",
    "        | DOWN when position.line < height ->\n",
    "            position\n",
    "            |> walkInto map.[position.line + 1].[position.col]\n",
    "        | UP when position.line > 0 ->\n",
    "            position\n",
    "            |> walkInto map.[position.line - 1].[position.col]\n",
    "        | LEFT when position.col < width ->\n",
    "            position\n",
    "            |> walkInto map.[position.line].[position.col + 1]\n",
    "        | RIGHT when position.col > 0 ->\n",
    "            position\n",
    "            |> walkInto map.[position.line].[position.col - 1]\n",
    "        | _ -> None\n",
    "    \n",
    "\n",
    "let ResolutionFolder = __SOURCE_DIRECTORY__\n",
    "let lines = File.ReadLines( ResolutionFolder + \"/testcase12.txt\")\n",
    "\n",
    "let map =\n",
    "    lines\n",
    "    |> Path.mapIt\n",
    "\n",
    "let start = map |> Path.start\n",
    "\n",
    "start |> Option.bind (Path.walk Path.Direction.DOWN map )"
   ]
  }
 ],
 "metadata": {
  "kernelspec": {
   "display_name": ".NET (C#)",
   "language": "C#",
   "name": ".net-csharp"
  },
  "polyglot_notebook": {
   "kernelInfo": {
    "defaultKernelName": "csharp",
    "items": [
     {
      "aliases": [
       "c#",
       "C#"
      ],
      "languageName": "C#",
      "name": "csharp"
     },
     {
      "aliases": [
       "frontend"
      ],
      "languageName": null,
      "name": "vscode"
     },
     {
      "aliases": [],
      "languageName": null,
      "name": ".NET"
     },
     {
      "aliases": [
       "f#",
       "F#"
      ],
      "languageName": "F#",
      "name": "fsharp"
     },
     {
      "aliases": [],
      "languageName": "HTML",
      "name": "html"
     },
     {
      "aliases": [],
      "languageName": "KQL",
      "name": "kql"
     },
     {
      "aliases": [],
      "languageName": "Mermaid",
      "name": "mermaid"
     },
     {
      "aliases": [
       "powershell"
      ],
      "languageName": "PowerShell",
      "name": "pwsh"
     },
     {
      "aliases": [],
      "languageName": "SQL",
      "name": "sql"
     },
     {
      "aliases": [],
      "name": "value"
     }
    ]
   }
  }
 },
 "nbformat": 4,
 "nbformat_minor": 2
}
