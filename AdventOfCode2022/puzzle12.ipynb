{
 "cells": [
  {
   "cell_type": "code",
   "execution_count": 1,
   "metadata": {
    "dotnet_interactive": {
     "language": "fsharp"
    },
    "polyglot_notebook": {
     "kernelName": "fsharp"
    }
   },
   "outputs": [
    {
     "data": {
      "text/html": [
       "<table><thead><tr><th>Value</th></tr></thead><tbody><tr><td><div class=\"dni-plaintext\"><pre>Start\r\n",
       "        Item: Position\r\n",
       "            line: 0\r\n",
       "            col: 0\r\n",
       "            height: 1</pre></div></td></tr></tbody></table>"
      ]
     },
     "metadata": {},
     "output_type": "display_data"
    }
   ],
   "source": [
    "type Position = {\n",
    "    line: int\n",
    "    col: int\n",
    "    height: int\n",
    "}\n",
    "type Location =\n",
    "| Start of Position\n",
    "| End of Position\n",
    "| Step of Position\n",
    "with\n",
    "    override this.ToString() =\n",
    "        match this with\n",
    "        | Start s -> $\"S{s}\"\n",
    "        | End e -> $\"E{e}\"\n",
    "        | Step it -> $\".{it}\"\n",
    "\n",
    "module Height =\n",
    "    let value line col (character:char) =\n",
    "        let toInt c = (c |> int) - 96\n",
    "        let aPos = { line = line; col = col; height = -1 }\n",
    "        match character with\n",
    "        | 'S' -> Location.Start { aPos with height = 'a' |> toInt }\n",
    "        | 'E' -> Location.End { aPos with height = 'z' |> toInt }\n",
    "        | _ -> Location.Step { aPos with height = character |> toInt }\n",
    "\n",
    "type Path = {\n",
    "    up : Path option\n",
    "    down : Path option\n",
    "    right : Path option\n",
    "    left : Path option\n",
    "    location: Location\n",
    "}\n",
    "\n",
    "module Path =\n",
    "    let mapIt values =\n",
    "        values\n",
    "        |> Seq.mapi (fun idx line -> line |> Seq.mapi (fun idy value -> value |> Height.value idx idy ))\n",
    "\n",
    "    let start map =\n",
    "        map\n",
    "        |> Seq.concat\n",
    "        |> Seq.filter (fun it -> match it with | Location.Start _ -> true | _ -> false)\n",
    "        |> Seq.tryHead\n",
    "    \n",
    "    type Direction = UP | DOWN | LEFT | RIGHT\n",
    "    let find path map =\n",
    "        let follow direction from map =\n",
    "            match direction with\n",
    "            | UP -> None\n",
    "            | DOWN -> None\n",
    "            | LEFT -> None\n",
    "            | RIGHT -> None\n",
    "\n",
    "        let rec finder location path map =\n",
    "            match location with\n",
    "            | Some (Location.Start s) ->\n",
    "                let up = map |> follow UP location\n",
    "                None\n",
    "            | Some (Location.End e) ->\n",
    "                None\n",
    "            | Some (Location.Step s) ->\n",
    "                None\n",
    "            | None ->\n",
    "                None\n",
    "        let start = map |> start\n",
    "\n",
    "        map |> finder start None\n",
    "\n",
    "\n",
    "let ResolutionFolder = __SOURCE_DIRECTORY__\n",
    "let lines = File.ReadLines( ResolutionFolder + \"/testcase12.txt\")\n",
    "\n",
    "let map =\n",
    "    lines\n",
    "    |> Path.mapIt\n",
    "    |> Path.start\n",
    "\n",
    "map"
   ]
  }
 ],
 "metadata": {
  "kernelspec": {
   "display_name": ".NET (C#)",
   "language": "C#",
   "name": ".net-csharp"
  },
  "polyglot_notebook": {
   "kernelInfo": {
    "defaultKernelName": "csharp",
    "items": [
     {
      "aliases": [
       "c#",
       "C#"
      ],
      "languageName": "C#",
      "name": "csharp"
     },
     {
      "aliases": [
       "frontend"
      ],
      "name": "vscode"
     },
     {
      "aliases": [],
      "name": ".NET"
     },
     {
      "aliases": [
       "f#",
       "F#"
      ],
      "languageName": "F#",
      "name": "fsharp"
     },
     {
      "aliases": [],
      "languageName": "HTML",
      "name": "html"
     },
     {
      "aliases": [],
      "languageName": "KQL",
      "name": "kql"
     },
     {
      "aliases": [],
      "languageName": "Mermaid",
      "name": "mermaid"
     },
     {
      "aliases": [
       "powershell"
      ],
      "languageName": "PowerShell",
      "name": "pwsh"
     },
     {
      "aliases": [],
      "languageName": "SQL",
      "name": "sql"
     },
     {
      "aliases": [],
      "name": "value"
     }
    ]
   }
  }
 },
 "nbformat": 4,
 "nbformat_minor": 2
}
