{
 "cells": [
  {
   "cell_type": "code",
   "execution_count": 3,
   "metadata": {
    "dotnet_interactive": {
     "language": "fsharp"
    },
    "polyglot_notebook": {
     "kernelName": "fsharp"
    }
   },
   "outputs": [
    {
     "name": "stderr",
     "output_type": "stream",
     "text": [
      "Stopped due to error\n"
     ]
    },
    {
     "ename": "Error",
     "evalue": "input.fsx (75,9)-(75,12) parse error The block following this 'let' is unfinished. Every code block is an expression and must have a result. 'let' cannot be the final code element in a block. Consider giving this block an explicit result.\ninput.fsx (86,33)-(86,52) typecheck error This expression was expected to have type\n    'Position list list'    \nbut here has type\n    'Path.Direction'    \ninput.fsx (86,53)-(86,56) typecheck error This expression was expected to have type\n    'Position'    \nbut here has type\n    'Position list list'    ",
     "output_type": "error",
     "traceback": [
      "input.fsx (75,9)-(75,12) parse error The block following this 'let' is unfinished. Every code block is an expression and must have a result. 'let' cannot be the final code element in a block. Consider giving this block an explicit result.\n",
      "input.fsx (86,33)-(86,52) typecheck error This expression was expected to have type\n",
      "    'Position list list'    \n",
      "but here has type\n",
      "    'Path.Direction'    \n",
      "input.fsx (86,53)-(86,56) typecheck error This expression was expected to have type\n",
      "    'Position'    \n",
      "but here has type\n",
      "    'Position list list'    "
     ]
    }
   ],
   "source": [
    "type Kind = \n",
    "| Start\n",
    "| End\n",
    "| Step\n",
    "type Position = {\n",
    "    line: int\n",
    "    col: int\n",
    "    height: int\n",
    "    kind: Kind\n",
    "}\n",
    "module Position =\n",
    "    let value line col (character:char) =\n",
    "        let toInt c = (c |> int) - 96\n",
    "        let aPos = { line = line; col = col; height = -1; kind = Step }\n",
    "        match character with\n",
    "        | 'S' -> { aPos with height = 'a' |> toInt; kind = Start }\n",
    "        | 'E' -> { aPos with height = 'z' |> toInt; kind = End }\n",
    "        | _ -> { aPos with height = character |> toInt }\n",
    "\n",
    "type Path = {\n",
    "    branches: Path seq\n",
    "    loc: Position\n",
    "} with \n",
    "    static member New loc = { loc = loc; branches = Seq.empty }\n",
    "module Path =\n",
    "    let mapIt values =\n",
    "        values\n",
    "        |> Seq.mapi (fun idx line -> \n",
    "            line \n",
    "            |> Seq.mapi (fun idy value -> value |> Position.value idx idy )\n",
    "            |> List.ofSeq)\n",
    "        |> List.ofSeq\n",
    "\n",
    "    let start map =\n",
    "        map\n",
    "        |> Seq.concat\n",
    "        |> Seq.filter (fun it -> match it.kind with | Kind.Start _ -> true | _ -> false)\n",
    "        |> Seq.tryHead\n",
    "    \n",
    "    type Direction = UP | DOWN | LEFT | RIGHT\n",
    "    \n",
    "    let peek direction (position:Position) (map:Position list list) =\n",
    "        let height = (map |> List.length) - 1\n",
    "        let width = (map.[0] |> List.length) - 1\n",
    "\n",
    "        let walkInto dest origin =\n",
    "            if Math.Abs(dest.height - origin.height) <= 1 then\n",
    "                Some dest\n",
    "            else \n",
    "                None\n",
    "\n",
    "        match direction with\n",
    "        | DOWN when position.line < height ->\n",
    "            position\n",
    "            |> walkInto map.[position.line + 1].[position.col]\n",
    "        | UP when position.line > 0 ->\n",
    "            position\n",
    "            |> walkInto map.[position.line - 1].[position.col]\n",
    "        | LEFT when position.col < width ->\n",
    "            position\n",
    "            |> walkInto map.[position.line].[position.col + 1]\n",
    "        | RIGHT when position.col > 0 ->\n",
    "            position\n",
    "            |> walkInto map.[position.line].[position.col - 1]\n",
    "        | _ -> None\n",
    "    \n",
    "    let rec wander map pos visited =\n",
    "        let up = \n",
    "            map |> peek UP pos\n",
    "            |> Option.filter (fun it -> visited |> Seq.contains it |> not )\n",
    "        let down = map |> peek DOWN pos\n",
    "        let left = map |> peek LEFT pos\n",
    "        let right = map |> peek RIGHT pos\n",
    "\n",
    "        { Path.New pos with up = up }\n",
    "\n",
    "    \n",
    "\n",
    "let ResolutionFolder = __SOURCE_DIRECTORY__\n",
    "let lines = File.ReadLines( ResolutionFolder + \"/testcase12.txt\")\n",
    "\n",
    "let map =\n",
    "    lines\n",
    "    |> Path.mapIt\n",
    "\n",
    "let start = map |> Path.start"
   ]
  }
 ],
 "metadata": {
  "kernelspec": {
   "display_name": ".NET (C#)",
   "language": "C#",
   "name": ".net-csharp"
  },
  "polyglot_notebook": {
   "kernelInfo": {
    "defaultKernelName": "csharp",
    "items": [
     {
      "aliases": [
       "c#",
       "C#"
      ],
      "languageName": "C#",
      "name": "csharp"
     },
     {
      "aliases": [
       "frontend"
      ],
      "languageName": null,
      "name": "vscode"
     },
     {
      "aliases": [],
      "languageName": null,
      "name": ".NET"
     },
     {
      "aliases": [
       "f#",
       "F#"
      ],
      "languageName": "F#",
      "name": "fsharp"
     },
     {
      "aliases": [],
      "languageName": "HTML",
      "name": "html"
     },
     {
      "aliases": [],
      "languageName": "KQL",
      "name": "kql"
     },
     {
      "aliases": [],
      "languageName": "Mermaid",
      "name": "mermaid"
     },
     {
      "aliases": [
       "powershell"
      ],
      "languageName": "PowerShell",
      "name": "pwsh"
     },
     {
      "aliases": [],
      "languageName": "SQL",
      "name": "sql"
     },
     {
      "aliases": [],
      "name": "value"
     }
    ]
   }
  }
 },
 "nbformat": 4,
 "nbformat_minor": 2
}
