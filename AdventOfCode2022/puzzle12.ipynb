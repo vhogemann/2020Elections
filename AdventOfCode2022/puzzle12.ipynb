{
 "cells": [
  {
   "cell_type": "code",
   "execution_count": 22,
   "metadata": {
    "dotnet_interactive": {
     "language": "fsharp"
    },
    "polyglot_notebook": {
     "kernelName": "fsharp"
    }
   },
   "outputs": [
    {
     "data": {
      "text/html": [
       "<table><thead><tr><th><i>index</i></th><th>Item</th></tr></thead><tbody><tr><td>0</td><td><table><thead><tr><th>line</th><th>col</th><th>height</th></tr></thead><tbody><tr><td><div class=\"dni-plaintext\"><pre>0</pre></div></td><td><div class=\"dni-plaintext\"><pre>0</pre></div></td><td><div class=\"dni-plaintext\"><pre>1</pre></div></td></tr></tbody></table></td></tr></tbody></table><style>\r\n",
       ".dni-code-hint {\r\n",
       "    font-style: italic;\r\n",
       "    overflow: hidden;\r\n",
       "    white-space: nowrap;\r\n",
       "}\r\n",
       ".dni-treeview {\r\n",
       "    white-space: nowrap;\r\n",
       "}\r\n",
       ".dni-treeview td {\r\n",
       "    vertical-align: top;\r\n",
       "    text-align: start;\r\n",
       "}\r\n",
       "details.dni-treeview {\r\n",
       "    padding-left: 1em;\r\n",
       "}\r\n",
       "table td {\r\n",
       "    text-align: start;\r\n",
       "}\r\n",
       "table tr { \r\n",
       "    vertical-align: top; \r\n",
       "    margin: 0em 0px;\r\n",
       "}\r\n",
       "table tr td pre \r\n",
       "{ \r\n",
       "    vertical-align: top !important; \r\n",
       "    margin: 0em 0px !important;\r\n",
       "} \r\n",
       "table th {\r\n",
       "    text-align: start;\r\n",
       "}\r\n",
       "</style>"
      ]
     },
     "metadata": {},
     "output_type": "display_data"
    }
   ],
   "source": [
    "type Position = {\n",
    "    line: int\n",
    "    col: int\n",
    "    height: int\n",
    "}\n",
    "type Location =\n",
    "| Start of Position\n",
    "| End of Position\n",
    "| Step of Position\n",
    "with\n",
    "    override this.ToString() =\n",
    "        match this with\n",
    "        | Start s -> $\"S{s}\"\n",
    "        | End e -> $\"E{e}\"\n",
    "        | Step it -> $\".{it}\"\n",
    "\n",
    "module Height =\n",
    "    let value line col (character:char) =\n",
    "        let toInt c = (c |> int) - 96\n",
    "        let aPos = { line = line; col = col; height = -1 }\n",
    "        match character with\n",
    "        | 'S' -> Location.Start { aPos with height = 'a' |> toInt }\n",
    "        | 'E' -> Location.End { aPos with height = 'z' |> toInt }\n",
    "        | _ -> Location.Step { aPos with height = character |> toInt }\n",
    "\n",
    "type Path = {\n",
    "    up : Path seq option\n",
    "    down : Path seq option\n",
    "    right : Path seq option\n",
    "    left : Path seq option\n",
    "    location: Location\n",
    "}\n",
    "\n",
    "module Path =\n",
    "    let mapIt values =\n",
    "        values\n",
    "        |> Seq.mapi (fun idx line -> line |> Seq.mapi (fun idy value -> value |> Height.value idx idy ))\n",
    "\n",
    "    let start map =\n",
    "        map\n",
    "        |> Seq.concat\n",
    "        |> Seq.filter (fun it -> match it with | Location.Start _ -> true | _ -> false)\n",
    "\n",
    "\n",
    "let ResolutionFolder = __SOURCE_DIRECTORY__\n",
    "let lines = File.ReadLines( ResolutionFolder + \"/testcase12.txt\")\n",
    "\n",
    "let map =\n",
    "    lines\n",
    "    |> Path.mapIt\n",
    "    |> Path.start\n",
    "\n",
    "map"
   ]
  }
 ],
 "metadata": {
  "kernelspec": {
   "display_name": ".NET (C#)",
   "language": "C#",
   "name": ".net-csharp"
  },
  "polyglot_notebook": {
   "kernelInfo": {
    "defaultKernelName": "csharp",
    "items": [
     {
      "aliases": [],
      "name": "csharp"
     },
     {
      "aliases": [
       "frontend"
      ],
      "languageName": null,
      "name": "vscode"
     }
    ]
   }
  }
 },
 "nbformat": 4,
 "nbformat_minor": 2
}
