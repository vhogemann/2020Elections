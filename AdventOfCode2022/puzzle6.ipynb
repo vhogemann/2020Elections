{
 "cells": [
  {
   "cell_type": "code",
   "execution_count": 37,
   "metadata": {
    "dotnet_interactive": {
     "language": "fsharp"
    },
    "vscode": {
     "languageId": "dotnet-interactive.fsharp"
    }
   },
   "outputs": [
    {
     "data": {
      "text/html": [
       "<table><thead><tr><th><i>index</i></th><th>value</th></tr></thead><tbody><tr><td>0</td><td><div class=\"dni-plaintext\">5</div></td></tr><tr><td>1</td><td><div class=\"dni-plaintext\">6</div></td></tr><tr><td>2</td><td><div class=\"dni-plaintext\">10</div></td></tr><tr><td>3</td><td><div class=\"dni-plaintext\">11</div></td></tr></tbody></table>"
      ]
     },
     "metadata": {},
     "output_type": "display_data"
    }
   ],
   "source": [
    "let ResolutionFolder = __SOURCE_DIRECTORY__\n",
    "\n",
    "let rec markerFinder distinct charlist index =\n",
    "    if (charlist |> List.take distinct |> Set.ofList |> Seq.length) = distinct then index + distinct else markerFinder distinct (charlist |> List.skip 1) (index + 1)\n",
    "\n",
    "let startOfPacket (input: string) = markerFinder 4 (Seq.toList input) 0\n",
    "\n",
    "// Test cases\n",
    "[\n",
    "    \"bvwbjplbgvbhsrlpgdmjqwftvncz\"\n",
    "    \"nppdvjthqldpwncqszvftbrmjlhg\"\n",
    "    \"nznrnfrfntjfmvfwmzdfjlvtqnbhcprsg\"\n",
    "    \"zcfzfwzzqfrljwzlrfnpqdbhtmscgvjw\"\n",
    "]\n",
    "|> Seq.map startOfPacket"
   ]
  },
  {
   "cell_type": "code",
   "execution_count": 34,
   "metadata": {
    "dotnet_interactive": {
     "language": "fsharp"
    },
    "vscode": {
     "languageId": "dotnet-interactive.fsharp"
    }
   },
   "outputs": [
    {
     "data": {
      "text/html": [
       "<div class=\"dni-plaintext\">1760</div>"
      ]
     },
     "metadata": {},
     "output_type": "display_data"
    }
   ],
   "source": [
    "File.ReadAllText(ResolutionFolder + \"/input6.txt\") |> startOfPacket"
   ]
  },
  {
   "cell_type": "code",
   "execution_count": 35,
   "metadata": {
    "dotnet_interactive": {
     "language": "fsharp"
    },
    "vscode": {
     "languageId": "dotnet-interactive.fsharp"
    }
   },
   "outputs": [
    {
     "data": {
      "text/html": [
       "<table><thead><tr><th><i>index</i></th><th>value</th></tr></thead><tbody><tr><td>0</td><td><div class=\"dni-plaintext\">19</div></td></tr><tr><td>1</td><td><div class=\"dni-plaintext\">23</div></td></tr><tr><td>2</td><td><div class=\"dni-plaintext\">23</div></td></tr><tr><td>3</td><td><div class=\"dni-plaintext\">29</div></td></tr><tr><td>4</td><td><div class=\"dni-plaintext\">26</div></td></tr></tbody></table>"
      ]
     },
     "metadata": {},
     "output_type": "display_data"
    }
   ],
   "source": [
    "let startOfMessage (input: string) = markerFinder 14 (Seq.toList input) 0\n",
    "\n",
    "// Test cases\n",
    "[\n",
    "    \"mjqjpqmgbljsphdztnvjfqwrcgsmlb\"\n",
    "    \"bvwbjplbgvbhsrlpgdmjqwftvncz\"\n",
    "    \"nppdvjthqldpwncqszvftbrmjlhg\"\n",
    "    \"nznrnfrfntjfmvfwmzdfjlvtqnbhcprsg\"\n",
    "    \"zcfzfwzzqfrljwzlrfnpqdbhtmscgvjw\"\n",
    "]\n",
    "|> Seq.map startOfMessage"
   ]
  },
  {
   "cell_type": "code",
   "execution_count": 36,
   "metadata": {
    "dotnet_interactive": {
     "language": "fsharp"
    },
    "vscode": {
     "languageId": "dotnet-interactive.fsharp"
    }
   },
   "outputs": [
    {
     "data": {
      "text/html": [
       "<div class=\"dni-plaintext\">2974</div>"
      ]
     },
     "metadata": {},
     "output_type": "display_data"
    }
   ],
   "source": [
    "File.ReadAllText(ResolutionFolder + \"/input6.txt\") |> startOfMessage"
   ]
  }
 ],
 "metadata": {
  "kernelspec": {
   "display_name": ".NET (C#)",
   "language": "C#",
   "name": ".net-csharp"
  },
  "language_info": {
   "file_extension": ".cs",
   "mimetype": "text/x-csharp",
   "name": "C#",
   "pygments_lexer": "csharp",
   "version": "9.0"
  },
  "orig_nbformat": 4
 },
 "nbformat": 4,
 "nbformat_minor": 2
}
