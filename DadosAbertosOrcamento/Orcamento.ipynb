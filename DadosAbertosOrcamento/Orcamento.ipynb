{
 "cells": [
  {
   "cell_type": "code",
   "execution_count": 2,
   "metadata": {
    "dotnet_interactive": {
     "language": "fsharp"
    },
    "vscode": {
     "languageId": "dotnet-interactive.fsharp"
    }
   },
   "outputs": [
    {
     "data": {
      "text/html": [
       "<div><div></div><div></div><div><strong>Installed Packages</strong><ul><li><span>Iride, 0.5.3</span></li></ul></div></div>"
      ]
     },
     "metadata": {},
     "output_type": "display_data"
    },
    {
     "ename": "Error",
     "evalue": "input.fsx (3,20)-(3,91) typecheck error The type provider 'GraphProviderProviderImplementation+GraphProvider' reported an error: Invalid URI: The URI scheme is not valid.\ninput.fsx (3,20)-(3,91) typecheck error The type provider 'GraphProviderProviderImplementation+GraphProvider' reported an error: Invalid URI: The URI scheme is not valid.",
     "output_type": "error",
     "traceback": [
      "input.fsx (3,20)-(3,91) typecheck error The type provider 'GraphProviderProviderImplementation+GraphProvider' reported an error: Invalid URI: The URI scheme is not valid.\n",
      "input.fsx (3,20)-(3,91) typecheck error The type provider 'GraphProviderProviderImplementation+GraphProvider' reported an error: Invalid URI: The URI scheme is not valid."
     ]
    }
   ],
   "source": [
    "#r \"nuget: Iride, 0.5.3\"\n",
    "open Iride\n",
    "\n",
    "type BudgetGraph = GraphProvider<Schema = \"@prefix <http://orcamento.dados.gov.br/2017/>\">\n"
   ]
  }
 ],
 "metadata": {
  "kernelspec": {
   "display_name": ".NET (C#)",
   "language": "C#",
   "name": ".net-csharp"
  },
  "language_info": {
   "file_extension": ".cs",
   "mimetype": "text/x-csharp",
   "name": "C#",
   "pygments_lexer": "csharp",
   "version": "9.0"
  },
  "orig_nbformat": 4
 },
 "nbformat": 4,
 "nbformat_minor": 2
}
