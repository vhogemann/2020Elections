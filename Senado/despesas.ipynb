{
 "cells": [
  {
   "cell_type": "code",
   "execution_count": 7,
   "metadata": {
    "dotnet_interactive": {
     "language": "fsharp"
    },
    "vscode": {
     "languageId": "dotnet-interactive.fsharp"
    }
   },
   "outputs": [
    {
     "data": {
      "text/html": [
       "<div><div></div><div></div><div><strong>Installed Packages</strong><ul><li><span>FSharp.Data, 6.0.1-beta001</span></li><li><span>Plotly.NET.ImageExport, 3.0.1</span></li><li><span>Plotly.NET.Interactive, 3.0.2</span></li></ul></div></div>"
      ]
     },
     "metadata": {},
     "output_type": "display_data"
    }
   ],
   "source": [
    "// https://www12.senado.leg.br/transparencia/dados-abertos-transparencia/dados-abertos-ceaps\n",
    "\n",
    "#r \"nuget: FSharp.Data,6.0.1-beta001\"\n",
    "#r \"nuget: Plotly.NET.Interactive\"\n",
    "#r \"nuget: Plotly.NET.ImageExport\"\n",
    "\n",
    "open FSharp.Data\n",
    "open System\n",
    "open Plotly.NET\n",
    "open Plotly.NET.ImageExport\n",
    "\n",
    "[<Literal>]\n",
    "let ResolutionFolder = __SOURCE_DIRECTORY__\n",
    "\n",
    "type Despesas = CsvProvider<\"./despesa_ceaps_2022.csv\", \";\", ResolutionFolder = ResolutionFolder>\n",
    "\n",
    "let despesas = Despesas.Load(ResolutionFolder + \"/despesa_ceaps_2022.csv\")\n",
    "\n",
    "let Senador = \"MARCOS DO VAL\"\n",
    "\n",
    "let parseDecimal (value:String) = Decimal.Parse(value.Replace(',','.'))\n",
    "\n",
    "let parseDate (value:String) = DateTime.ParseExact(value, \"dd/MM/yyyy\", null)\n",
    "\n",
    "let monthly (value:String) =\n",
    "    let date = parseDate value\n",
    "    date.ToString(\"MM/yyyy\")\n",
    "\n",
    "let data = \n",
    "    despesas.Rows\n",
    "    |> Seq.filter(fun d -> d.SENADOR = Senador && d.ANO = 2022)"
   ]
  },
  {
   "cell_type": "code",
   "execution_count": 8,
   "metadata": {
    "dotnet_interactive": {
     "language": "fsharp"
    },
    "vscode": {
     "languageId": "dotnet-interactive.fsharp"
    }
   },
   "outputs": [
    {
     "ename": "Error",
     "evalue": "System.ArgumentException: No formatter is registered for MIME type MM/yyyy.\r\n   at Microsoft.DotNet.Interactive.Formatting.Formatter.InferPreferredFormatter(Type actualType, String mimeType) in D:\\a\\_work\\1\\s\\src\\Microsoft.DotNet.Interactive.Formatting\\Formatter.cs:line 559\r\n   at Microsoft.DotNet.Interactive.Formatting.Formatter.<>c__DisplayClass52_0.<GetPreferredFormatterFor>b__0(ValueTuple`2 tuple) in D:\\a\\_work\\1\\s\\src\\Microsoft.DotNet.Interactive.Formatting\\Formatter.cs:line 520\r\n   at System.Collections.Concurrent.ConcurrentDictionary`2.GetOrAdd(TKey key, Func`2 valueFactory)\r\n   at Microsoft.DotNet.Interactive.Formatting.Formatter.GetPreferredFormatterFor(Type actualType, String mimeType) in D:\\a\\_work\\1\\s\\src\\Microsoft.DotNet.Interactive.Formatting\\Formatter.cs:line 514\r\n   at Microsoft.DotNet.Interactive.Formatting.Formatter`1.FormatTo(T obj, FormatContext context, String mimeType) in D:\\a\\_work\\1\\s\\src\\Microsoft.DotNet.Interactive.Formatting\\Formatter{T}.cs:line 58\r\n   at Microsoft.DotNet.Interactive.Formatting.Formatter.ToDisplayString(Object obj, String mimeType) in D:\\a\\_work\\1\\s\\src\\Microsoft.DotNet.Interactive.Formatting\\Formatter.cs:line 270\r\n   at FSI_0017.monthly(String value)\r\n   at FSI_0018.clo@3-8.Invoke(Tuple`8 it)\r\n   at Microsoft.FSharp.Collections.SeqModule.groupByRefType@1294.Invoke(T v)\r\n   at Microsoft.FSharp.Collections.SeqModule.Iterate[T](FSharpFunc`2 action, IEnumerable`1 source) in D:\\a\\_work\\1\\s\\src\\FSharp.Core\\seq.fs:line 597\r\n   at Microsoft.FSharp.Collections.SeqModule.groupByRefType[T,TKey](FSharpFunc`2 keyf, IEnumerable`1 seq) in D:\\a\\_work\\1\\s\\src\\FSharp.Core\\seq.fs:line 1293\r\n   at Microsoft.FSharp.Collections.SeqModule.mkDelayedSeq@561.Invoke(Unit unitVar0) in D:\\a\\_work\\1\\s\\src\\FSharp.Core\\seq.fs:line 561\r\n   at Microsoft.FSharp.Collections.SeqModule.revamp@693.Invoke(Unit unitVar0) in D:\\a\\_work\\1\\s\\src\\FSharp.Core\\seq.fs:line 693\r\n   at System.Collections.Generic.List`1..ctor(IEnumerable`1 collection)\r\n   at Microsoft.FSharp.Collections.SeqModule.ToArray[T](IEnumerable`1 source) in D:\\a\\_work\\1\\s\\src\\FSharp.Core\\seq.fs:line 976\r\n   at Microsoft.FSharp.Collections.SeqModule.SortBy@1338.Invoke(Unit unitVar0) in D:\\a\\_work\\1\\s\\src\\FSharp.Core\\seq.fs:line 1339\r\n   at Microsoft.FSharp.Collections.SeqModule.mkDelayedSeq@561.Invoke(Unit unitVar0) in D:\\a\\_work\\1\\s\\src\\FSharp.Core\\seq.fs:line 561\r\n   at Microsoft.FSharp.Collections.SeqModule.ToList[T](IEnumerable`1 source) in D:\\a\\_work\\1\\s\\src\\FSharp.Core\\seq.fs:line 966\r\n   at <StartupCode$FSI_0018>.$FSI_0018.main@()",
     "output_type": "error",
     "traceback": [
      "System.ArgumentException: No formatter is registered for MIME type MM/yyyy.\r\n",
      "   at Microsoft.DotNet.Interactive.Formatting.Formatter.InferPreferredFormatter(Type actualType, String mimeType) in D:\\a\\_work\\1\\s\\src\\Microsoft.DotNet.Interactive.Formatting\\Formatter.cs:line 559\r\n",
      "   at Microsoft.DotNet.Interactive.Formatting.Formatter.<>c__DisplayClass52_0.<GetPreferredFormatterFor>b__0(ValueTuple`2 tuple) in D:\\a\\_work\\1\\s\\src\\Microsoft.DotNet.Interactive.Formatting\\Formatter.cs:line 520\r\n",
      "   at System.Collections.Concurrent.ConcurrentDictionary`2.GetOrAdd(TKey key, Func`2 valueFactory)\r\n",
      "   at Microsoft.DotNet.Interactive.Formatting.Formatter.GetPreferredFormatterFor(Type actualType, String mimeType) in D:\\a\\_work\\1\\s\\src\\Microsoft.DotNet.Interactive.Formatting\\Formatter.cs:line 514\r\n",
      "   at Microsoft.DotNet.Interactive.Formatting.Formatter`1.FormatTo(T obj, FormatContext context, String mimeType) in D:\\a\\_work\\1\\s\\src\\Microsoft.DotNet.Interactive.Formatting\\Formatter{T}.cs:line 58\r\n",
      "   at Microsoft.DotNet.Interactive.Formatting.Formatter.ToDisplayString(Object obj, String mimeType) in D:\\a\\_work\\1\\s\\src\\Microsoft.DotNet.Interactive.Formatting\\Formatter.cs:line 270\r\n",
      "   at FSI_0017.monthly(String value)\r\n",
      "   at FSI_0018.clo@3-8.Invoke(Tuple`8 it)\r\n",
      "   at Microsoft.FSharp.Collections.SeqModule.groupByRefType@1294.Invoke(T v)\r\n",
      "   at Microsoft.FSharp.Collections.SeqModule.Iterate[T](FSharpFunc`2 action, IEnumerable`1 source) in D:\\a\\_work\\1\\s\\src\\FSharp.Core\\seq.fs:line 597\r\n",
      "   at Microsoft.FSharp.Collections.SeqModule.groupByRefType[T,TKey](FSharpFunc`2 keyf, IEnumerable`1 seq) in D:\\a\\_work\\1\\s\\src\\FSharp.Core\\seq.fs:line 1293\r\n",
      "   at Microsoft.FSharp.Collections.SeqModule.mkDelayedSeq@561.Invoke(Unit unitVar0) in D:\\a\\_work\\1\\s\\src\\FSharp.Core\\seq.fs:line 561\r\n",
      "   at Microsoft.FSharp.Collections.SeqModule.revamp@693.Invoke(Unit unitVar0) in D:\\a\\_work\\1\\s\\src\\FSharp.Core\\seq.fs:line 693\r\n",
      "   at System.Collections.Generic.List`1..ctor(IEnumerable`1 collection)\r\n",
      "   at Microsoft.FSharp.Collections.SeqModule.ToArray[T](IEnumerable`1 source) in D:\\a\\_work\\1\\s\\src\\FSharp.Core\\seq.fs:line 976\r\n",
      "   at Microsoft.FSharp.Collections.SeqModule.SortBy@1338.Invoke(Unit unitVar0) in D:\\a\\_work\\1\\s\\src\\FSharp.Core\\seq.fs:line 1339\r\n",
      "   at Microsoft.FSharp.Collections.SeqModule.mkDelayedSeq@561.Invoke(Unit unitVar0) in D:\\a\\_work\\1\\s\\src\\FSharp.Core\\seq.fs:line 561\r\n",
      "   at Microsoft.FSharp.Collections.SeqModule.ToList[T](IEnumerable`1 source) in D:\\a\\_work\\1\\s\\src\\FSharp.Core\\seq.fs:line 966\r\n",
      "   at <StartupCode$FSI_0018>.$FSI_0018.main@()"
     ]
    }
   ],
   "source": [
    "let dates, sums =\n",
    "    data\n",
    "    |> Seq.groupBy(fun it -> monthly it.DATA)\n",
    "    |> Seq.map(fun (date, values) -> date, (values |> Seq.sumBy(fun it -> parseDecimal it.VALOR_REEMBOLSADO)))\n",
    "    |> Seq.sortBy fst \n",
    "    |> Seq.toList\n",
    "    |> List.unzip\n",
    "Chart.Line(dates, sums)"
   ]
  },
  {
   "cell_type": "code",
   "execution_count": 2,
   "metadata": {
    "dotnet_interactive": {
     "language": "fsharp"
    },
    "vscode": {
     "languageId": "dotnet-interactive.fsharp"
    }
   },
   "outputs": [
    {
     "data": {
      "text/html": [
       "\n",
       "<div>\n",
       "    <div id=\"d5bb0bf4-9ee0-4153-bf00-4e2042003cd5\"><!-- Plotly chart will be drawn inside this DIV --></div>\r\n",
       "<script type=\"text/javascript\">\r\n",
       "\r\n",
       "            var renderPlotly_d5bb0bf49ee04153bf004e2042003cd5 = function() {\r\n",
       "            var fsharpPlotlyRequire = requirejs.config({context:'fsharp-plotly',paths:{plotly:'https://cdn.plot.ly/plotly-2.6.3.min'}}) || require;\r\n",
       "            fsharpPlotlyRequire(['plotly'], function(Plotly) {\r\n",
       "\r\n",
       "            var data = [{\"type\":\"scatter\",\"name\":\"ATELIER LOCA��O PATRIMONIAL LTDA\",\"mode\":\"markers\",\"x\":[\"2022-01-01T00:00:00\",\"2022-02-01T00:00:00\",\"2022-03-01T00:00:00\",\"2022-04-01T00:00:00\",\"2022-05-01T00:00:00\",\"2022-06-01T00:00:00\",\"2022-07-01T00:00:00\",\"2022-08-01T00:00:00\",\"2022-09-01T00:00:00\",\"2022-10-01T00:00:00\",\"2022-11-01T00:00:00\"],\"y\":[6500.0,6500.0,7599.79,7599.79,7500.0,7500.0,7500.0,7500.0,5000.0,5000.0,5000.0],\"marker\":{},\"line\":{}},{\"type\":\"scatter\",\"name\":\"CLARO NXT TELECOMUNICA��ES S.A\",\"mode\":\"markers\",\"x\":[\"2021-12-18T00:00:00\",\"2022-01-19T00:00:00\",\"2022-02-18T00:00:00\",\"2022-03-18T00:00:00\",\"2022-04-20T00:00:00\",\"2022-06-18T00:00:00\",\"2022-07-21T00:00:00\",\"2022-08-19T00:00:00\",\"2022-09-17T00:00:00\",\"2022-11-19T00:00:00\"],\"y\":[427.89,427.89,429.56,453.83,432.8,401.09,328.77,328.05,301.08,326.63],\"marker\":{},\"line\":{}},{\"type\":\"scatter\",\"name\":\"Condom�nio do Edif�cio Servilha\",\"mode\":\"markers\",\"x\":[\"2022-01-02T00:00:00\",\"2022-01-02T00:00:00\",\"2022-02-01T00:00:00\",\"2022-02-01T00:00:00\",\"2022-03-01T00:00:00\",\"2022-03-01T00:00:00\",\"2022-04-01T00:00:00\",\"2022-04-01T00:00:00\",\"2022-05-01T00:00:00\",\"2022-05-01T00:00:00\",\"2022-06-01T00:00:00\",\"2022-06-01T00:00:00\",\"2022-07-01T00:00:00\",\"2022-07-01T00:00:00\",\"2022-08-01T00:00:00\",\"2022-08-01T00:00:00\",\"2022-09-01T00:00:00\",\"2022-10-01T00:00:00\",\"2022-11-01T00:00:00\"],\"y\":[839.04,1678.08,812.15,1624.3,861.81,1718.01,714.91,1429.82,828.59,1657.18,863.86,1727.72,986.4,1972.0,964.45,1928.9,1752.58,3825.88,3864.0],\"marker\":{},\"line\":{}},{\"type\":\"scatter\",\"name\":\"EDP Espirito Santo Distribui��o de Energia S.A\",\"mode\":\"markers\",\"x\":[\"2022-01-27T00:00:00\",\"2022-01-27T00:00:00\",\"2022-02-25T00:00:00\",\"2022-02-25T00:00:00\",\"2022-04-29T00:00:00\",\"2022-04-29T00:00:00\",\"2022-05-30T00:00:00\",\"2022-05-30T00:00:00\",\"2022-06-29T00:00:00\",\"2022-06-29T00:00:00\",\"2022-07-28T00:00:00\",\"2022-07-28T00:00:00\",\"2022-08-29T00:00:00\",\"2022-08-29T00:00:00\",\"2022-09-29T00:00:00\"],\"y\":[192.87,205.32,209.94,371.27,240.43,476.88,226.24,339.77,165.9,326.9,111.38,190.27,147.38,295.94,381.28],\"marker\":{},\"line\":{}},{\"type\":\"scatter\",\"name\":\"Total Print Solutions servi�os LTDA\",\"mode\":\"markers\",\"x\":[\"2022-01-05T00:00:00\",\"2022-02-05T00:00:00\",\"2022-03-08T00:00:00\",\"2022-04-01T00:00:00\",\"2022-05-03T00:00:00\",\"2022-06-02T00:00:00\",\"2022-07-01T00:00:00\",\"2022-08-02T00:00:00\",\"2022-09-05T00:00:00\",\"2022-10-03T00:00:00\",\"2022-11-01T00:00:00\"],\"y\":[200.0,200.0,200.0,200.0,200.0,200.0,200.0,200.0,200.0,200.0,200.0],\"marker\":{},\"line\":{}},{\"type\":\"scatter\",\"name\":\"ADRIA VIAGENS LTDA\",\"mode\":\"markers\",\"x\":[\"2022-02-10T00:00:00\",\"2022-02-13T00:00:00\",\"2022-02-13T00:00:00\",\"2022-02-13T00:00:00\",\"2022-02-16T00:00:00\",\"2022-02-16T00:00:00\",\"2022-02-22T00:00:00\",\"2022-02-22T00:00:00\",\"2022-03-08T00:00:00\",\"2022-03-09T00:00:00\",\"2022-03-11T00:00:00\",\"2022-03-16T00:00:00\",\"2022-03-16T00:00:00\",\"2022-03-30T00:00:00\",\"2022-04-01T00:00:00\",\"2022-04-11T00:00:00\",\"2022-04-19T00:00:00\",\"2022-04-27T00:00:00\",\"2022-04-27T00:00:00\",\"2022-04-27T00:00:00\",\"2022-05-17T00:00:00\",\"2022-05-25T00:00:00\",\"2022-05-26T00:00:00\",\"2022-05-31T00:00:00\",\"2022-06-03T00:00:00\",\"2022-06-13T00:00:00\",\"2022-06-21T00:00:00\",\"2022-06-23T00:00:00\",\"2022-07-05T00:00:00\",\"2022-07-06T00:00:00\",\"2022-07-08T00:00:00\",\"2022-08-16T00:00:00\",\"2022-08-17T00:00:00\",\"2022-08-19T00:00:00\",\"2022-08-27T00:00:00\",\"2022-08-31T00:00:00\",\"2022-09-04T00:00:00\",\"2022-09-06T00:00:00\",\"2022-09-08T00:00:00\",\"2022-09-09T00:00:00\",\"2022-10-13T00:00:00\",\"2022-10-19T00:00:00\",\"2022-10-27T00:00:00\",\"2022-11-08T00:00:00\",\"2022-11-08T00:00:00\",\"2022-11-08T00:00:00\"],\"y\":[1192.61,1342.63,1342.63,1679.04,1314.93,1314.93,1361.7,1361.7,2069.9,2079.9,2380.8,2260.82,2777.37,3060.5,2728.83,2782.48,691.75,1442.62,1753.52,2491.1,2495.43,2245.46,2101.79,1943.3,1759.25,3750.77,1634.92,1984.94,2721.49,3089.88,1894.88,1416.88,2023.58,650.0,2543.98,2989.35,2227.97,2220.42,3323.02,1498.02,3660.56,2355.07,1108.39,506.2,506.2,2350.65],\"marker\":{},\"line\":{}},{\"type\":\"scatter\",\"name\":\"Prefeitura Municipal de Vit�ria\",\"mode\":\"markers\",\"x\":[\"2022-02-26T00:00:00\",\"2022-02-26T00:00:00\",\"2022-02-26T00:00:00\",\"2022-02-26T00:00:00\",\"2022-02-26T00:00:00\",\"2022-02-26T00:00:00\",\"2022-02-26T00:00:00\",\"2022-02-26T00:00:00\",\"2022-02-26T00:00:00\",\"2022-02-26T00:00:00\",\"2022-02-26T00:00:00\",\"2022-02-26T00:00:00\",\"2022-02-26T00:00:00\",\"2022-02-26T00:00:00\",\"2022-02-26T00:00:00\"],\"y\":[78.39,154.07,78.43,154.03,78.43,154.03,78.43,154.03,78.43,154.03,78.43,154.03,154.03,154.03,154.03],\"marker\":{},\"line\":{}},{\"type\":\"scatter\",\"name\":\"POSTO IATE LTDA- 42838- VENDA / COMBUST.LUBRIF.\",\"mode\":\"markers\",\"x\":[\"2022-04-29T00:00:00\",\"2022-05-10T00:00:00\",\"2022-05-19T00:00:00\",\"2022-05-31T00:00:00\",\"2022-06-23T00:00:00\",\"2022-07-05T00:00:00\",\"2022-07-15T00:00:00\",\"2022-08-02T00:00:00\",\"2022-08-12T00:00:00\",\"2022-08-23T00:00:00\",\"2022-09-01T00:00:00\",\"2022-09-16T00:00:00\",\"2022-09-27T00:00:00\",\"2022-10-07T00:00:00\",\"2022-10-18T00:00:00\",\"2022-10-28T00:00:00\",\"2022-11-09T00:00:00\"],\"y\":[301.85,298.85,302.17,319.0,301.55,252.96,242.31,230.46,226.02,219.27,210.21,210.33,203.81,205.01,210.22,194.18,211.98],\"marker\":{},\"line\":{}},{\"type\":\"scatter\",\"name\":\"MATUTO COMUNICACAO E MARKETING EIRELI\",\"mode\":\"markers\",\"x\":[\"2022-08-23T00:00:00\",\"2022-09-01T00:00:00\",\"2022-10-03T00:00:00\",\"2022-11-01T00:00:00\"],\"y\":[3333.33,10000.0,10000.0,10000.0],\"marker\":{},\"line\":{}}];\r\n",
       "            var layout = {\"width\":1400,\"height\":1000,\"template\":{\"layout\":{\"title\":{\"x\":0.05},\"font\":{\"color\":\"rgba(42, 63, 95, 1.0)\"},\"paper_bgcolor\":\"rgba(255, 255, 255, 1.0)\",\"plot_bgcolor\":\"rgba(229, 236, 246, 1.0)\",\"autotypenumbers\":\"strict\",\"colorscale\":{\"diverging\":[[0.0,\"#8e0152\"],[0.1,\"#c51b7d\"],[0.2,\"#de77ae\"],[0.3,\"#f1b6da\"],[0.4,\"#fde0ef\"],[0.5,\"#f7f7f7\"],[0.6,\"#e6f5d0\"],[0.7,\"#b8e186\"],[0.8,\"#7fbc41\"],[0.9,\"#4d9221\"],[1.0,\"#276419\"]],\"sequential\":[[0.0,\"#0d0887\"],[0.1111111111111111,\"#46039f\"],[0.2222222222222222,\"#7201a8\"],[0.3333333333333333,\"#9c179e\"],[0.4444444444444444,\"#bd3786\"],[0.5555555555555556,\"#d8576b\"],[0.6666666666666666,\"#ed7953\"],[0.7777777777777778,\"#fb9f3a\"],[0.8888888888888888,\"#fdca26\"],[1.0,\"#f0f921\"]],\"sequentialminus\":[[0.0,\"#0d0887\"],[0.1111111111111111,\"#46039f\"],[0.2222222222222222,\"#7201a8\"],[0.3333333333333333,\"#9c179e\"],[0.4444444444444444,\"#bd3786\"],[0.5555555555555556,\"#d8576b\"],[0.6666666666666666,\"#ed7953\"],[0.7777777777777778,\"#fb9f3a\"],[0.8888888888888888,\"#fdca26\"],[1.0,\"#f0f921\"]]},\"hovermode\":\"closest\",\"hoverlabel\":{\"align\":\"left\"},\"coloraxis\":{\"colorbar\":{\"outlinewidth\":0.0,\"ticks\":\"\"}},\"geo\":{\"showland\":true,\"landcolor\":\"rgba(229, 236, 246, 1.0)\",\"showlakes\":true,\"lakecolor\":\"rgba(255, 255, 255, 1.0)\",\"subunitcolor\":\"rgba(255, 255, 255, 1.0)\",\"bgcolor\":\"rgba(255, 255, 255, 1.0)\"},\"mapbox\":{\"style\":\"light\"},\"polar\":{\"bgcolor\":\"rgba(229, 236, 246, 1.0)\",\"radialaxis\":{\"linecolor\":\"rgba(255, 255, 255, 1.0)\",\"gridcolor\":\"rgba(255, 255, 255, 1.0)\",\"ticks\":\"\"},\"angularaxis\":{\"linecolor\":\"rgba(255, 255, 255, 1.0)\",\"gridcolor\":\"rgba(255, 255, 255, 1.0)\",\"ticks\":\"\"}},\"scene\":{\"xaxis\":{\"ticks\":\"\",\"linecolor\":\"rgba(255, 255, 255, 1.0)\",\"gridcolor\":\"rgba(255, 255, 255, 1.0)\",\"gridwidth\":2.0,\"zerolinecolor\":\"rgba(255, 255, 255, 1.0)\",\"backgroundcolor\":\"rgba(229, 236, 246, 1.0)\",\"showbackground\":true},\"yaxis\":{\"ticks\":\"\",\"linecolor\":\"rgba(255, 255, 255, 1.0)\",\"gridcolor\":\"rgba(255, 255, 255, 1.0)\",\"gridwidth\":2.0,\"zerolinecolor\":\"rgba(255, 255, 255, 1.0)\",\"backgroundcolor\":\"rgba(229, 236, 246, 1.0)\",\"showbackground\":true},\"zaxis\":{\"ticks\":\"\",\"linecolor\":\"rgba(255, 255, 255, 1.0)\",\"gridcolor\":\"rgba(255, 255, 255, 1.0)\",\"gridwidth\":2.0,\"zerolinecolor\":\"rgba(255, 255, 255, 1.0)\",\"backgroundcolor\":\"rgba(229, 236, 246, 1.0)\",\"showbackground\":true}},\"ternary\":{\"aaxis\":{\"ticks\":\"\",\"linecolor\":\"rgba(255, 255, 255, 1.0)\",\"gridcolor\":\"rgba(255, 255, 255, 1.0)\"},\"baxis\":{\"ticks\":\"\",\"linecolor\":\"rgba(255, 255, 255, 1.0)\",\"gridcolor\":\"rgba(255, 255, 255, 1.0)\"},\"caxis\":{\"ticks\":\"\",\"linecolor\":\"rgba(255, 255, 255, 1.0)\",\"gridcolor\":\"rgba(255, 255, 255, 1.0)\"},\"bgcolor\":\"rgba(229, 236, 246, 1.0)\"},\"xaxis\":{\"title\":{\"standoff\":15},\"ticks\":\"\",\"automargin\":true,\"linecolor\":\"rgba(255, 255, 255, 1.0)\",\"gridcolor\":\"rgba(255, 255, 255, 1.0)\",\"zerolinecolor\":\"rgba(255, 255, 255, 1.0)\",\"zerolinewidth\":2.0},\"yaxis\":{\"title\":{\"standoff\":15},\"ticks\":\"\",\"automargin\":true,\"linecolor\":\"rgba(255, 255, 255, 1.0)\",\"gridcolor\":\"rgba(255, 255, 255, 1.0)\",\"zerolinecolor\":\"rgba(255, 255, 255, 1.0)\",\"zerolinewidth\":2.0},\"annotationdefaults\":{\"arrowcolor\":\"#2a3f5f\",\"arrowhead\":0,\"arrowwidth\":1},\"shapedefaults\":{\"line\":{\"color\":\"rgba(42, 63, 95, 1.0)\"}},\"colorway\":[\"rgba(99, 110, 250, 1.0)\",\"rgba(239, 85, 59, 1.0)\",\"rgba(0, 204, 150, 1.0)\",\"rgba(171, 99, 250, 1.0)\",\"rgba(255, 161, 90, 1.0)\",\"rgba(25, 211, 243, 1.0)\",\"rgba(255, 102, 146, 1.0)\",\"rgba(182, 232, 128, 1.0)\",\"rgba(255, 151, 255, 1.0)\",\"rgba(254, 203, 82, 1.0)\"]},\"data\":{\"bar\":[{\"marker\":{\"line\":{\"color\":\"rgba(229, 236, 246, 1.0)\",\"width\":0.5},\"pattern\":{\"fillmode\":\"overlay\",\"size\":10,\"solidity\":0.2}},\"error_x\":{\"color\":\"rgba(42, 63, 95, 1.0)\"},\"error_y\":{\"color\":\"rgba(42, 63, 95, 1.0)\"}}],\"barpolar\":[{\"marker\":{\"line\":{\"color\":\"rgba(229, 236, 246, 1.0)\",\"width\":0.5},\"pattern\":{\"fillmode\":\"overlay\",\"size\":10,\"solidity\":0.2}}}],\"carpet\":[{\"aaxis\":{\"linecolor\":\"rgba(255, 255, 255, 1.0)\",\"gridcolor\":\"rgba(255, 255, 255, 1.0)\",\"endlinecolor\":\"rgba(42, 63, 95, 1.0)\",\"minorgridcolor\":\"rgba(255, 255, 255, 1.0)\",\"startlinecolor\":\"rgba(42, 63, 95, 1.0)\"},\"baxis\":{\"linecolor\":\"rgba(255, 255, 255, 1.0)\",\"gridcolor\":\"rgba(255, 255, 255, 1.0)\",\"endlinecolor\":\"rgba(42, 63, 95, 1.0)\",\"minorgridcolor\":\"rgba(255, 255, 255, 1.0)\",\"startlinecolor\":\"rgba(42, 63, 95, 1.0)\"}}],\"choropleth\":[{\"colorbar\":{\"outlinewidth\":0.0,\"ticks\":\"\"},\"colorscale\":[[0.0,\"#0d0887\"],[0.1111111111111111,\"#46039f\"],[0.2222222222222222,\"#7201a8\"],[0.3333333333333333,\"#9c179e\"],[0.4444444444444444,\"#bd3786\"],[0.5555555555555556,\"#d8576b\"],[0.6666666666666666,\"#ed7953\"],[0.7777777777777778,\"#fb9f3a\"],[0.8888888888888888,\"#fdca26\"],[1.0,\"#f0f921\"]]}],\"contour\":[{\"colorbar\":{\"outlinewidth\":0.0,\"ticks\":\"\"},\"colorscale\":[[0.0,\"#0d0887\"],[0.1111111111111111,\"#46039f\"],[0.2222222222222222,\"#7201a8\"],[0.3333333333333333,\"#9c179e\"],[0.4444444444444444,\"#bd3786\"],[0.5555555555555556,\"#d8576b\"],[0.6666666666666666,\"#ed7953\"],[0.7777777777777778,\"#fb9f3a\"],[0.8888888888888888,\"#fdca26\"],[1.0,\"#f0f921\"]]}],\"contourcarpet\":[{\"colorbar\":{\"outlinewidth\":0.0,\"ticks\":\"\"}}],\"heatmap\":[{\"colorbar\":{\"outlinewidth\":0.0,\"ticks\":\"\"},\"colorscale\":[[0.0,\"#0d0887\"],[0.1111111111111111,\"#46039f\"],[0.2222222222222222,\"#7201a8\"],[0.3333333333333333,\"#9c179e\"],[0.4444444444444444,\"#bd3786\"],[0.5555555555555556,\"#d8576b\"],[0.6666666666666666,\"#ed7953\"],[0.7777777777777778,\"#fb9f3a\"],[0.8888888888888888,\"#fdca26\"],[1.0,\"#f0f921\"]]}],\"heatmapgl\":[{\"colorbar\":{\"outlinewidth\":0.0,\"ticks\":\"\"},\"colorscale\":[[0.0,\"#0d0887\"],[0.1111111111111111,\"#46039f\"],[0.2222222222222222,\"#7201a8\"],[0.3333333333333333,\"#9c179e\"],[0.4444444444444444,\"#bd3786\"],[0.5555555555555556,\"#d8576b\"],[0.6666666666666666,\"#ed7953\"],[0.7777777777777778,\"#fb9f3a\"],[0.8888888888888888,\"#fdca26\"],[1.0,\"#f0f921\"]]}],\"histogram\":[{\"marker\":{\"pattern\":{\"fillmode\":\"overlay\",\"size\":10,\"solidity\":0.2}}}],\"histogram2d\":[{\"colorbar\":{\"outlinewidth\":0.0,\"ticks\":\"\"},\"colorscale\":[[0.0,\"#0d0887\"],[0.1111111111111111,\"#46039f\"],[0.2222222222222222,\"#7201a8\"],[0.3333333333333333,\"#9c179e\"],[0.4444444444444444,\"#bd3786\"],[0.5555555555555556,\"#d8576b\"],[0.6666666666666666,\"#ed7953\"],[0.7777777777777778,\"#fb9f3a\"],[0.8888888888888888,\"#fdca26\"],[1.0,\"#f0f921\"]]}],\"histogram2dcontour\":[{\"colorbar\":{\"outlinewidth\":0.0,\"ticks\":\"\"},\"colorscale\":[[0.0,\"#0d0887\"],[0.1111111111111111,\"#46039f\"],[0.2222222222222222,\"#7201a8\"],[0.3333333333333333,\"#9c179e\"],[0.4444444444444444,\"#bd3786\"],[0.5555555555555556,\"#d8576b\"],[0.6666666666666666,\"#ed7953\"],[0.7777777777777778,\"#fb9f3a\"],[0.8888888888888888,\"#fdca26\"],[1.0,\"#f0f921\"]]}],\"mesh3d\":[{\"colorbar\":{\"outlinewidth\":0.0,\"ticks\":\"\"}}],\"parcoords\":[{\"line\":{\"colorbar\":{\"outlinewidth\":0.0,\"ticks\":\"\"}}}],\"pie\":[{\"automargin\":true}],\"scatter\":[{\"marker\":{\"colorbar\":{\"outlinewidth\":0.0,\"ticks\":\"\"}}}],\"scatter3d\":[{\"marker\":{\"colorbar\":{\"outlinewidth\":0.0,\"ticks\":\"\"}},\"line\":{\"colorbar\":{\"outlinewidth\":0.0,\"ticks\":\"\"}}}],\"scattercarpet\":[{\"marker\":{\"colorbar\":{\"outlinewidth\":0.0,\"ticks\":\"\"}}}],\"scattergeo\":[{\"marker\":{\"colorbar\":{\"outlinewidth\":0.0,\"ticks\":\"\"}}}],\"scattergl\":[{\"marker\":{\"colorbar\":{\"outlinewidth\":0.0,\"ticks\":\"\"}}}],\"scattermapbox\":[{\"marker\":{\"colorbar\":{\"outlinewidth\":0.0,\"ticks\":\"\"}}}],\"scatterpolar\":[{\"marker\":{\"colorbar\":{\"outlinewidth\":0.0,\"ticks\":\"\"}}}],\"scatterpolargl\":[{\"marker\":{\"colorbar\":{\"outlinewidth\":0.0,\"ticks\":\"\"}}}],\"scatterternary\":[{\"marker\":{\"colorbar\":{\"outlinewidth\":0.0,\"ticks\":\"\"}}}],\"surface\":[{\"colorbar\":{\"outlinewidth\":0.0,\"ticks\":\"\"},\"colorscale\":[[0.0,\"#0d0887\"],[0.1111111111111111,\"#46039f\"],[0.2222222222222222,\"#7201a8\"],[0.3333333333333333,\"#9c179e\"],[0.4444444444444444,\"#bd3786\"],[0.5555555555555556,\"#d8576b\"],[0.6666666666666666,\"#ed7953\"],[0.7777777777777778,\"#fb9f3a\"],[0.8888888888888888,\"#fdca26\"],[1.0,\"#f0f921\"]]}],\"table\":[{\"cells\":{\"fill\":{\"color\":\"rgba(235, 240, 248, 1.0)\"},\"line\":{\"color\":\"rgba(255, 255, 255, 1.0)\"}},\"header\":{\"fill\":{\"color\":\"rgba(200, 212, 227, 1.0)\"},\"line\":{\"color\":\"rgba(255, 255, 255, 1.0)\"}}}]}},\"legend\":{\"orientation\":\"h\"},\"title\":{\"text\":\"Despesas com cota parlamentar MARCOS DO VAL\"}};\r\n",
       "            var config = {\"responsive\":true};\r\n",
       "            Plotly.newPlot('d5bb0bf4-9ee0-4153-bf00-4e2042003cd5', data, layout, config);\r\n",
       "});\r\n",
       "            };\r\n",
       "            if ((typeof(requirejs) !==  typeof(Function)) || (typeof(requirejs.config) !== typeof(Function))) {\r\n",
       "                var script = document.createElement(\"script\");\r\n",
       "                script.setAttribute(\"src\", \"https://cdnjs.cloudflare.com/ajax/libs/require.js/2.3.6/require.min.js\");\r\n",
       "                script.onload = function(){\r\n",
       "                    renderPlotly_d5bb0bf49ee04153bf004e2042003cd5();\r\n",
       "                };\r\n",
       "                document.getElementsByTagName(\"head\")[0].appendChild(script);\r\n",
       "            }\r\n",
       "            else {\r\n",
       "                renderPlotly_d5bb0bf49ee04153bf004e2042003cd5();\r\n",
       "            }\r\n",
       "</script>\r\n",
       "\n",
       "    \n",
       "</div>    \n"
      ]
     },
     "metadata": {},
     "output_type": "display_data"
    }
   ],
   "source": [
    "data\n",
    "|> Seq.groupBy(fun it -> it.FORNECEDOR)\n",
    "|> Seq.map( fun (supplier, expenses) ->\n",
    "    let dates, values =\n",
    "        expenses\n",
    "        |> Seq.map(fun it -> ( parseDate it.DATA), (it.VALOR_REEMBOLSADO |> parseDecimal))\n",
    "        |> Seq.sortBy fst\n",
    "        |> Seq.toArray\n",
    "        |> Array.unzip\n",
    "    Chart.Point(dates, values, Name = supplier)\n",
    ")\n",
    "|> Chart.combine\n",
    "|> Chart.withSize(1400, 1000)\n",
    "|> Chart.withLegendStyle(Orientation = StyleParam.Orientation.Horizontal)\n",
    "|> Chart.withTitle(\"Despesas com cota parlamentar \" + Senador)\n"
   ]
  }
 ],
 "metadata": {
  "kernelspec": {
   "display_name": ".NET (C#)",
   "language": "C#",
   "name": ".net-csharp"
  },
  "language_info": {
   "file_extension": ".cs",
   "mimetype": "text/x-csharp",
   "name": "C#",
   "pygments_lexer": "csharp",
   "version": "9.0"
  },
  "orig_nbformat": 4
 },
 "nbformat": 4,
 "nbformat_minor": 2
}
